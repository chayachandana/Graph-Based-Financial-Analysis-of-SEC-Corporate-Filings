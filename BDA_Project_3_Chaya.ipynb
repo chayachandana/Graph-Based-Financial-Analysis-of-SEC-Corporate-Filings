{
  "nbformat": 4,
  "nbformat_minor": 0,
  "metadata": {
    "colab": {
      "provenance": [],
      "gpuType": "V28"
    },
    "kernelspec": {
      "name": "python3",
      "display_name": "Python 3"
    },
    "language_info": {
      "name": "python"
    },
    "accelerator": "TPU"
  },
  "cells": [
    {
      "cell_type": "markdown",
      "source": [
        "# Big Data Analytics - Project 03\n",
        "# By Chaya Chandana Doddaiggaluru Appajigowda\n",
        "# GWID: G35408608"
      ],
      "metadata": {
        "id": "rrUP6ycApC8b"
      }
    },
    {
      "cell_type": "code",
      "execution_count": null,
      "metadata": {
        "colab": {
          "base_uri": "https://localhost:8080/"
        },
        "id": "jndXy_1u0FoV",
        "outputId": "be12be38-a431-4cff-f782-e073db941b26"
      },
      "outputs": [
        {
          "output_type": "stream",
          "name": "stdout",
          "text": [
            "Drive already mounted at /content/drive; to attempt to forcibly remount, call drive.mount(\"/content/drive\", force_remount=True).\n"
          ]
        }
      ],
      "source": [
        "from google.colab import drive\n",
        "drive.mount('/content/drive')"
      ]
    },
    {
      "cell_type": "code",
      "source": [
        "from pyspark.sql import SparkSession\n",
        "from pyspark.sql.functions import col, hour, expr, when\n",
        "from pyspark.sql.types import DoubleType\n",
        "\n",
        "# Initialize Spark session\n",
        "spark = SparkSession.builder.appName(\"Read_File\").getOrCreate()\n",
        "\n",
        "file_path = '/content/drive/My Drive/BDA_Project 3/data'\n",
        "df = spark.read.parquet(file_path)"
      ],
      "metadata": {
        "id": "zzDgqFsf0dgM"
      },
      "execution_count": null,
      "outputs": []
    },
    {
      "cell_type": "code",
      "source": [
        "df.show()"
      ],
      "metadata": {
        "colab": {
          "base_uri": "https://localhost:8080/"
        },
        "id": "Z5mq4bWW0y9M",
        "outputId": "47beed4c-cec8-4e00-fb72-7e7513b2653c"
      },
      "execution_count": null,
      "outputs": [
        {
          "output_type": "stream",
          "name": "stdout",
          "text": [
            "+------------+------------+--------+--------------------+---------------------+---------------+-------------+----------+------------+------------+--------------------+------------------+-----------+-------------+--------------+---------------+--------------+--------------+--------------+--------------+--------------+\n",
            "|DOLocationID|PULocationID|VendorID|tpep_pickup_datetime|tpep_dropoff_datetime|passenger_count|trip_distance|tip_amount|tolls_amount|total_amount|congestion_surcharge|        total_fare|pickup_hour|trip_duration|Pickup_Borough|Dropoff_Borough|payment_type_4|payment_type_3|payment_type_2|payment_type_5|payment_type_1|\n",
            "+------------+------------+--------+--------------------+---------------------+---------------+-------------+----------+------------+------------+--------------------+------------------+-----------+-------------+--------------+---------------+--------------+--------------+--------------+--------------+--------------+\n",
            "|         145|         138|       1| 2015-01-06 09:12:23|  2015-01-06 09:37:46|              1|          6.0|       2.2|         0.0|        24.0|                NULL|              21.8|          9|        25.38|        Queens|         Queens|             0|             0|             0|             0|             1|\n",
            "|         107|         161|       1| 2015-01-17 14:41:04|  2015-01-17 14:52:16|              1|          1.9|       0.0|         0.0|        10.3|                NULL|              10.3|         14|         11.2|     Manhattan|      Manhattan|             0|             0|             1|             0|             0|\n",
            "|         142|         164|       2| 2015-01-08 13:59:04|  2015-01-08 14:21:54|              1|         2.98|       3.2|         0.0|        20.0|                NULL|              16.8|         13|        22.83|     Manhattan|      Manhattan|             0|             0|             0|             0|             1|\n",
            "|         142|         262|       2| 2015-01-15 09:54:28|  2015-01-15 10:08:31|              1|         2.79|       2.4|         0.0|        15.2|                NULL|              12.8|          9|        14.05|     Manhattan|      Manhattan|             0|             0|             0|             0|             1|\n",
            "|         138|          33|       1| 2015-01-01 08:50:58|  2015-01-01 09:10:56|              1|         10.9|       0.0|         0.0|        32.3|                NULL|              32.0|          8|        19.97|      Brooklyn|         Queens|             0|             0|             1|             0|             0|\n",
            "|         255|         114|       2| 2015-01-15 00:24:56|  2015-01-15 00:44:29|              5|         4.22|       3.6|         0.0|        22.4|                NULL|              18.8|          0|        19.55|     Manhattan|       Brooklyn|             0|             0|             0|             0|             1|\n",
            "|         238|         233|       2| 2015-01-09 20:25:53|  2015-01-09 20:42:38|              1|         3.68|       0.0|         0.0|        16.3|                NULL|              16.3|         20|        16.75|     Manhattan|      Manhattan|             0|             0|             1|             0|             0|\n",
            "|         264|         239|       1| 2015-01-11 20:44:58|  2015-01-11 20:44:58|              1|          0.0|       0.0|         0.0|         3.8|                NULL|               3.8|         20|          0.0|     Manhattan|        Unknown|             0|             0|             1|             0|             0|\n",
            "|         224|         114|       1| 2015-01-03 00:05:03|  2015-01-03 00:11:35|              1|          1.2|      1.55|         0.0|        9.35|                NULL|               7.5|          0|         6.53|     Manhattan|      Manhattan|             0|             0|             0|             0|             1|\n",
            "|         230|         163|       1| 2015-01-10 17:55:45|  2015-01-10 18:07:25|              2|          1.1|      2.75|         0.0|       12.05|                NULL|               9.3|         17|        11.67|     Manhattan|      Manhattan|             0|             0|             0|             0|             1|\n",
            "|          48|         236|       1| 2015-01-15 19:50:39|  2015-01-15 20:05:37|              2|          3.0|       0.0|         0.0|        14.3|                NULL|              14.3|         19|        14.97|     Manhattan|      Manhattan|             0|             0|             1|             0|             0|\n",
            "|         162|         233|       2| 2015-01-14 18:21:15|  2015-01-14 18:25:48|              6|         0.68|       0.0|         0.0|         6.8|                NULL|               6.8|         18|         4.55|     Manhattan|      Manhattan|             0|             0|             1|             0|             0|\n",
            "|         141|          50|       1| 2015-01-17 23:03:15|  2015-01-17 23:16:38|              1|          2.4|       1.5|         0.0|        14.3|                NULL|              12.8|         23|        13.38|     Manhattan|      Manhattan|             0|             0|             0|             0|             1|\n",
            "|         137|         262|       2| 2015-01-13 05:59:07|  2015-01-13 06:08:45|              1|          3.2|       0.0|         0.0|        12.3|                NULL|              12.3|          5|         9.63|     Manhattan|      Manhattan|             0|             0|             1|             0|             0|\n",
            "|         262|          75|       2| 2015-01-10 09:54:33|  2015-01-10 10:01:08|              1|         1.81|       1.5|         0.0|         9.8|                NULL|               8.3|          9|         6.58|     Manhattan|      Manhattan|             0|             0|             0|             0|             1|\n",
            "|         239|         236|       2| 2015-01-07 15:52:03|  2015-01-07 16:01:26|              1|         1.45|       1.0|         0.0|         9.8|                NULL|               8.8|         15|         9.38|     Manhattan|      Manhattan|             0|             0|             0|             0|             1|\n",
            "|          61|          13|       1| 2015-01-15 18:19:08|  2015-01-15 18:48:10|              1|          6.0|      5.95|         0.0|       29.75|                NULL|              23.8|         18|        29.03|     Manhattan|       Brooklyn|             0|             0|             0|             0|             1|\n",
            "|         170|         132|       1| 2015-01-15 17:08:01|  2015-01-15 17:57:21|              2|         16.4|       8.0|        5.33|       66.13|                NULL|58.129999999999995|         17|        49.33|        Queens|      Manhattan|             0|             0|             0|             0|             1|\n",
            "|         107|         234|       1| 2015-01-11 13:31:31|  2015-01-11 13:34:38|              1|          0.6|       1.2|         0.0|         6.0|                NULL|               4.8|         13|         3.12|     Manhattan|      Manhattan|             0|             0|             0|             0|             1|\n",
            "|         228|          13|       2| 2015-01-20 08:18:29|  2015-01-20 08:49:43|              5|         7.89|       0.0|         0.0|        27.8|                NULL|              27.8|          8|        31.23|     Manhattan|       Brooklyn|             0|             0|             1|             0|             0|\n",
            "+------------+------------+--------+--------------------+---------------------+---------------+-------------+----------+------------+------------+--------------------+------------------+-----------+-------------+--------------+---------------+--------------+--------------+--------------+--------------+--------------+\n",
            "only showing top 20 rows\n",
            "\n"
          ]
        }
      ]
    },
    {
      "cell_type": "code",
      "source": [
        "# Get the number of rows\n",
        "num_rows = df.count()\n",
        "\n",
        "# Get the number of columns\n",
        "num_columns = len(df.columns)\n",
        "\n",
        "print(f\"Shape: ({num_rows}, {num_columns})\")"
      ],
      "metadata": {
        "colab": {
          "base_uri": "https://localhost:8080/"
        },
        "id": "g6SQkWAh1me8",
        "outputId": "8f288d42-3dd1-4509-a2f2-9a614c5838ea"
      },
      "execution_count": null,
      "outputs": [
        {
          "output_type": "stream",
          "name": "stdout",
          "text": [
            "Shape: (77072751, 21)\n"
          ]
        }
      ]
    },
    {
      "cell_type": "markdown",
      "source": [
        "This code identifies high-demand taxi regions in NYC by aggregating pickup data on a monthly basis and visualizing it through a heatmap. This allows for easy identification of demand hotspots in different parts of the city over time."
      ],
      "metadata": {
        "id": "pXex5EBpc2yo"
      }
    },
    {
      "cell_type": "code",
      "source": [
        "from pyspark.sql import functions as F\n",
        "import matplotlib.pyplot as plt\n",
        "import seaborn as sns\n",
        "\n",
        "# Add a month column extracted from the pickup datetime\n",
        "df = df.withColumn(\"month\", F.month(\"tpep_pickup_datetime\"))\n",
        "\n",
        "# Aggregate to get monthly demand per PULocationID\n",
        "monthly_demand = (\n",
        "    df.groupBy(\"PULocationID\", \"month\", \"Pickup_Borough\")\n",
        "    .count()\n",
        "    .withColumnRenamed(\"count\", \"monthly_demand\")\n",
        ")\n",
        "\n",
        "# Get top 20 PULocationIDs by overall demand\n",
        "top_20_locations = (\n",
        "    monthly_demand.groupBy(\"PULocationID\", \"Pickup_Borough\")\n",
        "    .agg(F.sum(\"monthly_demand\").alias(\"total_demand\"))\n",
        "    .orderBy(F.desc(\"total_demand\"))\n",
        "    .limit(20)\n",
        ")\n",
        "\n",
        "# Join to get the monthly demand data for these top 20 locations only\n",
        "top_20_monthly_demand = (\n",
        "    monthly_demand.join(top_20_locations, on=[\"PULocationID\", \"Pickup_Borough\"], how=\"inner\")\n",
        "    .select(\"PULocationID\", \"Pickup_Borough\", \"month\", \"monthly_demand\")\n",
        "    .orderBy(\"month\", \"PULocationID\")\n",
        ")\n",
        "\n",
        "# Convert Spark DataFrame to Pandas DataFrame, pivot, and fill missing values with 0\n",
        "heatmap_data = (\n",
        "    top_20_monthly_demand.toPandas()\n",
        "    .pivot(index=[\"PULocationID\", \"Pickup_Borough\"], columns=\"month\", values=\"monthly_demand\")\n",
        "    .fillna(0)\n",
        ")\n",
        "\n",
        "# Reset index to make PULocationID and Pickup_Borough separate columns\n",
        "heatmap_data = heatmap_data.reset_index()\n",
        "\n",
        "# Create labels combining PULocationID and Borough\n",
        "heatmap_data['label'] = heatmap_data['PULocationID'].astype(str) + ' - ' + heatmap_data['Pickup_Borough']\n",
        "\n",
        "# Set the label as the index\n",
        "heatmap_data = heatmap_data.set_index('label')\n",
        "\n",
        "# Drop the original PULocationID and Pickup_Borough columns\n",
        "heatmap_data = heatmap_data.drop(['PULocationID', 'Pickup_Borough'], axis=1)\n",
        "\n",
        "# Set up the figure size\n",
        "plt.figure(figsize=(16, 10))\n",
        "\n",
        "# Plot heatmap\n",
        "sns.heatmap(\n",
        "    heatmap_data,\n",
        "    annot=True,\n",
        "    fmt=\".0f\",\n",
        "    cmap=\"YlOrBr\",\n",
        "    cbar_kws={'label': 'Demand'}\n",
        ")\n",
        "\n",
        "# Set the title and labels\n",
        "plt.title(\"Monthly Taxi Demand Heatmap (Top 20 Locations)\")\n",
        "plt.xlabel(\"Month\")\n",
        "plt.ylabel(\"Location (PULocationID - Borough)\")\n",
        "\n",
        "# Rotate y-axis labels for better readability\n",
        "plt.yticks(rotation=0)\n",
        "\n",
        "# Show plot\n",
        "plt.tight_layout()\n",
        "plt.show()"
      ],
      "metadata": {
        "colab": {
          "base_uri": "https://localhost:8080/",
          "height": 815
        },
        "id": "i8O3kD5fzPhr",
        "outputId": "476a58f1-158f-4978-9d49-afd6278c9d11"
      },
      "execution_count": null,
      "outputs": [
        {
          "output_type": "display_data",
          "data": {
            "text/plain": [
              "<Figure size 1600x1000 with 2 Axes>"
            ],
            "image/png": "[encoded data removed]"
          },
          "metadata": {}
        }
      ]
    },
    {
      "cell_type": "markdown",
      "source": [
        "## **Monthly Taxi Demand Heatmap for Top 20 Locations**\n",
        "This heatmap visualizes the monthly taxi demand for the top 20 pickup locations in New York City over six months. The color intensity represents demand, with darker colors indicating higher demand.\n",
        "\n",
        "Key observations:\n",
        "\n",
        "- Location 237 (Manhattan) has consistently high demand across all months, especially in June, where it peaks at nearly 500,000 pickups.\n",
        "-Other high-demand locations include Location 48, Location 161, and Location 162, all in Manhattan.\n",
        "- The heatmap clearly shows that most high-demand locations are concentrated in Manhattan, with only a few exceptions like Location 138 (Queens)."
      ],
      "metadata": {
        "id": "hhG95c8mcrhM"
      }
    },
    {
      "cell_type": "code",
      "source": [
        "import plotly.express as px\n",
        "\n",
        "# Reuse the top_20_monthly_demand DataFrame we created earlier\n",
        "bar_data = top_20_monthly_demand.toPandas()\n",
        "\n",
        "# Filter data to include only the first 6 months\n",
        "bar_data = bar_data[bar_data[\"month\"].isin(range(1, 7))]\n",
        "\n",
        "# Create a combined label for PULocationID and Borough\n",
        "bar_data[\"Location\"] = bar_data[\"PULocationID\"].astype(str) + \" - \" + bar_data[\"Pickup_Borough\"]\n",
        "\n",
        "# Sort by total demand and limit to top 5 locations\n",
        "top_locations = (\n",
        "    bar_data.groupby(\"Location\")[\"monthly_demand\"]\n",
        "    .sum()\n",
        "    .nlargest(10)\n",
        "    .index\n",
        ")\n",
        "bar_data = bar_data[bar_data[\"Location\"].isin(top_locations)]\n",
        "\n",
        "# Create the stacked bar plot\n",
        "fig = px.bar(\n",
        "    bar_data,\n",
        "    x=\"month\",\n",
        "    y=\"monthly_demand\",\n",
        "    color=\"Location\",\n",
        "    labels={\"monthly_demand\": \"Monthly Demand\", \"month\": \"Month\", \"Location\": \"Location (ID - Borough)\"},\n",
        "    title=\"Monthly Taxi Demand for Top 10 Locations (First 6 Months)\",\n",
        "    barmode=\"stack\",  # Use stacked bars instead of grouped bars\n",
        "    color_discrete_sequence=px.colors.qualitative.Plotly\n",
        ")\n",
        "\n",
        "# Update layout for better appearance\n",
        "fig.update_layout(\n",
        "    height=800,\n",
        "    width=1000,\n",
        "    xaxis=dict(\n",
        "        title=\"Month\",\n",
        "        tickmode=\"array\",\n",
        "        tickvals=list(range(1, 7)),\n",
        "        ticktext=[\"Jan\", \"Feb\", \"Mar\", \"Apr\", \"May\", \"Jun\"],\n",
        "        tickangle=0\n",
        "    ),\n",
        "    yaxis=dict(title=\"Monthly Demand\"),\n",
        "    legend_title_text=\"Location (ID - Borough)\",\n",
        "    template=\"plotly_white\",\n",
        "    title=dict(x=0.5, xanchor=\"center\")\n",
        ")\n",
        "\n",
        "# Add hover information\n",
        "fig.update_traces(\n",
        "    hovertemplate=\"<b>%{x}</b><br>Location: %{color}<br>Demand: %{y:,}<extra></extra>\"\n",
        ")\n",
        "\n",
        "fig.show()"
      ],
      "metadata": {
        "colab": {
          "base_uri": "https://localhost:8080/",
          "height": 817
        },
        "id": "-Y4n5Shk0Q87",
        "outputId": "e3190fc3-a4e1-4fc0-be9c-093550c12603"
      },
      "execution_count": null,
      "outputs": [
        {
          "output_type": "display_data",
          "data": {
            "text/html": [
              "<html>\n",
              "<head><meta charset=\"utf-8\" /></head>\n",
              "<body>\n",
              "    <div>            <script src=\"https://cdnjs.cloudflare.com/ajax/libs/mathjax/2.7.5/MathJax.js?config=TeX-AMS-MML_SVG\"></script><script type=\"text/javascript\">if (window.MathJax && window.MathJax.Hub && window.MathJax.Hub.Config) {window.MathJax.Hub.Config({SVG: {font: \"STIX-Web\"}});}</script>                <script type=\"text/javascript\">window.PlotlyConfig = {MathJaxConfig: 'local'};</script>\n",
              "        <script charset=\"utf-8\" src=\"https://cdn.plot.ly/plotly-2.35.2.min.js\"></script>                <div id=\"b80bb161-13ac-4837-ba57-c6e64a64a065\" class=\"plotly-graph-div\" style=\"height:800px; width:1000px;\"></div>            <script type=\"text/javascript\">                                    window.PLOTLYENV=window.PLOTLYENV || {};                                    if (document.getElementById(\"b80bb161-13ac-4837-ba57-c6e64a64a065\")) {                    Plotly.newPlot(                        \"b80bb161-13ac-4837-ba57-c6e64a64a065\",                        [{\"alignmentgroup\":\"True\",\"hovertemplate\":\"\\u003cb\\u003e%{x}\\u003c\\u002fb\\u003e\\u003cbr\\u003eLocation: %{color}\\u003cbr\\u003eDemand: %{y:,}\\u003cextra\\u003e\\u003c\\u002fextra\\u003e\",\"legendgroup\":\"48 - Manhattan\",\"marker\":{\"color\":\"#636EFA\",\"pattern\":{\"shape\":\"\"}},\"name\":\"48 - Manhattan\",\"offsetgroup\":\"48 - Manhattan\",\"orientation\":\"v\",\"showlegend\":true,\"textposition\":\"auto\",\"x\":[1,2,3,4,5,6],\"xaxis\":\"x\",\"y\":[400924,386460,417903,401575,405552,388450],\"yaxis\":\"y\",\"type\":\"bar\"},{\"alignmentgroup\":\"True\",\"hovertemplate\":\"\\u003cb\\u003e%{x}\\u003c\\u002fb\\u003e\\u003cbr\\u003eLocation: %{color}\\u003cbr\\u003eDemand: %{y:,}\\u003cextra\\u003e\\u003c\\u002fextra\\u003e\",\"legendgroup\":\"79 - Manhattan\",\"marker\":{\"color\":\"#EF553B\",\"pattern\":{\"shape\":\"\"}},\"name\":\"79 - Manhattan\",\"offsetgroup\":\"79 - Manhattan\",\"orientation\":\"v\",\"showlegend\":true,\"textposition\":\"auto\",\"x\":[1,2,3,4,5,6],\"xaxis\":\"x\",\"y\":[437761,421743,439615,417206,435081,393995],\"yaxis\":\"y\",\"type\":\"bar\"},{\"alignmentgroup\":\"True\",\"hovertemplate\":\"\\u003cb\\u003e%{x}\\u003c\\u002fb\\u003e\\u003cbr\\u003eLocation: %{color}\\u003cbr\\u003eDemand: %{y:,}\\u003cextra\\u003e\\u003c\\u002fextra\\u003e\",\"legendgroup\":\"161 - Manhattan\",\"marker\":{\"color\":\"#00CC96\",\"pattern\":{\"shape\":\"\"}},\"name\":\"161 - Manhattan\",\"offsetgroup\":\"161 - Manhattan\",\"orientation\":\"v\",\"showlegend\":true,\"textposition\":\"auto\",\"x\":[1,2,3,4,5,6],\"xaxis\":\"x\",\"y\":[446386,418309,464161,460933,432488,423082],\"yaxis\":\"y\",\"type\":\"bar\"},{\"alignmentgroup\":\"True\",\"hovertemplate\":\"\\u003cb\\u003e%{x}\\u003c\\u002fb\\u003e\\u003cbr\\u003eLocation: %{color}\\u003cbr\\u003eDemand: %{y:,}\\u003cextra\\u003e\\u003c\\u002fextra\\u003e\",\"legendgroup\":\"162 - Manhattan\",\"marker\":{\"color\":\"#AB63FA\",\"pattern\":{\"shape\":\"\"}},\"name\":\"162 - Manhattan\",\"offsetgroup\":\"162 - Manhattan\",\"orientation\":\"v\",\"showlegend\":true,\"textposition\":\"auto\",\"x\":[1,2,3,4,5,6],\"xaxis\":\"x\",\"y\":[410574,404885,441582,437909,410375,407029],\"yaxis\":\"y\",\"type\":\"bar\"},{\"alignmentgroup\":\"True\",\"hovertemplate\":\"\\u003cb\\u003e%{x}\\u003c\\u002fb\\u003e\\u003cbr\\u003eLocation: %{color}\\u003cbr\\u003eDemand: %{y:,}\\u003cextra\\u003e\\u003c\\u002fextra\\u003e\",\"legendgroup\":\"170 - Manhattan\",\"marker\":{\"color\":\"#FFA15A\",\"pattern\":{\"shape\":\"\"}},\"name\":\"170 - Manhattan\",\"offsetgroup\":\"170 - Manhattan\",\"orientation\":\"v\",\"showlegend\":true,\"textposition\":\"auto\",\"x\":[1,2,3,4,5,6],\"xaxis\":\"x\",\"y\":[411290,403380,440112,424661,410852,396901],\"yaxis\":\"y\",\"type\":\"bar\"},{\"alignmentgroup\":\"True\",\"hovertemplate\":\"\\u003cb\\u003e%{x}\\u003c\\u002fb\\u003e\\u003cbr\\u003eLocation: %{color}\\u003cbr\\u003eDemand: %{y:,}\\u003cextra\\u003e\\u003c\\u002fextra\\u003e\",\"legendgroup\":\"186 - Manhattan\",\"marker\":{\"color\":\"#19D3F3\",\"pattern\":{\"shape\":\"\"}},\"name\":\"186 - Manhattan\",\"offsetgroup\":\"186 - Manhattan\",\"orientation\":\"v\",\"showlegend\":true,\"textposition\":\"auto\",\"x\":[1,2,3,4,5,6],\"xaxis\":\"x\",\"y\":[392966,373514,424726,401917,391846,394707],\"yaxis\":\"y\",\"type\":\"bar\"},{\"alignmentgroup\":\"True\",\"hovertemplate\":\"\\u003cb\\u003e%{x}\\u003c\\u002fb\\u003e\\u003cbr\\u003eLocation: %{color}\\u003cbr\\u003eDemand: %{y:,}\\u003cextra\\u003e\\u003c\\u002fextra\\u003e\",\"legendgroup\":\"230 - Manhattan\",\"marker\":{\"color\":\"#FF6692\",\"pattern\":{\"shape\":\"\"}},\"name\":\"230 - Manhattan\",\"offsetgroup\":\"230 - Manhattan\",\"orientation\":\"v\",\"showlegend\":true,\"textposition\":\"auto\",\"x\":[1,2,3,4,5,6],\"xaxis\":\"x\",\"y\":[429245,406148,442045,412555,402661,391776],\"yaxis\":\"y\",\"type\":\"bar\"},{\"alignmentgroup\":\"True\",\"hovertemplate\":\"\\u003cb\\u003e%{x}\\u003c\\u002fb\\u003e\\u003cbr\\u003eLocation: %{color}\\u003cbr\\u003eDemand: %{y:,}\\u003cextra\\u003e\\u003c\\u002fextra\\u003e\",\"legendgroup\":\"234 - Manhattan\",\"marker\":{\"color\":\"#B6E880\",\"pattern\":{\"shape\":\"\"}},\"name\":\"234 - Manhattan\",\"offsetgroup\":\"234 - Manhattan\",\"orientation\":\"v\",\"showlegend\":true,\"textposition\":\"auto\",\"x\":[1,2,3,4,5,6],\"xaxis\":\"x\",\"y\":[423157,415545,431346,421011,408483,393506],\"yaxis\":\"y\",\"type\":\"bar\"},{\"alignmentgroup\":\"True\",\"hovertemplate\":\"\\u003cb\\u003e%{x}\\u003c\\u002fb\\u003e\\u003cbr\\u003eLocation: %{color}\\u003cbr\\u003eDemand: %{y:,}\\u003cextra\\u003e\\u003c\\u002fextra\\u003e\",\"legendgroup\":\"236 - Manhattan\",\"marker\":{\"color\":\"#FF97FF\",\"pattern\":{\"shape\":\"\"}},\"name\":\"236 - Manhattan\",\"offsetgroup\":\"236 - Manhattan\",\"orientation\":\"v\",\"showlegend\":true,\"textposition\":\"auto\",\"x\":[1,2,3,4,5,6],\"xaxis\":\"x\",\"y\":[441376,413292,435162,454259,448447,412895],\"yaxis\":\"y\",\"type\":\"bar\"},{\"alignmentgroup\":\"True\",\"hovertemplate\":\"\\u003cb\\u003e%{x}\\u003c\\u002fb\\u003e\\u003cbr\\u003eLocation: %{color}\\u003cbr\\u003eDemand: %{y:,}\\u003cextra\\u003e\\u003c\\u002fextra\\u003e\",\"legendgroup\":\"237 - Manhattan\",\"marker\":{\"color\":\"#FECB52\",\"pattern\":{\"shape\":\"\"}},\"name\":\"237 - Manhattan\",\"offsetgroup\":\"237 - Manhattan\",\"orientation\":\"v\",\"showlegend\":true,\"textposition\":\"auto\",\"x\":[1,2,3,4,5,6],\"xaxis\":\"x\",\"y\":[467125,447015,473443,497701,484635,454707],\"yaxis\":\"y\",\"type\":\"bar\"}],                        {\"template\":{\"data\":{\"barpolar\":[{\"marker\":{\"line\":{\"color\":\"white\",\"width\":0.5},\"pattern\":{\"fillmode\":\"overlay\",\"size\":10,\"solidity\":0.2}},\"type\":\"barpolar\"}],\"bar\":[{\"error_x\":{\"color\":\"#2a3f5f\"},\"error_y\":{\"color\":\"#2a3f5f\"},\"marker\":{\"line\":{\"color\":\"white\",\"width\":0.5},\"pattern\":{\"fillmode\":\"overlay\",\"size\":10,\"solidity\":0.2}},\"type\":\"bar\"}],\"carpet\":[{\"aaxis\":{\"endlinecolor\":\"#2a3f5f\",\"gridcolor\":\"#C8D4E3\",\"linecolor\":\"#C8D4E3\",\"minorgridcolor\":\"#C8D4E3\",\"startlinecolor\":\"#2a3f5f\"},\"baxis\":{\"endlinecolor\":\"#2a3f5f\",\"gridcolor\":\"#C8D4E3\",\"linecolor\":\"#C8D4E3\",\"minorgridcolor\":\"#C8D4E3\",\"startlinecolor\":\"#2a3f5f\"},\"type\":\"carpet\"}],\"choropleth\":[{\"colorbar\":{\"outlinewidth\":0,\"ticks\":\"\"},\"type\":\"choropleth\"}],\"contourcarpet\":[{\"colorbar\":{\"outlinewidth\":0,\"ticks\":\"\"},\"type\":\"contourcarpet\"}],\"contour\":[{\"colorbar\":{\"outlinewidth\":0,\"ticks\":\"\"},\"colorscale\":[[0.0,\"#0d0887\"],[0.1111111111111111,\"#46039f\"],[0.2222222222222222,\"#7201a8\"],[0.3333333333333333,\"#9c179e\"],[0.4444444444444444,\"#bd3786\"],[0.5555555555555556,\"#d8576b\"],[0.6666666666666666,\"#ed7953\"],[0.7777777777777778,\"#fb9f3a\"],[0.8888888888888888,\"#fdca26\"],[1.0,\"#f0f921\"]],\"type\":\"contour\"}],\"heatmapgl\":[{\"colorbar\":{\"outlinewidth\":0,\"ticks\":\"\"},\"colorscale\":[[0.0,\"#0d0887\"],[0.1111111111111111,\"#46039f\"],[0.2222222222222222,\"#7201a8\"],[0.3333333333333333,\"#9c179e\"],[0.4444444444444444,\"#bd3786\"],[0.5555555555555556,\"#d8576b\"],[0.6666666666666666,\"#ed7953\"],[0.7777777777777778,\"#fb9f3a\"],[0.8888888888888888,\"#fdca26\"],[1.0,\"#f0f921\"]],\"type\":\"heatmapgl\"}],\"heatmap\":[{\"colorbar\":{\"outlinewidth\":0,\"ticks\":\"\"},\"colorscale\":[[0.0,\"#0d0887\"],[0.1111111111111111,\"#46039f\"],[0.2222222222222222,\"#7201a8\"],[0.3333333333333333,\"#9c179e\"],[0.4444444444444444,\"#bd3786\"],[0.5555555555555556,\"#d8576b\"],[0.6666666666666666,\"#ed7953\"],[0.7777777777777778,\"#fb9f3a\"],[0.8888888888888888,\"#fdca26\"],[1.0,\"#f0f921\"]],\"type\":\"heatmap\"}],\"histogram2dcontour\":[{\"colorbar\":{\"outlinewidth\":0,\"ticks\":\"\"},\"colorscale\":[[0.0,\"#0d0887\"],[0.1111111111111111,\"#46039f\"],[0.2222222222222222,\"#7201a8\"],[0.3333333333333333,\"#9c179e\"],[0.4444444444444444,\"#bd3786\"],[0.5555555555555556,\"#d8576b\"],[0.6666666666666666,\"#ed7953\"],[0.7777777777777778,\"#fb9f3a\"],[0.8888888888888888,\"#fdca26\"],[1.0,\"#f0f921\"]],\"type\":\"histogram2dcontour\"}],\"histogram2d\":[{\"colorbar\":{\"outlinewidth\":0,\"ticks\":\"\"},\"colorscale\":[[0.0,\"#0d0887\"],[0.1111111111111111,\"#46039f\"],[0.2222222222222222,\"#7201a8\"],[0.3333333333333333,\"#9c179e\"],[0.4444444444444444,\"#bd3786\"],[0.5555555555555556,\"#d8576b\"],[0.6666666666666666,\"#ed7953\"],[0.7777777777777778,\"#fb9f3a\"],[0.8888888888888888,\"#fdca26\"],[1.0,\"#f0f921\"]],\"type\":\"histogram2d\"}],\"histogram\":[{\"marker\":{\"pattern\":{\"fillmode\":\"overlay\",\"size\":10,\"solidity\":0.2}},\"type\":\"histogram\"}],\"mesh3d\":[{\"colorbar\":{\"outlinewidth\":0,\"ticks\":\"\"},\"type\":\"mesh3d\"}],\"parcoords\":[{\"line\":{\"colorbar\":{\"outlinewidth\":0,\"ticks\":\"\"}},\"type\":\"parcoords\"}],\"pie\":[{\"automargin\":true,\"type\":\"pie\"}],\"scatter3d\":[{\"line\":{\"colorbar\":{\"outlinewidth\":0,\"ticks\":\"\"}},\"marker\":{\"colorbar\":{\"outlinewidth\":0,\"ticks\":\"\"}},\"type\":\"scatter3d\"}],\"scattercarpet\":[{\"marker\":{\"colorbar\":{\"outlinewidth\":0,\"ticks\":\"\"}},\"type\":\"scattercarpet\"}],\"scattergeo\":[{\"marker\":{\"colorbar\":{\"outlinewidth\":0,\"ticks\":\"\"}},\"type\":\"scattergeo\"}],\"scattergl\":[{\"marker\":{\"colorbar\":{\"outlinewidth\":0,\"ticks\":\"\"}},\"type\":\"scattergl\"}],\"scattermapbox\":[{\"marker\":{\"colorbar\":{\"outlinewidth\":0,\"ticks\":\"\"}},\"type\":\"scattermapbox\"}],\"scatterpolargl\":[{\"marker\":{\"colorbar\":{\"outlinewidth\":0,\"ticks\":\"\"}},\"type\":\"scatterpolargl\"}],\"scatterpolar\":[{\"marker\":{\"colorbar\":{\"outlinewidth\":0,\"ticks\":\"\"}},\"type\":\"scatterpolar\"}],\"scatter\":[{\"fillpattern\":{\"fillmode\":\"overlay\",\"size\":10,\"solidity\":0.2},\"type\":\"scatter\"}],\"scatterternary\":[{\"marker\":{\"colorbar\":{\"outlinewidth\":0,\"ticks\":\"\"}},\"type\":\"scatterternary\"}],\"surface\":[{\"colorbar\":{\"outlinewidth\":0,\"ticks\":\"\"},\"colorscale\":[[0.0,\"#0d0887\"],[0.1111111111111111,\"#46039f\"],[0.2222222222222222,\"#7201a8\"],[0.3333333333333333,\"#9c179e\"],[0.4444444444444444,\"#bd3786\"],[0.5555555555555556,\"#d8576b\"],[0.6666666666666666,\"#ed7953\"],[0.7777777777777778,\"#fb9f3a\"],[0.8888888888888888,\"#fdca26\"],[1.0,\"#f0f921\"]],\"type\":\"surface\"}],\"table\":[{\"cells\":{\"fill\":{\"color\":\"#EBF0F8\"},\"line\":{\"color\":\"white\"}},\"header\":{\"fill\":{\"color\":\"#C8D4E3\"},\"line\":{\"color\":\"white\"}},\"type\":\"table\"}]},\"layout\":{\"annotationdefaults\":{\"arrowcolor\":\"#2a3f5f\",\"arrowhead\":0,\"arrowwidth\":1},\"autotypenumbers\":\"strict\",\"coloraxis\":{\"colorbar\":{\"outlinewidth\":0,\"ticks\":\"\"}},\"colorscale\":{\"diverging\":[[0,\"#8e0152\"],[0.1,\"#c51b7d\"],[0.2,\"#de77ae\"],[0.3,\"#f1b6da\"],[0.4,\"#fde0ef\"],[0.5,\"#f7f7f7\"],[0.6,\"#e6f5d0\"],[0.7,\"#b8e186\"],[0.8,\"#7fbc41\"],[0.9,\"#4d9221\"],[1,\"#276419\"]],\"sequential\":[[0.0,\"#0d0887\"],[0.1111111111111111,\"#46039f\"],[0.2222222222222222,\"#7201a8\"],[0.3333333333333333,\"#9c179e\"],[0.4444444444444444,\"#bd3786\"],[0.5555555555555556,\"#d8576b\"],[0.6666666666666666,\"#ed7953\"],[0.7777777777777778,\"#fb9f3a\"],[0.8888888888888888,\"#fdca26\"],[1.0,\"#f0f921\"]],\"sequentialminus\":[[0.0,\"#0d0887\"],[0.1111111111111111,\"#46039f\"],[0.2222222222222222,\"#7201a8\"],[0.3333333333333333,\"#9c179e\"],[0.4444444444444444,\"#bd3786\"],[0.5555555555555556,\"#d8576b\"],[0.6666666666666666,\"#ed7953\"],[0.7777777777777778,\"#fb9f3a\"],[0.8888888888888888,\"#fdca26\"],[1.0,\"#f0f921\"]]},\"colorway\":[\"#636efa\",\"#EF553B\",\"#00cc96\",\"#ab63fa\",\"#FFA15A\",\"#19d3f3\",\"#FF6692\",\"#B6E880\",\"#FF97FF\",\"#FECB52\"],\"font\":{\"color\":\"#2a3f5f\"},\"geo\":{\"bgcolor\":\"white\",\"lakecolor\":\"white\",\"landcolor\":\"white\",\"showlakes\":true,\"showland\":true,\"subunitcolor\":\"#C8D4E3\"},\"hoverlabel\":{\"align\":\"left\"},\"hovermode\":\"closest\",\"mapbox\":{\"style\":\"light\"},\"paper_bgcolor\":\"white\",\"plot_bgcolor\":\"white\",\"polar\":{\"angularaxis\":{\"gridcolor\":\"#EBF0F8\",\"linecolor\":\"#EBF0F8\",\"ticks\":\"\"},\"bgcolor\":\"white\",\"radialaxis\":{\"gridcolor\":\"#EBF0F8\",\"linecolor\":\"#EBF0F8\",\"ticks\":\"\"}},\"scene\":{\"xaxis\":{\"backgroundcolor\":\"white\",\"gridcolor\":\"#DFE8F3\",\"gridwidth\":2,\"linecolor\":\"#EBF0F8\",\"showbackground\":true,\"ticks\":\"\",\"zerolinecolor\":\"#EBF0F8\"},\"yaxis\":{\"backgroundcolor\":\"white\",\"gridcolor\":\"#DFE8F3\",\"gridwidth\":2,\"linecolor\":\"#EBF0F8\",\"showbackground\":true,\"ticks\":\"\",\"zerolinecolor\":\"#EBF0F8\"},\"zaxis\":{\"backgroundcolor\":\"white\",\"gridcolor\":\"#DFE8F3\",\"gridwidth\":2,\"linecolor\":\"#EBF0F8\",\"showbackground\":true,\"ticks\":\"\",\"zerolinecolor\":\"#EBF0F8\"}},\"shapedefaults\":{\"line\":{\"color\":\"#2a3f5f\"}},\"ternary\":{\"aaxis\":{\"gridcolor\":\"#DFE8F3\",\"linecolor\":\"#A2B1C6\",\"ticks\":\"\"},\"baxis\":{\"gridcolor\":\"#DFE8F3\",\"linecolor\":\"#A2B1C6\",\"ticks\":\"\"},\"bgcolor\":\"white\",\"caxis\":{\"gridcolor\":\"#DFE8F3\",\"linecolor\":\"#A2B1C6\",\"ticks\":\"\"}},\"title\":{\"x\":0.05},\"xaxis\":{\"automargin\":true,\"gridcolor\":\"#EBF0F8\",\"linecolor\":\"#EBF0F8\",\"ticks\":\"\",\"title\":{\"standoff\":15},\"zerolinecolor\":\"#EBF0F8\",\"zerolinewidth\":2},\"yaxis\":{\"automargin\":true,\"gridcolor\":\"#EBF0F8\",\"linecolor\":\"#EBF0F8\",\"ticks\":\"\",\"title\":{\"standoff\":15},\"zerolinecolor\":\"#EBF0F8\",\"zerolinewidth\":2}}},\"xaxis\":{\"anchor\":\"y\",\"domain\":[0.0,1.0],\"title\":{\"text\":\"Month\"},\"tickmode\":\"array\",\"tickvals\":[1,2,3,4,5,6],\"ticktext\":[\"Jan\",\"Feb\",\"Mar\",\"Apr\",\"May\",\"Jun\"],\"tickangle\":0},\"yaxis\":{\"anchor\":\"x\",\"domain\":[0.0,1.0],\"title\":{\"text\":\"Monthly Demand\"}},\"legend\":{\"title\":{\"text\":\"Location (ID - Borough)\"},\"tracegroupgap\":0},\"title\":{\"text\":\"Monthly Taxi Demand for Top 10 Locations (First 6 Months)\",\"x\":0.5,\"xanchor\":\"center\"},\"barmode\":\"stack\",\"height\":800,\"width\":1000},                        {\"responsive\": true}                    ).then(function(){\n",
              "                            \n",
              "var gd = document.getElementById('b80bb161-13ac-4837-ba57-c6e64a64a065');\n",
              "var x = new MutationObserver(function (mutations, observer) {{\n",
              "        var display = window.getComputedStyle(gd).display;\n",
              "        if (!display || display === 'none') {{\n",
              "            console.log([gd, 'removed!']);\n",
              "            Plotly.purge(gd);\n",
              "            observer.disconnect();\n",
              "        }}\n",
              "}});\n",
              "\n",
              "// Listen for the removal of the full notebook cells\n",
              "var notebookContainer = gd.closest('#notebook-container');\n",
              "if (notebookContainer) {{\n",
              "    x.observe(notebookContainer, {childList: true});\n",
              "}}\n",
              "\n",
              "// Listen for the clearing of the current output cell\n",
              "var outputEl = gd.closest('.output');\n",
              "if (outputEl) {{\n",
              "    x.observe(outputEl, {childList: true});\n",
              "}}\n",
              "\n",
              "                        })                };                            </script>        </div>\n",
              "</body>\n",
              "</html>"
            ]
          },
          "metadata": {}
        }
      ]
    },
    {
      "cell_type": "markdown",
      "source": [
        "## **Monthly Taxi Demand for Top 10 Locations**\n",
        "This stacked bar chart shows the monthly taxi demand for the top 10 pickup locations in Manhattan over the first six months of the year. Each color represents a different location, and the height of each bar corresponds to the total demand for that month.\n",
        "\n",
        "Key observations:\n",
        "\n",
        "- The overall monthly demand remains relatively consistent across months, fluctuating between approximately 4 million pickups.\n",
        "- Location 237 (Manhattan) consistently has the highest demand every month, followed by Location 48 and Location 79.\n",
        "- The demand distribution across locations is fairly even, with no single location dominating the demand entirely.\n",
        "\n",
        "This plot helps visualize how taxi demand is distributed across different locations over time."
      ],
      "metadata": {
        "id": "ARJsmCrBd5ol"
      }
    },
    {
      "cell_type": "markdown",
      "source": [
        "# Q3: Segment passengers on the basis of trip characteristics, such as trip distance, fare, time of day, and payment method\n"
      ],
      "metadata": {
        "id": "xFT0N0anhSkS"
      }
    },
    {
      "cell_type": "code",
      "source": [
        "from pyspark.sql import SparkSession\n",
        "from pyspark.sql.functions import col, hour, expr, when\n",
        "from pyspark.sql.types import DoubleType\n",
        "\n",
        "# Initialize Spark session\n",
        "spark = SparkSession.builder.appName(\"Read_File\").getOrCreate()\n",
        "\n",
        "file_path = '/content/drive/My Drive/BDA_Project 3/data/filtered_data.parquet'\n",
        "df = spark.read.parquet(file_path)\n",
        "df.show()"
      ],
      "metadata": {
        "colab": {
          "base_uri": "https://localhost:8080/"
        },
        "id": "1CPrLKCGCAs3",
        "outputId": "02d15dcf-17d8-4c49-bb31-e2cc116f2493"
      },
      "execution_count": null,
      "outputs": [
        {
          "output_type": "stream",
          "name": "stdout",
          "text": [
            "+------------+------------+--------+--------------------+---------------------+---------------+-------------+----------+------------+------------+--------------------+------------------+-----------+-------------+--------------+---------------+--------------+--------------+--------------+--------------+--------------+\n",
            "|DOLocationID|PULocationID|VendorID|tpep_pickup_datetime|tpep_dropoff_datetime|passenger_count|trip_distance|tip_amount|tolls_amount|total_amount|congestion_surcharge|        total_fare|pickup_hour|trip_duration|Pickup_Borough|Dropoff_Borough|payment_type_4|payment_type_3|payment_type_2|payment_type_5|payment_type_1|\n",
            "+------------+------------+--------+--------------------+---------------------+---------------+-------------+----------+------------+------------+--------------------+------------------+-----------+-------------+--------------+---------------+--------------+--------------+--------------+--------------+--------------+\n",
            "|          79|         231|       2| 2015-01-03 03:02:25|  2015-01-03 03:08:56|              5|         1.95|       1.0|         0.0|        10.3|                NULL|               9.3|          3|         6.52|     Manhattan|      Manhattan|             0|             0|             0|             0|             1|\n",
            "|         211|         231|       1| 2015-01-11 00:12:26|  2015-01-11 00:21:46|              1|          1.7|       0.0|         0.0|         9.8|                NULL|               9.8|          0|         9.33|     Manhattan|      Manhattan|             0|             0|             1|             0|             0|\n",
            "|         264|         264|       1| 2015-01-05 22:20:20|  2015-01-05 22:32:48|              1|          4.1|       0.0|         0.0|        15.3|                NULL|              15.3|         22|        12.47|       Unknown|        Unknown|             0|             0|             1|             0|             0|\n",
            "|          41|         151|       2| 2015-01-02 15:57:00|  2015-01-02 16:04:41|              1|         1.24|       0.0|         0.0|         7.8|                NULL|               7.8|         15|         7.68|     Manhattan|      Manhattan|             0|             0|             1|             0|             0|\n",
            "|          79|         249|       1| 2015-01-14 15:32:37|  2015-01-14 15:42:33|              1|          1.5|       0.0|         0.0|         8.8|                NULL|               8.8|         15|         9.93|     Manhattan|      Manhattan|             0|             0|             1|             0|             0|\n",
            "|         161|         132|       2| 2015-01-20 18:21:39|  2015-01-20 19:01:21|              1|        18.04|      10.0|        5.33|       68.13|                NULL|58.129999999999995|         18|         39.7|        Queens|      Manhattan|             0|             0|             0|             0|             1|\n",
            "|         264|         264|       1| 2015-01-06 06:28:26|  2015-01-06 06:45:50|              1|          4.6|       0.0|         0.0|        17.8|                NULL|              17.8|          6|         17.4|       Unknown|        Unknown|             0|             0|             1|             0|             0|\n",
            "|          48|         234|       2| 2015-01-07 10:53:14|  2015-01-07 11:06:17|              1|         1.39|       1.9|         0.0|        12.2|                NULL|              10.3|         10|        13.05|     Manhattan|      Manhattan|             0|             0|             0|             0|             1|\n",
            "|         162|         107|       2| 2015-01-13 18:38:14|  2015-01-13 18:49:56|              2|         1.81|       0.0|         0.0|        11.3|                NULL|              11.3|         18|         11.7|     Manhattan|      Manhattan|             0|             0|             1|             0|             0|\n",
            "|         140|         224|       2| 2015-01-17 20:28:54|  2015-01-17 20:37:10|              1|          2.9|       0.0|         0.0|        11.8|                NULL|              11.8|         20|         8.27|     Manhattan|      Manhattan|             0|             0|             1|             0|             0|\n",
            "|         164|         211|       2| 2015-01-10 22:51:12|  2015-01-10 23:02:38|              1|         1.82|       0.0|         0.0|        10.8|                NULL|              10.8|         22|        11.43|     Manhattan|      Manhattan|             0|             0|             1|             0|             0|\n",
            "|         234|         161|       2| 2015-01-12 20:23:43|  2015-01-12 20:29:48|              1|         1.17|       1.4|         0.0|         9.2|                NULL|               7.8|         20|         6.08|     Manhattan|      Manhattan|             0|             0|             0|             0|             1|\n",
            "|         230|         100|       1| 2015-01-02 13:40:12|  2015-01-02 13:52:01|              3|          1.1|       0.0|         0.0|         9.8|                NULL|               9.5|         13|        11.82|     Manhattan|      Manhattan|             0|             0|             1|             0|             0|\n",
            "|         163|         113|       2| 2015-01-08 15:29:21|  2015-01-08 15:49:51|              2|          3.0|       2.9|         0.0|        18.2|                NULL|              15.3|         15|         20.5|     Manhattan|      Manhattan|             0|             0|             0|             0|             1|\n",
            "|         234|          68|       1| 2015-01-15 18:38:39|  2015-01-15 18:45:57|              1|          1.3|       2.2|         0.0|        11.0|                NULL|               8.8|         18|          7.3|     Manhattan|      Manhattan|             0|             0|             0|             0|             1|\n",
            "|          43|          48|       2| 2015-01-05 01:00:08|  2015-01-05 01:07:23|              1|         1.92|       1.8|         0.0|        11.6|                NULL|               9.8|          1|         7.25|     Manhattan|      Manhattan|             0|             0|             0|             0|             1|\n",
            "|          50|         186|       2| 2015-01-19 08:15:22|  2015-01-19 08:24:07|              1|         1.43|      1.66|         0.0|        9.96|                NULL|               8.3|          8|         8.75|     Manhattan|      Manhattan|             0|             0|             0|             0|             1|\n",
            "|         140|         163|       2| 2015-01-03 14:18:33|  2015-01-03 14:26:24|              1|         1.51|      2.25|         0.0|       10.55|                NULL|               8.3|         14|         7.85|     Manhattan|      Manhattan|             0|             0|             0|             0|             1|\n",
            "|           7|         162|       1| 2015-01-02 22:05:30|  2015-01-02 22:17:44|              1|          3.9|       0.0|         0.0|        14.8|                NULL|              14.5|         22|        12.23|     Manhattan|         Queens|             0|             0|             1|             0|             0|\n",
            "|         161|         237|       2| 2015-01-08 09:21:23|  2015-01-08 09:30:01|              1|         1.02|       1.4|         0.0|         9.2|                NULL|               7.8|          9|         8.63|     Manhattan|      Manhattan|             0|             0|             0|             0|             1|\n",
            "+------------+------------+--------+--------------------+---------------------+---------------+-------------+----------+------------+------------+--------------------+------------------+-----------+-------------+--------------+---------------+--------------+--------------+--------------+--------------+--------------+\n",
            "only showing top 20 rows\n",
            "\n"
          ]
        }
      ]
    },
    {
      "cell_type": "code",
      "source": [
        "from pyspark.sql.functions import avg\n",
        "\n",
        "# Calculate the average trip distance\n",
        "average_trip_distance = df.select(avg(\"trip_distance\")).first()[0]\n",
        "\n",
        "print(f\"Average Trip Distance: {average_trip_distance:.2f} miles\")"
      ],
      "metadata": {
        "colab": {
          "base_uri": "https://localhost:8080/"
        },
        "id": "4Vg4YV_Jhl8u",
        "outputId": "5dddd952-be50-447a-8c9a-c1f911c9d61e"
      },
      "execution_count": null,
      "outputs": [
        {
          "output_type": "stream",
          "name": "stdout",
          "text": [
            "Average Trip Distance: 3.10 miles\n"
          ]
        }
      ]
    },
    {
      "cell_type": "code",
      "source": [
        "from pyspark.sql.functions import when\n",
        "\n",
        "# Calculate percentiles for trip_distance\n",
        "percentiles = df.approxQuantile(\"trip_distance\", [0.25, 0.5, 0.75], 0.01)\n",
        "p25, p50, p75 = percentiles\n",
        "\n",
        "# Create a new column 'distance_category' based on the calculated percentiles\n",
        "df = df.withColumn(\n",
        "    \"distance_category\",\n",
        "    when(col(\"trip_distance\") <= p25, \"Very Short Distance\")  # 0 to 25th percentile\n",
        "    .when((col(\"trip_distance\") > p25) & (col(\"trip_distance\") <= p50), \"Short Distance\")  # 25th to 50th percentile\n",
        "    .when((col(\"trip_distance\") > p50) & (col(\"trip_distance\") <= p75), \"Medium Distance\")  # 50th to 75th percentile\n",
        "    .otherwise(\"Long Distance\")  # 75th to 100th percentile\n",
        ")\n",
        "\n",
        "# Display the DataFrame with the new 'distance_category' column\n",
        "df.select(\"trip_distance\", \"distance_category\").show()"
      ],
      "metadata": {
        "colab": {
          "base_uri": "https://localhost:8080/"
        },
        "id": "-m7nIcDJeScm",
        "outputId": "e88dabda-c7c8-40eb-d9ad-4ed5073943de"
      },
      "execution_count": null,
      "outputs": [
        {
          "output_type": "stream",
          "name": "stdout",
          "text": [
            "+-------------+-------------------+\n",
            "|trip_distance|  distance_category|\n",
            "+-------------+-------------------+\n",
            "|          1.2|     Short Distance|\n",
            "|          1.2|     Short Distance|\n",
            "|          0.6|Very Short Distance|\n",
            "|          0.8|Very Short Distance|\n",
            "|          0.0|Very Short Distance|\n",
            "|         0.03|Very Short Distance|\n",
            "|          0.0|Very Short Distance|\n",
            "|          0.0|Very Short Distance|\n",
            "|          0.0|Very Short Distance|\n",
            "|          0.7|Very Short Distance|\n",
            "|          2.4|    Medium Distance|\n",
            "|          0.8|Very Short Distance|\n",
            "|          3.3|      Long Distance|\n",
            "|         1.07|     Short Distance|\n",
            "|         7.76|      Long Distance|\n",
            "|          1.6|     Short Distance|\n",
            "|          0.5|Very Short Distance|\n",
            "|          1.7|    Medium Distance|\n",
            "|         8.45|      Long Distance|\n",
            "|          0.0|Very Short Distance|\n",
            "+-------------+-------------------+\n",
            "only showing top 20 rows\n",
            "\n"
          ]
        }
      ]
    },
    {
      "cell_type": "code",
      "source": [
        "from pyspark.sql.functions import col, when\n",
        "\n",
        "# Step 1: Calculate quantiles for total_fare\n",
        "quantiles = df.approxQuantile(\"total_fare\", [0.33, 0.66], 0.01)  # 33rd and 66th percentiles\n",
        "q1, q2 = quantiles[0], quantiles[1]  # Unpack quantile values\n",
        "\n",
        "# Print quantiles for verification\n",
        "print(f\"Q1 (33rd Percentile): {q1}\")\n",
        "print(f\"Q2 (66th Percentile): {q2}\")\n",
        "\n",
        "# Step 2: Create fare segments based on quantiles\n",
        "df = df.withColumn(\n",
        "    \"fare_segment\",\n",
        "    when(col(\"total_fare\") < q1, \"Low Fare\")  # Below Q1\n",
        "    .when((col(\"total_fare\") >= q1) & (col(\"total_fare\") < q2), \"Medium Fare\")  # Between Q1 and Q2\n",
        "    .otherwise(\"High Fare\")  # Above Q2\n",
        ")\n",
        "\n",
        "# Step 3: Verify segmentation by counting rows in each segment\n",
        "segmentation_counts = df.groupBy(\"fare_segment\").count()\n",
        "\n",
        "# Show the segmentation counts\n",
        "segmentation_counts.show()\n"
      ],
      "metadata": {
        "colab": {
          "base_uri": "https://localhost:8080/"
        },
        "id": "PZHr68UTjMQn",
        "outputId": "438c2427-f8b2-495e-a1f7-09e290ef00cf"
      },
      "execution_count": null,
      "outputs": [
        {
          "output_type": "stream",
          "name": "stdout",
          "text": [
            "Q1 (33rd Percentile): 9.3\n",
            "Q2 (66th Percentile): 13.8\n",
            "+------------+-------+\n",
            "|fare_segment|  count|\n",
            "+------------+-------+\n",
            "|    Low Fare|5492415|\n",
            "| Medium Fare|5503132|\n",
            "|   High Fare|5852800|\n",
            "+------------+-------+\n",
            "\n"
          ]
        }
      ]
    },
    {
      "cell_type": "code",
      "source": [
        "# Drop the time_of_day column\n",
        "df = df.drop(\"time_of_day\")\n",
        "\n",
        "# Verify the column has been removed\n",
        "#df.printSchema()\n"
      ],
      "metadata": {
        "colab": {
          "base_uri": "https://localhost:8080/"
        },
        "id": "PtdWuH33npub",
        "outputId": "348ac5c7-4d61-4a8f-bfee-3ad53acb008a"
      },
      "execution_count": null,
      "outputs": [
        {
          "output_type": "stream",
          "name": "stdout",
          "text": [
            "root\n",
            " |-- DOLocationID: long (nullable = true)\n",
            " |-- PULocationID: long (nullable = true)\n",
            " |-- VendorID: long (nullable = true)\n",
            " |-- tpep_pickup_datetime: timestamp (nullable = true)\n",
            " |-- tpep_dropoff_datetime: timestamp (nullable = true)\n",
            " |-- passenger_count: double (nullable = true)\n",
            " |-- trip_distance: double (nullable = true)\n",
            " |-- tip_amount: double (nullable = true)\n",
            " |-- tolls_amount: double (nullable = true)\n",
            " |-- total_amount: double (nullable = true)\n",
            " |-- congestion_surcharge: double (nullable = true)\n",
            " |-- total_fare: double (nullable = true)\n",
            " |-- pickup_hour: integer (nullable = true)\n",
            " |-- trip_duration: double (nullable = true)\n",
            " |-- Pickup_Borough: string (nullable = true)\n",
            " |-- Dropoff_Borough: string (nullable = true)\n",
            " |-- payment_type_0: integer (nullable = true)\n",
            " |-- payment_type_5: integer (nullable = true)\n",
            " |-- payment_type_1: integer (nullable = true)\n",
            " |-- payment_type_3: integer (nullable = true)\n",
            " |-- payment_type_2: integer (nullable = true)\n",
            " |-- payment_type_4: integer (nullable = true)\n",
            " |-- distance_category: string (nullable = false)\n",
            " |-- fare_segment: string (nullable = false)\n",
            "\n"
          ]
        }
      ]
    },
    {
      "cell_type": "code",
      "source": [
        "df = df.drop('time interval')"
      ],
      "metadata": {
        "id": "C1PX9ARxoZG5"
      },
      "execution_count": null,
      "outputs": []
    },
    {
      "cell_type": "code",
      "source": [
        "from pyspark.sql.functions import col, concat_ws, lit, floor\n",
        "\n",
        "# Create a new column for 3-hour time intervals\n",
        "df = df.withColumn(\n",
        "    \"time_interval\",\n",
        "    concat_ws(\n",
        "        \"-\",\n",
        "        (floor(col(\"pickup_hour\") / 3) * 3).cast(\"string\"),  # Start of the interval\n",
        "        ((floor(col(\"pickup_hour\") / 3) * 3) + 3).cast(\"string\")  # End of the interval\n",
        "    )\n",
        ")\n",
        "\n",
        "# Verify the new column\n",
        "df.select(\"trip_distance\",\"distance_category\",\"fare_segment\", \"time_interval\").show(10)\n"
      ],
      "metadata": {
        "colab": {
          "base_uri": "https://localhost:8080/"
        },
        "id": "Nlx8lKU0tb-W",
        "outputId": "fcf631fb-e208-49aa-be22-8fda478283e0"
      },
      "execution_count": null,
      "outputs": [
        {
          "output_type": "stream",
          "name": "stdout",
          "text": [
            "+-------------+-------------------+------------+-------------+\n",
            "|trip_distance|  distance_category|fare_segment|time_interval|\n",
            "+-------------+-------------------+------------+-------------+\n",
            "|          1.2|     Short Distance| Medium Fare|          0-3|\n",
            "|          1.2|     Short Distance| Medium Fare|          0-3|\n",
            "|          0.6|Very Short Distance| Medium Fare|          0-3|\n",
            "|          0.8|Very Short Distance|    Low Fare|          0-3|\n",
            "|          0.0|Very Short Distance|    Low Fare|          0-3|\n",
            "|         0.03|Very Short Distance|    Low Fare|          0-3|\n",
            "|          0.0|Very Short Distance|    Low Fare|          0-3|\n",
            "|          0.0|Very Short Distance|    Low Fare|        15-18|\n",
            "|          0.0|Very Short Distance|    Low Fare|        15-18|\n",
            "|          0.7|Very Short Distance| Medium Fare|          0-3|\n",
            "+-------------+-------------------+------------+-------------+\n",
            "only showing top 10 rows\n",
            "\n"
          ]
        }
      ]
    },
    {
      "cell_type": "code",
      "source": [
        "from pyspark.sql.functions import count\n",
        "\n",
        "# Aggregate the data in PySpark\n",
        "aggregated_df = df.groupBy(\"time_interval\", \"distance_category\", \"fare_segment\").agg(\n",
        "    count(\"*\").alias(\"count\")\n",
        ")\n",
        "\n",
        "# Convert to Pandas\n",
        "aggregated_pd = aggregated_df.toPandas()\n",
        "\n",
        "# Ensure `time_interval` is in categorical order\n",
        "aggregated_pd[\"time_interval\"] = pd.Categorical(\n",
        "    aggregated_pd[\"time_interval\"],\n",
        "    categories=[\n",
        "        \"0-3\", \"3-6\", \"6-9\", \"9-12\", \"12-15\", \"15-18\", \"18-21\", \"21-24\"\n",
        "    ],\n",
        "    ordered=True\n",
        ")"
      ],
      "metadata": {
        "id": "yXUaNiRsFUyU"
      },
      "execution_count": null,
      "outputs": []
    },
    {
      "cell_type": "code",
      "source": [
        "import plotly.express as px\n",
        "import pandas as pd\n",
        "\n",
        "# Convert `time_interval` to a categorical type with a specific order\n",
        "aggregated_pd[\"time_interval\"] = pd.Categorical(\n",
        "    aggregated_pd[\"time_interval\"],\n",
        "    categories=[\n",
        "        \"0-3\", \"3-6\", \"6-9\", \"9-12\", \"12-15\", \"15-18\", \"18-21\", \"21-24\"\n",
        "    ],\n",
        "    ordered=True\n",
        ")\n",
        "\n",
        "# Create the Plotly bar chart\n",
        "fig = px.bar(\n",
        "    aggregated_pd,\n",
        "    x=\"time_interval\",\n",
        "    y=\"count\",\n",
        "    color=\"distance_category\",\n",
        "    facet_col=\"fare_segment\",\n",
        "    barmode=\"stack\",\n",
        "    title=\"Distance Category and Fare Segment Distribution Across Time Intervals\",\n",
        "    labels={\n",
        "        \"time_interval\": \"Time Interval (3-Hour Bins)\",\n",
        "        \"count\": \"Trip Count\",\n",
        "        \"distance_category\": \"Distance Category\"\n",
        "    },\n",
        "    height=700,  # Adjust height for better spacing\n",
        "    width=1200   # Adjust width for better spacing\n",
        ")\n",
        "\n",
        "# Adjust legend layout to avoid overlap\n",
        "fig.update_layout(\n",
        "    legend=dict(\n",
        "        title=\"Distance Category\",\n",
        "        orientation=\"h\",  # Horizontal legend\n",
        "        y=-0.2,           # Position the legend below the chart\n",
        "        x=0.5,            # Center the legend horizontally\n",
        "        xanchor=\"center\"\n",
        "    ),\n",
        "    xaxis=dict(categoryorder=\"array\", categoryarray=[\n",
        "        \"0-3\", \"3-6\", \"6-9\", \"9-12\", \"12-15\", \"15-18\", \"18-21\", \"21-24\"\n",
        "    ])  # Explicitly set order for X-axis\n",
        ")\n",
        "\n",
        "# Customize chart layout\n",
        "fig.update_layout(\n",
        "    margin=dict(l=50, r=50, t=100, b=150),  # Adjust margins for better spacing\n",
        "    title=dict(x=0.5, font=dict(size=20))   # Center the title\n",
        ")\n",
        "\n",
        "# Show the chart\n",
        "fig.show()\n"
      ],
      "metadata": {
        "colab": {
          "base_uri": "https://localhost:8080/",
          "height": 717
        },
        "id": "GxdXq2rDz2hO",
        "outputId": "61d6b228-069f-4a20-babd-0f29920f1c43"
      },
      "execution_count": null,
      "outputs": [
        {
          "output_type": "display_data",
          "data": {
            "text/html": [
              "<html>\n",
              "<head><meta charset=\"utf-8\" /></head>\n",
              "<body>\n",
              "    <div>            <script src=\"https://cdnjs.cloudflare.com/ajax/libs/mathjax/2.7.5/MathJax.js?config=TeX-AMS-MML_SVG\"></script><script type=\"text/javascript\">if (window.MathJax && window.MathJax.Hub && window.MathJax.Hub.Config) {window.MathJax.Hub.Config({SVG: {font: \"STIX-Web\"}});}</script>                <script type=\"text/javascript\">window.PlotlyConfig = {MathJaxConfig: 'local'};</script>\n",
              "        <script charset=\"utf-8\" src=\"https://cdn.plot.ly/plotly-2.35.2.min.js\"></script>                <div id=\"2fb758c9-7890-4b43-a6b7-2850c7ee68a9\" class=\"plotly-graph-div\" style=\"height:700px; width:1200px;\"></div>            <script type=\"text/javascript\">                                    window.PLOTLYENV=window.PLOTLYENV || {};                                    if (document.getElementById(\"2fb758c9-7890-4b43-a6b7-2850c7ee68a9\")) {                    Plotly.newPlot(                        \"2fb758c9-7890-4b43-a6b7-2850c7ee68a9\",                        [{\"alignmentgroup\":\"True\",\"hovertemplate\":\"Distance Category=Long Distance\\u003cbr\\u003efare_segment=High Fare\\u003cbr\\u003eTime Interval (3-Hour Bins)=%{x}\\u003cbr\\u003eTrip Count=%{y}\\u003cextra\\u003e\\u003c\\u002fextra\\u003e\",\"legendgroup\":\"Long Distance\",\"marker\":{\"color\":\"#636efa\",\"pattern\":{\"shape\":\"\"}},\"name\":\"Long Distance\",\"offsetgroup\":\"Long Distance\",\"orientation\":\"v\",\"showlegend\":true,\"textposition\":\"auto\",\"x\":[\"0-3\",\"12-15\",\"15-18\",\"18-21\",\"21-24\",\"3-6\",\"6-9\",\"9-12\"],\"xaxis\":\"x\",\"y\":[312108,586436,664757,708562,682575,176000,401951,478760],\"yaxis\":\"y\",\"type\":\"bar\"},{\"alignmentgroup\":\"True\",\"hovertemplate\":\"Distance Category=Long Distance\\u003cbr\\u003efare_segment=Low Fare\\u003cbr\\u003eTime Interval (3-Hour Bins)=%{x}\\u003cbr\\u003eTrip Count=%{y}\\u003cextra\\u003e\\u003c\\u002fextra\\u003e\",\"legendgroup\":\"Long Distance\",\"marker\":{\"color\":\"#636efa\",\"pattern\":{\"shape\":\"\"}},\"name\":\"Long Distance\",\"offsetgroup\":\"Long Distance\",\"orientation\":\"v\",\"showlegend\":false,\"textposition\":\"auto\",\"x\":[\"0-3\",\"12-15\",\"15-18\",\"18-21\",\"21-24\",\"3-6\",\"6-9\",\"9-12\"],\"xaxis\":\"x2\",\"y\":[1529,1823,2003,2093,2018,1035,986,1387],\"yaxis\":\"y2\",\"type\":\"bar\"},{\"alignmentgroup\":\"True\",\"hovertemplate\":\"Distance Category=Long Distance\\u003cbr\\u003efare_segment=Medium Fare\\u003cbr\\u003eTime Interval (3-Hour Bins)=%{x}\\u003cbr\\u003eTrip Count=%{y}\\u003cextra\\u003e\\u003c\\u002fextra\\u003e\",\"legendgroup\":\"Long Distance\",\"marker\":{\"color\":\"#636efa\",\"pattern\":{\"shape\":\"\"}},\"name\":\"Long Distance\",\"offsetgroup\":\"Long Distance\",\"orientation\":\"v\",\"showlegend\":false,\"textposition\":\"auto\",\"x\":[\"0-3\",\"12-15\",\"15-18\",\"18-21\",\"21-24\",\"3-6\",\"6-9\",\"9-12\"],\"xaxis\":\"x3\",\"y\":[17312,15306,12157,15735,23279,9306,22723,17479],\"yaxis\":\"y3\",\"type\":\"bar\"},{\"alignmentgroup\":\"True\",\"hovertemplate\":\"Distance Category=Medium Distance\\u003cbr\\u003efare_segment=High Fare\\u003cbr\\u003eTime Interval (3-Hour Bins)=%{x}\\u003cbr\\u003eTrip Count=%{y}\\u003cextra\\u003e\\u003c\\u002fextra\\u003e\",\"legendgroup\":\"Medium Distance\",\"marker\":{\"color\":\"#EF553B\",\"pattern\":{\"shape\":\"\"}},\"name\":\"Medium Distance\",\"offsetgroup\":\"Medium Distance\",\"orientation\":\"v\",\"showlegend\":true,\"textposition\":\"auto\",\"x\":[\"0-3\",\"12-15\",\"15-18\",\"18-21\",\"21-24\",\"3-6\",\"6-9\",\"9-12\"],\"xaxis\":\"x\",\"y\":[45120,248724,334709,323384,158036,13526,129822,234659],\"yaxis\":\"y\",\"type\":\"bar\"},{\"alignmentgroup\":\"True\",\"hovertemplate\":\"Distance Category=Medium Distance\\u003cbr\\u003efare_segment=Low Fare\\u003cbr\\u003eTime Interval (3-Hour Bins)=%{x}\\u003cbr\\u003eTrip Count=%{y}\\u003cextra\\u003e\\u003c\\u002fextra\\u003e\",\"legendgroup\":\"Medium Distance\",\"marker\":{\"color\":\"#EF553B\",\"pattern\":{\"shape\":\"\"}},\"name\":\"Medium Distance\",\"offsetgroup\":\"Medium Distance\",\"orientation\":\"v\",\"showlegend\":false,\"textposition\":\"auto\",\"x\":[\"0-3\",\"12-15\",\"15-18\",\"18-21\",\"21-24\",\"3-6\",\"6-9\",\"9-12\"],\"xaxis\":\"x2\",\"y\":[17391,31736,22341,22145,27005,9982,42158,35326],\"yaxis\":\"y2\",\"type\":\"bar\"},{\"alignmentgroup\":\"True\",\"hovertemplate\":\"Distance Category=Medium Distance\\u003cbr\\u003efare_segment=Medium Fare\\u003cbr\\u003eTime Interval (3-Hour Bins)=%{x}\\u003cbr\\u003eTrip Count=%{y}\\u003cextra\\u003e\\u003c\\u002fextra\\u003e\",\"legendgroup\":\"Medium Distance\",\"marker\":{\"color\":\"#EF553B\",\"pattern\":{\"shape\":\"\"}},\"name\":\"Medium Distance\",\"offsetgroup\":\"Medium Distance\",\"orientation\":\"v\",\"showlegend\":false,\"textposition\":\"auto\",\"x\":[\"0-3\",\"12-15\",\"15-18\",\"18-21\",\"21-24\",\"3-6\",\"6-9\",\"9-12\"],\"xaxis\":\"x3\",\"y\":[175721,398729,400580,471470,422556,66679,291426,339882],\"yaxis\":\"y3\",\"type\":\"bar\"},{\"alignmentgroup\":\"True\",\"hovertemplate\":\"Distance Category=Short Distance\\u003cbr\\u003efare_segment=High Fare\\u003cbr\\u003eTime Interval (3-Hour Bins)=%{x}\\u003cbr\\u003eTrip Count=%{y}\\u003cextra\\u003e\\u003c\\u002fextra\\u003e\",\"legendgroup\":\"Short Distance\",\"marker\":{\"color\":\"#00cc96\",\"pattern\":{\"shape\":\"\"}},\"name\":\"Short Distance\",\"offsetgroup\":\"Short Distance\",\"orientation\":\"v\",\"showlegend\":true,\"textposition\":\"auto\",\"x\":[\"0-3\",\"12-15\",\"15-18\",\"18-21\",\"21-24\",\"3-6\",\"6-9\",\"9-12\"],\"xaxis\":\"x\",\"y\":[1798,35395,51997,37975,8550,1018,14290,46196],\"yaxis\":\"y\",\"type\":\"bar\"},{\"alignmentgroup\":\"True\",\"hovertemplate\":\"Distance Category=Short Distance\\u003cbr\\u003efare_segment=Low Fare\\u003cbr\\u003eTime Interval (3-Hour Bins)=%{x}\\u003cbr\\u003eTrip Count=%{y}\\u003cextra\\u003e\\u003c\\u002fextra\\u003e\",\"legendgroup\":\"Short Distance\",\"marker\":{\"color\":\"#00cc96\",\"pattern\":{\"shape\":\"\"}},\"name\":\"Short Distance\",\"offsetgroup\":\"Short Distance\",\"orientation\":\"v\",\"showlegend\":false,\"textposition\":\"auto\",\"x\":[\"0-3\",\"12-15\",\"15-18\",\"18-21\",\"21-24\",\"3-6\",\"6-9\",\"9-12\"],\"xaxis\":\"x2\",\"y\":[117195,335584,291368,311226,272975,51464,255294,294987],\"yaxis\":\"y2\",\"type\":\"bar\"},{\"alignmentgroup\":\"True\",\"hovertemplate\":\"Distance Category=Short Distance\\u003cbr\\u003efare_segment=Medium Fare\\u003cbr\\u003eTime Interval (3-Hour Bins)=%{x}\\u003cbr\\u003eTrip Count=%{y}\\u003cextra\\u003e\\u003c\\u002fextra\\u003e\",\"legendgroup\":\"Short Distance\",\"marker\":{\"color\":\"#00cc96\",\"pattern\":{\"shape\":\"\"}},\"name\":\"Short Distance\",\"offsetgroup\":\"Short Distance\",\"orientation\":\"v\",\"showlegend\":false,\"textposition\":\"auto\",\"x\":[\"0-3\",\"12-15\",\"15-18\",\"18-21\",\"21-24\",\"3-6\",\"6-9\",\"9-12\"],\"xaxis\":\"x3\",\"y\":[79706,376976,458838,454757,241201,28236,204181,323307],\"yaxis\":\"y3\",\"type\":\"bar\"},{\"alignmentgroup\":\"True\",\"hovertemplate\":\"Distance Category=Very Short Distance\\u003cbr\\u003efare_segment=High Fare\\u003cbr\\u003eTime Interval (3-Hour Bins)=%{x}\\u003cbr\\u003eTrip Count=%{y}\\u003cextra\\u003e\\u003c\\u002fextra\\u003e\",\"legendgroup\":\"Very Short Distance\",\"marker\":{\"color\":\"#ab63fa\",\"pattern\":{\"shape\":\"\"}},\"name\":\"Very Short Distance\",\"offsetgroup\":\"Very Short Distance\",\"orientation\":\"v\",\"showlegend\":true,\"textposition\":\"auto\",\"x\":[\"0-3\",\"12-15\",\"15-18\",\"18-21\",\"21-24\",\"3-6\",\"6-9\",\"9-12\"],\"xaxis\":\"x\",\"y\":[9708,27493,33855,22758,17870,7724,15561,21483],\"yaxis\":\"y\",\"type\":\"bar\"},{\"alignmentgroup\":\"True\",\"hovertemplate\":\"Distance Category=Very Short Distance\\u003cbr\\u003efare_segment=Low Fare\\u003cbr\\u003eTime Interval (3-Hour Bins)=%{x}\\u003cbr\\u003eTrip Count=%{y}\\u003cextra\\u003e\\u003c\\u002fextra\\u003e\",\"legendgroup\":\"Very Short Distance\",\"marker\":{\"color\":\"#ab63fa\",\"pattern\":{\"shape\":\"\"}},\"name\":\"Very Short Distance\",\"offsetgroup\":\"Very Short Distance\",\"orientation\":\"v\",\"showlegend\":false,\"textposition\":\"auto\",\"x\":[\"0-3\",\"12-15\",\"15-18\",\"18-21\",\"21-24\",\"3-6\",\"6-9\",\"9-12\"],\"xaxis\":\"x2\",\"y\":[162105,641966,596025,566650,359578,73441,383832,557767],\"yaxis\":\"y2\",\"type\":\"bar\"},{\"alignmentgroup\":\"True\",\"hovertemplate\":\"Distance Category=Very Short Distance\\u003cbr\\u003efare_segment=Medium Fare\\u003cbr\\u003eTime Interval (3-Hour Bins)=%{x}\\u003cbr\\u003eTrip Count=%{y}\\u003cextra\\u003e\\u003c\\u002fextra\\u003e\",\"legendgroup\":\"Very Short Distance\",\"marker\":{\"color\":\"#ab63fa\",\"pattern\":{\"shape\":\"\"}},\"name\":\"Very Short Distance\",\"offsetgroup\":\"Very Short Distance\",\"orientation\":\"v\",\"showlegend\":false,\"textposition\":\"auto\",\"x\":[\"0-3\",\"12-15\",\"15-18\",\"18-21\",\"21-24\",\"3-6\",\"6-9\",\"9-12\"],\"xaxis\":\"x3\",\"y\":[19012,104778,159922,146422,57596,6135,44398,97327],\"yaxis\":\"y3\",\"type\":\"bar\"}],                        {\"template\":{\"data\":{\"histogram2dcontour\":[{\"type\":\"histogram2dcontour\",\"colorbar\":{\"outlinewidth\":0,\"ticks\":\"\"},\"colorscale\":[[0.0,\"#0d0887\"],[0.1111111111111111,\"#46039f\"],[0.2222222222222222,\"#7201a8\"],[0.3333333333333333,\"#9c179e\"],[0.4444444444444444,\"#bd3786\"],[0.5555555555555556,\"#d8576b\"],[0.6666666666666666,\"#ed7953\"],[0.7777777777777778,\"#fb9f3a\"],[0.8888888888888888,\"#fdca26\"],[1.0,\"#f0f921\"]]}],\"choropleth\":[{\"type\":\"choropleth\",\"colorbar\":{\"outlinewidth\":0,\"ticks\":\"\"}}],\"histogram2d\":[{\"type\":\"histogram2d\",\"colorbar\":{\"outlinewidth\":0,\"ticks\":\"\"},\"colorscale\":[[0.0,\"#0d0887\"],[0.1111111111111111,\"#46039f\"],[0.2222222222222222,\"#7201a8\"],[0.3333333333333333,\"#9c179e\"],[0.4444444444444444,\"#bd3786\"],[0.5555555555555556,\"#d8576b\"],[0.6666666666666666,\"#ed7953\"],[0.7777777777777778,\"#fb9f3a\"],[0.8888888888888888,\"#fdca26\"],[1.0,\"#f0f921\"]]}],\"heatmap\":[{\"type\":\"heatmap\",\"colorbar\":{\"outlinewidth\":0,\"ticks\":\"\"},\"colorscale\":[[0.0,\"#0d0887\"],[0.1111111111111111,\"#46039f\"],[0.2222222222222222,\"#7201a8\"],[0.3333333333333333,\"#9c179e\"],[0.4444444444444444,\"#bd3786\"],[0.5555555555555556,\"#d8576b\"],[0.6666666666666666,\"#ed7953\"],[0.7777777777777778,\"#fb9f3a\"],[0.8888888888888888,\"#fdca26\"],[1.0,\"#f0f921\"]]}],\"heatmapgl\":[{\"type\":\"heatmapgl\",\"colorbar\":{\"outlinewidth\":0,\"ticks\":\"\"},\"colorscale\":[[0.0,\"#0d0887\"],[0.1111111111111111,\"#46039f\"],[0.2222222222222222,\"#7201a8\"],[0.3333333333333333,\"#9c179e\"],[0.4444444444444444,\"#bd3786\"],[0.5555555555555556,\"#d8576b\"],[0.6666666666666666,\"#ed7953\"],[0.7777777777777778,\"#fb9f3a\"],[0.8888888888888888,\"#fdca26\"],[1.0,\"#f0f921\"]]}],\"contourcarpet\":[{\"type\":\"contourcarpet\",\"colorbar\":{\"outlinewidth\":0,\"ticks\":\"\"}}],\"contour\":[{\"type\":\"contour\",\"colorbar\":{\"outlinewidth\":0,\"ticks\":\"\"},\"colorscale\":[[0.0,\"#0d0887\"],[0.1111111111111111,\"#46039f\"],[0.2222222222222222,\"#7201a8\"],[0.3333333333333333,\"#9c179e\"],[0.4444444444444444,\"#bd3786\"],[0.5555555555555556,\"#d8576b\"],[0.6666666666666666,\"#ed7953\"],[0.7777777777777778,\"#fb9f3a\"],[0.8888888888888888,\"#fdca26\"],[1.0,\"#f0f921\"]]}],\"surface\":[{\"type\":\"surface\",\"colorbar\":{\"outlinewidth\":0,\"ticks\":\"\"},\"colorscale\":[[0.0,\"#0d0887\"],[0.1111111111111111,\"#46039f\"],[0.2222222222222222,\"#7201a8\"],[0.3333333333333333,\"#9c179e\"],[0.4444444444444444,\"#bd3786\"],[0.5555555555555556,\"#d8576b\"],[0.6666666666666666,\"#ed7953\"],[0.7777777777777778,\"#fb9f3a\"],[0.8888888888888888,\"#fdca26\"],[1.0,\"#f0f921\"]]}],\"mesh3d\":[{\"type\":\"mesh3d\",\"colorbar\":{\"outlinewidth\":0,\"ticks\":\"\"}}],\"scatter\":[{\"fillpattern\":{\"fillmode\":\"overlay\",\"size\":10,\"solidity\":0.2},\"type\":\"scatter\"}],\"parcoords\":[{\"type\":\"parcoords\",\"line\":{\"colorbar\":{\"outlinewidth\":0,\"ticks\":\"\"}}}],\"scatterpolargl\":[{\"type\":\"scatterpolargl\",\"marker\":{\"colorbar\":{\"outlinewidth\":0,\"ticks\":\"\"}}}],\"bar\":[{\"error_x\":{\"color\":\"#2a3f5f\"},\"error_y\":{\"color\":\"#2a3f5f\"},\"marker\":{\"line\":{\"color\":\"#E5ECF6\",\"width\":0.5},\"pattern\":{\"fillmode\":\"overlay\",\"size\":10,\"solidity\":0.2}},\"type\":\"bar\"}],\"scattergeo\":[{\"type\":\"scattergeo\",\"marker\":{\"colorbar\":{\"outlinewidth\":0,\"ticks\":\"\"}}}],\"scatterpolar\":[{\"type\":\"scatterpolar\",\"marker\":{\"colorbar\":{\"outlinewidth\":0,\"ticks\":\"\"}}}],\"histogram\":[{\"marker\":{\"pattern\":{\"fillmode\":\"overlay\",\"size\":10,\"solidity\":0.2}},\"type\":\"histogram\"}],\"scattergl\":[{\"type\":\"scattergl\",\"marker\":{\"colorbar\":{\"outlinewidth\":0,\"ticks\":\"\"}}}],\"scatter3d\":[{\"type\":\"scatter3d\",\"line\":{\"colorbar\":{\"outlinewidth\":0,\"ticks\":\"\"}},\"marker\":{\"colorbar\":{\"outlinewidth\":0,\"ticks\":\"\"}}}],\"scattermapbox\":[{\"type\":\"scattermapbox\",\"marker\":{\"colorbar\":{\"outlinewidth\":0,\"ticks\":\"\"}}}],\"scatterternary\":[{\"type\":\"scatterternary\",\"marker\":{\"colorbar\":{\"outlinewidth\":0,\"ticks\":\"\"}}}],\"scattercarpet\":[{\"type\":\"scattercarpet\",\"marker\":{\"colorbar\":{\"outlinewidth\":0,\"ticks\":\"\"}}}],\"carpet\":[{\"aaxis\":{\"endlinecolor\":\"#2a3f5f\",\"gridcolor\":\"white\",\"linecolor\":\"white\",\"minorgridcolor\":\"white\",\"startlinecolor\":\"#2a3f5f\"},\"baxis\":{\"endlinecolor\":\"#2a3f5f\",\"gridcolor\":\"white\",\"linecolor\":\"white\",\"minorgridcolor\":\"white\",\"startlinecolor\":\"#2a3f5f\"},\"type\":\"carpet\"}],\"table\":[{\"cells\":{\"fill\":{\"color\":\"#EBF0F8\"},\"line\":{\"color\":\"white\"}},\"header\":{\"fill\":{\"color\":\"#C8D4E3\"},\"line\":{\"color\":\"white\"}},\"type\":\"table\"}],\"barpolar\":[{\"marker\":{\"line\":{\"color\":\"#E5ECF6\",\"width\":0.5},\"pattern\":{\"fillmode\":\"overlay\",\"size\":10,\"solidity\":0.2}},\"type\":\"barpolar\"}],\"pie\":[{\"automargin\":true,\"type\":\"pie\"}]},\"layout\":{\"autotypenumbers\":\"strict\",\"colorway\":[\"#636efa\",\"#EF553B\",\"#00cc96\",\"#ab63fa\",\"#FFA15A\",\"#19d3f3\",\"#FF6692\",\"#B6E880\",\"#FF97FF\",\"#FECB52\"],\"font\":{\"color\":\"#2a3f5f\"},\"hovermode\":\"closest\",\"hoverlabel\":{\"align\":\"left\"},\"paper_bgcolor\":\"white\",\"plot_bgcolor\":\"#E5ECF6\",\"polar\":{\"bgcolor\":\"#E5ECF6\",\"angularaxis\":{\"gridcolor\":\"white\",\"linecolor\":\"white\",\"ticks\":\"\"},\"radialaxis\":{\"gridcolor\":\"white\",\"linecolor\":\"white\",\"ticks\":\"\"}},\"ternary\":{\"bgcolor\":\"#E5ECF6\",\"aaxis\":{\"gridcolor\":\"white\",\"linecolor\":\"white\",\"ticks\":\"\"},\"baxis\":{\"gridcolor\":\"white\",\"linecolor\":\"white\",\"ticks\":\"\"},\"caxis\":{\"gridcolor\":\"white\",\"linecolor\":\"white\",\"ticks\":\"\"}},\"coloraxis\":{\"colorbar\":{\"outlinewidth\":0,\"ticks\":\"\"}},\"colorscale\":{\"sequential\":[[0.0,\"#0d0887\"],[0.1111111111111111,\"#46039f\"],[0.2222222222222222,\"#7201a8\"],[0.3333333333333333,\"#9c179e\"],[0.4444444444444444,\"#bd3786\"],[0.5555555555555556,\"#d8576b\"],[0.6666666666666666,\"#ed7953\"],[0.7777777777777778,\"#fb9f3a\"],[0.8888888888888888,\"#fdca26\"],[1.0,\"#f0f921\"]],\"sequentialminus\":[[0.0,\"#0d0887\"],[0.1111111111111111,\"#46039f\"],[0.2222222222222222,\"#7201a8\"],[0.3333333333333333,\"#9c179e\"],[0.4444444444444444,\"#bd3786\"],[0.5555555555555556,\"#d8576b\"],[0.6666666666666666,\"#ed7953\"],[0.7777777777777778,\"#fb9f3a\"],[0.8888888888888888,\"#fdca26\"],[1.0,\"#f0f921\"]],\"diverging\":[[0,\"#8e0152\"],[0.1,\"#c51b7d\"],[0.2,\"#de77ae\"],[0.3,\"#f1b6da\"],[0.4,\"#fde0ef\"],[0.5,\"#f7f7f7\"],[0.6,\"#e6f5d0\"],[0.7,\"#b8e186\"],[0.8,\"#7fbc41\"],[0.9,\"#4d9221\"],[1,\"#276419\"]]},\"xaxis\":{\"gridcolor\":\"white\",\"linecolor\":\"white\",\"ticks\":\"\",\"title\":{\"standoff\":15},\"zerolinecolor\":\"white\",\"automargin\":true,\"zerolinewidth\":2},\"yaxis\":{\"gridcolor\":\"white\",\"linecolor\":\"white\",\"ticks\":\"\",\"title\":{\"standoff\":15},\"zerolinecolor\":\"white\",\"automargin\":true,\"zerolinewidth\":2},\"scene\":{\"xaxis\":{\"backgroundcolor\":\"#E5ECF6\",\"gridcolor\":\"white\",\"linecolor\":\"white\",\"showbackground\":true,\"ticks\":\"\",\"zerolinecolor\":\"white\",\"gridwidth\":2},\"yaxis\":{\"backgroundcolor\":\"#E5ECF6\",\"gridcolor\":\"white\",\"linecolor\":\"white\",\"showbackground\":true,\"ticks\":\"\",\"zerolinecolor\":\"white\",\"gridwidth\":2},\"zaxis\":{\"backgroundcolor\":\"#E5ECF6\",\"gridcolor\":\"white\",\"linecolor\":\"white\",\"showbackground\":true,\"ticks\":\"\",\"zerolinecolor\":\"white\",\"gridwidth\":2}},\"shapedefaults\":{\"line\":{\"color\":\"#2a3f5f\"}},\"annotationdefaults\":{\"arrowcolor\":\"#2a3f5f\",\"arrowhead\":0,\"arrowwidth\":1},\"geo\":{\"bgcolor\":\"white\",\"landcolor\":\"#E5ECF6\",\"subunitcolor\":\"white\",\"showland\":true,\"showlakes\":true,\"lakecolor\":\"white\"},\"title\":{\"x\":0.05},\"mapbox\":{\"style\":\"light\"}}},\"xaxis\":{\"anchor\":\"y\",\"domain\":[0.0,0.31999999999999995],\"title\":{\"text\":\"Time Interval (3-Hour Bins)\"},\"categoryorder\":\"array\",\"categoryarray\":[\"0-3\",\"3-6\",\"6-9\",\"9-12\",\"12-15\",\"15-18\",\"18-21\",\"21-24\"]},\"yaxis\":{\"anchor\":\"x\",\"domain\":[0.0,1.0],\"title\":{\"text\":\"Trip Count\"}},\"xaxis2\":{\"anchor\":\"y2\",\"domain\":[0.33999999999999997,0.6599999999999999],\"matches\":\"x\",\"title\":{\"text\":\"Time Interval (3-Hour Bins)\"}},\"yaxis2\":{\"anchor\":\"x2\",\"domain\":[0.0,1.0],\"matches\":\"y\",\"showticklabels\":false},\"xaxis3\":{\"anchor\":\"y3\",\"domain\":[0.6799999999999999,0.9999999999999999],\"matches\":\"x\",\"title\":{\"text\":\"Time Interval (3-Hour Bins)\"}},\"yaxis3\":{\"anchor\":\"x3\",\"domain\":[0.0,1.0],\"matches\":\"y\",\"showticklabels\":false},\"annotations\":[{\"font\":{},\"showarrow\":false,\"text\":\"fare_segment=High Fare\",\"x\":0.15999999999999998,\"xanchor\":\"center\",\"xref\":\"paper\",\"y\":1.0,\"yanchor\":\"bottom\",\"yref\":\"paper\"},{\"font\":{},\"showarrow\":false,\"text\":\"fare_segment=Low Fare\",\"x\":0.49999999999999994,\"xanchor\":\"center\",\"xref\":\"paper\",\"y\":1.0,\"yanchor\":\"bottom\",\"yref\":\"paper\"},{\"font\":{},\"showarrow\":false,\"text\":\"fare_segment=Medium Fare\",\"x\":0.8399999999999999,\"xanchor\":\"center\",\"xref\":\"paper\",\"y\":1.0,\"yanchor\":\"bottom\",\"yref\":\"paper\"}],\"legend\":{\"title\":{\"text\":\"Distance Category\"},\"tracegroupgap\":0,\"orientation\":\"h\",\"y\":-0.2,\"x\":0.5,\"xanchor\":\"center\"},\"title\":{\"text\":\"Distance Category and Fare Segment Distribution Across Time Intervals\",\"font\":{\"size\":20},\"x\":0.5},\"barmode\":\"stack\",\"height\":700,\"width\":1200,\"margin\":{\"l\":50,\"r\":50,\"t\":100,\"b\":150}},                        {\"responsive\": true}                    ).then(function(){\n",
              "                            \n",
              "var gd = document.getElementById('2fb758c9-7890-4b43-a6b7-2850c7ee68a9');\n",
              "var x = new MutationObserver(function (mutations, observer) {{\n",
              "        var display = window.getComputedStyle(gd).display;\n",
              "        if (!display || display === 'none') {{\n",
              "            console.log([gd, 'removed!']);\n",
              "            Plotly.purge(gd);\n",
              "            observer.disconnect();\n",
              "        }}\n",
              "}});\n",
              "\n",
              "// Listen for the removal of the full notebook cells\n",
              "var notebookContainer = gd.closest('#notebook-container');\n",
              "if (notebookContainer) {{\n",
              "    x.observe(notebookContainer, {childList: true});\n",
              "}}\n",
              "\n",
              "// Listen for the clearing of the current output cell\n",
              "var outputEl = gd.closest('.output');\n",
              "if (outputEl) {{\n",
              "    x.observe(outputEl, {childList: true});\n",
              "}}\n",
              "\n",
              "                        })                };                            </script>        </div>\n",
              "</body>\n",
              "</html>"
            ]
          },
          "metadata": {}
        }
      ]
    },
    {
      "cell_type": "markdown",
      "source": [
        "## Interpretation\n",
        "\n",
        "### High Fare Segment\n",
        "Trips classified as Long Distance make up the majority of the high-fare segment, especially during the hours of 9 AM - 12 PM, 6 PM - 9 PM, and 9 PM - 12 AM.\n",
        "\n",
        "Medium and short-distance trips contribute less to the high-fare category and are most active between 12 PM - 9 PM.\n",
        "\n",
        "### Low Fare Segment\n",
        "This segment mainly consists of Very Short Distance or Short Distance trips. Demand rises during the daytime, with peak activity between 9 AM - 9 PM. There is less demand after 9 PM, indicating fewer short trips during nighttime hours.\n",
        "\n",
        "### Medium Fare Segment\n",
        "The medium-fare category is largely made up of a combination of Medium and Short Distance trips, especially during 12 PM - 9 PM. Long Distance trips show notable growth in this segment during the evening hours of 6 PM - 12 AM.\n",
        "\n",
        "### Time-of-Day Trends\n",
        "The morning peak (6 AM - 9 AM) has lower activity across all fare levels. The daytime (9 AM - 6 PM) and evening (6 PM - 12 AM) periods see the highest trip volumes across fare levels and trip distances.\n",
        "\n",
        "### Distance-Based Segmentation\n",
        "Very Short Distance and Short Distance trips are prevalent in the low-fare segment, while Long Distance trips dominate high fares, particularly during evening hours.\n"
      ],
      "metadata": {
        "id": "AdjbAfp-h4ih"
      }
    },
    {
      "cell_type": "code",
      "source": [
        "import plotly.express as px\n",
        "import pandas as pd\n",
        "\n",
        "# Step 1: Filter the data for \"Credit Card\" and \"Cash\"\n",
        "filtered_pd = aggregated_pd[aggregated_pd[\"payment_type\"].isin([\"Credit Card\", \"Cash\"])]\n",
        "\n",
        "# Step 2: Ensure `time_interval` is categorized for proper ordering\n",
        "filtered_pd[\"time_interval\"] = pd.Categorical(\n",
        "    filtered_pd[\"time_interval\"],\n",
        "    categories=[\"0-3\", \"3-6\", \"6-9\", \"9-12\", \"12-15\", \"15-18\", \"18-21\", \"21-24\"],\n",
        "    ordered=True\n",
        ")\n",
        "\n",
        "# Step 3: Create the Plotly bar chart with patterns and colors\n",
        "fig = px.bar(\n",
        "    filtered_pd,\n",
        "    x=\"time_interval\",\n",
        "    y=\"count\",\n",
        "    color=\"fare_segment\",  # Use colors for fare segments\n",
        "    pattern_shape=\"payment_type\",  # Use patterns for payment types (Credit Card, Cash)\n",
        "    barmode=\"group\",               # Side-by-side bars for payment types\n",
        "    title=\"Cash and Credit Card Trip Count by Time Interval (With Patterns and Colors)\",\n",
        "    labels={\n",
        "        \"time_interval\": \"Time Interval (3-Hour Bins)\",\n",
        "        \"count\": \"Trip Count\",\n",
        "        \"payment_type\": \"Payment Type\",\n",
        "        \"fare_segment\": \"Fare Segment\"\n",
        "    },\n",
        "    height=700,\n",
        "    width=1200\n",
        ")\n",
        "\n",
        "# Step 4: Customize the legend to show patterns and colors\n",
        "fig.update_traces(marker=dict(line=dict(width=0.5)),  # Optional: Add thin borders around bars\n",
        "                  selector=dict(type='bar'))\n",
        "\n",
        "fig.update_layout(\n",
        "    legend=dict(\n",
        "        title=\"Payment Type & Fare Segment\",\n",
        "        orientation=\"h\",\n",
        "        y=-0.2,\n",
        "        x=0.5,\n",
        "        xanchor=\"center\"\n",
        "    ),\n",
        "    xaxis=dict(categoryorder=\"array\", categoryarray=[\n",
        "        \"0-3\", \"3-6\", \"6-9\", \"9-12\", \"12-15\", \"15-18\", \"18-21\", \"21-24\"\n",
        "    ])\n",
        ")\n",
        "\n",
        "# Step 5: Customize legend to show both patterns and colors\n",
        "fig.for_each_trace(lambda t: t.update(name=f\"{t.name}, {t.legendgroup}\", legendgroup=t.legendgroup, showlegend=True))\n",
        "\n",
        "# Step 6: Display the chart\n",
        "fig.show()\n"
      ],
      "metadata": {
        "colab": {
          "base_uri": "https://localhost:8080/",
          "height": 860
        },
        "id": "3yqxVejS93dz",
        "outputId": "19188a64-c825-43c0-f42c-8c970bc8fcf4"
      },
      "execution_count": null,
      "outputs": [
        {
          "output_type": "stream",
          "name": "stderr",
          "text": [
            "<ipython-input-60-c12fd9f1314a>:8: SettingWithCopyWarning:\n",
            "\n",
            "\n",
            "A value is trying to be set on a copy of a slice from a DataFrame.\n",
            "Try using .loc[row_indexer,col_indexer] = value instead\n",
            "\n",
            "See the caveats in the documentation: https://pandas.pydata.org/pandas-docs/stable/user_guide/indexing.html#returning-a-view-versus-a-copy\n",
            "\n"
          ]
        },
        {
          "output_type": "display_data",
          "data": {
            "text/html": [
              "<html>\n",
              "<head><meta charset=\"utf-8\" /></head>\n",
              "<body>\n",
              "    <div>            <script src=\"https://cdnjs.cloudflare.com/ajax/libs/mathjax/2.7.5/MathJax.js?config=TeX-AMS-MML_SVG\"></script><script type=\"text/javascript\">if (window.MathJax && window.MathJax.Hub && window.MathJax.Hub.Config) {window.MathJax.Hub.Config({SVG: {font: \"STIX-Web\"}});}</script>                <script type=\"text/javascript\">window.PlotlyConfig = {MathJaxConfig: 'local'};</script>\n",
              "        <script charset=\"utf-8\" src=\"https://cdn.plot.ly/plotly-2.35.2.min.js\"></script>                <div id=\"485afc2b-029d-437f-a80c-bd9dc0a3ec70\" class=\"plotly-graph-div\" style=\"height:700px; width:1200px;\"></div>            <script type=\"text/javascript\">                                    window.PLOTLYENV=window.PLOTLYENV || {};                                    if (document.getElementById(\"485afc2b-029d-437f-a80c-bd9dc0a3ec70\")) {                    Plotly.newPlot(                        \"485afc2b-029d-437f-a80c-bd9dc0a3ec70\",                        [{\"alignmentgroup\":\"True\",\"hovertemplate\":\"Fare Segment=High Fare\\u003cbr\\u003ePayment Type=Credit Card\\u003cbr\\u003eTime Interval (3-Hour Bins)=%{x}\\u003cbr\\u003eTrip Count=%{y}\\u003cextra\\u003e\\u003c\\u002fextra\\u003e\",\"legendgroup\":\"High Fare, Credit Card\",\"marker\":{\"color\":\"#636efa\",\"pattern\":{\"shape\":\"\"},\"line\":{\"width\":0.5}},\"name\":\"High Fare, Credit Card, High Fare, Credit Card\",\"offsetgroup\":\"High Fare, Credit Card\",\"orientation\":\"v\",\"showlegend\":true,\"textposition\":\"auto\",\"x\":[\"15-18\",\"21-24\",\"0-3\",\"15-18\",\"3-6\",\"15-18\",\"3-6\",\"12-15\",\"6-9\",\"18-21\",\"6-9\",\"12-15\",\"21-24\",\"12-15\",\"18-21\",\"18-21\",\"21-24\",\"3-6\",\"9-12\",\"15-18\",\"9-12\",\"12-15\",\"6-9\",\"21-24\",\"6-9\",\"18-21\",\"0-3\",\"9-12\",\"0-3\",\"0-3\",\"9-12\",\"3-6\"],\"xaxis\":\"x\",\"y\":[252698,523914,1257,460307,8713,26182,97458,179464,276589,534359,10801,396401,6087,24058,261439,28703,126505,5485,177099,37844,331499,20260,104959,13741,11818,17008,35739,33793,217197,7471,15727,257],\"yaxis\":\"y\",\"type\":\"bar\"},{\"alignmentgroup\":\"True\",\"hovertemplate\":\"Fare Segment=High Fare\\u003cbr\\u003ePayment Type=Cash\\u003cbr\\u003eTime Interval (3-Hour Bins)=%{x}\\u003cbr\\u003eTrip Count=%{y}\\u003cextra\\u003e\\u003c\\u002fextra\\u003e\",\"legendgroup\":\"High Fare, Cash\",\"marker\":{\"color\":\"#636efa\",\"pattern\":{\"shape\":\"\\u002f\"},\"line\":{\"width\":0.5}},\"name\":\"High Fare, Cash, High Fare, Cash\",\"offsetgroup\":\"High Fare, Cash\",\"orientation\":\"v\",\"showlegend\":true,\"textposition\":\"auto\",\"x\":[\"15-18\",\"21-24\",\"0-3\",\"15-18\",\"3-6\",\"15-18\",\"3-6\",\"12-15\",\"6-9\",\"18-21\",\"6-9\",\"12-15\",\"21-24\",\"12-15\",\"18-21\",\"18-21\",\"21-24\",\"3-6\",\"9-12\",\"15-18\",\"9-12\",\"12-15\",\"6-9\",\"21-24\",\"6-9\",\"18-21\",\"0-3\",\"9-12\",\"0-3\",\"0-3\",\"9-12\",\"3-6\"],\"xaxis\":\"x\",\"y\":[77226,135095,408,163148,3303,5029,50644,63941,86992,149500,2397,156448,2058,9215,58842,8461,29591,1146,52552,12593,122330,4453,21528,3006,2069,4203,8693,10222,78225,1600,3490,122],\"yaxis\":\"y\",\"type\":\"bar\"},{\"alignmentgroup\":\"True\",\"hovertemplate\":\"Fare Segment=Low Fare\\u003cbr\\u003ePayment Type=Credit Card\\u003cbr\\u003eTime Interval (3-Hour Bins)=%{x}\\u003cbr\\u003eTrip Count=%{y}\\u003cextra\\u003e\\u003c\\u002fextra\\u003e\",\"legendgroup\":\"Low Fare, Credit Card\",\"marker\":{\"color\":\"#EF553B\",\"pattern\":{\"shape\":\"\"},\"line\":{\"width\":0.5}},\"name\":\"Low Fare, Credit Card, Low Fare, Credit Card\",\"offsetgroup\":\"Low Fare, Credit Card\",\"orientation\":\"v\",\"showlegend\":true,\"textposition\":\"auto\",\"x\":[\"3-6\",\"15-18\",\"6-9\",\"6-9\",\"21-24\",\"6-9\",\"9-12\",\"6-9\",\"0-3\",\"12-15\",\"15-18\",\"0-3\",\"21-24\",\"18-21\",\"15-18\",\"9-12\",\"21-24\",\"12-15\",\"18-21\",\"12-15\",\"9-12\",\"9-12\",\"12-15\",\"0-3\",\"3-6\",\"18-21\",\"3-6\",\"21-24\",\"3-6\",\"18-21\",\"15-18\",\"0-3\"],\"xaxis\":\"x\",\"y\":[41872,211080,31176,28,19646,192010,213138,268709,65,415269,14632,12377,246011,84,79,376303,94,58,237805,237308,24398,40,21166,106412,6519,397701,27,206856,33190,15523,397216,85849],\"yaxis\":\"y\",\"type\":\"bar\"},{\"alignmentgroup\":\"True\",\"hovertemplate\":\"Fare Segment=Low Fare\\u003cbr\\u003ePayment Type=Cash\\u003cbr\\u003eTime Interval (3-Hour Bins)=%{x}\\u003cbr\\u003eTrip Count=%{y}\\u003cextra\\u003e\\u003c\\u002fextra\\u003e\",\"legendgroup\":\"Low Fare, Cash\",\"marker\":{\"color\":\"#EF553B\",\"pattern\":{\"shape\":\"\\u002f\"},\"line\":{\"width\":0.5}},\"name\":\"Low Fare, Cash, Low Fare, Cash\",\"offsetgroup\":\"Low Fare, Cash\",\"orientation\":\"v\",\"showlegend\":true,\"textposition\":\"auto\",\"x\":[\"3-6\",\"15-18\",\"6-9\",\"6-9\",\"21-24\",\"6-9\",\"9-12\",\"6-9\",\"0-3\",\"12-15\",\"15-18\",\"0-3\",\"21-24\",\"18-21\",\"15-18\",\"9-12\",\"21-24\",\"12-15\",\"18-21\",\"12-15\",\"9-12\",\"9-12\",\"12-15\",\"0-3\",\"3-6\",\"18-21\",\"3-6\",\"21-24\",\"3-6\",\"18-21\",\"15-18\",\"0-3\"],\"xaxis\":\"x\",\"y\":[28077,77842,9725,323,5972,61337,79542,108573,446,214893,5868,4259,105711,655,664,172193,592,620,71281,95821,9229,444,8683,50301,2926,158510,292,64622,17635,5087,186654,30449],\"yaxis\":\"y\",\"type\":\"bar\"},{\"alignmentgroup\":\"True\",\"hovertemplate\":\"Fare Segment=Medium Fare\\u003cbr\\u003ePayment Type=Credit Card\\u003cbr\\u003eTime Interval (3-Hour Bins)=%{x}\\u003cbr\\u003eTrip Count=%{y}\\u003cextra\\u003e\\u003c\\u002fextra\\u003e\",\"legendgroup\":\"Medium Fare, Credit Card\",\"marker\":{\"color\":\"#00cc96\",\"pattern\":{\"shape\":\"\"},\"line\":{\"width\":0.5}},\"name\":\"Medium Fare, Credit Card, Medium Fare, Credit Card\",\"offsetgroup\":\"Medium Fare, Credit Card\",\"orientation\":\"v\",\"showlegend\":true,\"textposition\":\"auto\",\"x\":[\"3-6\",\"21-24\",\"9-12\",\"15-18\",\"15-18\",\"9-12\",\"12-15\",\"12-15\",\"6-9\",\"18-21\",\"3-6\",\"18-21\",\"15-18\",\"6-9\",\"15-18\",\"18-21\",\"0-3\",\"0-3\",\"12-15\",\"12-15\",\"0-3\",\"21-24\",\"0-3\",\"6-9\",\"3-6\",\"18-21\",\"9-12\",\"21-24\",\"3-6\",\"6-9\",\"9-12\",\"21-24\"],\"xaxis\":\"x\",\"y\":[46480,186979,72396,7072,299350,253364,74349,275700,231194,358610,4061,110526,344982,162825,116300,10284,137275,14286,289700,8845,12414,336953,62363,34628,5883,376074,244678,16699,19605,15691,10752,42047],\"yaxis\":\"y\",\"type\":\"bar\"},{\"alignmentgroup\":\"True\",\"hovertemplate\":\"Fare Segment=Medium Fare\\u003cbr\\u003ePayment Type=Cash\\u003cbr\\u003eTime Interval (3-Hour Bins)=%{x}\\u003cbr\\u003eTrip Count=%{y}\\u003cextra\\u003e\\u003c\\u002fextra\\u003e\",\"legendgroup\":\"Medium Fare, Cash\",\"marker\":{\"color\":\"#00cc96\",\"pattern\":{\"shape\":\"\\u002f\"},\"line\":{\"width\":0.5}},\"name\":\"Medium Fare, Cash, Medium Fare, Cash\",\"offsetgroup\":\"Medium Fare, Cash\",\"orientation\":\"v\",\"showlegend\":true,\"textposition\":\"auto\",\"x\":[\"3-6\",\"21-24\",\"9-12\",\"15-18\",\"15-18\",\"9-12\",\"12-15\",\"12-15\",\"6-9\",\"18-21\",\"3-6\",\"18-21\",\"15-18\",\"6-9\",\"15-18\",\"18-21\",\"0-3\",\"0-3\",\"12-15\",\"12-15\",\"0-3\",\"21-24\",\"0-3\",\"6-9\",\"3-6\",\"18-21\",\"9-12\",\"21-24\",\"3-6\",\"6-9\",\"9-12\",\"21-24\"],\"xaxis\":\"x\",\"y\":[19392,52658,23848,3881,98410,84316,29146,98845,57252,93770,1743,34261,111130,40004,41641,4509,37424,4314,106548,4903,4471,83639,16571,9176,3017,93078,76647,5622,8096,5844,5325,14604],\"yaxis\":\"y\",\"type\":\"bar\"}],                        {\"template\":{\"data\":{\"histogram2dcontour\":[{\"type\":\"histogram2dcontour\",\"colorbar\":{\"outlinewidth\":0,\"ticks\":\"\"},\"colorscale\":[[0.0,\"#0d0887\"],[0.1111111111111111,\"#46039f\"],[0.2222222222222222,\"#7201a8\"],[0.3333333333333333,\"#9c179e\"],[0.4444444444444444,\"#bd3786\"],[0.5555555555555556,\"#d8576b\"],[0.6666666666666666,\"#ed7953\"],[0.7777777777777778,\"#fb9f3a\"],[0.8888888888888888,\"#fdca26\"],[1.0,\"#f0f921\"]]}],\"choropleth\":[{\"type\":\"choropleth\",\"colorbar\":{\"outlinewidth\":0,\"ticks\":\"\"}}],\"histogram2d\":[{\"type\":\"histogram2d\",\"colorbar\":{\"outlinewidth\":0,\"ticks\":\"\"},\"colorscale\":[[0.0,\"#0d0887\"],[0.1111111111111111,\"#46039f\"],[0.2222222222222222,\"#7201a8\"],[0.3333333333333333,\"#9c179e\"],[0.4444444444444444,\"#bd3786\"],[0.5555555555555556,\"#d8576b\"],[0.6666666666666666,\"#ed7953\"],[0.7777777777777778,\"#fb9f3a\"],[0.8888888888888888,\"#fdca26\"],[1.0,\"#f0f921\"]]}],\"heatmap\":[{\"type\":\"heatmap\",\"colorbar\":{\"outlinewidth\":0,\"ticks\":\"\"},\"colorscale\":[[0.0,\"#0d0887\"],[0.1111111111111111,\"#46039f\"],[0.2222222222222222,\"#7201a8\"],[0.3333333333333333,\"#9c179e\"],[0.4444444444444444,\"#bd3786\"],[0.5555555555555556,\"#d8576b\"],[0.6666666666666666,\"#ed7953\"],[0.7777777777777778,\"#fb9f3a\"],[0.8888888888888888,\"#fdca26\"],[1.0,\"#f0f921\"]]}],\"heatmapgl\":[{\"type\":\"heatmapgl\",\"colorbar\":{\"outlinewidth\":0,\"ticks\":\"\"},\"colorscale\":[[0.0,\"#0d0887\"],[0.1111111111111111,\"#46039f\"],[0.2222222222222222,\"#7201a8\"],[0.3333333333333333,\"#9c179e\"],[0.4444444444444444,\"#bd3786\"],[0.5555555555555556,\"#d8576b\"],[0.6666666666666666,\"#ed7953\"],[0.7777777777777778,\"#fb9f3a\"],[0.8888888888888888,\"#fdca26\"],[1.0,\"#f0f921\"]]}],\"contourcarpet\":[{\"type\":\"contourcarpet\",\"colorbar\":{\"outlinewidth\":0,\"ticks\":\"\"}}],\"contour\":[{\"type\":\"contour\",\"colorbar\":{\"outlinewidth\":0,\"ticks\":\"\"},\"colorscale\":[[0.0,\"#0d0887\"],[0.1111111111111111,\"#46039f\"],[0.2222222222222222,\"#7201a8\"],[0.3333333333333333,\"#9c179e\"],[0.4444444444444444,\"#bd3786\"],[0.5555555555555556,\"#d8576b\"],[0.6666666666666666,\"#ed7953\"],[0.7777777777777778,\"#fb9f3a\"],[0.8888888888888888,\"#fdca26\"],[1.0,\"#f0f921\"]]}],\"surface\":[{\"type\":\"surface\",\"colorbar\":{\"outlinewidth\":0,\"ticks\":\"\"},\"colorscale\":[[0.0,\"#0d0887\"],[0.1111111111111111,\"#46039f\"],[0.2222222222222222,\"#7201a8\"],[0.3333333333333333,\"#9c179e\"],[0.4444444444444444,\"#bd3786\"],[0.5555555555555556,\"#d8576b\"],[0.6666666666666666,\"#ed7953\"],[0.7777777777777778,\"#fb9f3a\"],[0.8888888888888888,\"#fdca26\"],[1.0,\"#f0f921\"]]}],\"mesh3d\":[{\"type\":\"mesh3d\",\"colorbar\":{\"outlinewidth\":0,\"ticks\":\"\"}}],\"scatter\":[{\"fillpattern\":{\"fillmode\":\"overlay\",\"size\":10,\"solidity\":0.2},\"type\":\"scatter\"}],\"parcoords\":[{\"type\":\"parcoords\",\"line\":{\"colorbar\":{\"outlinewidth\":0,\"ticks\":\"\"}}}],\"scatterpolargl\":[{\"type\":\"scatterpolargl\",\"marker\":{\"colorbar\":{\"outlinewidth\":0,\"ticks\":\"\"}}}],\"bar\":[{\"error_x\":{\"color\":\"#2a3f5f\"},\"error_y\":{\"color\":\"#2a3f5f\"},\"marker\":{\"line\":{\"color\":\"#E5ECF6\",\"width\":0.5},\"pattern\":{\"fillmode\":\"overlay\",\"size\":10,\"solidity\":0.2}},\"type\":\"bar\"}],\"scattergeo\":[{\"type\":\"scattergeo\",\"marker\":{\"colorbar\":{\"outlinewidth\":0,\"ticks\":\"\"}}}],\"scatterpolar\":[{\"type\":\"scatterpolar\",\"marker\":{\"colorbar\":{\"outlinewidth\":0,\"ticks\":\"\"}}}],\"histogram\":[{\"marker\":{\"pattern\":{\"fillmode\":\"overlay\",\"size\":10,\"solidity\":0.2}},\"type\":\"histogram\"}],\"scattergl\":[{\"type\":\"scattergl\",\"marker\":{\"colorbar\":{\"outlinewidth\":0,\"ticks\":\"\"}}}],\"scatter3d\":[{\"type\":\"scatter3d\",\"line\":{\"colorbar\":{\"outlinewidth\":0,\"ticks\":\"\"}},\"marker\":{\"colorbar\":{\"outlinewidth\":0,\"ticks\":\"\"}}}],\"scattermapbox\":[{\"type\":\"scattermapbox\",\"marker\":{\"colorbar\":{\"outlinewidth\":0,\"ticks\":\"\"}}}],\"scatterternary\":[{\"type\":\"scatterternary\",\"marker\":{\"colorbar\":{\"outlinewidth\":0,\"ticks\":\"\"}}}],\"scattercarpet\":[{\"type\":\"scattercarpet\",\"marker\":{\"colorbar\":{\"outlinewidth\":0,\"ticks\":\"\"}}}],\"carpet\":[{\"aaxis\":{\"endlinecolor\":\"#2a3f5f\",\"gridcolor\":\"white\",\"linecolor\":\"white\",\"minorgridcolor\":\"white\",\"startlinecolor\":\"#2a3f5f\"},\"baxis\":{\"endlinecolor\":\"#2a3f5f\",\"gridcolor\":\"white\",\"linecolor\":\"white\",\"minorgridcolor\":\"white\",\"startlinecolor\":\"#2a3f5f\"},\"type\":\"carpet\"}],\"table\":[{\"cells\":{\"fill\":{\"color\":\"#EBF0F8\"},\"line\":{\"color\":\"white\"}},\"header\":{\"fill\":{\"color\":\"#C8D4E3\"},\"line\":{\"color\":\"white\"}},\"type\":\"table\"}],\"barpolar\":[{\"marker\":{\"line\":{\"color\":\"#E5ECF6\",\"width\":0.5},\"pattern\":{\"fillmode\":\"overlay\",\"size\":10,\"solidity\":0.2}},\"type\":\"barpolar\"}],\"pie\":[{\"automargin\":true,\"type\":\"pie\"}]},\"layout\":{\"autotypenumbers\":\"strict\",\"colorway\":[\"#636efa\",\"#EF553B\",\"#00cc96\",\"#ab63fa\",\"#FFA15A\",\"#19d3f3\",\"#FF6692\",\"#B6E880\",\"#FF97FF\",\"#FECB52\"],\"font\":{\"color\":\"#2a3f5f\"},\"hovermode\":\"closest\",\"hoverlabel\":{\"align\":\"left\"},\"paper_bgcolor\":\"white\",\"plot_bgcolor\":\"#E5ECF6\",\"polar\":{\"bgcolor\":\"#E5ECF6\",\"angularaxis\":{\"gridcolor\":\"white\",\"linecolor\":\"white\",\"ticks\":\"\"},\"radialaxis\":{\"gridcolor\":\"white\",\"linecolor\":\"white\",\"ticks\":\"\"}},\"ternary\":{\"bgcolor\":\"#E5ECF6\",\"aaxis\":{\"gridcolor\":\"white\",\"linecolor\":\"white\",\"ticks\":\"\"},\"baxis\":{\"gridcolor\":\"white\",\"linecolor\":\"white\",\"ticks\":\"\"},\"caxis\":{\"gridcolor\":\"white\",\"linecolor\":\"white\",\"ticks\":\"\"}},\"coloraxis\":{\"colorbar\":{\"outlinewidth\":0,\"ticks\":\"\"}},\"colorscale\":{\"sequential\":[[0.0,\"#0d0887\"],[0.1111111111111111,\"#46039f\"],[0.2222222222222222,\"#7201a8\"],[0.3333333333333333,\"#9c179e\"],[0.4444444444444444,\"#bd3786\"],[0.5555555555555556,\"#d8576b\"],[0.6666666666666666,\"#ed7953\"],[0.7777777777777778,\"#fb9f3a\"],[0.8888888888888888,\"#fdca26\"],[1.0,\"#f0f921\"]],\"sequentialminus\":[[0.0,\"#0d0887\"],[0.1111111111111111,\"#46039f\"],[0.2222222222222222,\"#7201a8\"],[0.3333333333333333,\"#9c179e\"],[0.4444444444444444,\"#bd3786\"],[0.5555555555555556,\"#d8576b\"],[0.6666666666666666,\"#ed7953\"],[0.7777777777777778,\"#fb9f3a\"],[0.8888888888888888,\"#fdca26\"],[1.0,\"#f0f921\"]],\"diverging\":[[0,\"#8e0152\"],[0.1,\"#c51b7d\"],[0.2,\"#de77ae\"],[0.3,\"#f1b6da\"],[0.4,\"#fde0ef\"],[0.5,\"#f7f7f7\"],[0.6,\"#e6f5d0\"],[0.7,\"#b8e186\"],[0.8,\"#7fbc41\"],[0.9,\"#4d9221\"],[1,\"#276419\"]]},\"xaxis\":{\"gridcolor\":\"white\",\"linecolor\":\"white\",\"ticks\":\"\",\"title\":{\"standoff\":15},\"zerolinecolor\":\"white\",\"automargin\":true,\"zerolinewidth\":2},\"yaxis\":{\"gridcolor\":\"white\",\"linecolor\":\"white\",\"ticks\":\"\",\"title\":{\"standoff\":15},\"zerolinecolor\":\"white\",\"automargin\":true,\"zerolinewidth\":2},\"scene\":{\"xaxis\":{\"backgroundcolor\":\"#E5ECF6\",\"gridcolor\":\"white\",\"linecolor\":\"white\",\"showbackground\":true,\"ticks\":\"\",\"zerolinecolor\":\"white\",\"gridwidth\":2},\"yaxis\":{\"backgroundcolor\":\"#E5ECF6\",\"gridcolor\":\"white\",\"linecolor\":\"white\",\"showbackground\":true,\"ticks\":\"\",\"zerolinecolor\":\"white\",\"gridwidth\":2},\"zaxis\":{\"backgroundcolor\":\"#E5ECF6\",\"gridcolor\":\"white\",\"linecolor\":\"white\",\"showbackground\":true,\"ticks\":\"\",\"zerolinecolor\":\"white\",\"gridwidth\":2}},\"shapedefaults\":{\"line\":{\"color\":\"#2a3f5f\"}},\"annotationdefaults\":{\"arrowcolor\":\"#2a3f5f\",\"arrowhead\":0,\"arrowwidth\":1},\"geo\":{\"bgcolor\":\"white\",\"landcolor\":\"#E5ECF6\",\"subunitcolor\":\"white\",\"showland\":true,\"showlakes\":true,\"lakecolor\":\"white\"},\"title\":{\"x\":0.05},\"mapbox\":{\"style\":\"light\"}}},\"xaxis\":{\"anchor\":\"y\",\"domain\":[0.0,1.0],\"title\":{\"text\":\"Time Interval (3-Hour Bins)\"},\"categoryorder\":\"array\",\"categoryarray\":[\"0-3\",\"3-6\",\"6-9\",\"9-12\",\"12-15\",\"15-18\",\"18-21\",\"21-24\"]},\"yaxis\":{\"anchor\":\"x\",\"domain\":[0.0,1.0],\"title\":{\"text\":\"Trip Count\"}},\"legend\":{\"title\":{\"text\":\"Payment Type & Fare Segment\"},\"tracegroupgap\":0,\"orientation\":\"h\",\"y\":-0.2,\"x\":0.5,\"xanchor\":\"center\"},\"title\":{\"text\":\"Cash and Credit Card Trip Count by Time Interval (With Patterns and Colors)\"},\"barmode\":\"group\",\"height\":700,\"width\":1200},                        {\"responsive\": true}                    ).then(function(){\n",
              "                            \n",
              "var gd = document.getElementById('485afc2b-029d-437f-a80c-bd9dc0a3ec70');\n",
              "var x = new MutationObserver(function (mutations, observer) {{\n",
              "        var display = window.getComputedStyle(gd).display;\n",
              "        if (!display || display === 'none') {{\n",
              "            console.log([gd, 'removed!']);\n",
              "            Plotly.purge(gd);\n",
              "            observer.disconnect();\n",
              "        }}\n",
              "}});\n",
              "\n",
              "// Listen for the removal of the full notebook cells\n",
              "var notebookContainer = gd.closest('#notebook-container');\n",
              "if (notebookContainer) {{\n",
              "    x.observe(notebookContainer, {childList: true});\n",
              "}}\n",
              "\n",
              "// Listen for the clearing of the current output cell\n",
              "var outputEl = gd.closest('.output');\n",
              "if (outputEl) {{\n",
              "    x.observe(outputEl, {childList: true});\n",
              "}}\n",
              "\n",
              "                        })                };                            </script>        </div>\n",
              "</body>\n",
              "</html>"
            ]
          },
          "metadata": {}
        }
      ]
    },
    {
      "cell_type": "markdown",
      "source": [
        "### Analysis of Payment Type & Fare Segment Distribution Across Time Intervals\n",
        "\n",
        "The bar chart illustrates the distribution of taxi trips segmented by *fare category* (Low, Medium, High Fare) and *payment method* (Credit Card, Cash) across various *3-hour time intervals*.\n",
        "\n",
        "#### Key Insights:\n",
        "1. *Payment Preferences*:\n",
        "   - *Credit Card* payments are the predominant method across all fare categories, especially during peak hours between 12 PM and 9 PM.\n",
        "   - *Cash* payments are less common overall but show greater frequency for high-fare trips, particularly in the early morning hours (0-6 AM).\n",
        "\n",
        "2. *Fare Categories*:\n",
        "   - *Low Fare* trips are the most frequent across all time intervals, with credit cards being the preferred payment method.\n",
        "   - *Medium Fare* and *High Fare* trips maintain consistent demand, with a significant increase observed in the evening (6 PM - 12 AM).\n",
        "\n",
        "3. *Time-of-Day Patterns*:\n",
        "   - *0-3 AM*: High-fare trips paid in cash are more frequent, potentially indicating longer or late-night travel.\n",
        "   - *12 PM - 9 PM*: This period shows peak activity across all fare categories, with credit card payments leading in all segments.\n",
        "   - *9 PM - 12 AM*: Demand remains strong, particularly for Medium Fare trips.\n",
        "\n",
        "4. *Cash vs. Credit Card Usage*:\n",
        "   - *Cash payments* are notably higher for high fares during late-night and early morning hours (0-6 AM), possibly reflecting passenger payment preferences or limited availability of card options at these times.\n"
      ],
      "metadata": {
        "id": "v7pPC3rYioJt"
      }
    },
    {
      "cell_type": "code",
      "source": [
        "# Count values where trip_duration is less than 3\n",
        "count_less_than_0 = df.filter(col(\"trip_duration\") < 3).count()\n",
        "\n",
        "# Count values where trip_duration is greater than 60\n",
        "count_greater_than_60 = df.filter(col(\"trip_duration\") > 60).count()\n",
        "\n",
        "# Display the results\n",
        "print(f\"Count of trip_duration less than 0: {count_less_than_0}\")\n",
        "print(f\"Count of trip_duration greater than 60: {count_greater_than_60}\")\n"
      ],
      "metadata": {
        "colab": {
          "base_uri": "https://localhost:8080/"
        },
        "id": "wClmk3gD9JO_",
        "outputId": "3655be46-75c1-47f6-c054-1d7460741dd8"
      },
      "execution_count": null,
      "outputs": [
        {
          "output_type": "stream",
          "name": "stdout",
          "text": [
            "Count of trip_duration less than 0: 3913456\n",
            "Count of trip_duration greater than 60: 556587\n"
          ]
        }
      ]
    },
    {
      "cell_type": "code",
      "source": [
        "# Filter out rows where trip_duration is less than 3 or greater than 60\n",
        "df = df.filter((col(\"trip_duration\") >= 3) & (col(\"trip_duration\") <= 60))\n",
        "\n",
        "# Display the resulting DataFrame to confirm the filtering\n",
        "df.show()"
      ],
      "metadata": {
        "colab": {
          "base_uri": "https://localhost:8080/"
        },
        "id": "JD-22GcdACNk",
        "outputId": "33422588-29a9-4d3b-ae7c-52c8b87a5154"
      },
      "execution_count": null,
      "outputs": [
        {
          "output_type": "stream",
          "name": "stdout",
          "text": [
            "+------------+------------+--------+--------------------+---------------------+---------------+-------------+----------+------------+------------+--------------------+------------------+-----------+-------------+--------------+---------------+--------------+--------------+--------------+--------------+--------------+\n",
            "|DOLocationID|PULocationID|VendorID|tpep_pickup_datetime|tpep_dropoff_datetime|passenger_count|trip_distance|tip_amount|tolls_amount|total_amount|congestion_surcharge|        total_fare|pickup_hour|trip_duration|Pickup_Borough|Dropoff_Borough|payment_type_4|payment_type_3|payment_type_2|payment_type_5|payment_type_1|\n",
            "+------------+------------+--------+--------------------+---------------------+---------------+-------------+----------+------------+------------+--------------------+------------------+-----------+-------------+--------------+---------------+--------------+--------------+--------------+--------------+--------------+\n",
            "|         145|         138|       1| 2015-01-06 09:12:23|  2015-01-06 09:37:46|              1|          6.0|       2.2|         0.0|        24.0|                NULL|              21.8|          9|        25.38|        Queens|         Queens|             0|             0|             0|             0|             1|\n",
            "|         107|         161|       1| 2015-01-17 14:41:04|  2015-01-17 14:52:16|              1|          1.9|       0.0|         0.0|        10.3|                NULL|              10.3|         14|         11.2|     Manhattan|      Manhattan|             0|             0|             1|             0|             0|\n",
            "|         142|         164|       2| 2015-01-08 13:59:04|  2015-01-08 14:21:54|              1|         2.98|       3.2|         0.0|        20.0|                NULL|              16.8|         13|        22.83|     Manhattan|      Manhattan|             0|             0|             0|             0|             1|\n",
            "|         142|         262|       2| 2015-01-15 09:54:28|  2015-01-15 10:08:31|              1|         2.79|       2.4|         0.0|        15.2|                NULL|              12.8|          9|        14.05|     Manhattan|      Manhattan|             0|             0|             0|             0|             1|\n",
            "|         138|          33|       1| 2015-01-01 08:50:58|  2015-01-01 09:10:56|              1|         10.9|       0.0|         0.0|        32.3|                NULL|              32.0|          8|        19.97|      Brooklyn|         Queens|             0|             0|             1|             0|             0|\n",
            "|         255|         114|       2| 2015-01-15 00:24:56|  2015-01-15 00:44:29|              5|         4.22|       3.6|         0.0|        22.4|                NULL|              18.8|          0|        19.55|     Manhattan|       Brooklyn|             0|             0|             0|             0|             1|\n",
            "|         238|         233|       2| 2015-01-09 20:25:53|  2015-01-09 20:42:38|              1|         3.68|       0.0|         0.0|        16.3|                NULL|              16.3|         20|        16.75|     Manhattan|      Manhattan|             0|             0|             1|             0|             0|\n",
            "|         224|         114|       1| 2015-01-03 00:05:03|  2015-01-03 00:11:35|              1|          1.2|      1.55|         0.0|        9.35|                NULL|               7.5|          0|         6.53|     Manhattan|      Manhattan|             0|             0|             0|             0|             1|\n",
            "|         230|         163|       1| 2015-01-10 17:55:45|  2015-01-10 18:07:25|              2|          1.1|      2.75|         0.0|       12.05|                NULL|               9.3|         17|        11.67|     Manhattan|      Manhattan|             0|             0|             0|             0|             1|\n",
            "|          48|         236|       1| 2015-01-15 19:50:39|  2015-01-15 20:05:37|              2|          3.0|       0.0|         0.0|        14.3|                NULL|              14.3|         19|        14.97|     Manhattan|      Manhattan|             0|             0|             1|             0|             0|\n",
            "|         162|         233|       2| 2015-01-14 18:21:15|  2015-01-14 18:25:48|              6|         0.68|       0.0|         0.0|         6.8|                NULL|               6.8|         18|         4.55|     Manhattan|      Manhattan|             0|             0|             1|             0|             0|\n",
            "|         141|          50|       1| 2015-01-17 23:03:15|  2015-01-17 23:16:38|              1|          2.4|       1.5|         0.0|        14.3|                NULL|              12.8|         23|        13.38|     Manhattan|      Manhattan|             0|             0|             0|             0|             1|\n",
            "|         137|         262|       2| 2015-01-13 05:59:07|  2015-01-13 06:08:45|              1|          3.2|       0.0|         0.0|        12.3|                NULL|              12.3|          5|         9.63|     Manhattan|      Manhattan|             0|             0|             1|             0|             0|\n",
            "|         262|          75|       2| 2015-01-10 09:54:33|  2015-01-10 10:01:08|              1|         1.81|       1.5|         0.0|         9.8|                NULL|               8.3|          9|         6.58|     Manhattan|      Manhattan|             0|             0|             0|             0|             1|\n",
            "|         239|         236|       2| 2015-01-07 15:52:03|  2015-01-07 16:01:26|              1|         1.45|       1.0|         0.0|         9.8|                NULL|               8.8|         15|         9.38|     Manhattan|      Manhattan|             0|             0|             0|             0|             1|\n",
            "|          61|          13|       1| 2015-01-15 18:19:08|  2015-01-15 18:48:10|              1|          6.0|      5.95|         0.0|       29.75|                NULL|              23.8|         18|        29.03|     Manhattan|       Brooklyn|             0|             0|             0|             0|             1|\n",
            "|         170|         132|       1| 2015-01-15 17:08:01|  2015-01-15 17:57:21|              2|         16.4|       8.0|        5.33|       66.13|                NULL|58.129999999999995|         17|        49.33|        Queens|      Manhattan|             0|             0|             0|             0|             1|\n",
            "|         107|         234|       1| 2015-01-11 13:31:31|  2015-01-11 13:34:38|              1|          0.6|       1.2|         0.0|         6.0|                NULL|               4.8|         13|         3.12|     Manhattan|      Manhattan|             0|             0|             0|             0|             1|\n",
            "|         228|          13|       2| 2015-01-20 08:18:29|  2015-01-20 08:49:43|              5|         7.89|       0.0|         0.0|        27.8|                NULL|              27.8|          8|        31.23|     Manhattan|       Brooklyn|             0|             0|             1|             0|             0|\n",
            "|          61|         138|       1| 2015-01-13 14:08:14|  2015-01-13 14:51:32|              1|          9.7|       0.0|         0.0|        36.3|                NULL|              36.3|         14|         43.3|        Queens|       Brooklyn|             0|             0|             0|             0|             1|\n",
            "+------------+------------+--------+--------------------+---------------------+---------------+-------------+----------+------------+------------+--------------------+------------------+-----------+-------------+--------------+---------------+--------------+--------------+--------------+--------------+--------------+\n",
            "only showing top 20 rows\n",
            "\n"
          ]
        }
      ]
    },
    {
      "cell_type": "code",
      "source": [
        "from pyspark.sql.functions import when\n",
        "\n",
        "# Define distance bins from 0-1, 1-2, ..., 9-10\n",
        "df = df.withColumn(\n",
        "    \"distance_bin\",\n",
        "    when((col(\"trip_distance\") >= 0) & (col(\"trip_distance\") < 1), \"0-1\")\n",
        "    .when((col(\"trip_distance\") >= 1) & (col(\"trip_distance\") < 2), \"1-2\")\n",
        "    .when((col(\"trip_distance\") >= 2) & (col(\"trip_distance\") < 3), \"2-3\")\n",
        "    .when((col(\"trip_distance\") >= 3) & (col(\"trip_distance\") < 4), \"3-4\")\n",
        "    .when((col(\"trip_distance\") >= 4) & (col(\"trip_distance\") < 5), \"4-5\")\n",
        "    .when((col(\"trip_distance\") >= 5) & (col(\"trip_distance\") < 6), \"5-6\")\n",
        "    .when((col(\"trip_distance\") >= 6) & (col(\"trip_distance\") < 7), \"6-7\")\n",
        "    .when((col(\"trip_distance\") >= 7) & (col(\"trip_distance\") < 8), \"7-8\")\n",
        "    .when((col(\"trip_distance\") >= 8) & (col(\"trip_distance\") < 9), \"8-9\")\n",
        "    .when((col(\"trip_distance\") >= 9) & (col(\"trip_distance\") <= 10), \"9-10\")\n",
        "    .otherwise(\"10+\")\n",
        ")\n",
        "\n",
        "# Group by distance_bin and count the number of rows in each bin\n",
        "distance_bin_counts = df.groupBy(\"distance_bin\").count()\n",
        "\n",
        "# Show the counts for each distance bin\n",
        "distance_bin_counts.show()"
      ],
      "metadata": {
        "colab": {
          "base_uri": "https://localhost:8080/"
        },
        "id": "qtueUeXbAi3T",
        "outputId": "fbc81303-b823-4290-f6ad-7da9dc77c9e4"
      },
      "execution_count": null,
      "outputs": [
        {
          "output_type": "stream",
          "name": "stdout",
          "text": [
            "+------------+--------+\n",
            "|distance_bin|   count|\n",
            "+------------+--------+\n",
            "|         3-4| 6369687|\n",
            "|         2-3|12632640|\n",
            "|         7-8| 1037233|\n",
            "|         1-2|25554030|\n",
            "|         10+| 3583012|\n",
            "|         4-5| 3602105|\n",
            "|         5-6| 2290781|\n",
            "|         6-7| 1496947|\n",
            "|         0-1|14106498|\n",
            "|         8-9|  946553|\n",
            "|        9-10|  983222|\n",
            "+------------+--------+\n",
            "\n"
          ]
        }
      ]
    },
    {
      "cell_type": "code",
      "source": [
        "# Filter out rows where trip_distance is between 0 and 1\n",
        "df = df.filter(~((col(\"trip_distance\") >= 0) & (col(\"trip_distance\") < 1)))\n",
        "\n",
        "# Display the resulting DataFrame to confirm the filtering\n",
        "df.show()"
      ],
      "metadata": {
        "colab": {
          "base_uri": "https://localhost:8080/"
        },
        "id": "MVRRomE6BuIE",
        "outputId": "868bab1f-e66b-4c52-93bb-e83c360212f0"
      },
      "execution_count": null,
      "outputs": [
        {
          "output_type": "stream",
          "name": "stdout",
          "text": [
            "+------------+------------+--------+--------------------+---------------------+---------------+-------------+----------+------------+------------+--------------------+------------------+-----------+-------------+--------------+---------------+--------------+--------------+--------------+--------------+--------------+\n",
            "|DOLocationID|PULocationID|VendorID|tpep_pickup_datetime|tpep_dropoff_datetime|passenger_count|trip_distance|tip_amount|tolls_amount|total_amount|congestion_surcharge|        total_fare|pickup_hour|trip_duration|Pickup_Borough|Dropoff_Borough|payment_type_4|payment_type_3|payment_type_2|payment_type_5|payment_type_1|\n",
            "+------------+------------+--------+--------------------+---------------------+---------------+-------------+----------+------------+------------+--------------------+------------------+-----------+-------------+--------------+---------------+--------------+--------------+--------------+--------------+--------------+\n",
            "|         145|         138|       1| 2015-01-06 09:12:23|  2015-01-06 09:37:46|              1|          6.0|       2.2|         0.0|        24.0|                NULL|              21.8|          9|        25.38|        Queens|         Queens|             0|             0|             0|             0|             1|\n",
            "|         107|         161|       1| 2015-01-17 14:41:04|  2015-01-17 14:52:16|              1|          1.9|       0.0|         0.0|        10.3|                NULL|              10.3|         14|         11.2|     Manhattan|      Manhattan|             0|             0|             1|             0|             0|\n",
            "|         142|         164|       2| 2015-01-08 13:59:04|  2015-01-08 14:21:54|              1|         2.98|       3.2|         0.0|        20.0|                NULL|              16.8|         13|        22.83|     Manhattan|      Manhattan|             0|             0|             0|             0|             1|\n",
            "|         142|         262|       2| 2015-01-15 09:54:28|  2015-01-15 10:08:31|              1|         2.79|       2.4|         0.0|        15.2|                NULL|              12.8|          9|        14.05|     Manhattan|      Manhattan|             0|             0|             0|             0|             1|\n",
            "|         138|          33|       1| 2015-01-01 08:50:58|  2015-01-01 09:10:56|              1|         10.9|       0.0|         0.0|        32.3|                NULL|              32.0|          8|        19.97|      Brooklyn|         Queens|             0|             0|             1|             0|             0|\n",
            "|         255|         114|       2| 2015-01-15 00:24:56|  2015-01-15 00:44:29|              5|         4.22|       3.6|         0.0|        22.4|                NULL|              18.8|          0|        19.55|     Manhattan|       Brooklyn|             0|             0|             0|             0|             1|\n",
            "|         238|         233|       2| 2015-01-09 20:25:53|  2015-01-09 20:42:38|              1|         3.68|       0.0|         0.0|        16.3|                NULL|              16.3|         20|        16.75|     Manhattan|      Manhattan|             0|             0|             1|             0|             0|\n",
            "|         224|         114|       1| 2015-01-03 00:05:03|  2015-01-03 00:11:35|              1|          1.2|      1.55|         0.0|        9.35|                NULL|               7.5|          0|         6.53|     Manhattan|      Manhattan|             0|             0|             0|             0|             1|\n",
            "|         230|         163|       1| 2015-01-10 17:55:45|  2015-01-10 18:07:25|              2|          1.1|      2.75|         0.0|       12.05|                NULL|               9.3|         17|        11.67|     Manhattan|      Manhattan|             0|             0|             0|             0|             1|\n",
            "|          48|         236|       1| 2015-01-15 19:50:39|  2015-01-15 20:05:37|              2|          3.0|       0.0|         0.0|        14.3|                NULL|              14.3|         19|        14.97|     Manhattan|      Manhattan|             0|             0|             1|             0|             0|\n",
            "|         141|          50|       1| 2015-01-17 23:03:15|  2015-01-17 23:16:38|              1|          2.4|       1.5|         0.0|        14.3|                NULL|              12.8|         23|        13.38|     Manhattan|      Manhattan|             0|             0|             0|             0|             1|\n",
            "|         137|         262|       2| 2015-01-13 05:59:07|  2015-01-13 06:08:45|              1|          3.2|       0.0|         0.0|        12.3|                NULL|              12.3|          5|         9.63|     Manhattan|      Manhattan|             0|             0|             1|             0|             0|\n",
            "|         262|          75|       2| 2015-01-10 09:54:33|  2015-01-10 10:01:08|              1|         1.81|       1.5|         0.0|         9.8|                NULL|               8.3|          9|         6.58|     Manhattan|      Manhattan|             0|             0|             0|             0|             1|\n",
            "|         239|         236|       2| 2015-01-07 15:52:03|  2015-01-07 16:01:26|              1|         1.45|       1.0|         0.0|         9.8|                NULL|               8.8|         15|         9.38|     Manhattan|      Manhattan|             0|             0|             0|             0|             1|\n",
            "|          61|          13|       1| 2015-01-15 18:19:08|  2015-01-15 18:48:10|              1|          6.0|      5.95|         0.0|       29.75|                NULL|              23.8|         18|        29.03|     Manhattan|       Brooklyn|             0|             0|             0|             0|             1|\n",
            "|         170|         132|       1| 2015-01-15 17:08:01|  2015-01-15 17:57:21|              2|         16.4|       8.0|        5.33|       66.13|                NULL|58.129999999999995|         17|        49.33|        Queens|      Manhattan|             0|             0|             0|             0|             1|\n",
            "|         228|          13|       2| 2015-01-20 08:18:29|  2015-01-20 08:49:43|              5|         7.89|       0.0|         0.0|        27.8|                NULL|              27.8|          8|        31.23|     Manhattan|       Brooklyn|             0|             0|             1|             0|             0|\n",
            "|          61|         138|       1| 2015-01-13 14:08:14|  2015-01-13 14:51:32|              1|          9.7|       0.0|         0.0|        36.3|                NULL|              36.3|         14|         43.3|        Queens|       Brooklyn|             0|             0|             0|             0|             1|\n",
            "|          79|         234|       1| 2015-01-15 16:25:31|  2015-01-15 16:33:02|              2|          1.1|       0.0|         0.0|         8.8|                NULL|               8.8|         16|         7.52|     Manhattan|      Manhattan|             0|             0|             1|             0|             0|\n",
            "|         140|         239|       1| 2015-01-07 10:55:26|  2015-01-07 11:11:46|              1|          2.4|       2.5|         0.0|        15.8|                NULL|              13.3|         10|        16.33|     Manhattan|      Manhattan|             0|             0|             0|             0|             1|\n",
            "+------------+------------+--------+--------------------+---------------------+---------------+-------------+----------+------------+------------+--------------------+------------------+-----------+-------------+--------------+---------------+--------------+--------------+--------------+--------------+--------------+\n",
            "only showing top 20 rows\n",
            "\n"
          ]
        }
      ]
    },
    {
      "cell_type": "code",
      "source": [
        "# Count values where trip_distance is greater than 60\n",
        "count_greater_than_60 = df.filter(col(\"trip_distance\") > 60).count()\n",
        "\n",
        "# Display the result\n",
        "count_greater_than_60"
      ],
      "metadata": {
        "colab": {
          "base_uri": "https://localhost:8080/"
        },
        "id": "dkD0AUMjGrFJ",
        "outputId": "4e72a58e-fb47-43d4-d9be-9be955f0383c"
      },
      "execution_count": null,
      "outputs": [
        {
          "output_type": "execute_result",
          "data": {
            "text/plain": [
              "0"
            ]
          },
          "metadata": {},
          "execution_count": 41
        }
      ]
    },
    {
      "cell_type": "code",
      "source": [
        "# Filter out rows where trip_distance is greater than 60\n",
        "df = df.filter(col(\"trip_distance\") <= 60)\n",
        "\n",
        "# Display the resulting DataFrame to confirm the filtering\n",
        "df.show()"
      ],
      "metadata": {
        "colab": {
          "base_uri": "https://localhost:8080/"
        },
        "id": "zF79e8xEHSqn",
        "outputId": "9f79cc7f-8e55-4058-9589-e3ec2bac1d48"
      },
      "execution_count": null,
      "outputs": [
        {
          "output_type": "stream",
          "name": "stdout",
          "text": [
            "+------------+------------+--------+--------------------+---------------------+---------------+-------------+----------+------------+------------+--------------------+------------------+-----------+-------------+--------------+---------------+--------------+--------------+--------------+--------------+--------------+\n",
            "|DOLocationID|PULocationID|VendorID|tpep_pickup_datetime|tpep_dropoff_datetime|passenger_count|trip_distance|tip_amount|tolls_amount|total_amount|congestion_surcharge|        total_fare|pickup_hour|trip_duration|Pickup_Borough|Dropoff_Borough|payment_type_4|payment_type_3|payment_type_2|payment_type_5|payment_type_1|\n",
            "+------------+------------+--------+--------------------+---------------------+---------------+-------------+----------+------------+------------+--------------------+------------------+-----------+-------------+--------------+---------------+--------------+--------------+--------------+--------------+--------------+\n",
            "|         145|         138|       1| 2015-01-06 09:12:23|  2015-01-06 09:37:46|              1|          6.0|       2.2|         0.0|        24.0|                NULL|              21.8|          9|        25.38|        Queens|         Queens|             0|             0|             0|             0|             1|\n",
            "|         107|         161|       1| 2015-01-17 14:41:04|  2015-01-17 14:52:16|              1|          1.9|       0.0|         0.0|        10.3|                NULL|              10.3|         14|         11.2|     Manhattan|      Manhattan|             0|             0|             1|             0|             0|\n",
            "|         142|         164|       2| 2015-01-08 13:59:04|  2015-01-08 14:21:54|              1|         2.98|       3.2|         0.0|        20.0|                NULL|              16.8|         13|        22.83|     Manhattan|      Manhattan|             0|             0|             0|             0|             1|\n",
            "|         142|         262|       2| 2015-01-15 09:54:28|  2015-01-15 10:08:31|              1|         2.79|       2.4|         0.0|        15.2|                NULL|              12.8|          9|        14.05|     Manhattan|      Manhattan|             0|             0|             0|             0|             1|\n",
            "|         138|          33|       1| 2015-01-01 08:50:58|  2015-01-01 09:10:56|              1|         10.9|       0.0|         0.0|        32.3|                NULL|              32.0|          8|        19.97|      Brooklyn|         Queens|             0|             0|             1|             0|             0|\n",
            "|         255|         114|       2| 2015-01-15 00:24:56|  2015-01-15 00:44:29|              5|         4.22|       3.6|         0.0|        22.4|                NULL|              18.8|          0|        19.55|     Manhattan|       Brooklyn|             0|             0|             0|             0|             1|\n",
            "|         238|         233|       2| 2015-01-09 20:25:53|  2015-01-09 20:42:38|              1|         3.68|       0.0|         0.0|        16.3|                NULL|              16.3|         20|        16.75|     Manhattan|      Manhattan|             0|             0|             1|             0|             0|\n",
            "|         224|         114|       1| 2015-01-03 00:05:03|  2015-01-03 00:11:35|              1|          1.2|      1.55|         0.0|        9.35|                NULL|               7.5|          0|         6.53|     Manhattan|      Manhattan|             0|             0|             0|             0|             1|\n",
            "|         230|         163|       1| 2015-01-10 17:55:45|  2015-01-10 18:07:25|              2|          1.1|      2.75|         0.0|       12.05|                NULL|               9.3|         17|        11.67|     Manhattan|      Manhattan|             0|             0|             0|             0|             1|\n",
            "|          48|         236|       1| 2015-01-15 19:50:39|  2015-01-15 20:05:37|              2|          3.0|       0.0|         0.0|        14.3|                NULL|              14.3|         19|        14.97|     Manhattan|      Manhattan|             0|             0|             1|             0|             0|\n",
            "|         141|          50|       1| 2015-01-17 23:03:15|  2015-01-17 23:16:38|              1|          2.4|       1.5|         0.0|        14.3|                NULL|              12.8|         23|        13.38|     Manhattan|      Manhattan|             0|             0|             0|             0|             1|\n",
            "|         137|         262|       2| 2015-01-13 05:59:07|  2015-01-13 06:08:45|              1|          3.2|       0.0|         0.0|        12.3|                NULL|              12.3|          5|         9.63|     Manhattan|      Manhattan|             0|             0|             1|             0|             0|\n",
            "|         262|          75|       2| 2015-01-10 09:54:33|  2015-01-10 10:01:08|              1|         1.81|       1.5|         0.0|         9.8|                NULL|               8.3|          9|         6.58|     Manhattan|      Manhattan|             0|             0|             0|             0|             1|\n",
            "|         239|         236|       2| 2015-01-07 15:52:03|  2015-01-07 16:01:26|              1|         1.45|       1.0|         0.0|         9.8|                NULL|               8.8|         15|         9.38|     Manhattan|      Manhattan|             0|             0|             0|             0|             1|\n",
            "|          61|          13|       1| 2015-01-15 18:19:08|  2015-01-15 18:48:10|              1|          6.0|      5.95|         0.0|       29.75|                NULL|              23.8|         18|        29.03|     Manhattan|       Brooklyn|             0|             0|             0|             0|             1|\n",
            "|         170|         132|       1| 2015-01-15 17:08:01|  2015-01-15 17:57:21|              2|         16.4|       8.0|        5.33|       66.13|                NULL|58.129999999999995|         17|        49.33|        Queens|      Manhattan|             0|             0|             0|             0|             1|\n",
            "|         228|          13|       2| 2015-01-20 08:18:29|  2015-01-20 08:49:43|              5|         7.89|       0.0|         0.0|        27.8|                NULL|              27.8|          8|        31.23|     Manhattan|       Brooklyn|             0|             0|             1|             0|             0|\n",
            "|          61|         138|       1| 2015-01-13 14:08:14|  2015-01-13 14:51:32|              1|          9.7|       0.0|         0.0|        36.3|                NULL|              36.3|         14|         43.3|        Queens|       Brooklyn|             0|             0|             0|             0|             1|\n",
            "|          79|         234|       1| 2015-01-15 16:25:31|  2015-01-15 16:33:02|              2|          1.1|       0.0|         0.0|         8.8|                NULL|               8.8|         16|         7.52|     Manhattan|      Manhattan|             0|             0|             1|             0|             0|\n",
            "|         140|         239|       1| 2015-01-07 10:55:26|  2015-01-07 11:11:46|              1|          2.4|       2.5|         0.0|        15.8|                NULL|              13.3|         10|        16.33|     Manhattan|      Manhattan|             0|             0|             0|             0|             1|\n",
            "+------------+------------+--------+--------------------+---------------------+---------------+-------------+----------+------------+------------+--------------------+------------------+-----------+-------------+--------------+---------------+--------------+--------------+--------------+--------------+--------------+\n",
            "only showing top 20 rows\n",
            "\n"
          ]
        }
      ]
    },
    {
      "cell_type": "code",
      "source": [
        "# Display the count of rows in the DataFrame `df`\n",
        "row_count = df.count()\n",
        "\n",
        "# Show the result\n",
        "row_count"
      ],
      "metadata": {
        "colab": {
          "base_uri": "https://localhost:8080/"
        },
        "id": "ans_W8FkHamC",
        "outputId": "d8cfe595-1c13-4ffb-e4a8-1cf821252750"
      },
      "execution_count": null,
      "outputs": [
        {
          "output_type": "execute_result",
          "data": {
            "text/plain": [
              "58495256"
            ]
          },
          "metadata": {},
          "execution_count": 29
        }
      ]
    },
    {
      "cell_type": "code",
      "source": [
        "# Get the count of each unique value in the `passenger_count` column\n",
        "passenger_count_counts = df.groupBy(\"passenger_count\").count().orderBy(\"passenger_count\")\n",
        "passenger_count_counts.show()"
      ],
      "metadata": {
        "colab": {
          "base_uri": "https://localhost:8080/"
        },
        "id": "d2IXpe87JGJv",
        "outputId": "43b93812-8af8-4253-ec2f-5e89fdec9094"
      },
      "execution_count": null,
      "outputs": [
        {
          "output_type": "stream",
          "name": "stdout",
          "text": [
            "+---------------+--------+\n",
            "|passenger_count|   count|\n",
            "+---------------+--------+\n",
            "|              0|   24658|\n",
            "|              1|41134547|\n",
            "|              2| 8423150|\n",
            "|              3| 2464061|\n",
            "|              4| 1177595|\n",
            "|              5| 3203338|\n",
            "|              6| 2067818|\n",
            "|              7|      44|\n",
            "|              8|      21|\n",
            "|              9|      24|\n",
            "+---------------+--------+\n",
            "\n"
          ]
        }
      ]
    },
    {
      "cell_type": "code",
      "source": [
        "# Filter out rows where passenger_count is null, 0.0, or greater than 5\n",
        "df = df.filter((col(\"passenger_count\").isNotNull()) & (col(\"passenger_count\") > 0) & (col(\"passenger_count\") <= 5))\n",
        "\n",
        "# Display the resulting DataFrame to confirm the filtering\n",
        "df.show()"
      ],
      "metadata": {
        "colab": {
          "base_uri": "https://localhost:8080/"
        },
        "id": "kVAX-AZsJ0q4",
        "outputId": "4db8b609-cdc9-41b7-89aa-6696a9d4a577"
      },
      "execution_count": null,
      "outputs": [
        {
          "output_type": "stream",
          "name": "stdout",
          "text": [
            "+------------+------------+--------+--------------------+---------------------+---------------+-------------+----------+------------+------------+--------------------+------------------+-----------+-------------+--------------+---------------+--------------+--------------+--------------+--------------+--------------+\n",
            "|DOLocationID|PULocationID|VendorID|tpep_pickup_datetime|tpep_dropoff_datetime|passenger_count|trip_distance|tip_amount|tolls_amount|total_amount|congestion_surcharge|        total_fare|pickup_hour|trip_duration|Pickup_Borough|Dropoff_Borough|payment_type_4|payment_type_3|payment_type_2|payment_type_5|payment_type_1|\n",
            "+------------+------------+--------+--------------------+---------------------+---------------+-------------+----------+------------+------------+--------------------+------------------+-----------+-------------+--------------+---------------+--------------+--------------+--------------+--------------+--------------+\n",
            "|         145|         138|       1| 2015-01-06 09:12:23|  2015-01-06 09:37:46|              1|          6.0|       2.2|         0.0|        24.0|                NULL|              21.8|          9|        25.38|        Queens|         Queens|             0|             0|             0|             0|             1|\n",
            "|         107|         161|       1| 2015-01-17 14:41:04|  2015-01-17 14:52:16|              1|          1.9|       0.0|         0.0|        10.3|                NULL|              10.3|         14|         11.2|     Manhattan|      Manhattan|             0|             0|             1|             0|             0|\n",
            "|         142|         164|       2| 2015-01-08 13:59:04|  2015-01-08 14:21:54|              1|         2.98|       3.2|         0.0|        20.0|                NULL|              16.8|         13|        22.83|     Manhattan|      Manhattan|             0|             0|             0|             0|             1|\n",
            "|         142|         262|       2| 2015-01-15 09:54:28|  2015-01-15 10:08:31|              1|         2.79|       2.4|         0.0|        15.2|                NULL|              12.8|          9|        14.05|     Manhattan|      Manhattan|             0|             0|             0|             0|             1|\n",
            "|         138|          33|       1| 2015-01-01 08:50:58|  2015-01-01 09:10:56|              1|         10.9|       0.0|         0.0|        32.3|                NULL|              32.0|          8|        19.97|      Brooklyn|         Queens|             0|             0|             1|             0|             0|\n",
            "|         255|         114|       2| 2015-01-15 00:24:56|  2015-01-15 00:44:29|              5|         4.22|       3.6|         0.0|        22.4|                NULL|              18.8|          0|        19.55|     Manhattan|       Brooklyn|             0|             0|             0|             0|             1|\n",
            "|         238|         233|       2| 2015-01-09 20:25:53|  2015-01-09 20:42:38|              1|         3.68|       0.0|         0.0|        16.3|                NULL|              16.3|         20|        16.75|     Manhattan|      Manhattan|             0|             0|             1|             0|             0|\n",
            "|         224|         114|       1| 2015-01-03 00:05:03|  2015-01-03 00:11:35|              1|          1.2|      1.55|         0.0|        9.35|                NULL|               7.5|          0|         6.53|     Manhattan|      Manhattan|             0|             0|             0|             0|             1|\n",
            "|         230|         163|       1| 2015-01-10 17:55:45|  2015-01-10 18:07:25|              2|          1.1|      2.75|         0.0|       12.05|                NULL|               9.3|         17|        11.67|     Manhattan|      Manhattan|             0|             0|             0|             0|             1|\n",
            "|          48|         236|       1| 2015-01-15 19:50:39|  2015-01-15 20:05:37|              2|          3.0|       0.0|         0.0|        14.3|                NULL|              14.3|         19|        14.97|     Manhattan|      Manhattan|             0|             0|             1|             0|             0|\n",
            "|         141|          50|       1| 2015-01-17 23:03:15|  2015-01-17 23:16:38|              1|          2.4|       1.5|         0.0|        14.3|                NULL|              12.8|         23|        13.38|     Manhattan|      Manhattan|             0|             0|             0|             0|             1|\n",
            "|         137|         262|       2| 2015-01-13 05:59:07|  2015-01-13 06:08:45|              1|          3.2|       0.0|         0.0|        12.3|                NULL|              12.3|          5|         9.63|     Manhattan|      Manhattan|             0|             0|             1|             0|             0|\n",
            "|         262|          75|       2| 2015-01-10 09:54:33|  2015-01-10 10:01:08|              1|         1.81|       1.5|         0.0|         9.8|                NULL|               8.3|          9|         6.58|     Manhattan|      Manhattan|             0|             0|             0|             0|             1|\n",
            "|         239|         236|       2| 2015-01-07 15:52:03|  2015-01-07 16:01:26|              1|         1.45|       1.0|         0.0|         9.8|                NULL|               8.8|         15|         9.38|     Manhattan|      Manhattan|             0|             0|             0|             0|             1|\n",
            "|          61|          13|       1| 2015-01-15 18:19:08|  2015-01-15 18:48:10|              1|          6.0|      5.95|         0.0|       29.75|                NULL|              23.8|         18|        29.03|     Manhattan|       Brooklyn|             0|             0|             0|             0|             1|\n",
            "|         170|         132|       1| 2015-01-15 17:08:01|  2015-01-15 17:57:21|              2|         16.4|       8.0|        5.33|       66.13|                NULL|58.129999999999995|         17|        49.33|        Queens|      Manhattan|             0|             0|             0|             0|             1|\n",
            "|         228|          13|       2| 2015-01-20 08:18:29|  2015-01-20 08:49:43|              5|         7.89|       0.0|         0.0|        27.8|                NULL|              27.8|          8|        31.23|     Manhattan|       Brooklyn|             0|             0|             1|             0|             0|\n",
            "|          61|         138|       1| 2015-01-13 14:08:14|  2015-01-13 14:51:32|              1|          9.7|       0.0|         0.0|        36.3|                NULL|              36.3|         14|         43.3|        Queens|       Brooklyn|             0|             0|             0|             0|             1|\n",
            "|          79|         234|       1| 2015-01-15 16:25:31|  2015-01-15 16:33:02|              2|          1.1|       0.0|         0.0|         8.8|                NULL|               8.8|         16|         7.52|     Manhattan|      Manhattan|             0|             0|             1|             0|             0|\n",
            "|         140|         239|       1| 2015-01-07 10:55:26|  2015-01-07 11:11:46|              1|          2.4|       2.5|         0.0|        15.8|                NULL|              13.3|         10|        16.33|     Manhattan|      Manhattan|             0|             0|             0|             0|             1|\n",
            "+------------+------------+--------+--------------------+---------------------+---------------+-------------+----------+------------+------------+--------------------+------------------+-----------+-------------+--------------+---------------+--------------+--------------+--------------+--------------+--------------+\n",
            "only showing top 20 rows\n",
            "\n"
          ]
        }
      ]
    },
    {
      "cell_type": "code",
      "source": [
        "row_count = df.count()\n",
        "\n",
        "# Show the result\n",
        "row_count"
      ],
      "metadata": {
        "colab": {
          "base_uri": "https://localhost:8080/"
        },
        "id": "xX1SgoZ1Npk-",
        "outputId": "56151fce-817b-400c-bec3-19a7fa73391e"
      },
      "execution_count": null,
      "outputs": [
        {
          "output_type": "execute_result",
          "data": {
            "text/plain": [
              "56351000"
            ]
          },
          "metadata": {},
          "execution_count": 39
        }
      ]
    },
    {
      "cell_type": "code",
      "source": [
        "# Count values where total_fare is greater than 300\n",
        "count_above_300 = df.filter(col(\"total_fare\") <0).count()\n",
        "\n",
        "# Display the result\n",
        "count_above_300"
      ],
      "metadata": {
        "colab": {
          "base_uri": "https://localhost:8080/"
        },
        "id": "PEpafSg_K8d2",
        "outputId": "71a9cffd-e644-4ca3-ac88-6bf36e867020"
      },
      "execution_count": null,
      "outputs": [
        {
          "output_type": "execute_result",
          "data": {
            "text/plain": [
              "0"
            ]
          },
          "metadata": {},
          "execution_count": 21
        }
      ]
    },
    {
      "cell_type": "code",
      "source": [
        "# Filter out rows where total_fare is greater than 300\n",
        "df = df.filter(col(\"total_fare\") <= 100)\n",
        "\n",
        "# Display the resulting DataFrame to confirm the filtering\n",
        "df.show()"
      ],
      "metadata": {
        "colab": {
          "base_uri": "https://localhost:8080/"
        },
        "id": "U92NTGCWLhrX",
        "outputId": "bddee5a1-4657-442c-cc44-0618d92544f9"
      },
      "execution_count": null,
      "outputs": [
        {
          "output_type": "stream",
          "name": "stdout",
          "text": [
            "+------------+------------+--------+--------------------+---------------------+---------------+-------------+----------+------------+------------+--------------------+------------------+-----------+-------------+--------------+---------------+--------------+--------------+--------------+--------------+--------------+\n",
            "|DOLocationID|PULocationID|VendorID|tpep_pickup_datetime|tpep_dropoff_datetime|passenger_count|trip_distance|tip_amount|tolls_amount|total_amount|congestion_surcharge|        total_fare|pickup_hour|trip_duration|Pickup_Borough|Dropoff_Borough|payment_type_4|payment_type_3|payment_type_2|payment_type_5|payment_type_1|\n",
            "+------------+------------+--------+--------------------+---------------------+---------------+-------------+----------+------------+------------+--------------------+------------------+-----------+-------------+--------------+---------------+--------------+--------------+--------------+--------------+--------------+\n",
            "|         145|         138|       1| 2015-01-06 09:12:23|  2015-01-06 09:37:46|              1|          6.0|       2.2|         0.0|        24.0|                NULL|              21.8|          9|        25.38|        Queens|         Queens|             0|             0|             0|             0|             1|\n",
            "|         107|         161|       1| 2015-01-17 14:41:04|  2015-01-17 14:52:16|              1|          1.9|       0.0|         0.0|        10.3|                NULL|              10.3|         14|         11.2|     Manhattan|      Manhattan|             0|             0|             1|             0|             0|\n",
            "|         142|         164|       2| 2015-01-08 13:59:04|  2015-01-08 14:21:54|              1|         2.98|       3.2|         0.0|        20.0|                NULL|              16.8|         13|        22.83|     Manhattan|      Manhattan|             0|             0|             0|             0|             1|\n",
            "|         142|         262|       2| 2015-01-15 09:54:28|  2015-01-15 10:08:31|              1|         2.79|       2.4|         0.0|        15.2|                NULL|              12.8|          9|        14.05|     Manhattan|      Manhattan|             0|             0|             0|             0|             1|\n",
            "|         138|          33|       1| 2015-01-01 08:50:58|  2015-01-01 09:10:56|              1|         10.9|       0.0|         0.0|        32.3|                NULL|              32.0|          8|        19.97|      Brooklyn|         Queens|             0|             0|             1|             0|             0|\n",
            "|         255|         114|       2| 2015-01-15 00:24:56|  2015-01-15 00:44:29|              5|         4.22|       3.6|         0.0|        22.4|                NULL|              18.8|          0|        19.55|     Manhattan|       Brooklyn|             0|             0|             0|             0|             1|\n",
            "|         238|         233|       2| 2015-01-09 20:25:53|  2015-01-09 20:42:38|              1|         3.68|       0.0|         0.0|        16.3|                NULL|              16.3|         20|        16.75|     Manhattan|      Manhattan|             0|             0|             1|             0|             0|\n",
            "|         224|         114|       1| 2015-01-03 00:05:03|  2015-01-03 00:11:35|              1|          1.2|      1.55|         0.0|        9.35|                NULL|               7.5|          0|         6.53|     Manhattan|      Manhattan|             0|             0|             0|             0|             1|\n",
            "|         230|         163|       1| 2015-01-10 17:55:45|  2015-01-10 18:07:25|              2|          1.1|      2.75|         0.0|       12.05|                NULL|               9.3|         17|        11.67|     Manhattan|      Manhattan|             0|             0|             0|             0|             1|\n",
            "|          48|         236|       1| 2015-01-15 19:50:39|  2015-01-15 20:05:37|              2|          3.0|       0.0|         0.0|        14.3|                NULL|              14.3|         19|        14.97|     Manhattan|      Manhattan|             0|             0|             1|             0|             0|\n",
            "|         141|          50|       1| 2015-01-17 23:03:15|  2015-01-17 23:16:38|              1|          2.4|       1.5|         0.0|        14.3|                NULL|              12.8|         23|        13.38|     Manhattan|      Manhattan|             0|             0|             0|             0|             1|\n",
            "|         137|         262|       2| 2015-01-13 05:59:07|  2015-01-13 06:08:45|              1|          3.2|       0.0|         0.0|        12.3|                NULL|              12.3|          5|         9.63|     Manhattan|      Manhattan|             0|             0|             1|             0|             0|\n",
            "|         262|          75|       2| 2015-01-10 09:54:33|  2015-01-10 10:01:08|              1|         1.81|       1.5|         0.0|         9.8|                NULL|               8.3|          9|         6.58|     Manhattan|      Manhattan|             0|             0|             0|             0|             1|\n",
            "|         239|         236|       2| 2015-01-07 15:52:03|  2015-01-07 16:01:26|              1|         1.45|       1.0|         0.0|         9.8|                NULL|               8.8|         15|         9.38|     Manhattan|      Manhattan|             0|             0|             0|             0|             1|\n",
            "|          61|          13|       1| 2015-01-15 18:19:08|  2015-01-15 18:48:10|              1|          6.0|      5.95|         0.0|       29.75|                NULL|              23.8|         18|        29.03|     Manhattan|       Brooklyn|             0|             0|             0|             0|             1|\n",
            "|         170|         132|       1| 2015-01-15 17:08:01|  2015-01-15 17:57:21|              2|         16.4|       8.0|        5.33|       66.13|                NULL|58.129999999999995|         17|        49.33|        Queens|      Manhattan|             0|             0|             0|             0|             1|\n",
            "|         228|          13|       2| 2015-01-20 08:18:29|  2015-01-20 08:49:43|              5|         7.89|       0.0|         0.0|        27.8|                NULL|              27.8|          8|        31.23|     Manhattan|       Brooklyn|             0|             0|             1|             0|             0|\n",
            "|          61|         138|       1| 2015-01-13 14:08:14|  2015-01-13 14:51:32|              1|          9.7|       0.0|         0.0|        36.3|                NULL|              36.3|         14|         43.3|        Queens|       Brooklyn|             0|             0|             0|             0|             1|\n",
            "|          79|         234|       1| 2015-01-15 16:25:31|  2015-01-15 16:33:02|              2|          1.1|       0.0|         0.0|         8.8|                NULL|               8.8|         16|         7.52|     Manhattan|      Manhattan|             0|             0|             1|             0|             0|\n",
            "|         140|         239|       1| 2015-01-07 10:55:26|  2015-01-07 11:11:46|              1|          2.4|       2.5|         0.0|        15.8|                NULL|              13.3|         10|        16.33|     Manhattan|      Manhattan|             0|             0|             0|             0|             1|\n",
            "+------------+------------+--------+--------------------+---------------------+---------------+-------------+----------+------------+------------+--------------------+------------------+-----------+-------------+--------------+---------------+--------------+--------------+--------------+--------------+--------------+\n",
            "only showing top 20 rows\n",
            "\n"
          ]
        }
      ]
    },
    {
      "cell_type": "code",
      "source": [
        "# Count values where tip_amount is greater than 100\n",
        "count_tip_above_100 = df.filter(col(\"tip_amount\") < 0).count()\n",
        "\n",
        "# Display the result\n",
        "count_tip_above_100"
      ],
      "metadata": {
        "colab": {
          "base_uri": "https://localhost:8080/"
        },
        "id": "0i3WfVVJQbP3",
        "outputId": "a3673875-cd17-4d3f-bdfa-0974b1ec50d7"
      },
      "execution_count": null,
      "outputs": [
        {
          "output_type": "execute_result",
          "data": {
            "text/plain": [
              "0"
            ]
          },
          "metadata": {},
          "execution_count": 36
        }
      ]
    },
    {
      "cell_type": "code",
      "source": [
        "# Filter out rows where tip_amount is greater than 100\n",
        "df = df.filter(col(\"tip_amount\") <= 100)\n",
        "\n",
        "# Display the resulting DataFrame to confirm the filtering\n",
        "df.show()"
      ],
      "metadata": {
        "colab": {
          "base_uri": "https://localhost:8080/"
        },
        "id": "cTSyL_9XQsec",
        "outputId": "0f59ab1a-4e72-4123-a5f4-b01bf3248f87"
      },
      "execution_count": null,
      "outputs": [
        {
          "output_type": "stream",
          "name": "stdout",
          "text": [
            "+------------+------------+--------+--------------------+---------------------+---------------+-------------+----------+------------+------------+--------------------+------------------+-----------+-------------+--------------+---------------+--------------+--------------+--------------+--------------+--------------+\n",
            "|DOLocationID|PULocationID|VendorID|tpep_pickup_datetime|tpep_dropoff_datetime|passenger_count|trip_distance|tip_amount|tolls_amount|total_amount|congestion_surcharge|        total_fare|pickup_hour|trip_duration|Pickup_Borough|Dropoff_Borough|payment_type_4|payment_type_3|payment_type_2|payment_type_5|payment_type_1|\n",
            "+------------+------------+--------+--------------------+---------------------+---------------+-------------+----------+------------+------------+--------------------+------------------+-----------+-------------+--------------+---------------+--------------+--------------+--------------+--------------+--------------+\n",
            "|         145|         138|       1| 2015-01-06 09:12:23|  2015-01-06 09:37:46|              1|          6.0|       2.2|         0.0|        24.0|                NULL|              21.8|          9|        25.38|        Queens|         Queens|             0|             0|             0|             0|             1|\n",
            "|         107|         161|       1| 2015-01-17 14:41:04|  2015-01-17 14:52:16|              1|          1.9|       0.0|         0.0|        10.3|                NULL|              10.3|         14|         11.2|     Manhattan|      Manhattan|             0|             0|             1|             0|             0|\n",
            "|         142|         164|       2| 2015-01-08 13:59:04|  2015-01-08 14:21:54|              1|         2.98|       3.2|         0.0|        20.0|                NULL|              16.8|         13|        22.83|     Manhattan|      Manhattan|             0|             0|             0|             0|             1|\n",
            "|         142|         262|       2| 2015-01-15 09:54:28|  2015-01-15 10:08:31|              1|         2.79|       2.4|         0.0|        15.2|                NULL|              12.8|          9|        14.05|     Manhattan|      Manhattan|             0|             0|             0|             0|             1|\n",
            "|         138|          33|       1| 2015-01-01 08:50:58|  2015-01-01 09:10:56|              1|         10.9|       0.0|         0.0|        32.3|                NULL|              32.0|          8|        19.97|      Brooklyn|         Queens|             0|             0|             1|             0|             0|\n",
            "|         255|         114|       2| 2015-01-15 00:24:56|  2015-01-15 00:44:29|              5|         4.22|       3.6|         0.0|        22.4|                NULL|              18.8|          0|        19.55|     Manhattan|       Brooklyn|             0|             0|             0|             0|             1|\n",
            "|         238|         233|       2| 2015-01-09 20:25:53|  2015-01-09 20:42:38|              1|         3.68|       0.0|         0.0|        16.3|                NULL|              16.3|         20|        16.75|     Manhattan|      Manhattan|             0|             0|             1|             0|             0|\n",
            "|         224|         114|       1| 2015-01-03 00:05:03|  2015-01-03 00:11:35|              1|          1.2|      1.55|         0.0|        9.35|                NULL|               7.5|          0|         6.53|     Manhattan|      Manhattan|             0|             0|             0|             0|             1|\n",
            "|         230|         163|       1| 2015-01-10 17:55:45|  2015-01-10 18:07:25|              2|          1.1|      2.75|         0.0|       12.05|                NULL|               9.3|         17|        11.67|     Manhattan|      Manhattan|             0|             0|             0|             0|             1|\n",
            "|          48|         236|       1| 2015-01-15 19:50:39|  2015-01-15 20:05:37|              2|          3.0|       0.0|         0.0|        14.3|                NULL|              14.3|         19|        14.97|     Manhattan|      Manhattan|             0|             0|             1|             0|             0|\n",
            "|         141|          50|       1| 2015-01-17 23:03:15|  2015-01-17 23:16:38|              1|          2.4|       1.5|         0.0|        14.3|                NULL|              12.8|         23|        13.38|     Manhattan|      Manhattan|             0|             0|             0|             0|             1|\n",
            "|         137|         262|       2| 2015-01-13 05:59:07|  2015-01-13 06:08:45|              1|          3.2|       0.0|         0.0|        12.3|                NULL|              12.3|          5|         9.63|     Manhattan|      Manhattan|             0|             0|             1|             0|             0|\n",
            "|         262|          75|       2| 2015-01-10 09:54:33|  2015-01-10 10:01:08|              1|         1.81|       1.5|         0.0|         9.8|                NULL|               8.3|          9|         6.58|     Manhattan|      Manhattan|             0|             0|             0|             0|             1|\n",
            "|         239|         236|       2| 2015-01-07 15:52:03|  2015-01-07 16:01:26|              1|         1.45|       1.0|         0.0|         9.8|                NULL|               8.8|         15|         9.38|     Manhattan|      Manhattan|             0|             0|             0|             0|             1|\n",
            "|          61|          13|       1| 2015-01-15 18:19:08|  2015-01-15 18:48:10|              1|          6.0|      5.95|         0.0|       29.75|                NULL|              23.8|         18|        29.03|     Manhattan|       Brooklyn|             0|             0|             0|             0|             1|\n",
            "|         170|         132|       1| 2015-01-15 17:08:01|  2015-01-15 17:57:21|              2|         16.4|       8.0|        5.33|       66.13|                NULL|58.129999999999995|         17|        49.33|        Queens|      Manhattan|             0|             0|             0|             0|             1|\n",
            "|         228|          13|       2| 2015-01-20 08:18:29|  2015-01-20 08:49:43|              5|         7.89|       0.0|         0.0|        27.8|                NULL|              27.8|          8|        31.23|     Manhattan|       Brooklyn|             0|             0|             1|             0|             0|\n",
            "|          61|         138|       1| 2015-01-13 14:08:14|  2015-01-13 14:51:32|              1|          9.7|       0.0|         0.0|        36.3|                NULL|              36.3|         14|         43.3|        Queens|       Brooklyn|             0|             0|             0|             0|             1|\n",
            "|          79|         234|       1| 2015-01-15 16:25:31|  2015-01-15 16:33:02|              2|          1.1|       0.0|         0.0|         8.8|                NULL|               8.8|         16|         7.52|     Manhattan|      Manhattan|             0|             0|             1|             0|             0|\n",
            "|         140|         239|       1| 2015-01-07 10:55:26|  2015-01-07 11:11:46|              1|          2.4|       2.5|         0.0|        15.8|                NULL|              13.3|         10|        16.33|     Manhattan|      Manhattan|             0|             0|             0|             0|             1|\n",
            "+------------+------------+--------+--------------------+---------------------+---------------+-------------+----------+------------+------------+--------------------+------------------+-----------+-------------+--------------+---------------+--------------+--------------+--------------+--------------+--------------+\n",
            "only showing top 20 rows\n",
            "\n"
          ]
        }
      ]
    },
    {
      "cell_type": "code",
      "source": [
        "# Count values where tolls_amount is greater than 16\n",
        "count_tolls_above_16 = df.filter(col(\"tolls_amount\") >16).count()\n",
        "\n",
        "# Display the result\n",
        "count_tolls_above_16"
      ],
      "metadata": {
        "colab": {
          "base_uri": "https://localhost:8080/"
        },
        "id": "i3gGkrzzSXDX",
        "outputId": "4f37d83e-50d2-4881-cb9e-fae040909f7a"
      },
      "execution_count": null,
      "outputs": [
        {
          "output_type": "execute_result",
          "data": {
            "text/plain": [
              "26452"
            ]
          },
          "metadata": {},
          "execution_count": 37
        }
      ]
    },
    {
      "cell_type": "code",
      "source": [
        "# Filter out rows where tolls_amount is greater than 16\n",
        "df = df.filter(col(\"tolls_amount\") <=16)\n",
        "\n",
        "# Display the resulting DataFrame to confirm the filtering\n",
        "df.show()"
      ],
      "metadata": {
        "colab": {
          "base_uri": "https://localhost:8080/"
        },
        "id": "_OMTmUE1S1J9",
        "outputId": "b8911400-9a86-45f0-e0d8-f7244a9d03b3"
      },
      "execution_count": null,
      "outputs": [
        {
          "output_type": "stream",
          "name": "stdout",
          "text": [
            "+------------+------------+--------+--------------------+---------------------+---------------+-------------+----------+------------+------------+--------------------+------------------+-----------+-------------+--------------+---------------+--------------+--------------+--------------+--------------+--------------+\n",
            "|DOLocationID|PULocationID|VendorID|tpep_pickup_datetime|tpep_dropoff_datetime|passenger_count|trip_distance|tip_amount|tolls_amount|total_amount|congestion_surcharge|        total_fare|pickup_hour|trip_duration|Pickup_Borough|Dropoff_Borough|payment_type_4|payment_type_3|payment_type_2|payment_type_5|payment_type_1|\n",
            "+------------+------------+--------+--------------------+---------------------+---------------+-------------+----------+------------+------------+--------------------+------------------+-----------+-------------+--------------+---------------+--------------+--------------+--------------+--------------+--------------+\n",
            "|         145|         138|       1| 2015-01-06 09:12:23|  2015-01-06 09:37:46|              1|          6.0|       2.2|         0.0|        24.0|                NULL|              21.8|          9|        25.38|        Queens|         Queens|             0|             0|             0|             0|             1|\n",
            "|         107|         161|       1| 2015-01-17 14:41:04|  2015-01-17 14:52:16|              1|          1.9|       0.0|         0.0|        10.3|                NULL|              10.3|         14|         11.2|     Manhattan|      Manhattan|             0|             0|             1|             0|             0|\n",
            "|         142|         164|       2| 2015-01-08 13:59:04|  2015-01-08 14:21:54|              1|         2.98|       3.2|         0.0|        20.0|                NULL|              16.8|         13|        22.83|     Manhattan|      Manhattan|             0|             0|             0|             0|             1|\n",
            "|         142|         262|       2| 2015-01-15 09:54:28|  2015-01-15 10:08:31|              1|         2.79|       2.4|         0.0|        15.2|                NULL|              12.8|          9|        14.05|     Manhattan|      Manhattan|             0|             0|             0|             0|             1|\n",
            "|         138|          33|       1| 2015-01-01 08:50:58|  2015-01-01 09:10:56|              1|         10.9|       0.0|         0.0|        32.3|                NULL|              32.0|          8|        19.97|      Brooklyn|         Queens|             0|             0|             1|             0|             0|\n",
            "|         255|         114|       2| 2015-01-15 00:24:56|  2015-01-15 00:44:29|              5|         4.22|       3.6|         0.0|        22.4|                NULL|              18.8|          0|        19.55|     Manhattan|       Brooklyn|             0|             0|             0|             0|             1|\n",
            "|         238|         233|       2| 2015-01-09 20:25:53|  2015-01-09 20:42:38|              1|         3.68|       0.0|         0.0|        16.3|                NULL|              16.3|         20|        16.75|     Manhattan|      Manhattan|             0|             0|             1|             0|             0|\n",
            "|         224|         114|       1| 2015-01-03 00:05:03|  2015-01-03 00:11:35|              1|          1.2|      1.55|         0.0|        9.35|                NULL|               7.5|          0|         6.53|     Manhattan|      Manhattan|             0|             0|             0|             0|             1|\n",
            "|         230|         163|       1| 2015-01-10 17:55:45|  2015-01-10 18:07:25|              2|          1.1|      2.75|         0.0|       12.05|                NULL|               9.3|         17|        11.67|     Manhattan|      Manhattan|             0|             0|             0|             0|             1|\n",
            "|          48|         236|       1| 2015-01-15 19:50:39|  2015-01-15 20:05:37|              2|          3.0|       0.0|         0.0|        14.3|                NULL|              14.3|         19|        14.97|     Manhattan|      Manhattan|             0|             0|             1|             0|             0|\n",
            "|         141|          50|       1| 2015-01-17 23:03:15|  2015-01-17 23:16:38|              1|          2.4|       1.5|         0.0|        14.3|                NULL|              12.8|         23|        13.38|     Manhattan|      Manhattan|             0|             0|             0|             0|             1|\n",
            "|         137|         262|       2| 2015-01-13 05:59:07|  2015-01-13 06:08:45|              1|          3.2|       0.0|         0.0|        12.3|                NULL|              12.3|          5|         9.63|     Manhattan|      Manhattan|             0|             0|             1|             0|             0|\n",
            "|         262|          75|       2| 2015-01-10 09:54:33|  2015-01-10 10:01:08|              1|         1.81|       1.5|         0.0|         9.8|                NULL|               8.3|          9|         6.58|     Manhattan|      Manhattan|             0|             0|             0|             0|             1|\n",
            "|         239|         236|       2| 2015-01-07 15:52:03|  2015-01-07 16:01:26|              1|         1.45|       1.0|         0.0|         9.8|                NULL|               8.8|         15|         9.38|     Manhattan|      Manhattan|             0|             0|             0|             0|             1|\n",
            "|          61|          13|       1| 2015-01-15 18:19:08|  2015-01-15 18:48:10|              1|          6.0|      5.95|         0.0|       29.75|                NULL|              23.8|         18|        29.03|     Manhattan|       Brooklyn|             0|             0|             0|             0|             1|\n",
            "|         170|         132|       1| 2015-01-15 17:08:01|  2015-01-15 17:57:21|              2|         16.4|       8.0|        5.33|       66.13|                NULL|58.129999999999995|         17|        49.33|        Queens|      Manhattan|             0|             0|             0|             0|             1|\n",
            "|         228|          13|       2| 2015-01-20 08:18:29|  2015-01-20 08:49:43|              5|         7.89|       0.0|         0.0|        27.8|                NULL|              27.8|          8|        31.23|     Manhattan|       Brooklyn|             0|             0|             1|             0|             0|\n",
            "|          61|         138|       1| 2015-01-13 14:08:14|  2015-01-13 14:51:32|              1|          9.7|       0.0|         0.0|        36.3|                NULL|              36.3|         14|         43.3|        Queens|       Brooklyn|             0|             0|             0|             0|             1|\n",
            "|          79|         234|       1| 2015-01-15 16:25:31|  2015-01-15 16:33:02|              2|          1.1|       0.0|         0.0|         8.8|                NULL|               8.8|         16|         7.52|     Manhattan|      Manhattan|             0|             0|             1|             0|             0|\n",
            "|         140|         239|       1| 2015-01-07 10:55:26|  2015-01-07 11:11:46|              1|          2.4|       2.5|         0.0|        15.8|                NULL|              13.3|         10|        16.33|     Manhattan|      Manhattan|             0|             0|             0|             0|             1|\n",
            "+------------+------------+--------+--------------------+---------------------+---------------+-------------+----------+------------+------------+--------------------+------------------+-----------+-------------+--------------+---------------+--------------+--------------+--------------+--------------+--------------+\n",
            "only showing top 20 rows\n",
            "\n"
          ]
        }
      ]
    },
    {
      "cell_type": "code",
      "source": [
        "\n",
        "# Specify the path to save the new Parquet file\n",
        "output_path = '/content/drive/My Drive/Colab Notebooks/BDA_Proj03/data/filtered_data.parquet'\n",
        "\n",
        "# Write the filtered DataFrame to a new Parquet file\n",
        "df.write.mode(\"overwrite\").parquet(output_path)\n",
        "\n",
        "print(\"Filtered dataset has been saved to:\", output_path)"
      ],
      "metadata": {
        "colab": {
          "base_uri": "https://localhost:8080/"
        },
        "id": "UjAAeUQ0-SXH",
        "outputId": "d52ec314-c233-4640-93b9-4622ef19b17a"
      },
      "execution_count": null,
      "outputs": [
        {
          "output_type": "stream",
          "name": "stdout",
          "text": [
            "Filtered dataset has been saved to: /content/drive/My Drive/Colab Notebooks/BDA_Proj03/data/filtered_data.parquet\n"
          ]
        }
      ]
    },
    {
      "cell_type": "markdown",
      "source": [
        "# Q2: Predict the duration of a taxi trip based on trip start time and location (pick up and dropoff)\n"
      ],
      "metadata": {
        "id": "0Y8jdyvtfNDy"
      }
    },
    {
      "cell_type": "code",
      "source": [
        "from pyspark.ml.feature import VectorAssembler, StringIndexer\n",
        "from pyspark.ml.regression import LinearRegression\n",
        "from pyspark.ml.evaluation import RegressionEvaluator\n",
        "from pyspark.sql import SparkSession\n",
        "\n",
        "# Initialize Spark session\n",
        "spark = SparkSession.builder.appName(\"TaxiTripDurationPrediction\").getOrCreate()\n",
        "# Select necessary columns and drop rows with null values\n",
        "df = df.select(\"PULocationID\", \"DOLocationID\", \"trip_distance\", \"total_fare\", \"trip_duration\").dropna()\n",
        "\n",
        "# Index the PULocationID and DOLocationID columns\n",
        "pulocation_indexer = StringIndexer(inputCol=\"PULocationID\", outputCol=\"PULocationID_index\")\n",
        "dolocation_indexer = StringIndexer(inputCol=\"DOLocationID\", outputCol=\"DOLocationID_index\")\n",
        "\n",
        "df = pulocation_indexer.fit(df).transform(df)\n",
        "df = dolocation_indexer.fit(df).transform(df)\n",
        "\n",
        "# Assemble the indexed and numerical features into a single feature vector\n",
        "feature_columns = [\"PULocationID_index\", \"DOLocationID_index\", \"trip_distance\", \"total_fare\"]\n",
        "assembler = VectorAssembler(inputCols=feature_columns, outputCol=\"features\")\n",
        "data = assembler.transform(df)\n",
        "\n",
        "# Split the data into training and testing sets\n",
        "train_data, test_data = data.randomSplit([0.8, 0.2], seed=42)\n",
        "\n",
        "# Initialize and train the model\n",
        "lr = LinearRegression(featuresCol=\"features\", labelCol=\"trip_duration\")\n",
        "model = lr.fit(train_data)\n",
        "\n",
        "# Make predictions on the test data\n",
        "predictions = model.transform(test_data)\n",
        "predictions.select(\"trip_duration\", \"prediction\").show()\n",
        "\n",
        "# Evaluate the model\n",
        "evaluator = RegressionEvaluator(labelCol=\"trip_duration\", predictionCol=\"prediction\", metricName=\"rmse\")\n",
        "rmse = evaluator.evaluate(predictions)\n",
        "print(f\"Root Mean Squared Error (RMSE) on test data: {rmse}\")"
      ],
      "metadata": {
        "colab": {
          "base_uri": "https://localhost:8080/"
        },
        "id": "XGjwI2jWCNAu",
        "outputId": "b197c4ed-5eac-4427-c8d8-591058f352e9"
      },
      "execution_count": null,
      "outputs": [
        {
          "output_type": "stream",
          "name": "stdout",
          "text": [
            "+-------------+------------------+\n",
            "|trip_duration|        prediction|\n",
            "+-------------+------------------+\n",
            "|        30.72|23.495226375079238|\n",
            "|        26.55| 71.32382237518468|\n",
            "|         50.4| 33.25755374691845|\n",
            "|        19.97|16.556531473283624|\n",
            "|        12.57|  11.7980116718796|\n",
            "|         36.9| 34.73949948125577|\n",
            "|        14.25| 17.58218910159098|\n",
            "|        45.37| 71.32765543172745|\n",
            "|         6.38|  9.46978672201308|\n",
            "|         6.02| 8.036440507806955|\n",
            "|         5.52|  8.72333581061162|\n",
            "|        13.72| 13.53160293024428|\n",
            "|          7.4| 9.918459590430565|\n",
            "|         7.28| 9.799348373236976|\n",
            "|        10.17| 12.93604684427633|\n",
            "|        16.65|14.480584144851436|\n",
            "|        15.42| 14.41310840543003|\n",
            "|        28.55|22.441699251997104|\n",
            "|        20.48| 20.00464789081457|\n",
            "|        28.17|20.981401105778605|\n",
            "+-------------+------------------+\n",
            "only showing top 20 rows\n",
            "\n",
            "Root Mean Squared Error (RMSE) on test data: 4.7519428526282805\n"
          ]
        }
      ]
    },
    {
      "cell_type": "markdown",
      "source": [
        "### Explanation of the Output\n",
        "\n",
        "The output provides two key results:\n",
        "\n",
        "1. **Predicted vs. Actual Trip Durations:**  \n",
        "   The table displays the actual and predicted values of `trip_duration` for the first 20 rows in the test data. Each row represents a trip where:\n",
        "   - `trip_duration` is the actual duration of the trip.\n",
        "   - `prediction` is the model’s predicted duration based on the input features.\n",
        "\n",
        "2. **Root Mean Squared Error (RMSE):**  \n",
        "   RMSE is a commonly used metric to evaluate the performance of regression models. It calculates the average magnitude of errors between the predicted and actual values. In this output, the RMSE is approximately `4.75`, which indicates that, on average, the model’s predictions are off by 4.75 minutes when predicting `trip_duration`.\n",
        "\n",
        "### Analysis\n",
        "\n",
        "#### 1. Prediction Accuracy:\n",
        "   - The model has done reasonably well on certain predictions, especially for shorter trip durations. For example, the prediction for a trip with an actual duration of 19.97 minutes was 16.56 minutes—quite close.\n",
        "   - However, for some longer trips, the predictions are less accurate. For instance, the model predicted 71.32 minutes for a trip with an actual duration of 26.55 minutes, indicating a larger error.\n",
        "\n",
        "#### 2. Root Mean Squared Error (RMSE):\n",
        "   - The RMSE of 4.75 suggests that there is moderate error in the model’s predictions. In taxi trip duration prediction, an RMSE around this value might be acceptable depending on the context, but there could likely be room for improvement.\n",
        "   - A lower RMSE would mean that the predictions are closer to the actual values on average. For instance, an RMSE closer to 1-2 minutes would indicate a high-performing model, while a higher RMSE would indicate more room for improvement.\n"
      ],
      "metadata": {
        "id": "sucGFj5kgVE4"
      }
    },
    {
      "cell_type": "code",
      "source": [
        "df_new_trip =df[df['trip_duration'] ==26.55]\n",
        "df_new_trip.show()"
      ],
      "metadata": {
        "colab": {
          "base_uri": "https://localhost:8080/"
        },
        "id": "jnzzifE_qXdj",
        "outputId": "72c415ea-64bd-4928-c3ce-e516a112ff2e"
      },
      "execution_count": null,
      "outputs": [
        {
          "output_type": "stream",
          "name": "stdout",
          "text": [
            "+------------+------------+-------------+------------------+-------------+------------------+------------------+\n",
            "|PULocationID|DOLocationID|trip_distance|        total_fare|trip_duration|PULocationID_index|DOLocationID_index|\n",
            "+------------+------------+-------------+------------------+-------------+------------------+------------------+\n",
            "|         132|         186|        16.73|58.129999999999995|        26.55|              19.0|               7.0|\n",
            "|         161|         138|        10.24|38.129999999999995|        26.55|               1.0|              24.0|\n",
            "|          87|         107|          4.1|              21.8|        26.55|              42.0|              15.0|\n",
            "|         236|         234|          3.6|              19.8|        26.55|               6.0|               6.0|\n",
            "|          48|          14|        11.77|41.129999999999995|        26.55|               9.0|              93.0|\n",
            "|         132|         234|        17.93|58.129999999999995|        26.55|              19.0|               6.0|\n",
            "|         113|          75|          4.7|              21.8|        26.55|              26.0|              37.0|\n",
            "|         232|          48|          4.8|              21.8|        26.55|              55.0|               9.0|\n",
            "|         230|          45|         4.49|              20.3|        26.55|               7.0|              67.0|\n",
            "|         229|         236|          2.7|              17.8|        26.55|              21.0|               1.0|\n",
            "|         142|         216|         19.7|58.129999999999995|        26.55|              10.0|             117.0|\n",
            "|         132|         102|          8.2|              27.8|        26.55|              19.0|             150.0|\n",
            "|         230|          41|         4.56|              21.3|        26.55|               7.0|              47.0|\n",
            "|         231|         244|        11.36|              34.8|        26.55|              20.0|              59.0|\n",
            "|         211|          74|         6.69|              23.3|        26.55|              41.0|              44.0|\n",
            "|         132|         230|        17.16|58.129999999999995|        26.55|              19.0|               4.0|\n",
            "|         138|          48|         11.5|40.129999999999995|        26.55|              11.0|               9.0|\n",
            "|         138|         265|        15.71|              43.8|        26.55|              11.0|              81.0|\n",
            "|         264|         264|          3.7|              18.8|        26.55|              29.0|              25.0|\n",
            "|         158|         131|         14.1|46.129999999999995|        26.55|              32.0|             165.0|\n",
            "+------------+------------+-------------+------------------+-------------+------------------+------------------+\n",
            "only showing top 20 rows\n",
            "\n"
          ]
        }
      ]
    },
    {
      "cell_type": "markdown",
      "source": [
        "# Q4: Predict whether a passenger will pay by card or cash"
      ],
      "metadata": {
        "id": "CHA5mZKQL1PM"
      }
    },
    {
      "cell_type": "markdown",
      "source": [
        "## Payment Type Data Preparation and Analysis\n"
      ],
      "metadata": {
        "id": "FbYVLIw2Q0kZ"
      }
    },
    {
      "cell_type": "code",
      "source": [
        "from pyspark.sql.functions import when, col\n",
        "\n",
        "# Create target variable\n",
        "df = df.withColumn(\"payment_type\",\n",
        "                   when(col(\"payment_type_1\") == 1, 1)\n",
        "                   .when(col(\"payment_type_2\") == 1, 0)\n",
        "                   .otherwise(None))\n",
        "\n",
        "# Drop rows with other payment types\n",
        "df = df.filter(col(\"payment_type\").isNotNull())\n",
        "\n",
        "# Drop original payment type columns\n",
        "columns_to_drop = [\"payment_type_1\", \"payment_type_2\", \"payment_type_3\", \"payment_type_4\", \"payment_type_5\"]\n",
        "df = df.drop(*columns_to_drop)\n",
        "\n",
        "# Show the updated schema and sample data\n",
        "print(\"Updated Schema:\")\n",
        "df.printSchema()\n",
        "\n",
        "print(\"\\nUpdated Sample Data:\")\n",
        "df.show(5)\n",
        "\n",
        "# Check the distribution of the target variable\n",
        "print(\"\\nPayment Type Distribution:\")\n",
        "df.groupBy(\"payment_type\").count().show()"
      ],
      "metadata": {
        "colab": {
          "base_uri": "https://localhost:8080/"
        },
        "id": "h9D1P0P9d_iI",
        "outputId": "026f2a07-640e-420f-fa95-f3d8a9a02b43"
      },
      "execution_count": null,
      "outputs": [
        {
          "output_type": "stream",
          "name": "stdout",
          "text": [
            "Updated Schema:\n",
            "root\n",
            " |-- DOLocationID: long (nullable = true)\n",
            " |-- PULocationID: long (nullable = true)\n",
            " |-- VendorID: long (nullable = true)\n",
            " |-- tpep_pickup_datetime: timestamp (nullable = true)\n",
            " |-- tpep_dropoff_datetime: timestamp (nullable = true)\n",
            " |-- passenger_count: double (nullable = true)\n",
            " |-- trip_distance: double (nullable = true)\n",
            " |-- tip_amount: double (nullable = true)\n",
            " |-- tolls_amount: double (nullable = true)\n",
            " |-- total_amount: double (nullable = true)\n",
            " |-- congestion_surcharge: double (nullable = true)\n",
            " |-- total_fare: double (nullable = true)\n",
            " |-- pickup_hour: integer (nullable = true)\n",
            " |-- trip_duration: double (nullable = true)\n",
            " |-- Pickup_Borough: string (nullable = true)\n",
            " |-- Dropoff_Borough: string (nullable = true)\n",
            " |-- payment_type_0: integer (nullable = true)\n",
            " |-- payment_type: integer (nullable = true)\n",
            "\n",
            "\n",
            "Updated Sample Data:\n",
            "+------------+------------+--------+--------------------+---------------------+---------------+-------------+----------+------------+------------+--------------------+----------+-----------+-------------+--------------+---------------+--------------+------------+\n",
            "|DOLocationID|PULocationID|VendorID|tpep_pickup_datetime|tpep_dropoff_datetime|passenger_count|trip_distance|tip_amount|tolls_amount|total_amount|congestion_surcharge|total_fare|pickup_hour|trip_duration|Pickup_Borough|Dropoff_Borough|payment_type_0|payment_type|\n",
            "+------------+------------+--------+--------------------+---------------------+---------------+-------------+----------+------------+------------+--------------------+----------+-----------+-------------+--------------+---------------+--------------+------------+\n",
            "|         239|         238|       1| 2020-01-01 00:28:15|  2020-01-01 00:33:03|            1.0|          1.2|      1.47|         0.0|       11.27|                 2.5|       9.8|          0|          4.8|     Manhattan|      Manhattan|             0|           1|\n",
            "|         238|         239|       1| 2020-01-01 00:35:39|  2020-01-01 00:43:04|            1.0|          1.2|       1.5|         0.0|        12.3|                 2.5|      10.8|          0|         7.42|     Manhattan|      Manhattan|             0|           1|\n",
            "|          79|         246|       1| 2020-01-01 00:55:11|  2020-01-01 01:12:03|            2.0|          2.4|      1.75|         0.0|       17.55|                 2.5|      15.8|          0|        16.87|     Manhattan|      Manhattan|             0|           1|\n",
            "|         144|         161|       1| 2020-01-01 00:56:27|  2020-01-01 01:21:44|            1.0|          3.3|      4.15|         0.0|       24.95|                 2.5|      20.8|          0|        25.28|     Manhattan|      Manhattan|             0|           1|\n",
            "|         239|          43|       2| 2020-01-01 00:21:54|  2020-01-01 00:27:31|            1.0|         1.07|      1.96|         0.0|       11.76|                 2.5|       7.3|          0|         5.62|     Manhattan|      Manhattan|             0|           1|\n",
            "+------------+------------+--------+--------------------+---------------------+---------------+-------------+----------+------------+------------+--------------------+----------+-----------+-------------+--------------+---------------+--------------+------------+\n",
            "only showing top 5 rows\n",
            "\n",
            "\n",
            "Payment Type Distribution:\n",
            "+------------+-------+\n",
            "|payment_type|  count|\n",
            "+------------+-------+\n",
            "|           1|8788837|\n",
            "|           0|2759148|\n",
            "+------------+-------+\n",
            "\n"
          ]
        }
      ]
    },
    {
      "cell_type": "markdown",
      "source": [
        "Data Transformation:\n",
        "- 1 represents card payments\n",
        "- 0 represents cash payments\n",
        "\n",
        "Data Cleaning:\n",
        "\n",
        "Removes rows with other payment types\n",
        "Drops the original payment type columns to simplify the dataset\n",
        "Distribution Analysis:\n",
        "\n",
        "The payment type distribution shows:\n",
        "- Card payments (1): 8,788,837 rides (76.1%)\n",
        "- Cash payments (0): 2,759,148 rides (23.9%)\n",
        "\n",
        "This indicates a significant imbalance in the dataset, with card payments being more than three times more common than cash payments. This imbalance should be considered when building the prediction model to ensure fair treatment of both payment types.\n",
        "\n",
        "The schema shows all relevant features that could influence payment type prediction, including:\n",
        "Location IDs\n",
        "- Trip details (distance, duration, passenger count)\n",
        "- Temporal information (pickup datetime)\n",
        "- Fare information (total amount, tip amount)\n",
        "- Geographic information (pickup and dropoff boroughs)\n",
        "\n"
      ],
      "metadata": {
        "id": "YxvC9uVFQ3Sq"
      }
    },
    {
      "cell_type": "markdown",
      "source": [
        "## Correlation Analysis of Numerical Features\n",
        "This code creates a correlation heatmap to analyze relationships between numerical features in the taxi dataset. Key observations from the heatmap:"
      ],
      "metadata": {
        "id": "vg9N9J3QR_Kr"
      }
    },
    {
      "cell_type": "code",
      "source": [
        "from pyspark.sql import SparkSession\n",
        "from pyspark.sql import functions as F\n",
        "from pyspark.ml.feature import VectorAssembler\n",
        "from pyspark.ml.stat import Correlation\n",
        "import seaborn as sns\n",
        "import matplotlib.pyplot as plt\n",
        "\n",
        "# Initialize Spark session\n",
        "spark = SparkSession.builder.appName(\"TaxiDataAnalysis\").getOrCreate()\n",
        "\n",
        "numerical_features = ['passenger_count', 'trip_distance', 'tip_amount', 'tolls_amount', 'total_fare', 'pickup_hour', 'trip_duration']\n",
        "\n",
        "# Create a vector of features\n",
        "vector_col = \"features\"\n",
        "assembler = VectorAssembler(inputCols=numerical_features, outputCol=vector_col)\n",
        "df_vector = assembler.transform(df).select(vector_col, \"payment_type\")\n",
        "\n",
        "# Compute correlation matrix\n",
        "matrix = Correlation.corr(df_vector, vector_col).collect()[0][0]\n",
        "corr_matrix = matrix.toArray().tolist()\n",
        "\n",
        "# Convert to Pandas for visualization (only the correlation matrix, not the entire dataset)\n",
        "corr_df = spark.createDataFrame(corr_matrix, numerical_features).toPandas()\n",
        "\n",
        "# Visualize correlation heatmap\n",
        "plt.figure(figsize=(12, 10))\n",
        "sns.heatmap(corr_df, annot=True, cmap=\"coolwarm\", xticklabels=numerical_features, yticklabels=numerical_features)\n",
        "plt.title(\"Correlation Heatmap of Numerical Features\")\n",
        "plt.tight_layout()\n",
        "plt.show()\n"
      ],
      "metadata": {
        "colab": {
          "base_uri": "https://localhost:8080/",
          "height": 1000
        },
        "id": "pg6OOuvodRbm",
        "outputId": "7066340e-59d0-4b61-d57a-98a20012c7fb"
      },
      "execution_count": null,
      "outputs": [
        {
          "output_type": "display_data",
          "data": {
            "text/plain": [
              "<Figure size 1200x1000 with 2 Axes>"
            ],
            "image/png": "[encoded data removed]"
          },
          "metadata": {}
        }
      ]
    },
    {
      "cell_type": "markdown",
      "source": [
        "**Strong Positive Correlations**:\n",
        "\n",
        "Total fare and trip distance (0.95): Indicates fare is heavily dependent on distance traveled\n",
        "\n",
        "Trip duration and total fare (0.83): Longer trips generally cost more\n",
        "\n",
        "Trip duration and trip distance (0.76): Longer distances naturally take more time\n",
        "\n",
        "Tolls amount and trip distance (0.61): Longer trips are more likely to incur toll charges\n",
        "\n",
        "**Moderate Correlations:**\n",
        "\n",
        "Tip amount and trip distance (0.54): Passengers tend to give higher tips for longer trips\n",
        "\n",
        "Tip amount and total fare (0.57): Higher fares generally result in higher tips\n",
        "\n",
        "Tolls amount and total fare (0.69): Toll charges contribute to the total fare\n",
        "\n",
        "**Weak or No Correlations**\n",
        "\n",
        "Passenger count shows minimal correlation with other features (all correlations < 0.02)\n",
        "\n",
        "Pickup hour has very weak correlations with all other features (all correlations < 0.04)\n",
        "\n",
        "Tolls amount and tip amount show moderate correlation (0.45)\n",
        "This correlation analysis helps identify which features might be most important for predicting payment type and understanding the relationships between different aspects of taxi trips."
      ],
      "metadata": {
        "id": "L5d5QQZMSa9p"
      }
    },
    {
      "cell_type": "code",
      "source": [
        "from pyspark.sql import functions as F\n",
        "import plotly.graph_objects as go\n",
        "import plotly.express as px\n",
        "from plotly.subplots import make_subplots\n",
        "\n",
        "# 1. Payment Type Distribution\n",
        "payment_dist = df.groupBy(\"payment_type\").count().toPandas()\n",
        "fig1 = px.pie(payment_dist, values='count', names='payment_type',\n",
        "              title='Payment Type Distribution',\n",
        "              labels={0: 'Non-Cash', 1: 'Cash'})\n",
        "fig1.show()"
      ],
      "metadata": {
        "colab": {
          "base_uri": "https://localhost:8080/",
          "height": 542
        },
        "id": "BrVEZxRtew18",
        "outputId": "1bf4e398-06b2-49b2-adae-b4238d9353ca"
      },
      "execution_count": null,
      "outputs": [
        {
          "output_type": "display_data",
          "data": {
            "text/html": [
              "<html>\n",
              "<head><meta charset=\"utf-8\" /></head>\n",
              "<body>\n",
              "    <div>            <script src=\"https://cdnjs.cloudflare.com/ajax/libs/mathjax/2.7.5/MathJax.js?config=TeX-AMS-MML_SVG\"></script><script type=\"text/javascript\">if (window.MathJax && window.MathJax.Hub && window.MathJax.Hub.Config) {window.MathJax.Hub.Config({SVG: {font: \"STIX-Web\"}});}</script>                <script type=\"text/javascript\">window.PlotlyConfig = {MathJaxConfig: 'local'};</script>\n",
              "        <script charset=\"utf-8\" src=\"https://cdn.plot.ly/plotly-2.35.2.min.js\"></script>                <div id=\"a204e1a3-0f3c-421a-8b60-59aeb2bc76dd\" class=\"plotly-graph-div\" style=\"height:525px; width:100%;\"></div>            <script type=\"text/javascript\">                                    window.PLOTLYENV=window.PLOTLYENV || {};                                    if (document.getElementById(\"a204e1a3-0f3c-421a-8b60-59aeb2bc76dd\")) {                    Plotly.newPlot(                        \"a204e1a3-0f3c-421a-8b60-59aeb2bc76dd\",                        [{\"domain\":{\"x\":[0.0,1.0],\"y\":[0.0,1.0]},\"hovertemplate\":\"payment_type=%{label}\\u003cbr\\u003ecount=%{value}\\u003cextra\\u003e\\u003c\\u002fextra\\u003e\",\"labels\":[1,0],\"legendgroup\":\"\",\"name\":\"\",\"showlegend\":true,\"values\":[8788837,2759148],\"type\":\"pie\"}],                        {\"template\":{\"data\":{\"histogram2dcontour\":[{\"type\":\"histogram2dcontour\",\"colorbar\":{\"outlinewidth\":0,\"ticks\":\"\"},\"colorscale\":[[0.0,\"#0d0887\"],[0.1111111111111111,\"#46039f\"],[0.2222222222222222,\"#7201a8\"],[0.3333333333333333,\"#9c179e\"],[0.4444444444444444,\"#bd3786\"],[0.5555555555555556,\"#d8576b\"],[0.6666666666666666,\"#ed7953\"],[0.7777777777777778,\"#fb9f3a\"],[0.8888888888888888,\"#fdca26\"],[1.0,\"#f0f921\"]]}],\"choropleth\":[{\"type\":\"choropleth\",\"colorbar\":{\"outlinewidth\":0,\"ticks\":\"\"}}],\"histogram2d\":[{\"type\":\"histogram2d\",\"colorbar\":{\"outlinewidth\":0,\"ticks\":\"\"},\"colorscale\":[[0.0,\"#0d0887\"],[0.1111111111111111,\"#46039f\"],[0.2222222222222222,\"#7201a8\"],[0.3333333333333333,\"#9c179e\"],[0.4444444444444444,\"#bd3786\"],[0.5555555555555556,\"#d8576b\"],[0.6666666666666666,\"#ed7953\"],[0.7777777777777778,\"#fb9f3a\"],[0.8888888888888888,\"#fdca26\"],[1.0,\"#f0f921\"]]}],\"heatmap\":[{\"type\":\"heatmap\",\"colorbar\":{\"outlinewidth\":0,\"ticks\":\"\"},\"colorscale\":[[0.0,\"#0d0887\"],[0.1111111111111111,\"#46039f\"],[0.2222222222222222,\"#7201a8\"],[0.3333333333333333,\"#9c179e\"],[0.4444444444444444,\"#bd3786\"],[0.5555555555555556,\"#d8576b\"],[0.6666666666666666,\"#ed7953\"],[0.7777777777777778,\"#fb9f3a\"],[0.8888888888888888,\"#fdca26\"],[1.0,\"#f0f921\"]]}],\"heatmapgl\":[{\"type\":\"heatmapgl\",\"colorbar\":{\"outlinewidth\":0,\"ticks\":\"\"},\"colorscale\":[[0.0,\"#0d0887\"],[0.1111111111111111,\"#46039f\"],[0.2222222222222222,\"#7201a8\"],[0.3333333333333333,\"#9c179e\"],[0.4444444444444444,\"#bd3786\"],[0.5555555555555556,\"#d8576b\"],[0.6666666666666666,\"#ed7953\"],[0.7777777777777778,\"#fb9f3a\"],[0.8888888888888888,\"#fdca26\"],[1.0,\"#f0f921\"]]}],\"contourcarpet\":[{\"type\":\"contourcarpet\",\"colorbar\":{\"outlinewidth\":0,\"ticks\":\"\"}}],\"contour\":[{\"type\":\"contour\",\"colorbar\":{\"outlinewidth\":0,\"ticks\":\"\"},\"colorscale\":[[0.0,\"#0d0887\"],[0.1111111111111111,\"#46039f\"],[0.2222222222222222,\"#7201a8\"],[0.3333333333333333,\"#9c179e\"],[0.4444444444444444,\"#bd3786\"],[0.5555555555555556,\"#d8576b\"],[0.6666666666666666,\"#ed7953\"],[0.7777777777777778,\"#fb9f3a\"],[0.8888888888888888,\"#fdca26\"],[1.0,\"#f0f921\"]]}],\"surface\":[{\"type\":\"surface\",\"colorbar\":{\"outlinewidth\":0,\"ticks\":\"\"},\"colorscale\":[[0.0,\"#0d0887\"],[0.1111111111111111,\"#46039f\"],[0.2222222222222222,\"#7201a8\"],[0.3333333333333333,\"#9c179e\"],[0.4444444444444444,\"#bd3786\"],[0.5555555555555556,\"#d8576b\"],[0.6666666666666666,\"#ed7953\"],[0.7777777777777778,\"#fb9f3a\"],[0.8888888888888888,\"#fdca26\"],[1.0,\"#f0f921\"]]}],\"mesh3d\":[{\"type\":\"mesh3d\",\"colorbar\":{\"outlinewidth\":0,\"ticks\":\"\"}}],\"scatter\":[{\"fillpattern\":{\"fillmode\":\"overlay\",\"size\":10,\"solidity\":0.2},\"type\":\"scatter\"}],\"parcoords\":[{\"type\":\"parcoords\",\"line\":{\"colorbar\":{\"outlinewidth\":0,\"ticks\":\"\"}}}],\"scatterpolargl\":[{\"type\":\"scatterpolargl\",\"marker\":{\"colorbar\":{\"outlinewidth\":0,\"ticks\":\"\"}}}],\"bar\":[{\"error_x\":{\"color\":\"#2a3f5f\"},\"error_y\":{\"color\":\"#2a3f5f\"},\"marker\":{\"line\":{\"color\":\"#E5ECF6\",\"width\":0.5},\"pattern\":{\"fillmode\":\"overlay\",\"size\":10,\"solidity\":0.2}},\"type\":\"bar\"}],\"scattergeo\":[{\"type\":\"scattergeo\",\"marker\":{\"colorbar\":{\"outlinewidth\":0,\"ticks\":\"\"}}}],\"scatterpolar\":[{\"type\":\"scatterpolar\",\"marker\":{\"colorbar\":{\"outlinewidth\":0,\"ticks\":\"\"}}}],\"histogram\":[{\"marker\":{\"pattern\":{\"fillmode\":\"overlay\",\"size\":10,\"solidity\":0.2}},\"type\":\"histogram\"}],\"scattergl\":[{\"type\":\"scattergl\",\"marker\":{\"colorbar\":{\"outlinewidth\":0,\"ticks\":\"\"}}}],\"scatter3d\":[{\"type\":\"scatter3d\",\"line\":{\"colorbar\":{\"outlinewidth\":0,\"ticks\":\"\"}},\"marker\":{\"colorbar\":{\"outlinewidth\":0,\"ticks\":\"\"}}}],\"scattermapbox\":[{\"type\":\"scattermapbox\",\"marker\":{\"colorbar\":{\"outlinewidth\":0,\"ticks\":\"\"}}}],\"scatterternary\":[{\"type\":\"scatterternary\",\"marker\":{\"colorbar\":{\"outlinewidth\":0,\"ticks\":\"\"}}}],\"scattercarpet\":[{\"type\":\"scattercarpet\",\"marker\":{\"colorbar\":{\"outlinewidth\":0,\"ticks\":\"\"}}}],\"carpet\":[{\"aaxis\":{\"endlinecolor\":\"#2a3f5f\",\"gridcolor\":\"white\",\"linecolor\":\"white\",\"minorgridcolor\":\"white\",\"startlinecolor\":\"#2a3f5f\"},\"baxis\":{\"endlinecolor\":\"#2a3f5f\",\"gridcolor\":\"white\",\"linecolor\":\"white\",\"minorgridcolor\":\"white\",\"startlinecolor\":\"#2a3f5f\"},\"type\":\"carpet\"}],\"table\":[{\"cells\":{\"fill\":{\"color\":\"#EBF0F8\"},\"line\":{\"color\":\"white\"}},\"header\":{\"fill\":{\"color\":\"#C8D4E3\"},\"line\":{\"color\":\"white\"}},\"type\":\"table\"}],\"barpolar\":[{\"marker\":{\"line\":{\"color\":\"#E5ECF6\",\"width\":0.5},\"pattern\":{\"fillmode\":\"overlay\",\"size\":10,\"solidity\":0.2}},\"type\":\"barpolar\"}],\"pie\":[{\"automargin\":true,\"type\":\"pie\"}]},\"layout\":{\"autotypenumbers\":\"strict\",\"colorway\":[\"#636efa\",\"#EF553B\",\"#00cc96\",\"#ab63fa\",\"#FFA15A\",\"#19d3f3\",\"#FF6692\",\"#B6E880\",\"#FF97FF\",\"#FECB52\"],\"font\":{\"color\":\"#2a3f5f\"},\"hovermode\":\"closest\",\"hoverlabel\":{\"align\":\"left\"},\"paper_bgcolor\":\"white\",\"plot_bgcolor\":\"#E5ECF6\",\"polar\":{\"bgcolor\":\"#E5ECF6\",\"angularaxis\":{\"gridcolor\":\"white\",\"linecolor\":\"white\",\"ticks\":\"\"},\"radialaxis\":{\"gridcolor\":\"white\",\"linecolor\":\"white\",\"ticks\":\"\"}},\"ternary\":{\"bgcolor\":\"#E5ECF6\",\"aaxis\":{\"gridcolor\":\"white\",\"linecolor\":\"white\",\"ticks\":\"\"},\"baxis\":{\"gridcolor\":\"white\",\"linecolor\":\"white\",\"ticks\":\"\"},\"caxis\":{\"gridcolor\":\"white\",\"linecolor\":\"white\",\"ticks\":\"\"}},\"coloraxis\":{\"colorbar\":{\"outlinewidth\":0,\"ticks\":\"\"}},\"colorscale\":{\"sequential\":[[0.0,\"#0d0887\"],[0.1111111111111111,\"#46039f\"],[0.2222222222222222,\"#7201a8\"],[0.3333333333333333,\"#9c179e\"],[0.4444444444444444,\"#bd3786\"],[0.5555555555555556,\"#d8576b\"],[0.6666666666666666,\"#ed7953\"],[0.7777777777777778,\"#fb9f3a\"],[0.8888888888888888,\"#fdca26\"],[1.0,\"#f0f921\"]],\"sequentialminus\":[[0.0,\"#0d0887\"],[0.1111111111111111,\"#46039f\"],[0.2222222222222222,\"#7201a8\"],[0.3333333333333333,\"#9c179e\"],[0.4444444444444444,\"#bd3786\"],[0.5555555555555556,\"#d8576b\"],[0.6666666666666666,\"#ed7953\"],[0.7777777777777778,\"#fb9f3a\"],[0.8888888888888888,\"#fdca26\"],[1.0,\"#f0f921\"]],\"diverging\":[[0,\"#8e0152\"],[0.1,\"#c51b7d\"],[0.2,\"#de77ae\"],[0.3,\"#f1b6da\"],[0.4,\"#fde0ef\"],[0.5,\"#f7f7f7\"],[0.6,\"#e6f5d0\"],[0.7,\"#b8e186\"],[0.8,\"#7fbc41\"],[0.9,\"#4d9221\"],[1,\"#276419\"]]},\"xaxis\":{\"gridcolor\":\"white\",\"linecolor\":\"white\",\"ticks\":\"\",\"title\":{\"standoff\":15},\"zerolinecolor\":\"white\",\"automargin\":true,\"zerolinewidth\":2},\"yaxis\":{\"gridcolor\":\"white\",\"linecolor\":\"white\",\"ticks\":\"\",\"title\":{\"standoff\":15},\"zerolinecolor\":\"white\",\"automargin\":true,\"zerolinewidth\":2},\"scene\":{\"xaxis\":{\"backgroundcolor\":\"#E5ECF6\",\"gridcolor\":\"white\",\"linecolor\":\"white\",\"showbackground\":true,\"ticks\":\"\",\"zerolinecolor\":\"white\",\"gridwidth\":2},\"yaxis\":{\"backgroundcolor\":\"#E5ECF6\",\"gridcolor\":\"white\",\"linecolor\":\"white\",\"showbackground\":true,\"ticks\":\"\",\"zerolinecolor\":\"white\",\"gridwidth\":2},\"zaxis\":{\"backgroundcolor\":\"#E5ECF6\",\"gridcolor\":\"white\",\"linecolor\":\"white\",\"showbackground\":true,\"ticks\":\"\",\"zerolinecolor\":\"white\",\"gridwidth\":2}},\"shapedefaults\":{\"line\":{\"color\":\"#2a3f5f\"}},\"annotationdefaults\":{\"arrowcolor\":\"#2a3f5f\",\"arrowhead\":0,\"arrowwidth\":1},\"geo\":{\"bgcolor\":\"white\",\"landcolor\":\"#E5ECF6\",\"subunitcolor\":\"white\",\"showland\":true,\"showlakes\":true,\"lakecolor\":\"white\"},\"title\":{\"x\":0.05},\"mapbox\":{\"style\":\"light\"}}},\"legend\":{\"tracegroupgap\":0},\"title\":{\"text\":\"Payment Type Distribution\"}},                        {\"responsive\": true}                    ).then(function(){\n",
              "                            \n",
              "var gd = document.getElementById('a204e1a3-0f3c-421a-8b60-59aeb2bc76dd');\n",
              "var x = new MutationObserver(function (mutations, observer) {{\n",
              "        var display = window.getComputedStyle(gd).display;\n",
              "        if (!display || display === 'none') {{\n",
              "            console.log([gd, 'removed!']);\n",
              "            Plotly.purge(gd);\n",
              "            observer.disconnect();\n",
              "        }}\n",
              "}});\n",
              "\n",
              "// Listen for the removal of the full notebook cells\n",
              "var notebookContainer = gd.closest('#notebook-container');\n",
              "if (notebookContainer) {{\n",
              "    x.observe(notebookContainer, {childList: true});\n",
              "}}\n",
              "\n",
              "// Listen for the clearing of the current output cell\n",
              "var outputEl = gd.closest('.output');\n",
              "if (outputEl) {{\n",
              "    x.observe(outputEl, {childList: true});\n",
              "}}\n",
              "\n",
              "                        })                };                            </script>        </div>\n",
              "</body>\n",
              "</html>"
            ]
          },
          "metadata": {}
        }
      ]
    },
    {
      "cell_type": "markdown",
      "source": [
        "### Analysis of Payment Type Distribution\n",
        "\n",
        "The pie chart illustrates the distribution of payment types for taxi trips, categorized into two groups: Cash (1) and Non-Cash (0).\n",
        "\n",
        "#### Key Observations:\n",
        "1. **Non-Cash Payments** dominate the transactions, representing **76.1%** of all trips. This suggests that the majority of passengers prefer using digital or card-based payment methods, potentially for convenience or availability.\n",
        "\n",
        "2. **Cash Payments** make up **23.9%** of transactions, indicating a smaller, but still significant, portion of passengers who prefer cash. This might reflect a subset of customers who either don’t have access to non-cash options or prefer cash for various reasons.\n",
        "\n",
        "This distribution indicates a strong preference for non-cash payments, which aligns with broader trends toward digital transactions in many sectors."
      ],
      "metadata": {
        "id": "DGJGg8BWjtDQ"
      }
    },
    {
      "cell_type": "code",
      "source": [
        "# 2. Average Trip Distance by Payment Type\n",
        "avg_distance = df.groupBy(\"payment_type\").agg(\n",
        "    F.avg(\"trip_distance\").alias(\"avg_distance\")\n",
        ").toPandas()\n",
        "fig2 = px.bar(avg_distance, x='payment_type', y='avg_distance',\n",
        "              title='Average Trip Distance by Payment Type')\n",
        "fig2.show()"
      ],
      "metadata": {
        "colab": {
          "base_uri": "https://localhost:8080/",
          "height": 542
        },
        "id": "3US-3Qise_TT",
        "outputId": "38be2b38-221e-4eb1-dbc7-a6192ba41c47"
      },
      "execution_count": null,
      "outputs": [
        {
          "output_type": "display_data",
          "data": {
            "text/html": [
              "<html>\n",
              "<head><meta charset=\"utf-8\" /></head>\n",
              "<body>\n",
              "    <div>            <script src=\"https://cdnjs.cloudflare.com/ajax/libs/mathjax/2.7.5/MathJax.js?config=TeX-AMS-MML_SVG\"></script><script type=\"text/javascript\">if (window.MathJax && window.MathJax.Hub && window.MathJax.Hub.Config) {window.MathJax.Hub.Config({SVG: {font: \"STIX-Web\"}});}</script>                <script type=\"text/javascript\">window.PlotlyConfig = {MathJaxConfig: 'local'};</script>\n",
              "        <script charset=\"utf-8\" src=\"https://cdn.plot.ly/plotly-2.35.2.min.js\"></script>                <div id=\"2208ad09-93d6-4592-91f3-5fb755533157\" class=\"plotly-graph-div\" style=\"height:525px; width:100%;\"></div>            <script type=\"text/javascript\">                                    window.PLOTLYENV=window.PLOTLYENV || {};                                    if (document.getElementById(\"2208ad09-93d6-4592-91f3-5fb755533157\")) {                    Plotly.newPlot(                        \"2208ad09-93d6-4592-91f3-5fb755533157\",                        [{\"alignmentgroup\":\"True\",\"hovertemplate\":\"payment_type=%{x}\\u003cbr\\u003eavg_distance=%{y}\\u003cextra\\u003e\\u003c\\u002fextra\\u003e\",\"legendgroup\":\"\",\"marker\":{\"color\":\"#636efa\",\"pattern\":{\"shape\":\"\"}},\"name\":\"\",\"offsetgroup\":\"\",\"orientation\":\"v\",\"showlegend\":false,\"textposition\":\"auto\",\"x\":[1,0],\"xaxis\":\"x\",\"y\":[3.433118678837845,3.5331769517262814],\"yaxis\":\"y\",\"type\":\"bar\"}],                        {\"template\":{\"data\":{\"histogram2dcontour\":[{\"type\":\"histogram2dcontour\",\"colorbar\":{\"outlinewidth\":0,\"ticks\":\"\"},\"colorscale\":[[0.0,\"#0d0887\"],[0.1111111111111111,\"#46039f\"],[0.2222222222222222,\"#7201a8\"],[0.3333333333333333,\"#9c179e\"],[0.4444444444444444,\"#bd3786\"],[0.5555555555555556,\"#d8576b\"],[0.6666666666666666,\"#ed7953\"],[0.7777777777777778,\"#fb9f3a\"],[0.8888888888888888,\"#fdca26\"],[1.0,\"#f0f921\"]]}],\"choropleth\":[{\"type\":\"choropleth\",\"colorbar\":{\"outlinewidth\":0,\"ticks\":\"\"}}],\"histogram2d\":[{\"type\":\"histogram2d\",\"colorbar\":{\"outlinewidth\":0,\"ticks\":\"\"},\"colorscale\":[[0.0,\"#0d0887\"],[0.1111111111111111,\"#46039f\"],[0.2222222222222222,\"#7201a8\"],[0.3333333333333333,\"#9c179e\"],[0.4444444444444444,\"#bd3786\"],[0.5555555555555556,\"#d8576b\"],[0.6666666666666666,\"#ed7953\"],[0.7777777777777778,\"#fb9f3a\"],[0.8888888888888888,\"#fdca26\"],[1.0,\"#f0f921\"]]}],\"heatmap\":[{\"type\":\"heatmap\",\"colorbar\":{\"outlinewidth\":0,\"ticks\":\"\"},\"colorscale\":[[0.0,\"#0d0887\"],[0.1111111111111111,\"#46039f\"],[0.2222222222222222,\"#7201a8\"],[0.3333333333333333,\"#9c179e\"],[0.4444444444444444,\"#bd3786\"],[0.5555555555555556,\"#d8576b\"],[0.6666666666666666,\"#ed7953\"],[0.7777777777777778,\"#fb9f3a\"],[0.8888888888888888,\"#fdca26\"],[1.0,\"#f0f921\"]]}],\"heatmapgl\":[{\"type\":\"heatmapgl\",\"colorbar\":{\"outlinewidth\":0,\"ticks\":\"\"},\"colorscale\":[[0.0,\"#0d0887\"],[0.1111111111111111,\"#46039f\"],[0.2222222222222222,\"#7201a8\"],[0.3333333333333333,\"#9c179e\"],[0.4444444444444444,\"#bd3786\"],[0.5555555555555556,\"#d8576b\"],[0.6666666666666666,\"#ed7953\"],[0.7777777777777778,\"#fb9f3a\"],[0.8888888888888888,\"#fdca26\"],[1.0,\"#f0f921\"]]}],\"contourcarpet\":[{\"type\":\"contourcarpet\",\"colorbar\":{\"outlinewidth\":0,\"ticks\":\"\"}}],\"contour\":[{\"type\":\"contour\",\"colorbar\":{\"outlinewidth\":0,\"ticks\":\"\"},\"colorscale\":[[0.0,\"#0d0887\"],[0.1111111111111111,\"#46039f\"],[0.2222222222222222,\"#7201a8\"],[0.3333333333333333,\"#9c179e\"],[0.4444444444444444,\"#bd3786\"],[0.5555555555555556,\"#d8576b\"],[0.6666666666666666,\"#ed7953\"],[0.7777777777777778,\"#fb9f3a\"],[0.8888888888888888,\"#fdca26\"],[1.0,\"#f0f921\"]]}],\"surface\":[{\"type\":\"surface\",\"colorbar\":{\"outlinewidth\":0,\"ticks\":\"\"},\"colorscale\":[[0.0,\"#0d0887\"],[0.1111111111111111,\"#46039f\"],[0.2222222222222222,\"#7201a8\"],[0.3333333333333333,\"#9c179e\"],[0.4444444444444444,\"#bd3786\"],[0.5555555555555556,\"#d8576b\"],[0.6666666666666666,\"#ed7953\"],[0.7777777777777778,\"#fb9f3a\"],[0.8888888888888888,\"#fdca26\"],[1.0,\"#f0f921\"]]}],\"mesh3d\":[{\"type\":\"mesh3d\",\"colorbar\":{\"outlinewidth\":0,\"ticks\":\"\"}}],\"scatter\":[{\"fillpattern\":{\"fillmode\":\"overlay\",\"size\":10,\"solidity\":0.2},\"type\":\"scatter\"}],\"parcoords\":[{\"type\":\"parcoords\",\"line\":{\"colorbar\":{\"outlinewidth\":0,\"ticks\":\"\"}}}],\"scatterpolargl\":[{\"type\":\"scatterpolargl\",\"marker\":{\"colorbar\":{\"outlinewidth\":0,\"ticks\":\"\"}}}],\"bar\":[{\"error_x\":{\"color\":\"#2a3f5f\"},\"error_y\":{\"color\":\"#2a3f5f\"},\"marker\":{\"line\":{\"color\":\"#E5ECF6\",\"width\":0.5},\"pattern\":{\"fillmode\":\"overlay\",\"size\":10,\"solidity\":0.2}},\"type\":\"bar\"}],\"scattergeo\":[{\"type\":\"scattergeo\",\"marker\":{\"colorbar\":{\"outlinewidth\":0,\"ticks\":\"\"}}}],\"scatterpolar\":[{\"type\":\"scatterpolar\",\"marker\":{\"colorbar\":{\"outlinewidth\":0,\"ticks\":\"\"}}}],\"histogram\":[{\"marker\":{\"pattern\":{\"fillmode\":\"overlay\",\"size\":10,\"solidity\":0.2}},\"type\":\"histogram\"}],\"scattergl\":[{\"type\":\"scattergl\",\"marker\":{\"colorbar\":{\"outlinewidth\":0,\"ticks\":\"\"}}}],\"scatter3d\":[{\"type\":\"scatter3d\",\"line\":{\"colorbar\":{\"outlinewidth\":0,\"ticks\":\"\"}},\"marker\":{\"colorbar\":{\"outlinewidth\":0,\"ticks\":\"\"}}}],\"scattermapbox\":[{\"type\":\"scattermapbox\",\"marker\":{\"colorbar\":{\"outlinewidth\":0,\"ticks\":\"\"}}}],\"scatterternary\":[{\"type\":\"scatterternary\",\"marker\":{\"colorbar\":{\"outlinewidth\":0,\"ticks\":\"\"}}}],\"scattercarpet\":[{\"type\":\"scattercarpet\",\"marker\":{\"colorbar\":{\"outlinewidth\":0,\"ticks\":\"\"}}}],\"carpet\":[{\"aaxis\":{\"endlinecolor\":\"#2a3f5f\",\"gridcolor\":\"white\",\"linecolor\":\"white\",\"minorgridcolor\":\"white\",\"startlinecolor\":\"#2a3f5f\"},\"baxis\":{\"endlinecolor\":\"#2a3f5f\",\"gridcolor\":\"white\",\"linecolor\":\"white\",\"minorgridcolor\":\"white\",\"startlinecolor\":\"#2a3f5f\"},\"type\":\"carpet\"}],\"table\":[{\"cells\":{\"fill\":{\"color\":\"#EBF0F8\"},\"line\":{\"color\":\"white\"}},\"header\":{\"fill\":{\"color\":\"#C8D4E3\"},\"line\":{\"color\":\"white\"}},\"type\":\"table\"}],\"barpolar\":[{\"marker\":{\"line\":{\"color\":\"#E5ECF6\",\"width\":0.5},\"pattern\":{\"fillmode\":\"overlay\",\"size\":10,\"solidity\":0.2}},\"type\":\"barpolar\"}],\"pie\":[{\"automargin\":true,\"type\":\"pie\"}]},\"layout\":{\"autotypenumbers\":\"strict\",\"colorway\":[\"#636efa\",\"#EF553B\",\"#00cc96\",\"#ab63fa\",\"#FFA15A\",\"#19d3f3\",\"#FF6692\",\"#B6E880\",\"#FF97FF\",\"#FECB52\"],\"font\":{\"color\":\"#2a3f5f\"},\"hovermode\":\"closest\",\"hoverlabel\":{\"align\":\"left\"},\"paper_bgcolor\":\"white\",\"plot_bgcolor\":\"#E5ECF6\",\"polar\":{\"bgcolor\":\"#E5ECF6\",\"angularaxis\":{\"gridcolor\":\"white\",\"linecolor\":\"white\",\"ticks\":\"\"},\"radialaxis\":{\"gridcolor\":\"white\",\"linecolor\":\"white\",\"ticks\":\"\"}},\"ternary\":{\"bgcolor\":\"#E5ECF6\",\"aaxis\":{\"gridcolor\":\"white\",\"linecolor\":\"white\",\"ticks\":\"\"},\"baxis\":{\"gridcolor\":\"white\",\"linecolor\":\"white\",\"ticks\":\"\"},\"caxis\":{\"gridcolor\":\"white\",\"linecolor\":\"white\",\"ticks\":\"\"}},\"coloraxis\":{\"colorbar\":{\"outlinewidth\":0,\"ticks\":\"\"}},\"colorscale\":{\"sequential\":[[0.0,\"#0d0887\"],[0.1111111111111111,\"#46039f\"],[0.2222222222222222,\"#7201a8\"],[0.3333333333333333,\"#9c179e\"],[0.4444444444444444,\"#bd3786\"],[0.5555555555555556,\"#d8576b\"],[0.6666666666666666,\"#ed7953\"],[0.7777777777777778,\"#fb9f3a\"],[0.8888888888888888,\"#fdca26\"],[1.0,\"#f0f921\"]],\"sequentialminus\":[[0.0,\"#0d0887\"],[0.1111111111111111,\"#46039f\"],[0.2222222222222222,\"#7201a8\"],[0.3333333333333333,\"#9c179e\"],[0.4444444444444444,\"#bd3786\"],[0.5555555555555556,\"#d8576b\"],[0.6666666666666666,\"#ed7953\"],[0.7777777777777778,\"#fb9f3a\"],[0.8888888888888888,\"#fdca26\"],[1.0,\"#f0f921\"]],\"diverging\":[[0,\"#8e0152\"],[0.1,\"#c51b7d\"],[0.2,\"#de77ae\"],[0.3,\"#f1b6da\"],[0.4,\"#fde0ef\"],[0.5,\"#f7f7f7\"],[0.6,\"#e6f5d0\"],[0.7,\"#b8e186\"],[0.8,\"#7fbc41\"],[0.9,\"#4d9221\"],[1,\"#276419\"]]},\"xaxis\":{\"gridcolor\":\"white\",\"linecolor\":\"white\",\"ticks\":\"\",\"title\":{\"standoff\":15},\"zerolinecolor\":\"white\",\"automargin\":true,\"zerolinewidth\":2},\"yaxis\":{\"gridcolor\":\"white\",\"linecolor\":\"white\",\"ticks\":\"\",\"title\":{\"standoff\":15},\"zerolinecolor\":\"white\",\"automargin\":true,\"zerolinewidth\":2},\"scene\":{\"xaxis\":{\"backgroundcolor\":\"#E5ECF6\",\"gridcolor\":\"white\",\"linecolor\":\"white\",\"showbackground\":true,\"ticks\":\"\",\"zerolinecolor\":\"white\",\"gridwidth\":2},\"yaxis\":{\"backgroundcolor\":\"#E5ECF6\",\"gridcolor\":\"white\",\"linecolor\":\"white\",\"showbackground\":true,\"ticks\":\"\",\"zerolinecolor\":\"white\",\"gridwidth\":2},\"zaxis\":{\"backgroundcolor\":\"#E5ECF6\",\"gridcolor\":\"white\",\"linecolor\":\"white\",\"showbackground\":true,\"ticks\":\"\",\"zerolinecolor\":\"white\",\"gridwidth\":2}},\"shapedefaults\":{\"line\":{\"color\":\"#2a3f5f\"}},\"annotationdefaults\":{\"arrowcolor\":\"#2a3f5f\",\"arrowhead\":0,\"arrowwidth\":1},\"geo\":{\"bgcolor\":\"white\",\"landcolor\":\"#E5ECF6\",\"subunitcolor\":\"white\",\"showland\":true,\"showlakes\":true,\"lakecolor\":\"white\"},\"title\":{\"x\":0.05},\"mapbox\":{\"style\":\"light\"}}},\"xaxis\":{\"anchor\":\"y\",\"domain\":[0.0,1.0],\"title\":{\"text\":\"payment_type\"}},\"yaxis\":{\"anchor\":\"x\",\"domain\":[0.0,1.0],\"title\":{\"text\":\"avg_distance\"}},\"legend\":{\"tracegroupgap\":0},\"title\":{\"text\":\"Average Trip Distance by Payment Type\"},\"barmode\":\"relative\"},                        {\"responsive\": true}                    ).then(function(){\n",
              "                            \n",
              "var gd = document.getElementById('2208ad09-93d6-4592-91f3-5fb755533157');\n",
              "var x = new MutationObserver(function (mutations, observer) {{\n",
              "        var display = window.getComputedStyle(gd).display;\n",
              "        if (!display || display === 'none') {{\n",
              "            console.log([gd, 'removed!']);\n",
              "            Plotly.purge(gd);\n",
              "            observer.disconnect();\n",
              "        }}\n",
              "}});\n",
              "\n",
              "// Listen for the removal of the full notebook cells\n",
              "var notebookContainer = gd.closest('#notebook-container');\n",
              "if (notebookContainer) {{\n",
              "    x.observe(notebookContainer, {childList: true});\n",
              "}}\n",
              "\n",
              "// Listen for the clearing of the current output cell\n",
              "var outputEl = gd.closest('.output');\n",
              "if (outputEl) {{\n",
              "    x.observe(outputEl, {childList: true});\n",
              "}}\n",
              "\n",
              "                        })                };                            </script>        </div>\n",
              "</body>\n",
              "</html>"
            ]
          },
          "metadata": {}
        }
      ]
    },
    {
      "cell_type": "markdown",
      "source": [
        "\n",
        "### Analysis of Average Trip Distance by Payment Type\n",
        "\n",
        "The bar chart shows the average trip distance for taxi rides based on the *payment type*, categorized as Non-Cash (0) and Cash (1).\n",
        "\n",
        "#### Key Observations:\n",
        "1. **Similar Average Distance:** The average trip distance for both payment types is very close, with only a slight difference between Non-Cash and Cash payments. This indicates that trip distance does not vary significantly based on whether the payment was made in cash or by a non-cash method.\n",
        "\n",
        "2. **Implications:** The near-equal average distances for both payment types suggest that passengers’ choice of payment method is likely independent of trip length. Therefore, payment type does not seem to be a strong indicator of trip distance in this dataset.\n",
        "\n",
        "This analysis shows that, regardless of payment preference, passengers tend to travel similar distances on average.\n"
      ],
      "metadata": {
        "id": "dy0eX-7cj-Yf"
      }
    },
    {
      "cell_type": "code",
      "source": [
        "# 3. Average Tip Amount by Payment Type\n",
        "avg_tip = df.groupBy(\"payment_type\").agg(\n",
        "    F.avg(\"tip_amount\").alias(\"avg_tip\")\n",
        ").toPandas()\n",
        "fig3 = px.bar(avg_tip, x='payment_type', y='avg_tip',\n",
        "              title='Average Tip Amount by Payment Type')\n",
        "fig3.show()"
      ],
      "metadata": {
        "colab": {
          "base_uri": "https://localhost:8080/",
          "height": 542
        },
        "id": "yZ8SfvISfE6P",
        "outputId": "95c0852b-baef-47fa-afc8-fdfb5dd0df85"
      },
      "execution_count": null,
      "outputs": [
        {
          "output_type": "display_data",
          "data": {
            "text/html": [
              "<html>\n",
              "<head><meta charset=\"utf-8\" /></head>\n",
              "<body>\n",
              "    <div>            <script src=\"https://cdnjs.cloudflare.com/ajax/libs/mathjax/2.7.5/MathJax.js?config=TeX-AMS-MML_SVG\"></script><script type=\"text/javascript\">if (window.MathJax && window.MathJax.Hub && window.MathJax.Hub.Config) {window.MathJax.Hub.Config({SVG: {font: \"STIX-Web\"}});}</script>                <script type=\"text/javascript\">window.PlotlyConfig = {MathJaxConfig: 'local'};</script>\n",
              "        <script charset=\"utf-8\" src=\"https://cdn.plot.ly/plotly-2.35.2.min.js\"></script>                <div id=\"4ef182f0-495b-43ea-804f-2fff489b05e6\" class=\"plotly-graph-div\" style=\"height:525px; width:100%;\"></div>            <script type=\"text/javascript\">                                    window.PLOTLYENV=window.PLOTLYENV || {};                                    if (document.getElementById(\"4ef182f0-495b-43ea-804f-2fff489b05e6\")) {                    Plotly.newPlot(                        \"4ef182f0-495b-43ea-804f-2fff489b05e6\",                        [{\"alignmentgroup\":\"True\",\"hovertemplate\":\"payment_type=%{x}\\u003cbr\\u003eavg_tip=%{y}\\u003cextra\\u003e\\u003c\\u002fextra\\u003e\",\"legendgroup\":\"\",\"marker\":{\"color\":\"#636efa\",\"pattern\":{\"shape\":\"\"}},\"name\":\"\",\"offsetgroup\":\"\",\"orientation\":\"v\",\"showlegend\":false,\"textposition\":\"auto\",\"x\":[1,0],\"xaxis\":\"x\",\"y\":[3.244107753963949,0.00026099361107124374],\"yaxis\":\"y\",\"type\":\"bar\"}],                        {\"template\":{\"data\":{\"histogram2dcontour\":[{\"type\":\"histogram2dcontour\",\"colorbar\":{\"outlinewidth\":0,\"ticks\":\"\"},\"colorscale\":[[0.0,\"#0d0887\"],[0.1111111111111111,\"#46039f\"],[0.2222222222222222,\"#7201a8\"],[0.3333333333333333,\"#9c179e\"],[0.4444444444444444,\"#bd3786\"],[0.5555555555555556,\"#d8576b\"],[0.6666666666666666,\"#ed7953\"],[0.7777777777777778,\"#fb9f3a\"],[0.8888888888888888,\"#fdca26\"],[1.0,\"#f0f921\"]]}],\"choropleth\":[{\"type\":\"choropleth\",\"colorbar\":{\"outlinewidth\":0,\"ticks\":\"\"}}],\"histogram2d\":[{\"type\":\"histogram2d\",\"colorbar\":{\"outlinewidth\":0,\"ticks\":\"\"},\"colorscale\":[[0.0,\"#0d0887\"],[0.1111111111111111,\"#46039f\"],[0.2222222222222222,\"#7201a8\"],[0.3333333333333333,\"#9c179e\"],[0.4444444444444444,\"#bd3786\"],[0.5555555555555556,\"#d8576b\"],[0.6666666666666666,\"#ed7953\"],[0.7777777777777778,\"#fb9f3a\"],[0.8888888888888888,\"#fdca26\"],[1.0,\"#f0f921\"]]}],\"heatmap\":[{\"type\":\"heatmap\",\"colorbar\":{\"outlinewidth\":0,\"ticks\":\"\"},\"colorscale\":[[0.0,\"#0d0887\"],[0.1111111111111111,\"#46039f\"],[0.2222222222222222,\"#7201a8\"],[0.3333333333333333,\"#9c179e\"],[0.4444444444444444,\"#bd3786\"],[0.5555555555555556,\"#d8576b\"],[0.6666666666666666,\"#ed7953\"],[0.7777777777777778,\"#fb9f3a\"],[0.8888888888888888,\"#fdca26\"],[1.0,\"#f0f921\"]]}],\"heatmapgl\":[{\"type\":\"heatmapgl\",\"colorbar\":{\"outlinewidth\":0,\"ticks\":\"\"},\"colorscale\":[[0.0,\"#0d0887\"],[0.1111111111111111,\"#46039f\"],[0.2222222222222222,\"#7201a8\"],[0.3333333333333333,\"#9c179e\"],[0.4444444444444444,\"#bd3786\"],[0.5555555555555556,\"#d8576b\"],[0.6666666666666666,\"#ed7953\"],[0.7777777777777778,\"#fb9f3a\"],[0.8888888888888888,\"#fdca26\"],[1.0,\"#f0f921\"]]}],\"contourcarpet\":[{\"type\":\"contourcarpet\",\"colorbar\":{\"outlinewidth\":0,\"ticks\":\"\"}}],\"contour\":[{\"type\":\"contour\",\"colorbar\":{\"outlinewidth\":0,\"ticks\":\"\"},\"colorscale\":[[0.0,\"#0d0887\"],[0.1111111111111111,\"#46039f\"],[0.2222222222222222,\"#7201a8\"],[0.3333333333333333,\"#9c179e\"],[0.4444444444444444,\"#bd3786\"],[0.5555555555555556,\"#d8576b\"],[0.6666666666666666,\"#ed7953\"],[0.7777777777777778,\"#fb9f3a\"],[0.8888888888888888,\"#fdca26\"],[1.0,\"#f0f921\"]]}],\"surface\":[{\"type\":\"surface\",\"colorbar\":{\"outlinewidth\":0,\"ticks\":\"\"},\"colorscale\":[[0.0,\"#0d0887\"],[0.1111111111111111,\"#46039f\"],[0.2222222222222222,\"#7201a8\"],[0.3333333333333333,\"#9c179e\"],[0.4444444444444444,\"#bd3786\"],[0.5555555555555556,\"#d8576b\"],[0.6666666666666666,\"#ed7953\"],[0.7777777777777778,\"#fb9f3a\"],[0.8888888888888888,\"#fdca26\"],[1.0,\"#f0f921\"]]}],\"mesh3d\":[{\"type\":\"mesh3d\",\"colorbar\":{\"outlinewidth\":0,\"ticks\":\"\"}}],\"scatter\":[{\"fillpattern\":{\"fillmode\":\"overlay\",\"size\":10,\"solidity\":0.2},\"type\":\"scatter\"}],\"parcoords\":[{\"type\":\"parcoords\",\"line\":{\"colorbar\":{\"outlinewidth\":0,\"ticks\":\"\"}}}],\"scatterpolargl\":[{\"type\":\"scatterpolargl\",\"marker\":{\"colorbar\":{\"outlinewidth\":0,\"ticks\":\"\"}}}],\"bar\":[{\"error_x\":{\"color\":\"#2a3f5f\"},\"error_y\":{\"color\":\"#2a3f5f\"},\"marker\":{\"line\":{\"color\":\"#E5ECF6\",\"width\":0.5},\"pattern\":{\"fillmode\":\"overlay\",\"size\":10,\"solidity\":0.2}},\"type\":\"bar\"}],\"scattergeo\":[{\"type\":\"scattergeo\",\"marker\":{\"colorbar\":{\"outlinewidth\":0,\"ticks\":\"\"}}}],\"scatterpolar\":[{\"type\":\"scatterpolar\",\"marker\":{\"colorbar\":{\"outlinewidth\":0,\"ticks\":\"\"}}}],\"histogram\":[{\"marker\":{\"pattern\":{\"fillmode\":\"overlay\",\"size\":10,\"solidity\":0.2}},\"type\":\"histogram\"}],\"scattergl\":[{\"type\":\"scattergl\",\"marker\":{\"colorbar\":{\"outlinewidth\":0,\"ticks\":\"\"}}}],\"scatter3d\":[{\"type\":\"scatter3d\",\"line\":{\"colorbar\":{\"outlinewidth\":0,\"ticks\":\"\"}},\"marker\":{\"colorbar\":{\"outlinewidth\":0,\"ticks\":\"\"}}}],\"scattermapbox\":[{\"type\":\"scattermapbox\",\"marker\":{\"colorbar\":{\"outlinewidth\":0,\"ticks\":\"\"}}}],\"scatterternary\":[{\"type\":\"scatterternary\",\"marker\":{\"colorbar\":{\"outlinewidth\":0,\"ticks\":\"\"}}}],\"scattercarpet\":[{\"type\":\"scattercarpet\",\"marker\":{\"colorbar\":{\"outlinewidth\":0,\"ticks\":\"\"}}}],\"carpet\":[{\"aaxis\":{\"endlinecolor\":\"#2a3f5f\",\"gridcolor\":\"white\",\"linecolor\":\"white\",\"minorgridcolor\":\"white\",\"startlinecolor\":\"#2a3f5f\"},\"baxis\":{\"endlinecolor\":\"#2a3f5f\",\"gridcolor\":\"white\",\"linecolor\":\"white\",\"minorgridcolor\":\"white\",\"startlinecolor\":\"#2a3f5f\"},\"type\":\"carpet\"}],\"table\":[{\"cells\":{\"fill\":{\"color\":\"#EBF0F8\"},\"line\":{\"color\":\"white\"}},\"header\":{\"fill\":{\"color\":\"#C8D4E3\"},\"line\":{\"color\":\"white\"}},\"type\":\"table\"}],\"barpolar\":[{\"marker\":{\"line\":{\"color\":\"#E5ECF6\",\"width\":0.5},\"pattern\":{\"fillmode\":\"overlay\",\"size\":10,\"solidity\":0.2}},\"type\":\"barpolar\"}],\"pie\":[{\"automargin\":true,\"type\":\"pie\"}]},\"layout\":{\"autotypenumbers\":\"strict\",\"colorway\":[\"#636efa\",\"#EF553B\",\"#00cc96\",\"#ab63fa\",\"#FFA15A\",\"#19d3f3\",\"#FF6692\",\"#B6E880\",\"#FF97FF\",\"#FECB52\"],\"font\":{\"color\":\"#2a3f5f\"},\"hovermode\":\"closest\",\"hoverlabel\":{\"align\":\"left\"},\"paper_bgcolor\":\"white\",\"plot_bgcolor\":\"#E5ECF6\",\"polar\":{\"bgcolor\":\"#E5ECF6\",\"angularaxis\":{\"gridcolor\":\"white\",\"linecolor\":\"white\",\"ticks\":\"\"},\"radialaxis\":{\"gridcolor\":\"white\",\"linecolor\":\"white\",\"ticks\":\"\"}},\"ternary\":{\"bgcolor\":\"#E5ECF6\",\"aaxis\":{\"gridcolor\":\"white\",\"linecolor\":\"white\",\"ticks\":\"\"},\"baxis\":{\"gridcolor\":\"white\",\"linecolor\":\"white\",\"ticks\":\"\"},\"caxis\":{\"gridcolor\":\"white\",\"linecolor\":\"white\",\"ticks\":\"\"}},\"coloraxis\":{\"colorbar\":{\"outlinewidth\":0,\"ticks\":\"\"}},\"colorscale\":{\"sequential\":[[0.0,\"#0d0887\"],[0.1111111111111111,\"#46039f\"],[0.2222222222222222,\"#7201a8\"],[0.3333333333333333,\"#9c179e\"],[0.4444444444444444,\"#bd3786\"],[0.5555555555555556,\"#d8576b\"],[0.6666666666666666,\"#ed7953\"],[0.7777777777777778,\"#fb9f3a\"],[0.8888888888888888,\"#fdca26\"],[1.0,\"#f0f921\"]],\"sequentialminus\":[[0.0,\"#0d0887\"],[0.1111111111111111,\"#46039f\"],[0.2222222222222222,\"#7201a8\"],[0.3333333333333333,\"#9c179e\"],[0.4444444444444444,\"#bd3786\"],[0.5555555555555556,\"#d8576b\"],[0.6666666666666666,\"#ed7953\"],[0.7777777777777778,\"#fb9f3a\"],[0.8888888888888888,\"#fdca26\"],[1.0,\"#f0f921\"]],\"diverging\":[[0,\"#8e0152\"],[0.1,\"#c51b7d\"],[0.2,\"#de77ae\"],[0.3,\"#f1b6da\"],[0.4,\"#fde0ef\"],[0.5,\"#f7f7f7\"],[0.6,\"#e6f5d0\"],[0.7,\"#b8e186\"],[0.8,\"#7fbc41\"],[0.9,\"#4d9221\"],[1,\"#276419\"]]},\"xaxis\":{\"gridcolor\":\"white\",\"linecolor\":\"white\",\"ticks\":\"\",\"title\":{\"standoff\":15},\"zerolinecolor\":\"white\",\"automargin\":true,\"zerolinewidth\":2},\"yaxis\":{\"gridcolor\":\"white\",\"linecolor\":\"white\",\"ticks\":\"\",\"title\":{\"standoff\":15},\"zerolinecolor\":\"white\",\"automargin\":true,\"zerolinewidth\":2},\"scene\":{\"xaxis\":{\"backgroundcolor\":\"#E5ECF6\",\"gridcolor\":\"white\",\"linecolor\":\"white\",\"showbackground\":true,\"ticks\":\"\",\"zerolinecolor\":\"white\",\"gridwidth\":2},\"yaxis\":{\"backgroundcolor\":\"#E5ECF6\",\"gridcolor\":\"white\",\"linecolor\":\"white\",\"showbackground\":true,\"ticks\":\"\",\"zerolinecolor\":\"white\",\"gridwidth\":2},\"zaxis\":{\"backgroundcolor\":\"#E5ECF6\",\"gridcolor\":\"white\",\"linecolor\":\"white\",\"showbackground\":true,\"ticks\":\"\",\"zerolinecolor\":\"white\",\"gridwidth\":2}},\"shapedefaults\":{\"line\":{\"color\":\"#2a3f5f\"}},\"annotationdefaults\":{\"arrowcolor\":\"#2a3f5f\",\"arrowhead\":0,\"arrowwidth\":1},\"geo\":{\"bgcolor\":\"white\",\"landcolor\":\"#E5ECF6\",\"subunitcolor\":\"white\",\"showland\":true,\"showlakes\":true,\"lakecolor\":\"white\"},\"title\":{\"x\":0.05},\"mapbox\":{\"style\":\"light\"}}},\"xaxis\":{\"anchor\":\"y\",\"domain\":[0.0,1.0],\"title\":{\"text\":\"payment_type\"}},\"yaxis\":{\"anchor\":\"x\",\"domain\":[0.0,1.0],\"title\":{\"text\":\"avg_tip\"}},\"legend\":{\"tracegroupgap\":0},\"title\":{\"text\":\"Average Tip Amount by Payment Type\"},\"barmode\":\"relative\"},                        {\"responsive\": true}                    ).then(function(){\n",
              "                            \n",
              "var gd = document.getElementById('4ef182f0-495b-43ea-804f-2fff489b05e6');\n",
              "var x = new MutationObserver(function (mutations, observer) {{\n",
              "        var display = window.getComputedStyle(gd).display;\n",
              "        if (!display || display === 'none') {{\n",
              "            console.log([gd, 'removed!']);\n",
              "            Plotly.purge(gd);\n",
              "            observer.disconnect();\n",
              "        }}\n",
              "}});\n",
              "\n",
              "// Listen for the removal of the full notebook cells\n",
              "var notebookContainer = gd.closest('#notebook-container');\n",
              "if (notebookContainer) {{\n",
              "    x.observe(notebookContainer, {childList: true});\n",
              "}}\n",
              "\n",
              "// Listen for the clearing of the current output cell\n",
              "var outputEl = gd.closest('.output');\n",
              "if (outputEl) {{\n",
              "    x.observe(outputEl, {childList: true});\n",
              "}}\n",
              "\n",
              "                        })                };                            </script>        </div>\n",
              "</body>\n",
              "</html>"
            ]
          },
          "metadata": {}
        }
      ]
    },
    {
      "cell_type": "markdown",
      "source": [
        "\n",
        "### Analysis of Average Tip Amount by Payment Type\n",
        "\n",
        "The bar chart displays the average tip amount for taxi rides based on the *payment type*, distinguishing between Non-Cash (0) and Cash (1) transactions.\n",
        "\n",
        "#### Key Observations:\n",
        "1. **Tips for Non-Cash Payments:** The chart shows that tips are recorded only for Cash payments (payment type 1). There is no bar representing Non-Cash payments, which suggests that tips might either be less frequently recorded or not provided at all in Non-Cash transactions within this dataset.\n",
        "\n",
        "2. **Implications:** The presence of tips exclusively for Cash payments could indicate a limitation in how tipping data is captured for Non-Cash transactions. Alternatively, it may suggest that passengers paying with cash tend to tip more frequently or that digital payment systems do not encourage tipping in this dataset.\n",
        "\n",
        "This analysis highlights a potential gap in tipping behavior and data recording between Cash and Non-Cash payments, with tips being primarily associated with Cash transactions.\n"
      ],
      "metadata": {
        "id": "oH9Y1Nx8kLOG"
      }
    },
    {
      "cell_type": "code",
      "source": [
        "# 4. Payment Type Distribution by Hour\n",
        "hourly_dist = df.groupBy(\"pickup_hour\", \"payment_type\").count().toPandas()\n",
        "fig4 = px.line(hourly_dist, x='pickup_hour', y='count', color='payment_type',\n",
        "               title='Payment Type Distribution by Hour')\n",
        "fig4.show()"
      ],
      "metadata": {
        "colab": {
          "base_uri": "https://localhost:8080/",
          "height": 542
        },
        "id": "dwdbjCdMfTjP",
        "outputId": "4d28df38-e4eb-4fab-f620-f4bff2e0c6c5"
      },
      "execution_count": null,
      "outputs": [
        {
          "output_type": "display_data",
          "data": {
            "text/html": [
              "<html>\n",
              "<head><meta charset=\"utf-8\" /></head>\n",
              "<body>\n",
              "    <div>            <script src=\"https://cdnjs.cloudflare.com/ajax/libs/mathjax/2.7.5/MathJax.js?config=TeX-AMS-MML_SVG\"></script><script type=\"text/javascript\">if (window.MathJax && window.MathJax.Hub && window.MathJax.Hub.Config) {window.MathJax.Hub.Config({SVG: {font: \"STIX-Web\"}});}</script>                <script type=\"text/javascript\">window.PlotlyConfig = {MathJaxConfig: 'local'};</script>\n",
              "        <script charset=\"utf-8\" src=\"https://cdn.plot.ly/plotly-2.35.2.min.js\"></script>                <div id=\"6f58a1b0-a102-411f-a3e3-70dccfc6aaa9\" class=\"plotly-graph-div\" style=\"height:525px; width:100%;\"></div>            <script type=\"text/javascript\">                                    window.PLOTLYENV=window.PLOTLYENV || {};                                    if (document.getElementById(\"6f58a1b0-a102-411f-a3e3-70dccfc6aaa9\")) {                    Plotly.newPlot(                        \"6f58a1b0-a102-411f-a3e3-70dccfc6aaa9\",                        [{\"hovertemplate\":\"payment_type=1\\u003cbr\\u003epickup_hour=%{x}\\u003cbr\\u003ecount=%{y}\\u003cextra\\u003e\\u003c\\u002fextra\\u003e\",\"legendgroup\":\"1\",\"line\":{\"color\":\"#636efa\",\"dash\":\"solid\"},\"marker\":{\"symbol\":\"circle\"},\"mode\":\"lines\",\"name\":\"1\",\"orientation\":\"v\",\"showlegend\":true,\"x\":[17,6,3,18,7,11,9,15,12,1,19,10,8,2,16,0,21,20,5,23,14,4,13,22],\"xaxis\":\"x\",\"y\":[557547,172820,81359,625976,346104,400719,410329,481146,428140,169642,569318,391735,431531,116422,466466,246388,520809,518539,67203,348890,467948,54927,437560,477319],\"yaxis\":\"y\",\"type\":\"scatter\"},{\"hovertemplate\":\"payment_type=0\\u003cbr\\u003epickup_hour=%{x}\\u003cbr\\u003ecount=%{y}\\u003cextra\\u003e\\u003c\\u002fextra\\u003e\",\"legendgroup\":\"0\",\"line\":{\"color\":\"#EF553B\",\"dash\":\"solid\"},\"marker\":{\"symbol\":\"circle\"},\"mode\":\"lines\",\"name\":\"0\",\"orientation\":\"v\",\"showlegend\":true,\"x\":[1,6,23,4,16,0,22,14,21,12,18,2,11,20,13,5,8,9,3,10,19,17,15,7],\"xaxis\":\"x\",\"y\":[53488,63804,100869,31155,163759,76131,122198,175667,132955,161207,167905,39717,149676,133712,167754,34307,105894,120216,32187,139407,150661,166130,177018,93331],\"yaxis\":\"y\",\"type\":\"scatter\"}],                        {\"template\":{\"data\":{\"histogram2dcontour\":[{\"type\":\"histogram2dcontour\",\"colorbar\":{\"outlinewidth\":0,\"ticks\":\"\"},\"colorscale\":[[0.0,\"#0d0887\"],[0.1111111111111111,\"#46039f\"],[0.2222222222222222,\"#7201a8\"],[0.3333333333333333,\"#9c179e\"],[0.4444444444444444,\"#bd3786\"],[0.5555555555555556,\"#d8576b\"],[0.6666666666666666,\"#ed7953\"],[0.7777777777777778,\"#fb9f3a\"],[0.8888888888888888,\"#fdca26\"],[1.0,\"#f0f921\"]]}],\"choropleth\":[{\"type\":\"choropleth\",\"colorbar\":{\"outlinewidth\":0,\"ticks\":\"\"}}],\"histogram2d\":[{\"type\":\"histogram2d\",\"colorbar\":{\"outlinewidth\":0,\"ticks\":\"\"},\"colorscale\":[[0.0,\"#0d0887\"],[0.1111111111111111,\"#46039f\"],[0.2222222222222222,\"#7201a8\"],[0.3333333333333333,\"#9c179e\"],[0.4444444444444444,\"#bd3786\"],[0.5555555555555556,\"#d8576b\"],[0.6666666666666666,\"#ed7953\"],[0.7777777777777778,\"#fb9f3a\"],[0.8888888888888888,\"#fdca26\"],[1.0,\"#f0f921\"]]}],\"heatmap\":[{\"type\":\"heatmap\",\"colorbar\":{\"outlinewidth\":0,\"ticks\":\"\"},\"colorscale\":[[0.0,\"#0d0887\"],[0.1111111111111111,\"#46039f\"],[0.2222222222222222,\"#7201a8\"],[0.3333333333333333,\"#9c179e\"],[0.4444444444444444,\"#bd3786\"],[0.5555555555555556,\"#d8576b\"],[0.6666666666666666,\"#ed7953\"],[0.7777777777777778,\"#fb9f3a\"],[0.8888888888888888,\"#fdca26\"],[1.0,\"#f0f921\"]]}],\"heatmapgl\":[{\"type\":\"heatmapgl\",\"colorbar\":{\"outlinewidth\":0,\"ticks\":\"\"},\"colorscale\":[[0.0,\"#0d0887\"],[0.1111111111111111,\"#46039f\"],[0.2222222222222222,\"#7201a8\"],[0.3333333333333333,\"#9c179e\"],[0.4444444444444444,\"#bd3786\"],[0.5555555555555556,\"#d8576b\"],[0.6666666666666666,\"#ed7953\"],[0.7777777777777778,\"#fb9f3a\"],[0.8888888888888888,\"#fdca26\"],[1.0,\"#f0f921\"]]}],\"contourcarpet\":[{\"type\":\"contourcarpet\",\"colorbar\":{\"outlinewidth\":0,\"ticks\":\"\"}}],\"contour\":[{\"type\":\"contour\",\"colorbar\":{\"outlinewidth\":0,\"ticks\":\"\"},\"colorscale\":[[0.0,\"#0d0887\"],[0.1111111111111111,\"#46039f\"],[0.2222222222222222,\"#7201a8\"],[0.3333333333333333,\"#9c179e\"],[0.4444444444444444,\"#bd3786\"],[0.5555555555555556,\"#d8576b\"],[0.6666666666666666,\"#ed7953\"],[0.7777777777777778,\"#fb9f3a\"],[0.8888888888888888,\"#fdca26\"],[1.0,\"#f0f921\"]]}],\"surface\":[{\"type\":\"surface\",\"colorbar\":{\"outlinewidth\":0,\"ticks\":\"\"},\"colorscale\":[[0.0,\"#0d0887\"],[0.1111111111111111,\"#46039f\"],[0.2222222222222222,\"#7201a8\"],[0.3333333333333333,\"#9c179e\"],[0.4444444444444444,\"#bd3786\"],[0.5555555555555556,\"#d8576b\"],[0.6666666666666666,\"#ed7953\"],[0.7777777777777778,\"#fb9f3a\"],[0.8888888888888888,\"#fdca26\"],[1.0,\"#f0f921\"]]}],\"mesh3d\":[{\"type\":\"mesh3d\",\"colorbar\":{\"outlinewidth\":0,\"ticks\":\"\"}}],\"scatter\":[{\"fillpattern\":{\"fillmode\":\"overlay\",\"size\":10,\"solidity\":0.2},\"type\":\"scatter\"}],\"parcoords\":[{\"type\":\"parcoords\",\"line\":{\"colorbar\":{\"outlinewidth\":0,\"ticks\":\"\"}}}],\"scatterpolargl\":[{\"type\":\"scatterpolargl\",\"marker\":{\"colorbar\":{\"outlinewidth\":0,\"ticks\":\"\"}}}],\"bar\":[{\"error_x\":{\"color\":\"#2a3f5f\"},\"error_y\":{\"color\":\"#2a3f5f\"},\"marker\":{\"line\":{\"color\":\"#E5ECF6\",\"width\":0.5},\"pattern\":{\"fillmode\":\"overlay\",\"size\":10,\"solidity\":0.2}},\"type\":\"bar\"}],\"scattergeo\":[{\"type\":\"scattergeo\",\"marker\":{\"colorbar\":{\"outlinewidth\":0,\"ticks\":\"\"}}}],\"scatterpolar\":[{\"type\":\"scatterpolar\",\"marker\":{\"colorbar\":{\"outlinewidth\":0,\"ticks\":\"\"}}}],\"histogram\":[{\"marker\":{\"pattern\":{\"fillmode\":\"overlay\",\"size\":10,\"solidity\":0.2}},\"type\":\"histogram\"}],\"scattergl\":[{\"type\":\"scattergl\",\"marker\":{\"colorbar\":{\"outlinewidth\":0,\"ticks\":\"\"}}}],\"scatter3d\":[{\"type\":\"scatter3d\",\"line\":{\"colorbar\":{\"outlinewidth\":0,\"ticks\":\"\"}},\"marker\":{\"colorbar\":{\"outlinewidth\":0,\"ticks\":\"\"}}}],\"scattermapbox\":[{\"type\":\"scattermapbox\",\"marker\":{\"colorbar\":{\"outlinewidth\":0,\"ticks\":\"\"}}}],\"scatterternary\":[{\"type\":\"scatterternary\",\"marker\":{\"colorbar\":{\"outlinewidth\":0,\"ticks\":\"\"}}}],\"scattercarpet\":[{\"type\":\"scattercarpet\",\"marker\":{\"colorbar\":{\"outlinewidth\":0,\"ticks\":\"\"}}}],\"carpet\":[{\"aaxis\":{\"endlinecolor\":\"#2a3f5f\",\"gridcolor\":\"white\",\"linecolor\":\"white\",\"minorgridcolor\":\"white\",\"startlinecolor\":\"#2a3f5f\"},\"baxis\":{\"endlinecolor\":\"#2a3f5f\",\"gridcolor\":\"white\",\"linecolor\":\"white\",\"minorgridcolor\":\"white\",\"startlinecolor\":\"#2a3f5f\"},\"type\":\"carpet\"}],\"table\":[{\"cells\":{\"fill\":{\"color\":\"#EBF0F8\"},\"line\":{\"color\":\"white\"}},\"header\":{\"fill\":{\"color\":\"#C8D4E3\"},\"line\":{\"color\":\"white\"}},\"type\":\"table\"}],\"barpolar\":[{\"marker\":{\"line\":{\"color\":\"#E5ECF6\",\"width\":0.5},\"pattern\":{\"fillmode\":\"overlay\",\"size\":10,\"solidity\":0.2}},\"type\":\"barpolar\"}],\"pie\":[{\"automargin\":true,\"type\":\"pie\"}]},\"layout\":{\"autotypenumbers\":\"strict\",\"colorway\":[\"#636efa\",\"#EF553B\",\"#00cc96\",\"#ab63fa\",\"#FFA15A\",\"#19d3f3\",\"#FF6692\",\"#B6E880\",\"#FF97FF\",\"#FECB52\"],\"font\":{\"color\":\"#2a3f5f\"},\"hovermode\":\"closest\",\"hoverlabel\":{\"align\":\"left\"},\"paper_bgcolor\":\"white\",\"plot_bgcolor\":\"#E5ECF6\",\"polar\":{\"bgcolor\":\"#E5ECF6\",\"angularaxis\":{\"gridcolor\":\"white\",\"linecolor\":\"white\",\"ticks\":\"\"},\"radialaxis\":{\"gridcolor\":\"white\",\"linecolor\":\"white\",\"ticks\":\"\"}},\"ternary\":{\"bgcolor\":\"#E5ECF6\",\"aaxis\":{\"gridcolor\":\"white\",\"linecolor\":\"white\",\"ticks\":\"\"},\"baxis\":{\"gridcolor\":\"white\",\"linecolor\":\"white\",\"ticks\":\"\"},\"caxis\":{\"gridcolor\":\"white\",\"linecolor\":\"white\",\"ticks\":\"\"}},\"coloraxis\":{\"colorbar\":{\"outlinewidth\":0,\"ticks\":\"\"}},\"colorscale\":{\"sequential\":[[0.0,\"#0d0887\"],[0.1111111111111111,\"#46039f\"],[0.2222222222222222,\"#7201a8\"],[0.3333333333333333,\"#9c179e\"],[0.4444444444444444,\"#bd3786\"],[0.5555555555555556,\"#d8576b\"],[0.6666666666666666,\"#ed7953\"],[0.7777777777777778,\"#fb9f3a\"],[0.8888888888888888,\"#fdca26\"],[1.0,\"#f0f921\"]],\"sequentialminus\":[[0.0,\"#0d0887\"],[0.1111111111111111,\"#46039f\"],[0.2222222222222222,\"#7201a8\"],[0.3333333333333333,\"#9c179e\"],[0.4444444444444444,\"#bd3786\"],[0.5555555555555556,\"#d8576b\"],[0.6666666666666666,\"#ed7953\"],[0.7777777777777778,\"#fb9f3a\"],[0.8888888888888888,\"#fdca26\"],[1.0,\"#f0f921\"]],\"diverging\":[[0,\"#8e0152\"],[0.1,\"#c51b7d\"],[0.2,\"#de77ae\"],[0.3,\"#f1b6da\"],[0.4,\"#fde0ef\"],[0.5,\"#f7f7f7\"],[0.6,\"#e6f5d0\"],[0.7,\"#b8e186\"],[0.8,\"#7fbc41\"],[0.9,\"#4d9221\"],[1,\"#276419\"]]},\"xaxis\":{\"gridcolor\":\"white\",\"linecolor\":\"white\",\"ticks\":\"\",\"title\":{\"standoff\":15},\"zerolinecolor\":\"white\",\"automargin\":true,\"zerolinewidth\":2},\"yaxis\":{\"gridcolor\":\"white\",\"linecolor\":\"white\",\"ticks\":\"\",\"title\":{\"standoff\":15},\"zerolinecolor\":\"white\",\"automargin\":true,\"zerolinewidth\":2},\"scene\":{\"xaxis\":{\"backgroundcolor\":\"#E5ECF6\",\"gridcolor\":\"white\",\"linecolor\":\"white\",\"showbackground\":true,\"ticks\":\"\",\"zerolinecolor\":\"white\",\"gridwidth\":2},\"yaxis\":{\"backgroundcolor\":\"#E5ECF6\",\"gridcolor\":\"white\",\"linecolor\":\"white\",\"showbackground\":true,\"ticks\":\"\",\"zerolinecolor\":\"white\",\"gridwidth\":2},\"zaxis\":{\"backgroundcolor\":\"#E5ECF6\",\"gridcolor\":\"white\",\"linecolor\":\"white\",\"showbackground\":true,\"ticks\":\"\",\"zerolinecolor\":\"white\",\"gridwidth\":2}},\"shapedefaults\":{\"line\":{\"color\":\"#2a3f5f\"}},\"annotationdefaults\":{\"arrowcolor\":\"#2a3f5f\",\"arrowhead\":0,\"arrowwidth\":1},\"geo\":{\"bgcolor\":\"white\",\"landcolor\":\"#E5ECF6\",\"subunitcolor\":\"white\",\"showland\":true,\"showlakes\":true,\"lakecolor\":\"white\"},\"title\":{\"x\":0.05},\"mapbox\":{\"style\":\"light\"}}},\"xaxis\":{\"anchor\":\"y\",\"domain\":[0.0,1.0],\"title\":{\"text\":\"pickup_hour\"}},\"yaxis\":{\"anchor\":\"x\",\"domain\":[0.0,1.0],\"title\":{\"text\":\"count\"}},\"legend\":{\"title\":{\"text\":\"payment_type\"},\"tracegroupgap\":0},\"title\":{\"text\":\"Payment Type Distribution by Hour\"}},                        {\"responsive\": true}                    ).then(function(){\n",
              "                            \n",
              "var gd = document.getElementById('6f58a1b0-a102-411f-a3e3-70dccfc6aaa9');\n",
              "var x = new MutationObserver(function (mutations, observer) {{\n",
              "        var display = window.getComputedStyle(gd).display;\n",
              "        if (!display || display === 'none') {{\n",
              "            console.log([gd, 'removed!']);\n",
              "            Plotly.purge(gd);\n",
              "            observer.disconnect();\n",
              "        }}\n",
              "}});\n",
              "\n",
              "// Listen for the removal of the full notebook cells\n",
              "var notebookContainer = gd.closest('#notebook-container');\n",
              "if (notebookContainer) {{\n",
              "    x.observe(notebookContainer, {childList: true});\n",
              "}}\n",
              "\n",
              "// Listen for the clearing of the current output cell\n",
              "var outputEl = gd.closest('.output');\n",
              "if (outputEl) {{\n",
              "    x.observe(outputEl, {childList: true});\n",
              "}}\n",
              "\n",
              "                        })                };                            </script>        </div>\n",
              "</body>\n",
              "</html>"
            ]
          },
          "metadata": {}
        }
      ]
    },
    {
      "cell_type": "markdown",
      "source": [
        "### Analysis of Payment Type Distribution by Hour\n",
        "\n",
        "The line chart shows the distribution of payment types (Cash = 1, Non-Cash = 0) for taxi trips across different hours of the day, with the count of trips on the y-axis and the pickup hour on the x-axis.\n",
        "\n",
        "#### Key Observations:\n",
        "1. **Dominance of Non-Cash Payments (Blue Lines):**\n",
        "   - Non-Cash payments are consistently higher than Cash payments across all hours, suggesting a general preference for digital or card-based transactions.\n",
        "   - There is a clear upward trend in Non-Cash payments as the day progresses, reaching peak counts in the late afternoon and evening hours, before decreasing slightly towards midnight.\n",
        "\n",
        "2. **Cash Payments (Red Lines):**\n",
        "   - Cash payments remain significantly lower than Non-Cash transactions throughout the day.\n",
        "   - The volume of Cash payments shows less fluctuation across different hours, with a slight increase during the morning hours (5-9 AM) and then stabilizing.\n",
        "\n",
        "3. **Time-of-Day Trends:**\n",
        "   - Non-Cash payments peak in the late afternoon and evening hours, indicating high demand during these periods.\n",
        "   - The lower activity for both payment types during early morning hours (0-5 AM) suggests less demand for taxi services during these hours.\n",
        "\n",
        "4. **Implications:**\n",
        "   - The preference for Non-Cash payments aligns with typical urban travel patterns where digital payment options are commonly preferred.\n",
        "   - Cash payments, though less common, remain stable, possibly reflecting a specific user base or circumstances where Non-Cash options are unavailable or inconvenient.\n",
        "\n",
        "This analysis highlights a strong preference for Non-Cash payments, especially during peak travel hours in the late afternoon and evening."
      ],
      "metadata": {
        "id": "CzAhyvo4kXnu"
      }
    },
    {
      "cell_type": "code",
      "source": [
        "# Step 2: Implement oversampling\n",
        "def oversample_minority_class(df, minority_label=0, majority_label=1):\n",
        "    # Get initial counts\n",
        "    majority_count = df.filter(col(\"payment_type\") == majority_label).count()\n",
        "    minority_count = df.filter(col(\"payment_type\") == minority_label).count()\n",
        "\n",
        "    print(f\"Before oversampling:\")\n",
        "    print(f\"Majority class (1) count: {majority_count}\")\n",
        "    print(f\"Minority class (0) count: {minority_count}\")\n",
        "\n",
        "    # Calculate scaling factor\n",
        "    scaling_factor = float(majority_count) / minority_count\n",
        "    print(f\"Scaling factor for oversampling: {scaling_factor:.2f}\")\n",
        "\n",
        "    # Split into majority and minority datasets\n",
        "    minority_df = df.filter(col(\"payment_type\") == minority_label)\n",
        "    majority_df = df.filter(col(\"payment_type\") == majority_label)\n",
        "\n",
        "    # Oversample minority class\n",
        "    oversampled_minority = minority_df.sample(\n",
        "        withReplacement=True,\n",
        "        fraction=scaling_factor,\n",
        "        seed=42\n",
        "    )\n",
        "\n",
        "    # Combine datasets\n",
        "    balanced_df = majority_df.unionAll(oversampled_minority)\n",
        "\n",
        "    # Print final distribution\n",
        "    print(\"\\nAfter oversampling:\")\n",
        "    balanced_df.groupBy(\"payment_type\").count().orderBy(\"payment_type\").show()\n",
        "\n",
        "    return balanced_df\n",
        "\n",
        "# Execute oversampling\n",
        "balanced_df = oversample_minority_class(df)\n"
      ],
      "metadata": {
        "colab": {
          "base_uri": "https://localhost:8080/"
        },
        "id": "de8baa-fgKOB",
        "outputId": "720d184a-d7b6-4de8-af2b-92f5206e55f2"
      },
      "execution_count": null,
      "outputs": [
        {
          "output_type": "stream",
          "name": "stdout",
          "text": [
            "Before oversampling:\n",
            "Majority class (1) count: 8788837\n",
            "Minority class (0) count: 2759148\n",
            "Scaling factor for oversampling: 3.19\n",
            "\n",
            "After oversampling:\n",
            "+------------+-------+\n",
            "|payment_type|  count|\n",
            "+------------+-------+\n",
            "|           0|8786126|\n",
            "|           1|8788837|\n",
            "+------------+-------+\n",
            "\n"
          ]
        }
      ]
    },
    {
      "cell_type": "markdown",
      "source": [
        "### Analysis of Oversampling for Payment Type Imbalance\n",
        "\n",
        "#### Before Oversampling:\n",
        "- **Majority Class (1 - Cash payments)**: 8,788,837 instances\n",
        "- **Minority Class (0 - Non-Cash payments)**: 2,759,148 instances\n",
        "- **Scaling Factor**: 3.19, calculated to increase the count of the minority class to balance with the majority class.\n",
        "\n",
        "#### After Oversampling:\n",
        "The oversampling process has increased the minority class count to closely match the majority class, resulting in the following distribution:\n",
        "- **Non-Cash Payments (0)**: 8,786,126 instances\n",
        "- **Cash Payments (1)**: 8,788,837 instances\n",
        "\n",
        "#### Key Observations:\n",
        "1. **Balanced Distribution**: Both classes are now nearly equal in count, reducing the imbalance that could have biased the model towards the majority class.\n",
        "2. **Impact on Model Performance**: With a balanced dataset, the model should now be better equipped to learn patterns for both classes, improving prediction accuracy, especially for the previously underrepresented Non-Cash payments.\n",
        "3. **Potential Risks**: While oversampling addresses class imbalance, it increases the dataset size, potentially leading to longer training times and a risk of overfitting on the oversampled class. Additional regularization techniques or cross-validation can help mitigate these risks.\n",
        "\n",
        "This balanced dataset will likely result in a more reliable model that performs well across both payment types.\n"
      ],
      "metadata": {
        "id": "cIdAhs7ykh4H"
      }
    },
    {
      "cell_type": "code",
      "source": [
        "from pyspark.ml.feature import VectorAssembler, StringIndexer\n",
        "from pyspark.ml import Pipeline\n",
        "\n",
        "def prepare_data(balanced_df):\n",
        "    # First, let's create indexers for categorical features\n",
        "    location_indexers = [\n",
        "        StringIndexer(inputCol=\"DOLocationID\", outputCol=\"DOLocationID_indexed\"),\n",
        "        StringIndexer(inputCol=\"PULocationID\", outputCol=\"PULocationID_indexed\"),\n",
        "        StringIndexer(inputCol=\"pickup_hour\", outputCol=\"pickup_hour_indexed\")\n",
        "    ]\n",
        "\n",
        "    # Define all features including newly indexed ones\n",
        "    feature_columns = [\n",
        "        \"trip_distance\",\n",
        "        \"tip_amount\",\n",
        "        \"total_fare\",\n",
        "        \"trip_duration\",\n",
        "        \"passenger_count\",\n",
        "        \"DOLocationID_indexed\",\n",
        "        \"PULocationID_indexed\",\n",
        "        \"pickup_hour_indexed\"\n",
        "    ]\n",
        "\n",
        "    # Print sample before transformation\n",
        "    print(\"Sample of original data:\")\n",
        "    balanced_df.select(\"DOLocationID\", \"PULocationID\", \"pickup_hour\", \"trip_distance\", \"tip_amount\").show(5)\n",
        "\n",
        "    # Create vector assembler\n",
        "    assembler = VectorAssembler(\n",
        "        inputCols=feature_columns,\n",
        "        outputCol=\"features\"\n",
        "    )\n",
        "\n",
        "    # Create pipeline\n",
        "    pipeline = Pipeline(stages=location_indexers + [assembler])\n",
        "\n",
        "    # Fit and transform the data\n",
        "    pipeline_model = pipeline.fit(balanced_df)\n",
        "    vector_df = pipeline_model.transform(balanced_df)\n",
        "\n",
        "    # Print sample after transformation\n",
        "    print(\"\\nSample after feature engineering:\")\n",
        "    vector_df.select(\"features\", \"payment_type\",\n",
        "                    \"DOLocationID_indexed\", \"PULocationID_indexed\",\n",
        "                    \"pickup_hour_indexed\").show(5, truncate=False)\n",
        "\n",
        "# Execute feature preparation\n",
        "prepared_df = prepare_data(balanced_df)\n"
      ],
      "metadata": {
        "colab": {
          "base_uri": "https://localhost:8080/"
        },
        "id": "eYqsj817iEFZ",
        "outputId": "d5749923-5012-4a31-c753-8e5f5da815a1"
      },
      "execution_count": null,
      "outputs": [
        {
          "output_type": "stream",
          "name": "stdout",
          "text": [
            "Sample of original data:\n",
            "+------------+------------+-----------+-------------+----------+\n",
            "|DOLocationID|PULocationID|pickup_hour|trip_distance|tip_amount|\n",
            "+------------+------------+-----------+-------------+----------+\n",
            "|         239|         238|          0|          1.2|      1.47|\n",
            "|         238|         239|          0|          1.2|       1.5|\n",
            "|          79|         246|          0|          2.4|      1.75|\n",
            "|         144|         161|          0|          3.3|      4.15|\n",
            "|         239|          43|          0|         1.07|      1.96|\n",
            "+------------+------------+-----------+-------------+----------+\n",
            "only showing top 5 rows\n",
            "\n",
            "\n",
            "Sample after feature engineering:\n",
            "+----------------------------------------+------------+--------------------+--------------------+-------------------+\n",
            "|features                                |payment_type|DOLocationID_indexed|PULocationID_indexed|pickup_hour_indexed|\n",
            "+----------------------------------------+------------+--------------------+--------------------+-------------------+\n",
            "|[1.2,1.47,9.8,4.8,1.0,9.0,17.0,17.0]    |1           |9.0                 |17.0                |17.0               |\n",
            "|[1.2,1.5,10.8,7.42,1.0,13.0,13.0,17.0]  |1           |13.0                |13.0                |17.0               |\n",
            "|[2.4,1.75,15.8,16.87,2.0,16.0,25.0,17.0]|1           |16.0                |25.0                |17.0               |\n",
            "|[3.3,4.15,20.8,25.28,1.0,43.0,1.0,17.0] |1           |43.0                |1.0                 |17.0               |\n",
            "|[1.07,1.96,7.3,5.62,1.0,9.0,26.0,17.0]  |1           |9.0                 |26.0                |17.0               |\n",
            "+----------------------------------------+------------+--------------------+--------------------+-------------------+\n",
            "only showing top 5 rows\n",
            "\n",
            "\n",
            "Null values check in features:\n",
            "+----------+\n",
            "|null_count|\n",
            "+----------+\n",
            "|         0|\n",
            "+----------+\n",
            "\n"
          ]
        }
      ]
    },
    {
      "cell_type": "code",
      "source": [
        "# Split the data\n",
        "train_df, test_df = prepared_df.randomSplit([0.8, 0.2], seed=42)\n",
        "\n",
        "# Cache the datasets\n",
        "train_df = train_df.cache()\n",
        "test_df = test_df.cache()\n",
        "\n",
        "# Verify split distribution\n",
        "print(\"Training set distribution:\")\n",
        "train_df.groupBy(\"payment_type\").count().orderBy(\"payment_type\").show(5)\n",
        "\n",
        "print(\"\\nTest set distribution:\")\n",
        "test_df.groupBy(\"payment_type\").count().orderBy(\"payment_type\").show(5)\n",
        "\n",
        "# Verify total counts\n",
        "print(\"\\nTotal counts:\")\n",
        "print(f\"Training set: {train_df.count()}\")\n",
        "print(f\"Test set: {test_df.count()}\")"
      ],
      "metadata": {
        "id": "vhOF3Bg3wROy",
        "colab": {
          "base_uri": "https://localhost:8080/"
        },
        "outputId": "2d521c4f-e597-4305-c03c-50c960cca384"
      },
      "execution_count": null,
      "outputs": [
        {
          "output_type": "stream",
          "name": "stdout",
          "text": [
            "Training set distribution:\n",
            "+------------+-------+\n",
            "|payment_type|  count|\n",
            "+------------+-------+\n",
            "|           0|7028062|\n",
            "|           1|7029620|\n",
            "+------------+-------+\n",
            "\n",
            "\n",
            "Test set distribution:\n",
            "+------------+-------+\n",
            "|payment_type|  count|\n",
            "+------------+-------+\n",
            "|           0|1758064|\n",
            "|           1|1759217|\n",
            "+------------+-------+\n",
            "\n",
            "\n",
            "Total counts:\n",
            "Training set: 14057682\n",
            "Test set: 3517281\n"
          ]
        }
      ]
    },
    {
      "cell_type": "code",
      "source": [
        "from pyspark.ml.classification import LogisticRegression\n",
        "from pyspark.ml.evaluation import BinaryClassificationEvaluator, MulticlassClassificationEvaluator\n",
        "\n",
        "# Initialize the model\n",
        "lr = LogisticRegression(\n",
        "    maxIter=10,\n",
        "    regParam=0.01,\n",
        "    elasticNetParam=0.8,\n",
        "    labelCol=\"payment_type\",\n",
        "    featuresCol=\"features\"\n",
        ")\n",
        "\n",
        "# Train the model\n",
        "print(\"Training model...\")\n",
        "model = lr.fit(train_df)\n",
        "\n",
        "# Make predictions on test set\n",
        "print(\"Making predictions...\")\n",
        "predictions = model.transform(test_df)\n",
        "\n",
        "# Evaluate the model\n",
        "evaluator_auc = BinaryClassificationEvaluator(\n",
        "    labelCol=\"payment_type\",\n",
        "    metricName=\"areaUnderROC\"\n",
        ")\n",
        "\n",
        "evaluator_accuracy = MulticlassClassificationEvaluator(\n",
        "    labelCol=\"payment_type\",\n",
        "    predictionCol=\"prediction\",\n",
        "    metricName=\"accuracy\"\n",
        ")\n",
        "\n",
        "# Print metrics\n",
        "auc = evaluator_auc.evaluate(predictions)\n",
        "accuracy = evaluator_accuracy.evaluate(predictions)\n",
        "\n",
        "print(f\"\\nModel Performance Metrics:\")\n",
        "print(f\"AUC-ROC: {auc:.4f}\")\n",
        "print(f\"Accuracy: {accuracy:.4f}\")"
      ],
      "metadata": {
        "colab": {
          "base_uri": "https://localhost:8080/"
        },
        "id": "BRdx6MqjjmlK",
        "outputId": "7dc79219-6e14-42b6-a568-dc3125a06b2b"
      },
      "execution_count": null,
      "outputs": [
        {
          "output_type": "stream",
          "name": "stdout",
          "text": [
            "Training model...\n",
            "Making predictions...\n",
            "\n",
            "Model Performance Metrics:\n",
            "AUC-ROC: 0.9845\n",
            "Accuracy: 0.9818\n",
            "\n",
            "Feature Importances:\n",
            "tip_amount: 2.4060\n",
            "trip_duration: -0.0109\n",
            "DOLocationID_indexed: -0.0003\n",
            "trip_distance: 0.0000\n",
            "total_fare: 0.0000\n",
            "passenger_count: 0.0000\n",
            "PULocationID_indexed: 0.0000\n",
            "pickup_hour_indexed: 0.0000\n"
          ]
        }
      ]
    },
    {
      "cell_type": "markdown",
      "source": [
        "### Model Performance and Feature Importance Analysis\n",
        "\n",
        "#### Model Performance Metrics:\n",
        "- **AUC-ROC (Area Under the Receiver Operating Characteristic Curve)**: 0.9845  \n",
        "  - This high AUC-ROC score indicates that the model has excellent discriminatory power in distinguishing between the two classes (payment types). A score close to 1 suggests that the model performs very well at differentiating between Cash and Non-Cash payments.\n",
        "\n",
        "- **Accuracy**: 0.9818  \n",
        "  - An accuracy of 98.18% shows that the model correctly predicts the payment type for a majority of the cases. This high accuracy, combined with the high AUC-ROC score, suggests that the model is both precise and reliable.\n",
        "\n",
        "#### Feature Importances:\n",
        "The model assigns different importance scores to the input features, indicating their relative influence in predicting the payment type. Here’s a breakdown of the feature importances:\n",
        "\n",
        "1. **tip_amount**: 2.4060  \n",
        "   - Tip amount is the most significant feature by far, strongly influencing the model's predictions. This high importance suggests a strong correlation between the amount tipped and the likelihood of a payment type (Cash or Non-Cash).\n",
        "\n",
        "2. **trip_duration**: -0.0109  \n",
        "   - Although `trip_duration` has a very low importance score, its slight negative value indicates a minor inverse relationship with the target variable. However, its impact is negligible compared to `tip_amount`.\n",
        "\n",
        "3. **DOLocationID_indexed**: -0.0003  \n",
        "   - Drop-off location index has an almost insignificant effect on the model's predictions, indicating that location does not notably influence payment type.\n",
        "\n",
        "4. **Other Features (`trip_distance`, `total_fare`, `passenger_count`, `PULocationID_indexed`, `pickup_hour_indexed`)**: 0.0000  \n",
        "   - These features have no impact on the model’s decision-making. The model does not consider them useful in distinguishing between Cash and Non-Cash payments for this dataset.\n",
        "\n",
        "#### Key Insights:\n",
        "- The **tip amount** is the primary predictor of payment type, suggesting that the tipping behavior strongly correlates with whether the transaction was made with Cash or Non-Cash.\n",
        "- Other features such as trip duration and location indexes provide minimal to no value in predicting payment type, indicating that the model relies almost exclusively on tipping information.\n",
        "\n",
        "#### Implications:\n",
        "The model’s high reliance on the tip amount might imply that non-cash payments correlate with higher or consistent tipping patterns, while cash transactions vary. Given this feature importance distribution, focusing on `tip_amount` provides the model with nearly all the information it needs, potentially allowing for a simpler model structure without significant performance loss.\n",
        "\n",
        "Overall, the high AUC-ROC and accuracy scores indicate a well-performing model, but the strong dependence on a single feature suggests that the model's robustness may benefit from additional relevant features if available.\n"
      ],
      "metadata": {
        "id": "Js9FAP6Ek38l"
      }
    },
    {
      "cell_type": "markdown",
      "source": [
        "# Q5: Predict the fare of a taxi trip based on borough-specific factors such as pickup and drop-off boroughs, and analyze how fares vary across different NYC boroughs\n"
      ],
      "metadata": {
        "id": "6uGUkAqrlJnD"
      }
    },
    {
      "cell_type": "markdown",
      "source": [
        "## Borough-specific Analysis"
      ],
      "metadata": {
        "id": "tzAMesNeZLC7"
      }
    },
    {
      "cell_type": "code",
      "source": [
        "# Average fare by pickup borough\n",
        "avg_fare_by_pickup = df.groupBy(\"Pickup_Borough\").agg({\"total_fare\": \"avg\"}).orderBy(\"avg(total_fare)\", ascending=False)\n",
        "avg_fare_by_pickup.show()\n",
        "\n",
        "# Average fare by dropoff borough\n",
        "avg_fare_by_dropoff = df.groupBy(\"Dropoff_Borough\").agg({\"total_fare\": \"avg\"}).orderBy(\"avg(total_fare)\", ascending=False)\n",
        "avg_fare_by_dropoff.show()"
      ],
      "metadata": {
        "colab": {
          "base_uri": "https://localhost:8080/"
        },
        "id": "2szryPcpX4r0",
        "outputId": "49318ea7-f3e9-4721-b50a-9295a4e5beb6"
      },
      "execution_count": null,
      "outputs": [
        {
          "output_type": "stream",
          "name": "stdout",
          "text": [
            "+--------------+------------------+\n",
            "|Pickup_Borough|   avg(total_fare)|\n",
            "+--------------+------------------+\n",
            "|           EWR| 57.15781249999999|\n",
            "| Staten Island| 46.51826697892274|\n",
            "|        Queens| 38.87854564040507|\n",
            "|          NULL|37.159960159362285|\n",
            "|         Bronx|22.190800029012944|\n",
            "|      Brooklyn| 18.79240691514802|\n",
            "|       Unknown| 17.01523336542911|\n",
            "|     Manhattan|14.581289899270928|\n",
            "+--------------+------------------+\n",
            "\n",
            "+---------------+------------------+\n",
            "|Dropoff_Borough|   avg(total_fare)|\n",
            "+---------------+------------------+\n",
            "|            EWR| 78.37544998824521|\n",
            "|  Staten Island| 67.97709602954824|\n",
            "|           NULL|54.685852099230466|\n",
            "|         Queens|30.897181236144913|\n",
            "|          Bronx| 30.75982597900653|\n",
            "|       Brooklyn|27.981821299293582|\n",
            "|        Unknown|  15.8340537992839|\n",
            "|      Manhattan| 14.49607267168937|\n",
            "+---------------+------------------+\n",
            "\n"
          ]
        }
      ]
    },
    {
      "cell_type": "markdown",
      "source": [
        "### Average Fare by Pickup Borough"
      ],
      "metadata": {
        "id": "Wt18WHgEcp2c"
      }
    },
    {
      "cell_type": "code",
      "source": [
        "import plotly.express as px\n",
        "\n",
        "# Calculate average fare by pickup borough\n",
        "avg_fare_by_pickup_borough = df.groupBy(\"Pickup_Borough\").agg({\"total_fare\": \"avg\"}).toPandas()\n",
        "\n",
        "# Create bar chart for pickup boroughs\n",
        "fig = px.bar(avg_fare_by_pickup_borough, x='Pickup_Borough', y='avg(total_fare)', title=\"Average Fare by Pickup Borough\")\n",
        "fig.show()\n"
      ],
      "metadata": {
        "colab": {
          "base_uri": "https://localhost:8080/",
          "height": 542
        },
        "id": "_6h8KnYSZXRN",
        "outputId": "8537bff8-6300-4f8e-a4cd-dccb0ad1513b"
      },
      "execution_count": null,
      "outputs": [
        {
          "output_type": "display_data",
          "data": {
            "text/html": [
              "<html>\n",
              "<head><meta charset=\"utf-8\" /></head>\n",
              "<body>\n",
              "    <div>            <script src=\"https://cdnjs.cloudflare.com/ajax/libs/mathjax/2.7.5/MathJax.js?config=TeX-AMS-MML_SVG\"></script><script type=\"text/javascript\">if (window.MathJax && window.MathJax.Hub && window.MathJax.Hub.Config) {window.MathJax.Hub.Config({SVG: {font: \"STIX-Web\"}});}</script>                <script type=\"text/javascript\">window.PlotlyConfig = {MathJaxConfig: 'local'};</script>\n",
              "        <script charset=\"utf-8\" src=\"https://cdn.plot.ly/plotly-2.35.2.min.js\"></script>                <div id=\"ceac29c1-8281-4018-a217-12366010480d\" class=\"plotly-graph-div\" style=\"height:525px; width:100%;\"></div>            <script type=\"text/javascript\">                                    window.PLOTLYENV=window.PLOTLYENV || {};                                    if (document.getElementById(\"ceac29c1-8281-4018-a217-12366010480d\")) {                    Plotly.newPlot(                        \"ceac29c1-8281-4018-a217-12366010480d\",                        [{\"alignmentgroup\":\"True\",\"hovertemplate\":\"Pickup_Borough=%{x}\\u003cbr\\u003eavg(total_fare)=%{y}\\u003cextra\\u003e\\u003c\\u002fextra\\u003e\",\"legendgroup\":\"\",\"marker\":{\"color\":\"#636efa\",\"pattern\":{\"shape\":\"\"}},\"name\":\"\",\"offsetgroup\":\"\",\"orientation\":\"v\",\"showlegend\":false,\"textposition\":\"auto\",\"x\":[\"Queens\",null,\"EWR\",\"Unknown\",\"Brooklyn\",\"Staten Island\",\"Manhattan\",\"Bronx\"],\"xaxis\":\"x\",\"y\":[38.87854564040507,37.159960159362285,57.15781249999999,17.01523336542911,18.79240691514802,46.51826697892274,14.581289899270928,22.190800029012944],\"yaxis\":\"y\",\"type\":\"bar\"}],                        {\"template\":{\"data\":{\"histogram2dcontour\":[{\"type\":\"histogram2dcontour\",\"colorbar\":{\"outlinewidth\":0,\"ticks\":\"\"},\"colorscale\":[[0.0,\"#0d0887\"],[0.1111111111111111,\"#46039f\"],[0.2222222222222222,\"#7201a8\"],[0.3333333333333333,\"#9c179e\"],[0.4444444444444444,\"#bd3786\"],[0.5555555555555556,\"#d8576b\"],[0.6666666666666666,\"#ed7953\"],[0.7777777777777778,\"#fb9f3a\"],[0.8888888888888888,\"#fdca26\"],[1.0,\"#f0f921\"]]}],\"choropleth\":[{\"type\":\"choropleth\",\"colorbar\":{\"outlinewidth\":0,\"ticks\":\"\"}}],\"histogram2d\":[{\"type\":\"histogram2d\",\"colorbar\":{\"outlinewidth\":0,\"ticks\":\"\"},\"colorscale\":[[0.0,\"#0d0887\"],[0.1111111111111111,\"#46039f\"],[0.2222222222222222,\"#7201a8\"],[0.3333333333333333,\"#9c179e\"],[0.4444444444444444,\"#bd3786\"],[0.5555555555555556,\"#d8576b\"],[0.6666666666666666,\"#ed7953\"],[0.7777777777777778,\"#fb9f3a\"],[0.8888888888888888,\"#fdca26\"],[1.0,\"#f0f921\"]]}],\"heatmap\":[{\"type\":\"heatmap\",\"colorbar\":{\"outlinewidth\":0,\"ticks\":\"\"},\"colorscale\":[[0.0,\"#0d0887\"],[0.1111111111111111,\"#46039f\"],[0.2222222222222222,\"#7201a8\"],[0.3333333333333333,\"#9c179e\"],[0.4444444444444444,\"#bd3786\"],[0.5555555555555556,\"#d8576b\"],[0.6666666666666666,\"#ed7953\"],[0.7777777777777778,\"#fb9f3a\"],[0.8888888888888888,\"#fdca26\"],[1.0,\"#f0f921\"]]}],\"heatmapgl\":[{\"type\":\"heatmapgl\",\"colorbar\":{\"outlinewidth\":0,\"ticks\":\"\"},\"colorscale\":[[0.0,\"#0d0887\"],[0.1111111111111111,\"#46039f\"],[0.2222222222222222,\"#7201a8\"],[0.3333333333333333,\"#9c179e\"],[0.4444444444444444,\"#bd3786\"],[0.5555555555555556,\"#d8576b\"],[0.6666666666666666,\"#ed7953\"],[0.7777777777777778,\"#fb9f3a\"],[0.8888888888888888,\"#fdca26\"],[1.0,\"#f0f921\"]]}],\"contourcarpet\":[{\"type\":\"contourcarpet\",\"colorbar\":{\"outlinewidth\":0,\"ticks\":\"\"}}],\"contour\":[{\"type\":\"contour\",\"colorbar\":{\"outlinewidth\":0,\"ticks\":\"\"},\"colorscale\":[[0.0,\"#0d0887\"],[0.1111111111111111,\"#46039f\"],[0.2222222222222222,\"#7201a8\"],[0.3333333333333333,\"#9c179e\"],[0.4444444444444444,\"#bd3786\"],[0.5555555555555556,\"#d8576b\"],[0.6666666666666666,\"#ed7953\"],[0.7777777777777778,\"#fb9f3a\"],[0.8888888888888888,\"#fdca26\"],[1.0,\"#f0f921\"]]}],\"surface\":[{\"type\":\"surface\",\"colorbar\":{\"outlinewidth\":0,\"ticks\":\"\"},\"colorscale\":[[0.0,\"#0d0887\"],[0.1111111111111111,\"#46039f\"],[0.2222222222222222,\"#7201a8\"],[0.3333333333333333,\"#9c179e\"],[0.4444444444444444,\"#bd3786\"],[0.5555555555555556,\"#d8576b\"],[0.6666666666666666,\"#ed7953\"],[0.7777777777777778,\"#fb9f3a\"],[0.8888888888888888,\"#fdca26\"],[1.0,\"#f0f921\"]]}],\"mesh3d\":[{\"type\":\"mesh3d\",\"colorbar\":{\"outlinewidth\":0,\"ticks\":\"\"}}],\"scatter\":[{\"fillpattern\":{\"fillmode\":\"overlay\",\"size\":10,\"solidity\":0.2},\"type\":\"scatter\"}],\"parcoords\":[{\"type\":\"parcoords\",\"line\":{\"colorbar\":{\"outlinewidth\":0,\"ticks\":\"\"}}}],\"scatterpolargl\":[{\"type\":\"scatterpolargl\",\"marker\":{\"colorbar\":{\"outlinewidth\":0,\"ticks\":\"\"}}}],\"bar\":[{\"error_x\":{\"color\":\"#2a3f5f\"},\"error_y\":{\"color\":\"#2a3f5f\"},\"marker\":{\"line\":{\"color\":\"#E5ECF6\",\"width\":0.5},\"pattern\":{\"fillmode\":\"overlay\",\"size\":10,\"solidity\":0.2}},\"type\":\"bar\"}],\"scattergeo\":[{\"type\":\"scattergeo\",\"marker\":{\"colorbar\":{\"outlinewidth\":0,\"ticks\":\"\"}}}],\"scatterpolar\":[{\"type\":\"scatterpolar\",\"marker\":{\"colorbar\":{\"outlinewidth\":0,\"ticks\":\"\"}}}],\"histogram\":[{\"marker\":{\"pattern\":{\"fillmode\":\"overlay\",\"size\":10,\"solidity\":0.2}},\"type\":\"histogram\"}],\"scattergl\":[{\"type\":\"scattergl\",\"marker\":{\"colorbar\":{\"outlinewidth\":0,\"ticks\":\"\"}}}],\"scatter3d\":[{\"type\":\"scatter3d\",\"line\":{\"colorbar\":{\"outlinewidth\":0,\"ticks\":\"\"}},\"marker\":{\"colorbar\":{\"outlinewidth\":0,\"ticks\":\"\"}}}],\"scattermapbox\":[{\"type\":\"scattermapbox\",\"marker\":{\"colorbar\":{\"outlinewidth\":0,\"ticks\":\"\"}}}],\"scatterternary\":[{\"type\":\"scatterternary\",\"marker\":{\"colorbar\":{\"outlinewidth\":0,\"ticks\":\"\"}}}],\"scattercarpet\":[{\"type\":\"scattercarpet\",\"marker\":{\"colorbar\":{\"outlinewidth\":0,\"ticks\":\"\"}}}],\"carpet\":[{\"aaxis\":{\"endlinecolor\":\"#2a3f5f\",\"gridcolor\":\"white\",\"linecolor\":\"white\",\"minorgridcolor\":\"white\",\"startlinecolor\":\"#2a3f5f\"},\"baxis\":{\"endlinecolor\":\"#2a3f5f\",\"gridcolor\":\"white\",\"linecolor\":\"white\",\"minorgridcolor\":\"white\",\"startlinecolor\":\"#2a3f5f\"},\"type\":\"carpet\"}],\"table\":[{\"cells\":{\"fill\":{\"color\":\"#EBF0F8\"},\"line\":{\"color\":\"white\"}},\"header\":{\"fill\":{\"color\":\"#C8D4E3\"},\"line\":{\"color\":\"white\"}},\"type\":\"table\"}],\"barpolar\":[{\"marker\":{\"line\":{\"color\":\"#E5ECF6\",\"width\":0.5},\"pattern\":{\"fillmode\":\"overlay\",\"size\":10,\"solidity\":0.2}},\"type\":\"barpolar\"}],\"pie\":[{\"automargin\":true,\"type\":\"pie\"}]},\"layout\":{\"autotypenumbers\":\"strict\",\"colorway\":[\"#636efa\",\"#EF553B\",\"#00cc96\",\"#ab63fa\",\"#FFA15A\",\"#19d3f3\",\"#FF6692\",\"#B6E880\",\"#FF97FF\",\"#FECB52\"],\"font\":{\"color\":\"#2a3f5f\"},\"hovermode\":\"closest\",\"hoverlabel\":{\"align\":\"left\"},\"paper_bgcolor\":\"white\",\"plot_bgcolor\":\"#E5ECF6\",\"polar\":{\"bgcolor\":\"#E5ECF6\",\"angularaxis\":{\"gridcolor\":\"white\",\"linecolor\":\"white\",\"ticks\":\"\"},\"radialaxis\":{\"gridcolor\":\"white\",\"linecolor\":\"white\",\"ticks\":\"\"}},\"ternary\":{\"bgcolor\":\"#E5ECF6\",\"aaxis\":{\"gridcolor\":\"white\",\"linecolor\":\"white\",\"ticks\":\"\"},\"baxis\":{\"gridcolor\":\"white\",\"linecolor\":\"white\",\"ticks\":\"\"},\"caxis\":{\"gridcolor\":\"white\",\"linecolor\":\"white\",\"ticks\":\"\"}},\"coloraxis\":{\"colorbar\":{\"outlinewidth\":0,\"ticks\":\"\"}},\"colorscale\":{\"sequential\":[[0.0,\"#0d0887\"],[0.1111111111111111,\"#46039f\"],[0.2222222222222222,\"#7201a8\"],[0.3333333333333333,\"#9c179e\"],[0.4444444444444444,\"#bd3786\"],[0.5555555555555556,\"#d8576b\"],[0.6666666666666666,\"#ed7953\"],[0.7777777777777778,\"#fb9f3a\"],[0.8888888888888888,\"#fdca26\"],[1.0,\"#f0f921\"]],\"sequentialminus\":[[0.0,\"#0d0887\"],[0.1111111111111111,\"#46039f\"],[0.2222222222222222,\"#7201a8\"],[0.3333333333333333,\"#9c179e\"],[0.4444444444444444,\"#bd3786\"],[0.5555555555555556,\"#d8576b\"],[0.6666666666666666,\"#ed7953\"],[0.7777777777777778,\"#fb9f3a\"],[0.8888888888888888,\"#fdca26\"],[1.0,\"#f0f921\"]],\"diverging\":[[0,\"#8e0152\"],[0.1,\"#c51b7d\"],[0.2,\"#de77ae\"],[0.3,\"#f1b6da\"],[0.4,\"#fde0ef\"],[0.5,\"#f7f7f7\"],[0.6,\"#e6f5d0\"],[0.7,\"#b8e186\"],[0.8,\"#7fbc41\"],[0.9,\"#4d9221\"],[1,\"#276419\"]]},\"xaxis\":{\"gridcolor\":\"white\",\"linecolor\":\"white\",\"ticks\":\"\",\"title\":{\"standoff\":15},\"zerolinecolor\":\"white\",\"automargin\":true,\"zerolinewidth\":2},\"yaxis\":{\"gridcolor\":\"white\",\"linecolor\":\"white\",\"ticks\":\"\",\"title\":{\"standoff\":15},\"zerolinecolor\":\"white\",\"automargin\":true,\"zerolinewidth\":2},\"scene\":{\"xaxis\":{\"backgroundcolor\":\"#E5ECF6\",\"gridcolor\":\"white\",\"linecolor\":\"white\",\"showbackground\":true,\"ticks\":\"\",\"zerolinecolor\":\"white\",\"gridwidth\":2},\"yaxis\":{\"backgroundcolor\":\"#E5ECF6\",\"gridcolor\":\"white\",\"linecolor\":\"white\",\"showbackground\":true,\"ticks\":\"\",\"zerolinecolor\":\"white\",\"gridwidth\":2},\"zaxis\":{\"backgroundcolor\":\"#E5ECF6\",\"gridcolor\":\"white\",\"linecolor\":\"white\",\"showbackground\":true,\"ticks\":\"\",\"zerolinecolor\":\"white\",\"gridwidth\":2}},\"shapedefaults\":{\"line\":{\"color\":\"#2a3f5f\"}},\"annotationdefaults\":{\"arrowcolor\":\"#2a3f5f\",\"arrowhead\":0,\"arrowwidth\":1},\"geo\":{\"bgcolor\":\"white\",\"landcolor\":\"#E5ECF6\",\"subunitcolor\":\"white\",\"showland\":true,\"showlakes\":true,\"lakecolor\":\"white\"},\"title\":{\"x\":0.05},\"mapbox\":{\"style\":\"light\"}}},\"xaxis\":{\"anchor\":\"y\",\"domain\":[0.0,1.0],\"title\":{\"text\":\"Pickup_Borough\"}},\"yaxis\":{\"anchor\":\"x\",\"domain\":[0.0,1.0],\"title\":{\"text\":\"avg(total_fare)\"}},\"legend\":{\"tracegroupgap\":0},\"title\":{\"text\":\"Average Fare by Pickup Borough\"},\"barmode\":\"relative\"},                        {\"responsive\": true}                    ).then(function(){\n",
              "                            \n",
              "var gd = document.getElementById('ceac29c1-8281-4018-a217-12366010480d');\n",
              "var x = new MutationObserver(function (mutations, observer) {{\n",
              "        var display = window.getComputedStyle(gd).display;\n",
              "        if (!display || display === 'none') {{\n",
              "            console.log([gd, 'removed!']);\n",
              "            Plotly.purge(gd);\n",
              "            observer.disconnect();\n",
              "        }}\n",
              "}});\n",
              "\n",
              "// Listen for the removal of the full notebook cells\n",
              "var notebookContainer = gd.closest('#notebook-container');\n",
              "if (notebookContainer) {{\n",
              "    x.observe(notebookContainer, {childList: true});\n",
              "}}\n",
              "\n",
              "// Listen for the clearing of the current output cell\n",
              "var outputEl = gd.closest('.output');\n",
              "if (outputEl) {{\n",
              "    x.observe(outputEl, {childList: true});\n",
              "}}\n",
              "\n",
              "                        })                };                            </script>        </div>\n",
              "</body>\n",
              "</html>"
            ]
          },
          "metadata": {}
        }
      ]
    },
    {
      "cell_type": "markdown",
      "source": [
        "### Average Fare by Dropoff Borough"
      ],
      "metadata": {
        "id": "mVRWSWd6c6Kg"
      }
    },
    {
      "cell_type": "code",
      "source": [
        "import plotly.express as px\n",
        "\n",
        "# Calculate average fare by dropoff borough\n",
        "avg_fare_by_dropoff_borough = df.groupBy(\"Dropoff_Borough\").agg({\"total_fare\": \"avg\"}).toPandas()\n",
        "\n",
        "# Create bar chart for dropoff boroughs\n",
        "fig = px.bar(avg_fare_by_dropoff_borough, x='Dropoff_Borough', y='avg(total_fare)', title=\"Average Fare by Dropoff Borough\")\n",
        "fig.show()\n"
      ],
      "metadata": {
        "colab": {
          "base_uri": "https://localhost:8080/",
          "height": 542
        },
        "id": "_zUNu1G5ZpL7",
        "outputId": "65d2d962-91c6-470b-91d2-647cf3f6351a"
      },
      "execution_count": null,
      "outputs": [
        {
          "output_type": "display_data",
          "data": {
            "text/html": [
              "<html>\n",
              "<head><meta charset=\"utf-8\" /></head>\n",
              "<body>\n",
              "    <div>            <script src=\"https://cdnjs.cloudflare.com/ajax/libs/mathjax/2.7.5/MathJax.js?config=TeX-AMS-MML_SVG\"></script><script type=\"text/javascript\">if (window.MathJax && window.MathJax.Hub && window.MathJax.Hub.Config) {window.MathJax.Hub.Config({SVG: {font: \"STIX-Web\"}});}</script>                <script type=\"text/javascript\">window.PlotlyConfig = {MathJaxConfig: 'local'};</script>\n",
              "        <script charset=\"utf-8\" src=\"https://cdn.plot.ly/plotly-2.35.2.min.js\"></script>                <div id=\"9afac07e-b281-4f24-b0ba-917b25fbc9f9\" class=\"plotly-graph-div\" style=\"height:525px; width:100%;\"></div>            <script type=\"text/javascript\">                                    window.PLOTLYENV=window.PLOTLYENV || {};                                    if (document.getElementById(\"9afac07e-b281-4f24-b0ba-917b25fbc9f9\")) {                    Plotly.newPlot(                        \"9afac07e-b281-4f24-b0ba-917b25fbc9f9\",                        [{\"alignmentgroup\":\"True\",\"hovertemplate\":\"Dropoff_Borough=%{x}\\u003cbr\\u003eavg(total_fare)=%{y}\\u003cextra\\u003e\\u003c\\u002fextra\\u003e\",\"legendgroup\":\"\",\"marker\":{\"color\":\"#636efa\",\"pattern\":{\"shape\":\"\"}},\"name\":\"\",\"offsetgroup\":\"\",\"orientation\":\"v\",\"showlegend\":false,\"textposition\":\"auto\",\"x\":[\"Queens\",null,\"EWR\",\"Unknown\",\"Brooklyn\",\"Staten Island\",\"Manhattan\",\"Bronx\"],\"xaxis\":\"x\",\"y\":[30.897181236144913,54.685852099230466,78.37544998824521,15.8340537992839,27.981821299293582,67.97709602954824,14.49607267168937,30.75982597900653],\"yaxis\":\"y\",\"type\":\"bar\"}],                        {\"template\":{\"data\":{\"histogram2dcontour\":[{\"type\":\"histogram2dcontour\",\"colorbar\":{\"outlinewidth\":0,\"ticks\":\"\"},\"colorscale\":[[0.0,\"#0d0887\"],[0.1111111111111111,\"#46039f\"],[0.2222222222222222,\"#7201a8\"],[0.3333333333333333,\"#9c179e\"],[0.4444444444444444,\"#bd3786\"],[0.5555555555555556,\"#d8576b\"],[0.6666666666666666,\"#ed7953\"],[0.7777777777777778,\"#fb9f3a\"],[0.8888888888888888,\"#fdca26\"],[1.0,\"#f0f921\"]]}],\"choropleth\":[{\"type\":\"choropleth\",\"colorbar\":{\"outlinewidth\":0,\"ticks\":\"\"}}],\"histogram2d\":[{\"type\":\"histogram2d\",\"colorbar\":{\"outlinewidth\":0,\"ticks\":\"\"},\"colorscale\":[[0.0,\"#0d0887\"],[0.1111111111111111,\"#46039f\"],[0.2222222222222222,\"#7201a8\"],[0.3333333333333333,\"#9c179e\"],[0.4444444444444444,\"#bd3786\"],[0.5555555555555556,\"#d8576b\"],[0.6666666666666666,\"#ed7953\"],[0.7777777777777778,\"#fb9f3a\"],[0.8888888888888888,\"#fdca26\"],[1.0,\"#f0f921\"]]}],\"heatmap\":[{\"type\":\"heatmap\",\"colorbar\":{\"outlinewidth\":0,\"ticks\":\"\"},\"colorscale\":[[0.0,\"#0d0887\"],[0.1111111111111111,\"#46039f\"],[0.2222222222222222,\"#7201a8\"],[0.3333333333333333,\"#9c179e\"],[0.4444444444444444,\"#bd3786\"],[0.5555555555555556,\"#d8576b\"],[0.6666666666666666,\"#ed7953\"],[0.7777777777777778,\"#fb9f3a\"],[0.8888888888888888,\"#fdca26\"],[1.0,\"#f0f921\"]]}],\"heatmapgl\":[{\"type\":\"heatmapgl\",\"colorbar\":{\"outlinewidth\":0,\"ticks\":\"\"},\"colorscale\":[[0.0,\"#0d0887\"],[0.1111111111111111,\"#46039f\"],[0.2222222222222222,\"#7201a8\"],[0.3333333333333333,\"#9c179e\"],[0.4444444444444444,\"#bd3786\"],[0.5555555555555556,\"#d8576b\"],[0.6666666666666666,\"#ed7953\"],[0.7777777777777778,\"#fb9f3a\"],[0.8888888888888888,\"#fdca26\"],[1.0,\"#f0f921\"]]}],\"contourcarpet\":[{\"type\":\"contourcarpet\",\"colorbar\":{\"outlinewidth\":0,\"ticks\":\"\"}}],\"contour\":[{\"type\":\"contour\",\"colorbar\":{\"outlinewidth\":0,\"ticks\":\"\"},\"colorscale\":[[0.0,\"#0d0887\"],[0.1111111111111111,\"#46039f\"],[0.2222222222222222,\"#7201a8\"],[0.3333333333333333,\"#9c179e\"],[0.4444444444444444,\"#bd3786\"],[0.5555555555555556,\"#d8576b\"],[0.6666666666666666,\"#ed7953\"],[0.7777777777777778,\"#fb9f3a\"],[0.8888888888888888,\"#fdca26\"],[1.0,\"#f0f921\"]]}],\"surface\":[{\"type\":\"surface\",\"colorbar\":{\"outlinewidth\":0,\"ticks\":\"\"},\"colorscale\":[[0.0,\"#0d0887\"],[0.1111111111111111,\"#46039f\"],[0.2222222222222222,\"#7201a8\"],[0.3333333333333333,\"#9c179e\"],[0.4444444444444444,\"#bd3786\"],[0.5555555555555556,\"#d8576b\"],[0.6666666666666666,\"#ed7953\"],[0.7777777777777778,\"#fb9f3a\"],[0.8888888888888888,\"#fdca26\"],[1.0,\"#f0f921\"]]}],\"mesh3d\":[{\"type\":\"mesh3d\",\"colorbar\":{\"outlinewidth\":0,\"ticks\":\"\"}}],\"scatter\":[{\"fillpattern\":{\"fillmode\":\"overlay\",\"size\":10,\"solidity\":0.2},\"type\":\"scatter\"}],\"parcoords\":[{\"type\":\"parcoords\",\"line\":{\"colorbar\":{\"outlinewidth\":0,\"ticks\":\"\"}}}],\"scatterpolargl\":[{\"type\":\"scatterpolargl\",\"marker\":{\"colorbar\":{\"outlinewidth\":0,\"ticks\":\"\"}}}],\"bar\":[{\"error_x\":{\"color\":\"#2a3f5f\"},\"error_y\":{\"color\":\"#2a3f5f\"},\"marker\":{\"line\":{\"color\":\"#E5ECF6\",\"width\":0.5},\"pattern\":{\"fillmode\":\"overlay\",\"size\":10,\"solidity\":0.2}},\"type\":\"bar\"}],\"scattergeo\":[{\"type\":\"scattergeo\",\"marker\":{\"colorbar\":{\"outlinewidth\":0,\"ticks\":\"\"}}}],\"scatterpolar\":[{\"type\":\"scatterpolar\",\"marker\":{\"colorbar\":{\"outlinewidth\":0,\"ticks\":\"\"}}}],\"histogram\":[{\"marker\":{\"pattern\":{\"fillmode\":\"overlay\",\"size\":10,\"solidity\":0.2}},\"type\":\"histogram\"}],\"scattergl\":[{\"type\":\"scattergl\",\"marker\":{\"colorbar\":{\"outlinewidth\":0,\"ticks\":\"\"}}}],\"scatter3d\":[{\"type\":\"scatter3d\",\"line\":{\"colorbar\":{\"outlinewidth\":0,\"ticks\":\"\"}},\"marker\":{\"colorbar\":{\"outlinewidth\":0,\"ticks\":\"\"}}}],\"scattermapbox\":[{\"type\":\"scattermapbox\",\"marker\":{\"colorbar\":{\"outlinewidth\":0,\"ticks\":\"\"}}}],\"scatterternary\":[{\"type\":\"scatterternary\",\"marker\":{\"colorbar\":{\"outlinewidth\":0,\"ticks\":\"\"}}}],\"scattercarpet\":[{\"type\":\"scattercarpet\",\"marker\":{\"colorbar\":{\"outlinewidth\":0,\"ticks\":\"\"}}}],\"carpet\":[{\"aaxis\":{\"endlinecolor\":\"#2a3f5f\",\"gridcolor\":\"white\",\"linecolor\":\"white\",\"minorgridcolor\":\"white\",\"startlinecolor\":\"#2a3f5f\"},\"baxis\":{\"endlinecolor\":\"#2a3f5f\",\"gridcolor\":\"white\",\"linecolor\":\"white\",\"minorgridcolor\":\"white\",\"startlinecolor\":\"#2a3f5f\"},\"type\":\"carpet\"}],\"table\":[{\"cells\":{\"fill\":{\"color\":\"#EBF0F8\"},\"line\":{\"color\":\"white\"}},\"header\":{\"fill\":{\"color\":\"#C8D4E3\"},\"line\":{\"color\":\"white\"}},\"type\":\"table\"}],\"barpolar\":[{\"marker\":{\"line\":{\"color\":\"#E5ECF6\",\"width\":0.5},\"pattern\":{\"fillmode\":\"overlay\",\"size\":10,\"solidity\":0.2}},\"type\":\"barpolar\"}],\"pie\":[{\"automargin\":true,\"type\":\"pie\"}]},\"layout\":{\"autotypenumbers\":\"strict\",\"colorway\":[\"#636efa\",\"#EF553B\",\"#00cc96\",\"#ab63fa\",\"#FFA15A\",\"#19d3f3\",\"#FF6692\",\"#B6E880\",\"#FF97FF\",\"#FECB52\"],\"font\":{\"color\":\"#2a3f5f\"},\"hovermode\":\"closest\",\"hoverlabel\":{\"align\":\"left\"},\"paper_bgcolor\":\"white\",\"plot_bgcolor\":\"#E5ECF6\",\"polar\":{\"bgcolor\":\"#E5ECF6\",\"angularaxis\":{\"gridcolor\":\"white\",\"linecolor\":\"white\",\"ticks\":\"\"},\"radialaxis\":{\"gridcolor\":\"white\",\"linecolor\":\"white\",\"ticks\":\"\"}},\"ternary\":{\"bgcolor\":\"#E5ECF6\",\"aaxis\":{\"gridcolor\":\"white\",\"linecolor\":\"white\",\"ticks\":\"\"},\"baxis\":{\"gridcolor\":\"white\",\"linecolor\":\"white\",\"ticks\":\"\"},\"caxis\":{\"gridcolor\":\"white\",\"linecolor\":\"white\",\"ticks\":\"\"}},\"coloraxis\":{\"colorbar\":{\"outlinewidth\":0,\"ticks\":\"\"}},\"colorscale\":{\"sequential\":[[0.0,\"#0d0887\"],[0.1111111111111111,\"#46039f\"],[0.2222222222222222,\"#7201a8\"],[0.3333333333333333,\"#9c179e\"],[0.4444444444444444,\"#bd3786\"],[0.5555555555555556,\"#d8576b\"],[0.6666666666666666,\"#ed7953\"],[0.7777777777777778,\"#fb9f3a\"],[0.8888888888888888,\"#fdca26\"],[1.0,\"#f0f921\"]],\"sequentialminus\":[[0.0,\"#0d0887\"],[0.1111111111111111,\"#46039f\"],[0.2222222222222222,\"#7201a8\"],[0.3333333333333333,\"#9c179e\"],[0.4444444444444444,\"#bd3786\"],[0.5555555555555556,\"#d8576b\"],[0.6666666666666666,\"#ed7953\"],[0.7777777777777778,\"#fb9f3a\"],[0.8888888888888888,\"#fdca26\"],[1.0,\"#f0f921\"]],\"diverging\":[[0,\"#8e0152\"],[0.1,\"#c51b7d\"],[0.2,\"#de77ae\"],[0.3,\"#f1b6da\"],[0.4,\"#fde0ef\"],[0.5,\"#f7f7f7\"],[0.6,\"#e6f5d0\"],[0.7,\"#b8e186\"],[0.8,\"#7fbc41\"],[0.9,\"#4d9221\"],[1,\"#276419\"]]},\"xaxis\":{\"gridcolor\":\"white\",\"linecolor\":\"white\",\"ticks\":\"\",\"title\":{\"standoff\":15},\"zerolinecolor\":\"white\",\"automargin\":true,\"zerolinewidth\":2},\"yaxis\":{\"gridcolor\":\"white\",\"linecolor\":\"white\",\"ticks\":\"\",\"title\":{\"standoff\":15},\"zerolinecolor\":\"white\",\"automargin\":true,\"zerolinewidth\":2},\"scene\":{\"xaxis\":{\"backgroundcolor\":\"#E5ECF6\",\"gridcolor\":\"white\",\"linecolor\":\"white\",\"showbackground\":true,\"ticks\":\"\",\"zerolinecolor\":\"white\",\"gridwidth\":2},\"yaxis\":{\"backgroundcolor\":\"#E5ECF6\",\"gridcolor\":\"white\",\"linecolor\":\"white\",\"showbackground\":true,\"ticks\":\"\",\"zerolinecolor\":\"white\",\"gridwidth\":2},\"zaxis\":{\"backgroundcolor\":\"#E5ECF6\",\"gridcolor\":\"white\",\"linecolor\":\"white\",\"showbackground\":true,\"ticks\":\"\",\"zerolinecolor\":\"white\",\"gridwidth\":2}},\"shapedefaults\":{\"line\":{\"color\":\"#2a3f5f\"}},\"annotationdefaults\":{\"arrowcolor\":\"#2a3f5f\",\"arrowhead\":0,\"arrowwidth\":1},\"geo\":{\"bgcolor\":\"white\",\"landcolor\":\"#E5ECF6\",\"subunitcolor\":\"white\",\"showland\":true,\"showlakes\":true,\"lakecolor\":\"white\"},\"title\":{\"x\":0.05},\"mapbox\":{\"style\":\"light\"}}},\"xaxis\":{\"anchor\":\"y\",\"domain\":[0.0,1.0],\"title\":{\"text\":\"Dropoff_Borough\"}},\"yaxis\":{\"anchor\":\"x\",\"domain\":[0.0,1.0],\"title\":{\"text\":\"avg(total_fare)\"}},\"legend\":{\"tracegroupgap\":0},\"title\":{\"text\":\"Average Fare by Dropoff Borough\"},\"barmode\":\"relative\"},                        {\"responsive\": true}                    ).then(function(){\n",
              "                            \n",
              "var gd = document.getElementById('9afac07e-b281-4f24-b0ba-917b25fbc9f9');\n",
              "var x = new MutationObserver(function (mutations, observer) {{\n",
              "        var display = window.getComputedStyle(gd).display;\n",
              "        if (!display || display === 'none') {{\n",
              "            console.log([gd, 'removed!']);\n",
              "            Plotly.purge(gd);\n",
              "            observer.disconnect();\n",
              "        }}\n",
              "}});\n",
              "\n",
              "// Listen for the removal of the full notebook cells\n",
              "var notebookContainer = gd.closest('#notebook-container');\n",
              "if (notebookContainer) {{\n",
              "    x.observe(notebookContainer, {childList: true});\n",
              "}}\n",
              "\n",
              "// Listen for the clearing of the current output cell\n",
              "var outputEl = gd.closest('.output');\n",
              "if (outputEl) {{\n",
              "    x.observe(outputEl, {childList: true});\n",
              "}}\n",
              "\n",
              "                        })                };                            </script>        </div>\n",
              "</body>\n",
              "</html>"
            ]
          },
          "metadata": {}
        }
      ]
    },
    {
      "cell_type": "code",
      "source": [
        "from pyspark.sql.functions import col, avg\n",
        "from pyspark.ml.feature import StringIndexer, VectorAssembler\n",
        "from pyspark.ml.regression import LinearRegression\n",
        "from pyspark.ml.evaluation import RegressionEvaluator\n",
        "from pyspark.ml import Pipeline\n",
        "\n",
        "# Calculate average fares by pickup borough\n",
        "pickup_analysis = df.groupBy(\"Pickup_Borough\").agg(\n",
        "    avg(\"total_fare\").alias(\"avg_fare\")\n",
        ").orderBy(\"avg_fare\", ascending=False)\n",
        "\n",
        "# Calculate average fares by dropoff borough\n",
        "dropoff_analysis = df.groupBy(\"Dropoff_Borough\").agg(\n",
        "    avg(\"total_fare\").alias(\"avg_fare\")\n",
        ").orderBy(\"avg_fare\", ascending=False)\n",
        "\n",
        "# Show the analysis results\n",
        "pickup_analysis.show()\n",
        "dropoff_analysis.show()"
      ],
      "metadata": {
        "colab": {
          "base_uri": "https://localhost:8080/"
        },
        "id": "HOg8n16Jc832",
        "outputId": "4ce5f19e-371e-4f85-d60e-8bf25139d60d"
      },
      "execution_count": null,
      "outputs": [
        {
          "output_type": "stream",
          "name": "stdout",
          "text": [
            "+--------------+------------------+\n",
            "|Pickup_Borough|          avg_fare|\n",
            "+--------------+------------------+\n",
            "|           EWR| 57.15781249999999|\n",
            "| Staten Island| 46.51826697892274|\n",
            "|        Queens| 38.87854564040507|\n",
            "|          NULL|37.159960159362285|\n",
            "|         Bronx|22.190800029012944|\n",
            "|      Brooklyn| 18.79240691514802|\n",
            "|       Unknown| 17.01523336542911|\n",
            "|     Manhattan|14.581289899270928|\n",
            "+--------------+------------------+\n",
            "\n",
            "+---------------+------------------+\n",
            "|Dropoff_Borough|          avg_fare|\n",
            "+---------------+------------------+\n",
            "|            EWR| 78.37544998824521|\n",
            "|  Staten Island| 67.97709602954824|\n",
            "|           NULL|54.685852099230466|\n",
            "|         Queens|30.897181236144913|\n",
            "|          Bronx| 30.75982597900653|\n",
            "|       Brooklyn|27.981821299293582|\n",
            "|        Unknown|  15.8340537992839|\n",
            "|      Manhattan| 14.49607267168937|\n",
            "+---------------+------------------+\n",
            "\n"
          ]
        }
      ]
    },
    {
      "cell_type": "code",
      "source": [
        "# Remove NULL and Unknown values and calculate average fares\n",
        "clean_pickup_analysis = df.filter(\n",
        "    (col(\"Pickup_Borough\").isNotNull()) &\n",
        "    (col(\"Pickup_Borough\") != \"Unknown\") &\n",
        "    (col(\"Pickup_Borough\") != \"NULL\")\n",
        ").groupBy(\"Pickup_Borough\").agg(\n",
        "    avg(\"total_fare\").alias(\"avg_fare\")\n",
        ").orderBy(\"avg_fare\", ascending=False)\n",
        "\n",
        "clean_dropoff_analysis = df.filter(\n",
        "    (col(\"Dropoff_Borough\").isNotNull()) &\n",
        "    (col(\"Dropoff_Borough\") != \"Unknown\") &\n",
        "    (col(\"Dropoff_Borough\") != \"NULL\")\n",
        ").groupBy(\"Dropoff_Borough\").agg(\n",
        "    avg(\"total_fare\").alias(\"avg_fare\")\n",
        ").orderBy(\"avg_fare\", ascending=False)\n",
        "\n",
        "# Convert to Pandas for visualization with Plotly\n",
        "pickup_pd = clean_pickup_analysis.toPandas()\n",
        "dropoff_pd = clean_dropoff_analysis.toPandas()\n",
        "\n",
        "# Create visualizations using Plotly\n",
        "import plotly.express as px\n",
        "\n",
        "# Pickup Borough visualization\n",
        "fig1 = px.bar(pickup_pd,\n",
        "              x='Pickup_Borough',\n",
        "              y='avg_fare',\n",
        "              title='Average Fare by Pickup Borough',\n",
        "              labels={'avg_fare': 'Average Fare ($)', 'Pickup_Borough': 'Pickup Borough'})\n",
        "fig1.update_layout(\n",
        "    showlegend=False,\n",
        "    plot_bgcolor='rgba(240, 240, 240, 0.5)',\n",
        "    yaxis_title=\"Average Fare ($)\"\n",
        ")\n",
        "fig1.show()\n",
        "\n",
        "# Dropoff Borough visualization\n",
        "fig2 = px.bar(dropoff_pd,\n",
        "              x='Dropoff_Borough',\n",
        "              y='avg_fare',\n",
        "              title='Average Fare by Dropoff Borough',\n",
        "              labels={'avg_fare': 'Average Fare ($)', 'Dropoff_Borough': 'Dropoff Borough'})\n",
        "fig2.update_layout(\n",
        "    showlegend=False,\n",
        "    plot_bgcolor='rgba(240, 240, 240, 0.5)',\n",
        "    yaxis_title=\"Average Fare ($)\"\n",
        ")\n",
        "fig2.show()\n",
        "\n",
        "# Display the cleaned results\n",
        "print(\"Clean Pickup Borough Analysis:\")\n",
        "clean_pickup_analysis.show()\n",
        "\n",
        "print(\"\\nClean Dropoff Borough Analysis:\")\n",
        "clean_dropoff_analysis.show()\n"
      ],
      "metadata": {
        "colab": {
          "base_uri": "https://localhost:8080/",
          "height": 1000
        },
        "id": "m_scEOr7o9p9",
        "outputId": "2d4594f3-6b7a-4be2-949e-975648e3525b"
      },
      "execution_count": null,
      "outputs": [
        {
          "output_type": "display_data",
          "data": {
            "text/html": [
              "<html>\n",
              "<head><meta charset=\"utf-8\" /></head>\n",
              "<body>\n",
              "    <div>            <script src=\"https://cdnjs.cloudflare.com/ajax/libs/mathjax/2.7.5/MathJax.js?config=TeX-AMS-MML_SVG\"></script><script type=\"text/javascript\">if (window.MathJax && window.MathJax.Hub && window.MathJax.Hub.Config) {window.MathJax.Hub.Config({SVG: {font: \"STIX-Web\"}});}</script>                <script type=\"text/javascript\">window.PlotlyConfig = {MathJaxConfig: 'local'};</script>\n",
              "        <script charset=\"utf-8\" src=\"https://cdn.plot.ly/plotly-2.35.2.min.js\"></script>                <div id=\"01319944-e5be-4ffb-b0a9-190f945950e0\" class=\"plotly-graph-div\" style=\"height:525px; width:100%;\"></div>            <script type=\"text/javascript\">                                    window.PLOTLYENV=window.PLOTLYENV || {};                                    if (document.getElementById(\"01319944-e5be-4ffb-b0a9-190f945950e0\")) {                    Plotly.newPlot(                        \"01319944-e5be-4ffb-b0a9-190f945950e0\",                        [{\"alignmentgroup\":\"True\",\"hovertemplate\":\"Pickup Borough=%{x}\\u003cbr\\u003eAverage Fare ($)=%{y}\\u003cextra\\u003e\\u003c\\u002fextra\\u003e\",\"legendgroup\":\"\",\"marker\":{\"color\":\"#636efa\",\"pattern\":{\"shape\":\"\"}},\"name\":\"\",\"offsetgroup\":\"\",\"orientation\":\"v\",\"showlegend\":false,\"textposition\":\"auto\",\"x\":[\"EWR\",\"Staten Island\",\"Queens\",\"Bronx\",\"Brooklyn\",\"Manhattan\"],\"xaxis\":\"x\",\"y\":[57.15781249999999,46.51826697892274,38.87854564040507,22.190800029012944,18.79240691514802,14.581289899270928],\"yaxis\":\"y\",\"type\":\"bar\"}],                        {\"template\":{\"data\":{\"histogram2dcontour\":[{\"type\":\"histogram2dcontour\",\"colorbar\":{\"outlinewidth\":0,\"ticks\":\"\"},\"colorscale\":[[0.0,\"#0d0887\"],[0.1111111111111111,\"#46039f\"],[0.2222222222222222,\"#7201a8\"],[0.3333333333333333,\"#9c179e\"],[0.4444444444444444,\"#bd3786\"],[0.5555555555555556,\"#d8576b\"],[0.6666666666666666,\"#ed7953\"],[0.7777777777777778,\"#fb9f3a\"],[0.8888888888888888,\"#fdca26\"],[1.0,\"#f0f921\"]]}],\"choropleth\":[{\"type\":\"choropleth\",\"colorbar\":{\"outlinewidth\":0,\"ticks\":\"\"}}],\"histogram2d\":[{\"type\":\"histogram2d\",\"colorbar\":{\"outlinewidth\":0,\"ticks\":\"\"},\"colorscale\":[[0.0,\"#0d0887\"],[0.1111111111111111,\"#46039f\"],[0.2222222222222222,\"#7201a8\"],[0.3333333333333333,\"#9c179e\"],[0.4444444444444444,\"#bd3786\"],[0.5555555555555556,\"#d8576b\"],[0.6666666666666666,\"#ed7953\"],[0.7777777777777778,\"#fb9f3a\"],[0.8888888888888888,\"#fdca26\"],[1.0,\"#f0f921\"]]}],\"heatmap\":[{\"type\":\"heatmap\",\"colorbar\":{\"outlinewidth\":0,\"ticks\":\"\"},\"colorscale\":[[0.0,\"#0d0887\"],[0.1111111111111111,\"#46039f\"],[0.2222222222222222,\"#7201a8\"],[0.3333333333333333,\"#9c179e\"],[0.4444444444444444,\"#bd3786\"],[0.5555555555555556,\"#d8576b\"],[0.6666666666666666,\"#ed7953\"],[0.7777777777777778,\"#fb9f3a\"],[0.8888888888888888,\"#fdca26\"],[1.0,\"#f0f921\"]]}],\"heatmapgl\":[{\"type\":\"heatmapgl\",\"colorbar\":{\"outlinewidth\":0,\"ticks\":\"\"},\"colorscale\":[[0.0,\"#0d0887\"],[0.1111111111111111,\"#46039f\"],[0.2222222222222222,\"#7201a8\"],[0.3333333333333333,\"#9c179e\"],[0.4444444444444444,\"#bd3786\"],[0.5555555555555556,\"#d8576b\"],[0.6666666666666666,\"#ed7953\"],[0.7777777777777778,\"#fb9f3a\"],[0.8888888888888888,\"#fdca26\"],[1.0,\"#f0f921\"]]}],\"contourcarpet\":[{\"type\":\"contourcarpet\",\"colorbar\":{\"outlinewidth\":0,\"ticks\":\"\"}}],\"contour\":[{\"type\":\"contour\",\"colorbar\":{\"outlinewidth\":0,\"ticks\":\"\"},\"colorscale\":[[0.0,\"#0d0887\"],[0.1111111111111111,\"#46039f\"],[0.2222222222222222,\"#7201a8\"],[0.3333333333333333,\"#9c179e\"],[0.4444444444444444,\"#bd3786\"],[0.5555555555555556,\"#d8576b\"],[0.6666666666666666,\"#ed7953\"],[0.7777777777777778,\"#fb9f3a\"],[0.8888888888888888,\"#fdca26\"],[1.0,\"#f0f921\"]]}],\"surface\":[{\"type\":\"surface\",\"colorbar\":{\"outlinewidth\":0,\"ticks\":\"\"},\"colorscale\":[[0.0,\"#0d0887\"],[0.1111111111111111,\"#46039f\"],[0.2222222222222222,\"#7201a8\"],[0.3333333333333333,\"#9c179e\"],[0.4444444444444444,\"#bd3786\"],[0.5555555555555556,\"#d8576b\"],[0.6666666666666666,\"#ed7953\"],[0.7777777777777778,\"#fb9f3a\"],[0.8888888888888888,\"#fdca26\"],[1.0,\"#f0f921\"]]}],\"mesh3d\":[{\"type\":\"mesh3d\",\"colorbar\":{\"outlinewidth\":0,\"ticks\":\"\"}}],\"scatter\":[{\"fillpattern\":{\"fillmode\":\"overlay\",\"size\":10,\"solidity\":0.2},\"type\":\"scatter\"}],\"parcoords\":[{\"type\":\"parcoords\",\"line\":{\"colorbar\":{\"outlinewidth\":0,\"ticks\":\"\"}}}],\"scatterpolargl\":[{\"type\":\"scatterpolargl\",\"marker\":{\"colorbar\":{\"outlinewidth\":0,\"ticks\":\"\"}}}],\"bar\":[{\"error_x\":{\"color\":\"#2a3f5f\"},\"error_y\":{\"color\":\"#2a3f5f\"},\"marker\":{\"line\":{\"color\":\"#E5ECF6\",\"width\":0.5},\"pattern\":{\"fillmode\":\"overlay\",\"size\":10,\"solidity\":0.2}},\"type\":\"bar\"}],\"scattergeo\":[{\"type\":\"scattergeo\",\"marker\":{\"colorbar\":{\"outlinewidth\":0,\"ticks\":\"\"}}}],\"scatterpolar\":[{\"type\":\"scatterpolar\",\"marker\":{\"colorbar\":{\"outlinewidth\":0,\"ticks\":\"\"}}}],\"histogram\":[{\"marker\":{\"pattern\":{\"fillmode\":\"overlay\",\"size\":10,\"solidity\":0.2}},\"type\":\"histogram\"}],\"scattergl\":[{\"type\":\"scattergl\",\"marker\":{\"colorbar\":{\"outlinewidth\":0,\"ticks\":\"\"}}}],\"scatter3d\":[{\"type\":\"scatter3d\",\"line\":{\"colorbar\":{\"outlinewidth\":0,\"ticks\":\"\"}},\"marker\":{\"colorbar\":{\"outlinewidth\":0,\"ticks\":\"\"}}}],\"scattermapbox\":[{\"type\":\"scattermapbox\",\"marker\":{\"colorbar\":{\"outlinewidth\":0,\"ticks\":\"\"}}}],\"scatterternary\":[{\"type\":\"scatterternary\",\"marker\":{\"colorbar\":{\"outlinewidth\":0,\"ticks\":\"\"}}}],\"scattercarpet\":[{\"type\":\"scattercarpet\",\"marker\":{\"colorbar\":{\"outlinewidth\":0,\"ticks\":\"\"}}}],\"carpet\":[{\"aaxis\":{\"endlinecolor\":\"#2a3f5f\",\"gridcolor\":\"white\",\"linecolor\":\"white\",\"minorgridcolor\":\"white\",\"startlinecolor\":\"#2a3f5f\"},\"baxis\":{\"endlinecolor\":\"#2a3f5f\",\"gridcolor\":\"white\",\"linecolor\":\"white\",\"minorgridcolor\":\"white\",\"startlinecolor\":\"#2a3f5f\"},\"type\":\"carpet\"}],\"table\":[{\"cells\":{\"fill\":{\"color\":\"#EBF0F8\"},\"line\":{\"color\":\"white\"}},\"header\":{\"fill\":{\"color\":\"#C8D4E3\"},\"line\":{\"color\":\"white\"}},\"type\":\"table\"}],\"barpolar\":[{\"marker\":{\"line\":{\"color\":\"#E5ECF6\",\"width\":0.5},\"pattern\":{\"fillmode\":\"overlay\",\"size\":10,\"solidity\":0.2}},\"type\":\"barpolar\"}],\"pie\":[{\"automargin\":true,\"type\":\"pie\"}]},\"layout\":{\"autotypenumbers\":\"strict\",\"colorway\":[\"#636efa\",\"#EF553B\",\"#00cc96\",\"#ab63fa\",\"#FFA15A\",\"#19d3f3\",\"#FF6692\",\"#B6E880\",\"#FF97FF\",\"#FECB52\"],\"font\":{\"color\":\"#2a3f5f\"},\"hovermode\":\"closest\",\"hoverlabel\":{\"align\":\"left\"},\"paper_bgcolor\":\"white\",\"plot_bgcolor\":\"#E5ECF6\",\"polar\":{\"bgcolor\":\"#E5ECF6\",\"angularaxis\":{\"gridcolor\":\"white\",\"linecolor\":\"white\",\"ticks\":\"\"},\"radialaxis\":{\"gridcolor\":\"white\",\"linecolor\":\"white\",\"ticks\":\"\"}},\"ternary\":{\"bgcolor\":\"#E5ECF6\",\"aaxis\":{\"gridcolor\":\"white\",\"linecolor\":\"white\",\"ticks\":\"\"},\"baxis\":{\"gridcolor\":\"white\",\"linecolor\":\"white\",\"ticks\":\"\"},\"caxis\":{\"gridcolor\":\"white\",\"linecolor\":\"white\",\"ticks\":\"\"}},\"coloraxis\":{\"colorbar\":{\"outlinewidth\":0,\"ticks\":\"\"}},\"colorscale\":{\"sequential\":[[0.0,\"#0d0887\"],[0.1111111111111111,\"#46039f\"],[0.2222222222222222,\"#7201a8\"],[0.3333333333333333,\"#9c179e\"],[0.4444444444444444,\"#bd3786\"],[0.5555555555555556,\"#d8576b\"],[0.6666666666666666,\"#ed7953\"],[0.7777777777777778,\"#fb9f3a\"],[0.8888888888888888,\"#fdca26\"],[1.0,\"#f0f921\"]],\"sequentialminus\":[[0.0,\"#0d0887\"],[0.1111111111111111,\"#46039f\"],[0.2222222222222222,\"#7201a8\"],[0.3333333333333333,\"#9c179e\"],[0.4444444444444444,\"#bd3786\"],[0.5555555555555556,\"#d8576b\"],[0.6666666666666666,\"#ed7953\"],[0.7777777777777778,\"#fb9f3a\"],[0.8888888888888888,\"#fdca26\"],[1.0,\"#f0f921\"]],\"diverging\":[[0,\"#8e0152\"],[0.1,\"#c51b7d\"],[0.2,\"#de77ae\"],[0.3,\"#f1b6da\"],[0.4,\"#fde0ef\"],[0.5,\"#f7f7f7\"],[0.6,\"#e6f5d0\"],[0.7,\"#b8e186\"],[0.8,\"#7fbc41\"],[0.9,\"#4d9221\"],[1,\"#276419\"]]},\"xaxis\":{\"gridcolor\":\"white\",\"linecolor\":\"white\",\"ticks\":\"\",\"title\":{\"standoff\":15},\"zerolinecolor\":\"white\",\"automargin\":true,\"zerolinewidth\":2},\"yaxis\":{\"gridcolor\":\"white\",\"linecolor\":\"white\",\"ticks\":\"\",\"title\":{\"standoff\":15},\"zerolinecolor\":\"white\",\"automargin\":true,\"zerolinewidth\":2},\"scene\":{\"xaxis\":{\"backgroundcolor\":\"#E5ECF6\",\"gridcolor\":\"white\",\"linecolor\":\"white\",\"showbackground\":true,\"ticks\":\"\",\"zerolinecolor\":\"white\",\"gridwidth\":2},\"yaxis\":{\"backgroundcolor\":\"#E5ECF6\",\"gridcolor\":\"white\",\"linecolor\":\"white\",\"showbackground\":true,\"ticks\":\"\",\"zerolinecolor\":\"white\",\"gridwidth\":2},\"zaxis\":{\"backgroundcolor\":\"#E5ECF6\",\"gridcolor\":\"white\",\"linecolor\":\"white\",\"showbackground\":true,\"ticks\":\"\",\"zerolinecolor\":\"white\",\"gridwidth\":2}},\"shapedefaults\":{\"line\":{\"color\":\"#2a3f5f\"}},\"annotationdefaults\":{\"arrowcolor\":\"#2a3f5f\",\"arrowhead\":0,\"arrowwidth\":1},\"geo\":{\"bgcolor\":\"white\",\"landcolor\":\"#E5ECF6\",\"subunitcolor\":\"white\",\"showland\":true,\"showlakes\":true,\"lakecolor\":\"white\"},\"title\":{\"x\":0.05},\"mapbox\":{\"style\":\"light\"}}},\"xaxis\":{\"anchor\":\"y\",\"domain\":[0.0,1.0],\"title\":{\"text\":\"Pickup Borough\"}},\"yaxis\":{\"anchor\":\"x\",\"domain\":[0.0,1.0],\"title\":{\"text\":\"Average Fare ($)\"}},\"legend\":{\"tracegroupgap\":0},\"title\":{\"text\":\"Average Fare by Pickup Borough\"},\"barmode\":\"relative\",\"showlegend\":false,\"plot_bgcolor\":\"rgba(240, 240, 240, 0.5)\"},                        {\"responsive\": true}                    ).then(function(){\n",
              "                            \n",
              "var gd = document.getElementById('01319944-e5be-4ffb-b0a9-190f945950e0');\n",
              "var x = new MutationObserver(function (mutations, observer) {{\n",
              "        var display = window.getComputedStyle(gd).display;\n",
              "        if (!display || display === 'none') {{\n",
              "            console.log([gd, 'removed!']);\n",
              "            Plotly.purge(gd);\n",
              "            observer.disconnect();\n",
              "        }}\n",
              "}});\n",
              "\n",
              "// Listen for the removal of the full notebook cells\n",
              "var notebookContainer = gd.closest('#notebook-container');\n",
              "if (notebookContainer) {{\n",
              "    x.observe(notebookContainer, {childList: true});\n",
              "}}\n",
              "\n",
              "// Listen for the clearing of the current output cell\n",
              "var outputEl = gd.closest('.output');\n",
              "if (outputEl) {{\n",
              "    x.observe(outputEl, {childList: true});\n",
              "}}\n",
              "\n",
              "                        })                };                            </script>        </div>\n",
              "</body>\n",
              "</html>"
            ]
          },
          "metadata": {}
        },
        {
          "output_type": "display_data",
          "data": {
            "text/html": [
              "<html>\n",
              "<head><meta charset=\"utf-8\" /></head>\n",
              "<body>\n",
              "    <div>            <script src=\"https://cdnjs.cloudflare.com/ajax/libs/mathjax/2.7.5/MathJax.js?config=TeX-AMS-MML_SVG\"></script><script type=\"text/javascript\">if (window.MathJax && window.MathJax.Hub && window.MathJax.Hub.Config) {window.MathJax.Hub.Config({SVG: {font: \"STIX-Web\"}});}</script>                <script type=\"text/javascript\">window.PlotlyConfig = {MathJaxConfig: 'local'};</script>\n",
              "        <script charset=\"utf-8\" src=\"https://cdn.plot.ly/plotly-2.35.2.min.js\"></script>                <div id=\"013e49b6-4ada-4d73-aea7-fc88d7c53056\" class=\"plotly-graph-div\" style=\"height:525px; width:100%;\"></div>            <script type=\"text/javascript\">                                    window.PLOTLYENV=window.PLOTLYENV || {};                                    if (document.getElementById(\"013e49b6-4ada-4d73-aea7-fc88d7c53056\")) {                    Plotly.newPlot(                        \"013e49b6-4ada-4d73-aea7-fc88d7c53056\",                        [{\"alignmentgroup\":\"True\",\"hovertemplate\":\"Dropoff Borough=%{x}\\u003cbr\\u003eAverage Fare ($)=%{y}\\u003cextra\\u003e\\u003c\\u002fextra\\u003e\",\"legendgroup\":\"\",\"marker\":{\"color\":\"#636efa\",\"pattern\":{\"shape\":\"\"}},\"name\":\"\",\"offsetgroup\":\"\",\"orientation\":\"v\",\"showlegend\":false,\"textposition\":\"auto\",\"x\":[\"EWR\",\"Staten Island\",\"Queens\",\"Bronx\",\"Brooklyn\",\"Manhattan\"],\"xaxis\":\"x\",\"y\":[78.37544998824521,67.97709602954824,30.897181236144913,30.75982597900653,27.981821299293582,14.49607267168937],\"yaxis\":\"y\",\"type\":\"bar\"}],                        {\"template\":{\"data\":{\"histogram2dcontour\":[{\"type\":\"histogram2dcontour\",\"colorbar\":{\"outlinewidth\":0,\"ticks\":\"\"},\"colorscale\":[[0.0,\"#0d0887\"],[0.1111111111111111,\"#46039f\"],[0.2222222222222222,\"#7201a8\"],[0.3333333333333333,\"#9c179e\"],[0.4444444444444444,\"#bd3786\"],[0.5555555555555556,\"#d8576b\"],[0.6666666666666666,\"#ed7953\"],[0.7777777777777778,\"#fb9f3a\"],[0.8888888888888888,\"#fdca26\"],[1.0,\"#f0f921\"]]}],\"choropleth\":[{\"type\":\"choropleth\",\"colorbar\":{\"outlinewidth\":0,\"ticks\":\"\"}}],\"histogram2d\":[{\"type\":\"histogram2d\",\"colorbar\":{\"outlinewidth\":0,\"ticks\":\"\"},\"colorscale\":[[0.0,\"#0d0887\"],[0.1111111111111111,\"#46039f\"],[0.2222222222222222,\"#7201a8\"],[0.3333333333333333,\"#9c179e\"],[0.4444444444444444,\"#bd3786\"],[0.5555555555555556,\"#d8576b\"],[0.6666666666666666,\"#ed7953\"],[0.7777777777777778,\"#fb9f3a\"],[0.8888888888888888,\"#fdca26\"],[1.0,\"#f0f921\"]]}],\"heatmap\":[{\"type\":\"heatmap\",\"colorbar\":{\"outlinewidth\":0,\"ticks\":\"\"},\"colorscale\":[[0.0,\"#0d0887\"],[0.1111111111111111,\"#46039f\"],[0.2222222222222222,\"#7201a8\"],[0.3333333333333333,\"#9c179e\"],[0.4444444444444444,\"#bd3786\"],[0.5555555555555556,\"#d8576b\"],[0.6666666666666666,\"#ed7953\"],[0.7777777777777778,\"#fb9f3a\"],[0.8888888888888888,\"#fdca26\"],[1.0,\"#f0f921\"]]}],\"heatmapgl\":[{\"type\":\"heatmapgl\",\"colorbar\":{\"outlinewidth\":0,\"ticks\":\"\"},\"colorscale\":[[0.0,\"#0d0887\"],[0.1111111111111111,\"#46039f\"],[0.2222222222222222,\"#7201a8\"],[0.3333333333333333,\"#9c179e\"],[0.4444444444444444,\"#bd3786\"],[0.5555555555555556,\"#d8576b\"],[0.6666666666666666,\"#ed7953\"],[0.7777777777777778,\"#fb9f3a\"],[0.8888888888888888,\"#fdca26\"],[1.0,\"#f0f921\"]]}],\"contourcarpet\":[{\"type\":\"contourcarpet\",\"colorbar\":{\"outlinewidth\":0,\"ticks\":\"\"}}],\"contour\":[{\"type\":\"contour\",\"colorbar\":{\"outlinewidth\":0,\"ticks\":\"\"},\"colorscale\":[[0.0,\"#0d0887\"],[0.1111111111111111,\"#46039f\"],[0.2222222222222222,\"#7201a8\"],[0.3333333333333333,\"#9c179e\"],[0.4444444444444444,\"#bd3786\"],[0.5555555555555556,\"#d8576b\"],[0.6666666666666666,\"#ed7953\"],[0.7777777777777778,\"#fb9f3a\"],[0.8888888888888888,\"#fdca26\"],[1.0,\"#f0f921\"]]}],\"surface\":[{\"type\":\"surface\",\"colorbar\":{\"outlinewidth\":0,\"ticks\":\"\"},\"colorscale\":[[0.0,\"#0d0887\"],[0.1111111111111111,\"#46039f\"],[0.2222222222222222,\"#7201a8\"],[0.3333333333333333,\"#9c179e\"],[0.4444444444444444,\"#bd3786\"],[0.5555555555555556,\"#d8576b\"],[0.6666666666666666,\"#ed7953\"],[0.7777777777777778,\"#fb9f3a\"],[0.8888888888888888,\"#fdca26\"],[1.0,\"#f0f921\"]]}],\"mesh3d\":[{\"type\":\"mesh3d\",\"colorbar\":{\"outlinewidth\":0,\"ticks\":\"\"}}],\"scatter\":[{\"fillpattern\":{\"fillmode\":\"overlay\",\"size\":10,\"solidity\":0.2},\"type\":\"scatter\"}],\"parcoords\":[{\"type\":\"parcoords\",\"line\":{\"colorbar\":{\"outlinewidth\":0,\"ticks\":\"\"}}}],\"scatterpolargl\":[{\"type\":\"scatterpolargl\",\"marker\":{\"colorbar\":{\"outlinewidth\":0,\"ticks\":\"\"}}}],\"bar\":[{\"error_x\":{\"color\":\"#2a3f5f\"},\"error_y\":{\"color\":\"#2a3f5f\"},\"marker\":{\"line\":{\"color\":\"#E5ECF6\",\"width\":0.5},\"pattern\":{\"fillmode\":\"overlay\",\"size\":10,\"solidity\":0.2}},\"type\":\"bar\"}],\"scattergeo\":[{\"type\":\"scattergeo\",\"marker\":{\"colorbar\":{\"outlinewidth\":0,\"ticks\":\"\"}}}],\"scatterpolar\":[{\"type\":\"scatterpolar\",\"marker\":{\"colorbar\":{\"outlinewidth\":0,\"ticks\":\"\"}}}],\"histogram\":[{\"marker\":{\"pattern\":{\"fillmode\":\"overlay\",\"size\":10,\"solidity\":0.2}},\"type\":\"histogram\"}],\"scattergl\":[{\"type\":\"scattergl\",\"marker\":{\"colorbar\":{\"outlinewidth\":0,\"ticks\":\"\"}}}],\"scatter3d\":[{\"type\":\"scatter3d\",\"line\":{\"colorbar\":{\"outlinewidth\":0,\"ticks\":\"\"}},\"marker\":{\"colorbar\":{\"outlinewidth\":0,\"ticks\":\"\"}}}],\"scattermapbox\":[{\"type\":\"scattermapbox\",\"marker\":{\"colorbar\":{\"outlinewidth\":0,\"ticks\":\"\"}}}],\"scatterternary\":[{\"type\":\"scatterternary\",\"marker\":{\"colorbar\":{\"outlinewidth\":0,\"ticks\":\"\"}}}],\"scattercarpet\":[{\"type\":\"scattercarpet\",\"marker\":{\"colorbar\":{\"outlinewidth\":0,\"ticks\":\"\"}}}],\"carpet\":[{\"aaxis\":{\"endlinecolor\":\"#2a3f5f\",\"gridcolor\":\"white\",\"linecolor\":\"white\",\"minorgridcolor\":\"white\",\"startlinecolor\":\"#2a3f5f\"},\"baxis\":{\"endlinecolor\":\"#2a3f5f\",\"gridcolor\":\"white\",\"linecolor\":\"white\",\"minorgridcolor\":\"white\",\"startlinecolor\":\"#2a3f5f\"},\"type\":\"carpet\"}],\"table\":[{\"cells\":{\"fill\":{\"color\":\"#EBF0F8\"},\"line\":{\"color\":\"white\"}},\"header\":{\"fill\":{\"color\":\"#C8D4E3\"},\"line\":{\"color\":\"white\"}},\"type\":\"table\"}],\"barpolar\":[{\"marker\":{\"line\":{\"color\":\"#E5ECF6\",\"width\":0.5},\"pattern\":{\"fillmode\":\"overlay\",\"size\":10,\"solidity\":0.2}},\"type\":\"barpolar\"}],\"pie\":[{\"automargin\":true,\"type\":\"pie\"}]},\"layout\":{\"autotypenumbers\":\"strict\",\"colorway\":[\"#636efa\",\"#EF553B\",\"#00cc96\",\"#ab63fa\",\"#FFA15A\",\"#19d3f3\",\"#FF6692\",\"#B6E880\",\"#FF97FF\",\"#FECB52\"],\"font\":{\"color\":\"#2a3f5f\"},\"hovermode\":\"closest\",\"hoverlabel\":{\"align\":\"left\"},\"paper_bgcolor\":\"white\",\"plot_bgcolor\":\"#E5ECF6\",\"polar\":{\"bgcolor\":\"#E5ECF6\",\"angularaxis\":{\"gridcolor\":\"white\",\"linecolor\":\"white\",\"ticks\":\"\"},\"radialaxis\":{\"gridcolor\":\"white\",\"linecolor\":\"white\",\"ticks\":\"\"}},\"ternary\":{\"bgcolor\":\"#E5ECF6\",\"aaxis\":{\"gridcolor\":\"white\",\"linecolor\":\"white\",\"ticks\":\"\"},\"baxis\":{\"gridcolor\":\"white\",\"linecolor\":\"white\",\"ticks\":\"\"},\"caxis\":{\"gridcolor\":\"white\",\"linecolor\":\"white\",\"ticks\":\"\"}},\"coloraxis\":{\"colorbar\":{\"outlinewidth\":0,\"ticks\":\"\"}},\"colorscale\":{\"sequential\":[[0.0,\"#0d0887\"],[0.1111111111111111,\"#46039f\"],[0.2222222222222222,\"#7201a8\"],[0.3333333333333333,\"#9c179e\"],[0.4444444444444444,\"#bd3786\"],[0.5555555555555556,\"#d8576b\"],[0.6666666666666666,\"#ed7953\"],[0.7777777777777778,\"#fb9f3a\"],[0.8888888888888888,\"#fdca26\"],[1.0,\"#f0f921\"]],\"sequentialminus\":[[0.0,\"#0d0887\"],[0.1111111111111111,\"#46039f\"],[0.2222222222222222,\"#7201a8\"],[0.3333333333333333,\"#9c179e\"],[0.4444444444444444,\"#bd3786\"],[0.5555555555555556,\"#d8576b\"],[0.6666666666666666,\"#ed7953\"],[0.7777777777777778,\"#fb9f3a\"],[0.8888888888888888,\"#fdca26\"],[1.0,\"#f0f921\"]],\"diverging\":[[0,\"#8e0152\"],[0.1,\"#c51b7d\"],[0.2,\"#de77ae\"],[0.3,\"#f1b6da\"],[0.4,\"#fde0ef\"],[0.5,\"#f7f7f7\"],[0.6,\"#e6f5d0\"],[0.7,\"#b8e186\"],[0.8,\"#7fbc41\"],[0.9,\"#4d9221\"],[1,\"#276419\"]]},\"xaxis\":{\"gridcolor\":\"white\",\"linecolor\":\"white\",\"ticks\":\"\",\"title\":{\"standoff\":15},\"zerolinecolor\":\"white\",\"automargin\":true,\"zerolinewidth\":2},\"yaxis\":{\"gridcolor\":\"white\",\"linecolor\":\"white\",\"ticks\":\"\",\"title\":{\"standoff\":15},\"zerolinecolor\":\"white\",\"automargin\":true,\"zerolinewidth\":2},\"scene\":{\"xaxis\":{\"backgroundcolor\":\"#E5ECF6\",\"gridcolor\":\"white\",\"linecolor\":\"white\",\"showbackground\":true,\"ticks\":\"\",\"zerolinecolor\":\"white\",\"gridwidth\":2},\"yaxis\":{\"backgroundcolor\":\"#E5ECF6\",\"gridcolor\":\"white\",\"linecolor\":\"white\",\"showbackground\":true,\"ticks\":\"\",\"zerolinecolor\":\"white\",\"gridwidth\":2},\"zaxis\":{\"backgroundcolor\":\"#E5ECF6\",\"gridcolor\":\"white\",\"linecolor\":\"white\",\"showbackground\":true,\"ticks\":\"\",\"zerolinecolor\":\"white\",\"gridwidth\":2}},\"shapedefaults\":{\"line\":{\"color\":\"#2a3f5f\"}},\"annotationdefaults\":{\"arrowcolor\":\"#2a3f5f\",\"arrowhead\":0,\"arrowwidth\":1},\"geo\":{\"bgcolor\":\"white\",\"landcolor\":\"#E5ECF6\",\"subunitcolor\":\"white\",\"showland\":true,\"showlakes\":true,\"lakecolor\":\"white\"},\"title\":{\"x\":0.05},\"mapbox\":{\"style\":\"light\"}}},\"xaxis\":{\"anchor\":\"y\",\"domain\":[0.0,1.0],\"title\":{\"text\":\"Dropoff Borough\"}},\"yaxis\":{\"anchor\":\"x\",\"domain\":[0.0,1.0],\"title\":{\"text\":\"Average Fare ($)\"}},\"legend\":{\"tracegroupgap\":0},\"title\":{\"text\":\"Average Fare by Dropoff Borough\"},\"barmode\":\"relative\",\"showlegend\":false,\"plot_bgcolor\":\"rgba(240, 240, 240, 0.5)\"},                        {\"responsive\": true}                    ).then(function(){\n",
              "                            \n",
              "var gd = document.getElementById('013e49b6-4ada-4d73-aea7-fc88d7c53056');\n",
              "var x = new MutationObserver(function (mutations, observer) {{\n",
              "        var display = window.getComputedStyle(gd).display;\n",
              "        if (!display || display === 'none') {{\n",
              "            console.log([gd, 'removed!']);\n",
              "            Plotly.purge(gd);\n",
              "            observer.disconnect();\n",
              "        }}\n",
              "}});\n",
              "\n",
              "// Listen for the removal of the full notebook cells\n",
              "var notebookContainer = gd.closest('#notebook-container');\n",
              "if (notebookContainer) {{\n",
              "    x.observe(notebookContainer, {childList: true});\n",
              "}}\n",
              "\n",
              "// Listen for the clearing of the current output cell\n",
              "var outputEl = gd.closest('.output');\n",
              "if (outputEl) {{\n",
              "    x.observe(outputEl, {childList: true});\n",
              "}}\n",
              "\n",
              "                        })                };                            </script>        </div>\n",
              "</body>\n",
              "</html>"
            ]
          },
          "metadata": {}
        },
        {
          "output_type": "stream",
          "name": "stdout",
          "text": [
            "Clean Pickup Borough Analysis:\n",
            "+--------------+------------------+\n",
            "|Pickup_Borough|          avg_fare|\n",
            "+--------------+------------------+\n",
            "|           EWR| 57.15781249999999|\n",
            "| Staten Island| 46.51826697892274|\n",
            "|        Queens| 38.87854564040507|\n",
            "|         Bronx|22.190800029012944|\n",
            "|      Brooklyn| 18.79240691514802|\n",
            "|     Manhattan|14.581289899270928|\n",
            "+--------------+------------------+\n",
            "\n",
            "\n",
            "Clean Dropoff Borough Analysis:\n",
            "+---------------+------------------+\n",
            "|Dropoff_Borough|          avg_fare|\n",
            "+---------------+------------------+\n",
            "|            EWR| 78.37544998824521|\n",
            "|  Staten Island| 67.97709602954824|\n",
            "|         Queens|30.897181236144913|\n",
            "|          Bronx| 30.75982597900653|\n",
            "|       Brooklyn|27.981821299293582|\n",
            "|      Manhattan| 14.49607267168937|\n",
            "+---------------+------------------+\n",
            "\n"
          ]
        }
      ]
    },
    {
      "cell_type": "markdown",
      "source": [
        "# **The output shows:**\n",
        "- EWR (Newark Airport) has the highest average fare for\n",
        "both pickup ($57.16) and dropoff ($78.38).\n",
        "- Staten Island follows as the second-highest for both pickup ($46.52) and dropoff ($67.98).\n",
        "- Manhattan has the lowest average fare for both pickup ($14.58) and dropoff ($14.50).\n",
        "- There's a significant difference in fares between boroughs, which could be due to factors like distance, traffic, or demand.\n",
        "\n",
        "This analysis provides valuable insights into how taxi fares vary across different NYC boroughs, which can be useful for predicting fares based on pickup and dropoff locations."
      ],
      "metadata": {
        "id": "Ot5F03o0Ec7l"
      }
    },
    {
      "cell_type": "markdown",
      "source": [
        "## Feature Selection and Data Preparation\n"
      ],
      "metadata": {
        "id": "sEtx2z-QFagp"
      }
    },
    {
      "cell_type": "markdown",
      "source": [
        "This code selects the most relevant features for predicting taxi fares, including both the target variable (total_fare) and predictor variables."
      ],
      "metadata": {
        "id": "oGAIPVdoFdz9"
      }
    },
    {
      "cell_type": "code",
      "source": [
        "# Select relevant features for the model\n",
        "selected_features = df.select(\n",
        "    'total_fare',\n",
        "    'Pickup_Borough',\n",
        "    'Dropoff_Borough',\n",
        "    'passenger_count',\n",
        "    'trip_distance',\n",
        "    'pickup_hour',\n",
        "    'trip_duration'\n",
        ")\n",
        "# Handle missing values\n",
        "prepared_df = selected_features.na.drop()\n",
        "# Create string indexers for categorical variables\n",
        "pickup_indexer = StringIndexer(\n",
        "    inputCol=\"Pickup_Borough\",\n",
        "    outputCol=\"Pickup_Borough_Index\"\n",
        ")\n",
        "\n",
        "dropoff_indexer = StringIndexer(\n",
        "    inputCol=\"Dropoff_Borough\",\n",
        "    outputCol=\"Dropoff_Borough_Index\"\n",
        ")\n",
        "\n",
        "# Define feature columns for the model\n",
        "feature_columns = [\n",
        "    'Pickup_Borough_Index',\n",
        "    'Dropoff_Borough_Index',\n",
        "    'passenger_count',\n",
        "    'trip_distance',\n",
        "    'pickup_hour',\n",
        "    'trip_duration'\n",
        "]\n",
        "\n",
        "# Create vector assembler\n",
        "assembler = VectorAssembler(\n",
        "    inputCols=feature_columns,\n",
        "    outputCol=\"features\"\n",
        ")"
      ],
      "metadata": {
        "id": "TL2HKq1Wpo3W"
      },
      "execution_count": null,
      "outputs": []
    },
    {
      "cell_type": "markdown",
      "source": [
        "These StringIndexers convert categorical borough names into numerical indices, which is necessary for machine learning algorithms."
      ],
      "metadata": {
        "id": "d8zg4abmIHCe"
      }
    },
    {
      "cell_type": "markdown",
      "source": [
        "The VectorAssembler combines all the individual features into a single vector column called \"features\", which is the format required by most Spark ML algorithms.\n",
        "\n",
        "This preprocessing pipeline transforms the raw data into a format suitable for training a machine learning model to predict taxi fares based on various trip characteristics.\n"
      ],
      "metadata": {
        "id": "uPnqNyB9IQAz"
      }
    },
    {
      "cell_type": "markdown",
      "source": [
        "## Pipeline Creation and Data Splitting"
      ],
      "metadata": {
        "id": "BC8aVzL1Imhk"
      }
    },
    {
      "cell_type": "code",
      "source": [
        "# Create the pipeline\n",
        "pipeline = Pipeline(stages=[\n",
        "    pickup_indexer,\n",
        "    dropoff_indexer,\n",
        "    assembler\n",
        "])\n",
        "\n",
        "# Fit and transform the pipeline\n",
        "pipeline_model = pipeline.fit(prepared_df)\n",
        "final_df = pipeline_model.transform(prepared_df)\n",
        "\n",
        "# Split the data\n",
        "train_data, test_data = final_df.randomSplit([0.8, 0.2], seed=42)"
      ],
      "metadata": {
        "id": "3GzMt6eIqPMV"
      },
      "execution_count": null,
      "outputs": []
    },
    {
      "cell_type": "markdown",
      "source": [
        "The pipeline is first fit to the data (learning the mapping of borough names to indices) and then transforms the data according to these learned mappings.\n",
        "\n",
        "This splits the processed dataset into:\n",
        "Training set (80% of the data)\n",
        "Testing set (20% of the data)\n",
        "\n",
        "The seed value of 42 ensures reproducibility of the random split."
      ],
      "metadata": {
        "id": "7u8oAfe5KE7P"
      }
    },
    {
      "cell_type": "code",
      "source": [
        "# Initialize the Linear Regression model\n",
        "lr = LinearRegression(\n",
        "    featuresCol=\"features\",\n",
        "    labelCol=\"total_fare\",\n",
        "    maxIter=10,\n",
        "    regParam=0.1\n",
        ")\n",
        "\n",
        "# Train the model\n",
        "model = lr.fit(train_data)"
      ],
      "metadata": {
        "id": "93dR1xr_qSt3"
      },
      "execution_count": null,
      "outputs": []
    },
    {
      "cell_type": "markdown",
      "source": [
        "Linear Regression Model Configuration:\n",
        "\n",
        "This initializes and trains a Linear Regression model for predicting taxi fares. The model is configured with specific parameters:\n",
        "\n",
        "- featuresCol=\"features\": Uses the combined feature vector created by the VectorAssembler\n",
        "- labelCol=\"total_fare\": Specifies the target variable we're trying to predict\n",
        "- maxIter=10: Sets the maximum number of iterations for the optimization algorithm\n",
        "- regParam=0.1: Applies L2 regularization with a strength of 0.1 to prevent overfitting\n",
        "\n",
        "The model is then trained on the training dataset using lr.fit(train_data), which finds the optimal coefficients for each feature to minimize the prediction error.\n",
        "\n",
        "This trained model can then be used to make fare predictions based on the input features like pickup/dropoff locations, trip distance, and other variables.\n"
      ],
      "metadata": {
        "id": "iT5mU-cKKkVl"
      }
    },
    {
      "cell_type": "code",
      "source": [
        "# Make predictions on test data\n",
        "predictions = model.transform(test_data)\n",
        "\n",
        "# Evaluate the model\n",
        "evaluator = RegressionEvaluator(\n",
        "    labelCol=\"total_fare\",\n",
        "    predictionCol=\"prediction\",\n",
        "    metricName=\"rmse\"\n",
        ")\n",
        "\n",
        "rmse = evaluator.evaluate(predictions)\n",
        "r2 = evaluator.setMetricName(\"r2\").evaluate(predictions)\n",
        "\n",
        "print(f\"Root Mean Square Error (RMSE): {rmse}\")\n",
        "print(f\"R-squared (R2): {r2}\")"
      ],
      "metadata": {
        "colab": {
          "base_uri": "https://localhost:8080/"
        },
        "id": "_GJvu0dBqjmB",
        "outputId": "1a0bc884-6617-46e4-d7cf-240292bb7527"
      },
      "execution_count": null,
      "outputs": [
        {
          "output_type": "stream",
          "name": "stdout",
          "text": [
            "Root Mean Square Error (RMSE): 2.807174708835272\n",
            "R-squared (R2): 0.9349679841029281\n"
          ]
        }
      ]
    },
    {
      "cell_type": "markdown",
      "source": [
        "**Performance Metrics**:\n",
        "\n",
        "The model's performance is evaluated using two key metrics:\n",
        "1. Root Mean Square Error (RMSE): 2.81\n",
        "Measures the average magnitude of prediction errors\n",
        "Lower values indicate better model performance\n",
        "The RMSE of 2.81 suggests that, on average, predictions deviate by about $2.81 from actual fares\n",
        "2. R-squared (R²): 0.93\n",
        "Indicates the proportion of variance in the target variable explained by the model\n",
        "Ranges from 0 to 1, with 1 being perfect prediction\n",
        "The R² value of 0.93 indicates that the model explains 93.5% of the variance in taxi fares\n",
        "\n",
        "These metrics suggest that the model performs well, with strong predictive power and relatively small prediction errors considering the scale of taxi fares."
      ],
      "metadata": {
        "id": "LIXAuBroK_v0"
      }
    },
    {
      "cell_type": "markdown",
      "source": [
        "# Q6: Predict the tip amount given by passengers based on trip characteristics\n"
      ],
      "metadata": {
        "id": "Vf7he0rFlmTJ"
      }
    },
    {
      "cell_type": "markdown",
      "source": [
        "#Time-interval buckets"
      ],
      "metadata": {
        "id": "k_WbXvW6IlgO"
      }
    },
    {
      "cell_type": "code",
      "execution_count": null,
      "metadata": {
        "id": "HcKDjdWgvzSh",
        "colab": {
          "base_uri": "https://localhost:8080/"
        },
        "outputId": "2f4e8039-510a-427d-9837-4152f083896e"
      },
      "outputs": [
        {
          "output_type": "stream",
          "name": "stdout",
          "text": [
            "+------------+------------+--------+--------------------+---------------------+---------------+-------------+----------+------------+------------+--------------------+----------+-----------+-------------+--------------+---------------+--------------+--------------+--------------+--------------+--------------+--------------+-------------+\n",
            "|DOLocationID|PULocationID|VendorID|tpep_pickup_datetime|tpep_dropoff_datetime|passenger_count|trip_distance|tip_amount|tolls_amount|total_amount|congestion_surcharge|total_fare|pickup_hour|trip_duration|Pickup_Borough|Dropoff_Borough|payment_type_0|payment_type_5|payment_type_1|payment_type_3|payment_type_2|payment_type_4|time_interval|\n",
            "+------------+------------+--------+--------------------+---------------------+---------------+-------------+----------+------------+------------+--------------------+----------+-----------+-------------+--------------+---------------+--------------+--------------+--------------+--------------+--------------+--------------+-------------+\n",
            "|         239|         238|       1| 2020-01-01 00:28:15|  2020-01-01 00:33:03|            1.0|          1.2|      1.47|         0.0|       11.27|                 2.5|       9.8|          0|          4.8|     Manhattan|      Manhattan|             0|             0|             1|             0|             0|             0|          0-3|\n",
            "+------------+------------+--------+--------------------+---------------------+---------------+-------------+----------+------------+------------+--------------------+----------+-----------+-------------+--------------+---------------+--------------+--------------+--------------+--------------+--------------+--------------+-------------+\n",
            "only showing top 1 row\n",
            "\n"
          ]
        }
      ],
      "source": [
        "from pyspark.sql.functions import col, concat_ws, lit, floor\n",
        "\n",
        "# Create a new column for 3-hour time intervals\n",
        "df = df.withColumn(\n",
        "    \"time_interval\",\n",
        "    concat_ws(\n",
        "        \"-\",\n",
        "        (floor(col(\"pickup_hour\") / 3) * 3).cast(\"string\"),  # Start of the interval\n",
        "        ((floor(col(\"pickup_hour\") / 3) * 3) + 3).cast(\"string\")  # End of the interval\n",
        "    )\n",
        ")\n",
        "\n",
        "df.show(1)"
      ]
    },
    {
      "cell_type": "markdown",
      "source": [
        "#Schema of the data"
      ],
      "metadata": {
        "id": "HhN0LzG2LVCh"
      }
    },
    {
      "cell_type": "code",
      "execution_count": null,
      "metadata": {
        "colab": {
          "base_uri": "https://localhost:8080/"
        },
        "id": "xsjRcOqvxTpi",
        "outputId": "41e10b1a-ccc3-4de9-85d2-6b11ea6ddc2b"
      },
      "outputs": [
        {
          "output_type": "stream",
          "name": "stdout",
          "text": [
            "root\n",
            " |-- DOLocationID: long (nullable = true)\n",
            " |-- PULocationID: long (nullable = true)\n",
            " |-- VendorID: long (nullable = true)\n",
            " |-- tpep_pickup_datetime: timestamp (nullable = true)\n",
            " |-- tpep_dropoff_datetime: timestamp (nullable = true)\n",
            " |-- passenger_count: double (nullable = true)\n",
            " |-- trip_distance: double (nullable = true)\n",
            " |-- tip_amount: double (nullable = true)\n",
            " |-- tolls_amount: double (nullable = true)\n",
            " |-- total_amount: double (nullable = true)\n",
            " |-- congestion_surcharge: double (nullable = true)\n",
            " |-- total_fare: double (nullable = true)\n",
            " |-- pickup_hour: integer (nullable = true)\n",
            " |-- trip_duration: double (nullable = true)\n",
            " |-- Pickup_Borough: string (nullable = true)\n",
            " |-- Dropoff_Borough: string (nullable = true)\n",
            " |-- payment_type_0: integer (nullable = true)\n",
            " |-- payment_type_5: integer (nullable = true)\n",
            " |-- payment_type_1: integer (nullable = true)\n",
            " |-- payment_type_3: integer (nullable = true)\n",
            " |-- payment_type_2: integer (nullable = true)\n",
            " |-- payment_type_4: integer (nullable = true)\n",
            " |-- time_interval: string (nullable = false)\n",
            "\n"
          ]
        }
      ],
      "source": [
        "df.printSchema()\n"
      ]
    },
    {
      "cell_type": "markdown",
      "source": [
        "#Feature selection"
      ],
      "metadata": {
        "id": "BkKvzzItLYGT"
      }
    },
    {
      "cell_type": "code",
      "execution_count": null,
      "metadata": {
        "colab": {
          "base_uri": "https://localhost:8080/"
        },
        "id": "o9YLzSghu25W",
        "outputId": "e2bf5d53-94da-495e-ad0a-a4b4379f1969"
      },
      "outputs": [
        {
          "output_type": "stream",
          "name": "stdout",
          "text": [
            "+-------------+----------+-------------+---------------+--------------+--------------+--------------+--------------+--------------+-------------+----------+\n",
            "|trip_distance|total_fare|trip_duration|passenger_count|payment_type_1|payment_type_2|payment_type_3|payment_type_4|payment_type_5|time_interval|tip_amount|\n",
            "+-------------+----------+-------------+---------------+--------------+--------------+--------------+--------------+--------------+-------------+----------+\n",
            "|          1.2|       9.8|          4.8|            1.0|             1|             0|             0|             0|             0|          0-3|      1.47|\n",
            "|          1.2|      10.8|         7.42|            1.0|             1|             0|             0|             0|             0|          0-3|       1.5|\n",
            "|          2.4|      15.8|        16.87|            2.0|             1|             0|             0|             0|             0|          0-3|      1.75|\n",
            "|          3.3|      20.8|        25.28|            1.0|             1|             0|             0|             0|             0|          0-3|      4.15|\n",
            "|         1.07|       7.3|         5.62|            1.0|             1|             0|             0|             0|             0|          0-3|      1.96|\n",
            "+-------------+----------+-------------+---------------+--------------+--------------+--------------+--------------+--------------+-------------+----------+\n",
            "only showing top 5 rows\n",
            "\n"
          ]
        }
      ],
      "source": [
        "selected_columns = [\n",
        "    \"trip_distance\",   # Distance of the trip\n",
        "    \"total_fare\",     # Total fare for the trip\n",
        "    \"trip_duration\",   # Trip duration\n",
        "    \"passenger_count\", # Number of passengers\n",
        "    \"payment_type_1\", \"payment_type_2\", \"payment_type_3\", \"payment_type_4\", \"payment_type_5\",  # Payment types\n",
        "    \"time_interval\",   # Time of the trip\n",
        "    \"tip_amount\"       # Target variable\n",
        "]\n",
        "\n",
        "# Select the important features\n",
        "df_selected = df.select(selected_columns)\n",
        "\n",
        "# Verify the selected data\n",
        "df_selected.show(5)"
      ]
    },
    {
      "cell_type": "code",
      "execution_count": null,
      "metadata": {
        "id": "-lYxwNyou21x",
        "colab": {
          "base_uri": "https://localhost:8080/"
        },
        "outputId": "6ad5d7d1-09bf-42b7-906c-650144f77dd2"
      },
      "outputs": [
        {
          "output_type": "stream",
          "name": "stdout",
          "text": [
            "+--------------------+---------------+--------------+--------------+--------------+--------------+--------------+-------------+----------+\n",
            "|     scaled_features|passenger_count|payment_type_1|payment_type_2|payment_type_3|payment_type_4|payment_type_5|time_interval|tip_amount|\n",
            "+--------------------+---------------+--------------+--------------+--------------+--------------+--------------+-------------+----------+\n",
            "|[0.29978202333632...|            1.0|             1|             0|             0|             0|             0|          0-3|      1.47|\n",
            "|[0.29978202333632...|            1.0|             1|             0|             0|             0|             0|          0-3|       1.5|\n",
            "|[0.31516861136043...|            2.0|             1|             0|             0|             0|             0|          0-3|      1.75|\n",
            "|[0.32670855237851...|            1.0|             1|             0|             0|             0|             0|          0-3|      4.15|\n",
            "|[0.29811514296704...|            1.0|             1|             0|             0|             0|             0|          0-3|      1.96|\n",
            "+--------------------+---------------+--------------+--------------+--------------+--------------+--------------+-------------+----------+\n",
            "only showing top 5 rows\n",
            "\n"
          ]
        }
      ],
      "source": [
        "from pyspark.ml.feature import MinMaxScaler, VectorAssembler\n",
        "\n",
        "# VectorAssembler for continuous features\n",
        "continuous_cols = [\"trip_distance\", \"total_fare\", \"trip_duration\"]\n",
        "assembler = VectorAssembler(inputCols=continuous_cols, outputCol=\"continuous_features\")\n",
        "df_vectorized = assembler.transform(df_selected)\n",
        "\n",
        "# MinMaxScaler for normalization\n",
        "scaler = MinMaxScaler(inputCol=\"continuous_features\", outputCol=\"scaled_features\")\n",
        "scaler_model = scaler.fit(df_vectorized)\n",
        "df_scaled = scaler_model.transform(df_vectorized)\n",
        "\n",
        "# Final DataFrame for modeling\n",
        "final_columns = [\n",
        "    \"scaled_features\", \"passenger_count\", \"payment_type_1\", \"payment_type_2\",\n",
        "    \"payment_type_3\", \"payment_type_4\", \"payment_type_5\", \"time_interval\", \"tip_amount\"\n",
        "]\n",
        "df_final = df_scaled.select(final_columns)\n",
        "\n",
        "# Verify the final DataFrame\n",
        "df_final.show(5)\n"
      ]
    },
    {
      "cell_type": "code",
      "execution_count": null,
      "metadata": {
        "id": "VdQJZxnls8WS",
        "colab": {
          "base_uri": "https://localhost:8080/"
        },
        "outputId": "060f8749-80f1-47a4-cc10-b2bec4e74134"
      },
      "outputs": [
        {
          "output_type": "stream",
          "name": "stdout",
          "text": [
            "+-------------+----------+-----------------+-------------------+-------------+\n",
            "|trip_distance|total_fare|    fare_per_mile|     tip_percentage|time_interval|\n",
            "+-------------+----------+-----------------+-------------------+-------------+\n",
            "|          1.2|       9.8|8.166666666666668|               0.15|          0-3|\n",
            "|          1.2|      10.8|9.000000000000002|0.13888888888888887|          0-3|\n",
            "|          2.4|      15.8|6.583333333333334|0.11075949367088607|          0-3|\n",
            "|          3.3|      20.8|6.303030303030304|0.19951923076923078|          0-3|\n",
            "|         1.07|       7.3|6.822429906542055| 0.2684931506849315|          0-3|\n",
            "+-------------+----------+-----------------+-------------------+-------------+\n",
            "only showing top 5 rows\n",
            "\n"
          ]
        }
      ],
      "source": [
        "from pyspark.sql.functions import col, when\n",
        "\n",
        "# Step 2.1: Create new features\n",
        "df_engineered = df_selected.withColumn(\n",
        "    \"fare_per_mile\", when(col(\"trip_distance\") > 0, col(\"total_fare\") / col(\"trip_distance\")).otherwise(0)\n",
        ").withColumn(\n",
        "    \"tip_percentage\", when(col(\"total_fare\") > 0, col(\"tip_amount\") / col(\"total_fare\")).otherwise(0)\n",
        ")\n",
        "\n",
        "# Step 2.2: Verify the engineered features\n",
        "df_engineered.select(\"trip_distance\",\"total_fare\",\"fare_per_mile\", \"tip_percentage\", \"time_interval\").show(5)"
      ]
    },
    {
      "cell_type": "markdown",
      "source": [
        "#Split the data"
      ],
      "metadata": {
        "id": "XrgngLegIyGs"
      }
    },
    {
      "cell_type": "code",
      "source": [
        "# Step 3: Split the dataset into training and test sets\n",
        "train_data, test_data = df_engineered.randomSplit([0.8, 0.2], seed=42)\n",
        "\n",
        "# Optional - Display count of training and test data\n",
        "print(f\"Training Data Count: {train_data.count()}\")\n",
        "print(f\"Test Data Count: {test_data.count()}\")"
      ],
      "metadata": {
        "colab": {
          "base_uri": "https://localhost:8080/"
        },
        "id": "xO0lp0Np-30M",
        "outputId": "6c141fda-1725-4cd9-c102-7ca5da987918"
      },
      "execution_count": null,
      "outputs": [
        {
          "output_type": "stream",
          "name": "stdout",
          "text": [
            "Training Data Count: 9279011\n",
            "Test Data Count: 2319945\n"
          ]
        }
      ]
    },
    {
      "cell_type": "markdown",
      "source": [
        "#Random forest model"
      ],
      "metadata": {
        "id": "JKn9q9PwI8ej"
      }
    },
    {
      "cell_type": "code",
      "source": [
        "from pyspark.ml.feature import VectorAssembler, MinMaxScaler\n",
        "from pyspark.ml.regression import RandomForestRegressor\n",
        "from pyspark.ml.evaluation import RegressionEvaluator\n",
        "from pyspark.ml import Pipeline\n",
        "\n",
        "# Step 1: Assemble continuous features for scaling\n",
        "continuous_cols = [\"trip_distance\", \"total_fare\", \"trip_duration\", \"fare_per_mile\", \"tip_percentage\"]\n",
        "\n",
        "assembler_continuous = VectorAssembler(\n",
        "    inputCols=continuous_cols,\n",
        "    outputCol=\"continuous_features\"\n",
        ")\n",
        "\n",
        "# Step 2: Scale continuous features\n",
        "scaler = MinMaxScaler(\n",
        "    inputCol=\"continuous_features\",\n",
        "    outputCol=\"scaled_features\"\n",
        ")\n",
        "\n",
        "# Step 3: Combine all features into a single feature vector\n",
        "feature_columns = [\n",
        "    \"scaled_features\",  # Scaled continuous features\n",
        "    \"payment_type_1\", \"payment_type_2\", \"payment_type_3\",\n",
        "    \"payment_type_4\", \"payment_type_5\"\n",
        "]\n",
        "\n",
        "assembler_final = VectorAssembler(\n",
        "    inputCols=feature_columns,\n",
        "    outputCol=\"final_features\"\n",
        ")\n",
        "\n",
        "# Step 4: Define the Random Forest Regressor\n",
        "rf = RandomForestRegressor(\n",
        "    featuresCol=\"final_features\",\n",
        "    labelCol=\"tip_amount\",\n",
        "    numTrees=50,\n",
        "    maxDepth=10\n",
        ")\n",
        "\n",
        "# Step 5: Create a pipeline\n",
        "pipeline = Pipeline(stages=[assembler_continuous, scaler, assembler_final, rf])\n",
        "\n",
        "# Step 6: Train the model\n",
        "rf_model = pipeline.fit(train_data)\n",
        "\n",
        "# Step 7: Make predictions on the test data\n",
        "predictions = rf_model.transform(test_data)\n",
        "\n",
        "# Display predictions for verification\n",
        "predictions.select(\"tip_amount\", \"prediction\", \"final_features\").show(3)\n",
        "\n",
        "# Step 8: Evaluate the model\n",
        "evaluator = RegressionEvaluator(\n",
        "    labelCol=\"tip_amount\",\n",
        "    predictionCol=\"prediction\",\n",
        "    metricName=\"rmse\"\n",
        ")\n",
        "\n",
        "# Evaluate RMSE\n",
        "rmse = evaluator.evaluate(predictions)\n",
        "print(f\"Root Mean Square Error (RMSE): {rmse}\")\n",
        "\n",
        "\n"
      ],
      "metadata": {
        "id": "0tt41ABb-6tA"
      },
      "execution_count": null,
      "outputs": []
    },
    {
      "cell_type": "markdown",
      "source": [
        "Root Mean Square Error (RMSE): 0.6233908943071685"
      ],
      "metadata": {
        "id": "KjXVCMHamMDJ"
      }
    },
    {
      "cell_type": "markdown",
      "source": [
        "**Predictions Table**:\n",
        "The output shows the top 3 predictions:\n",
        "tip_amount: The actual tip amount from the dataset.\n",
        "prediction: The model's predicted tip amount.\n",
        "final_features: The combined feature vector used for prediction.\n",
        "Example:\n",
        "For the first record, the actual tip amount is 0.0, and the model predicts 7.33906228411723E-7, which is very close to zero.\n",
        "For the second record, the actual tip amount is 1.65, and the model predicts 1.8937359975067003, indicating a good approximation.\n",
        "\n",
        "**Root Mean Square Error (RMSE)**:\n",
        "The RMSE value is 0.6233908943071685.\n",
        "This low RMSE indicates that the model is reasonably accurate in predicting the tip amount, with an average error of approximately $0.62 per prediction."
      ],
      "metadata": {
        "id": "291YpIIXKG7J"
      }
    },
    {
      "cell_type": "code",
      "source": [
        "# Evaluate R2\n",
        "r2_evaluator = RegressionEvaluator(labelCol=\"tip_amount\", predictionCol=\"prediction\", metricName=\"r2\")\n",
        "r2 = r2_evaluator.evaluate(predictions)\n",
        "print(f\"R2 Score: {r2}\")\n",
        "\n",
        "# Evaluate MAE\n",
        "mae_evaluator = RegressionEvaluator(labelCol=\"tip_amount\", predictionCol=\"prediction\", metricName=\"mae\")\n",
        "mae = mae_evaluator.evaluate(predictions)\n",
        "print(f\"Mean Absolute Error (MAE): {mae}\")\n"
      ],
      "metadata": {
        "colab": {
          "base_uri": "https://localhost:8080/"
        },
        "id": "k7C3AnSXGzhS",
        "outputId": "7e699b8e-56db-417e-c439-7fe1e9453790"
      },
      "execution_count": null,
      "outputs": [
        {
          "output_type": "stream",
          "name": "stdout",
          "text": [
            "R2 Score: 0.9414835332555281\n",
            "Mean Absolute Error (MAE): 0.12705262625465769\n"
          ]
        }
      ]
    },
    {
      "cell_type": "markdown",
      "source": [
        "**R² Score Value**: 0.9414835332555281\n",
        "The R² score, also known as the coefficient of determination, measures how well the regression model explains the variance in the target variable (tip_amount).\n",
        "A value of 0.941 indicates that 94.1% of the variability in the tip amounts can be explained by the features included in the model.\n",
        "This high R² score reflects that the model has a strong predictive power and effectively captures the relationship between the input features and the tip amount.\n",
        "\n",
        "**Mean Absolute Error (MAE) Value**: 0.12705262625465769\n",
        "The Mean Absolute Error (MAE) represents the average magnitude of errors in the predictions, regardless of direction (positive or negative).\n",
        "An MAE of 0.127 means that, on average, the model's predictions are off by approximately $0.13 from the actual tip amounts.\n",
        "This low MAE indicates that the model provides precise predictions, with minimal error in predicting the tip amounts."
      ],
      "metadata": {
        "id": "vVL8sxkNK7mi"
      }
    },
    {
      "cell_type": "markdown",
      "source": [
        "# Q7: Predict whether a trip will result in a high or low fare based on early trip data\n"
      ],
      "metadata": {
        "id": "W_6nurvamZbc"
      }
    },
    {
      "cell_type": "code",
      "source": [
        "from pyspark.sql.functions import col, when\n",
        "from pyspark.ml.feature import StringIndexer, VectorAssembler\n",
        "from pyspark.ml.classification import LogisticRegression\n",
        "from pyspark.ml import Pipeline\n",
        "\n",
        "# Divide `total_fare` into three categories: low, medium, high using approximate percentiles\n",
        "quantiles = df.approxQuantile(\"total_fare\", [0.33, 0.67], 0.05)\n",
        "df = df.withColumn(\n",
        "    \"fare_category\",\n",
        "    when(col(\"total_fare\") <= quantiles[0], \"low\")\n",
        "    .when((col(\"total_fare\") > quantiles[0]) & (col(\"total_fare\") <= quantiles[1]), \"medium\")\n",
        "    .otherwise(\"high\")\n",
        ")\n",
        "\n",
        "# Index `fare_category` for classification\n",
        "fare_indexer = StringIndexer(inputCol=\"fare_category\", outputCol=\"fare_category_index\")\n",
        "\n",
        "# Index the specified features\n",
        "pulocation_indexer = StringIndexer(inputCol=\"PULocationID\", outputCol=\"PULocationID_index\")\n",
        "dolocation_indexer = StringIndexer(inputCol=\"DOLocationID\", outputCol=\"DOLocationID_index\")\n",
        "pickup_hour_indexer = StringIndexer(inputCol=\"pickup_hour\", outputCol=\"pickup_hour_index\")\n",
        "\n",
        "# Assemble all features into a single vector\n",
        "assembler = VectorAssembler(\n",
        "    inputCols=[\"PULocationID_index\", \"DOLocationID_index\", \"pickup_hour_index\", \"trip_distance\", \"trip_duration\"],\n",
        "    outputCol=\"features\"\n",
        ")"
      ],
      "metadata": {
        "id": "N_kwmHvMQqBh"
      },
      "execution_count": null,
      "outputs": []
    },
    {
      "cell_type": "code",
      "source": [
        "# Initialize the Logistic Regression model\n",
        "lr = LogisticRegression(labelCol=\"fare_category_index\", featuresCol=\"features\", maxIter=10)\n",
        "\n",
        "# Create a pipeline to streamline the indexing and modeling process\n",
        "pipeline = Pipeline(stages=[fare_indexer, pulocation_indexer, dolocation_indexer, pickup_hour_indexer, assembler, lr])\n",
        "\n",
        "# Split data into training and testing sets\n",
        "train_data, test_data = df.randomSplit([0.8, 0.2], seed=42)\n",
        "\n",
        "# Fit the model\n",
        "model = pipeline.fit(train_data)\n",
        "\n",
        "# Make predictions\n",
        "predictions = model.transform(test_data)\n",
        "\n",
        "# Display some prediction results\n",
        "predictions.select(\"fare_category\", \"fare_category_index\", \"prediction\").show(10)"
      ],
      "metadata": {
        "colab": {
          "base_uri": "https://localhost:8080/"
        },
        "id": "_SYojUhPQuuO",
        "outputId": "9f07bb01-9a5c-4bf1-b30f-673d71a9dde1"
      },
      "execution_count": null,
      "outputs": [
        {
          "output_type": "stream",
          "name": "stdout",
          "text": [
            "+-------------+-------------------+----------+\n",
            "|fare_category|fare_category_index|prediction|\n",
            "+-------------+-------------------+----------+\n",
            "|         high|                2.0|       2.0|\n",
            "|         high|                2.0|       2.0|\n",
            "|         high|                2.0|       2.0|\n",
            "|         high|                2.0|       2.0|\n",
            "|         high|                2.0|       2.0|\n",
            "|         high|                2.0|       2.0|\n",
            "|         high|                2.0|       2.0|\n",
            "|         high|                2.0|       2.0|\n",
            "|         high|                2.0|       2.0|\n",
            "|         high|                2.0|       2.0|\n",
            "+-------------+-------------------+----------+\n",
            "only showing top 10 rows\n",
            "\n"
          ]
        }
      ]
    },
    {
      "cell_type": "code",
      "source": [
        "from pyspark.ml.evaluation import MulticlassClassificationEvaluator\n",
        "\n",
        "evaluator = MulticlassClassificationEvaluator(labelCol=\"fare_category_index\", predictionCol=\"prediction\", metricName=\"accuracy\")\n",
        "accuracy = evaluator.evaluate(predictions)\n",
        "print(f\"Accuracy: {accuracy}\")"
      ],
      "metadata": {
        "colab": {
          "base_uri": "https://localhost:8080/"
        },
        "id": "A-ombvhpSzlf",
        "outputId": "39c727af-2ac9-401e-949c-51ab6f86c719"
      },
      "execution_count": null,
      "outputs": [
        {
          "output_type": "stream",
          "name": "stdout",
          "text": [
            "Accuracy: 0.8288015448642101\n"
          ]
        }
      ]
    },
    {
      "cell_type": "markdown",
      "source": [
        "### Summary of Accuracy Calculation\n",
        "\n",
        "The output `Accuracy: 0.8288015448642101` indicates that the model achieves an accuracy of approximately **82.88%** in predicting the fare categories (low, medium, high) for trips.\n",
        "\n",
        "Accuracy is calculated as the ratio of correctly predicted instances to the total number of predictions, providing a general measure of how well the model performs across all categories. This means that around 82.88% of the predictions made by the model align with the actual fare categories.\n",
        "\n",
        "While accuracy is a useful metric, it’s essential to consider other metrics (like precision, recall, and F1-score) if there is an imbalance in category distribution, as accuracy alone may not provide a complete picture of model performance, especially for individual fare categories."
      ],
      "metadata": {
        "id": "qYmK898NY7vg"
      }
    },
    {
      "cell_type": "code",
      "source": [
        "import pandas as pd\n",
        "from pyspark.sql import SparkSession\n",
        "from pyspark.sql.functions import col\n",
        "import plotly.express as px\n",
        "\n",
        "# Convert Spark DataFrame to Pandas DataFrame for plotting\n",
        "predictions_pd = predictions.select(\"fare_category_index\", \"prediction\").toPandas()\n",
        "\n",
        "# Convert numeric labels back to categories for readability\n",
        "fare_categories = [\"low\", \"medium\", \"high\"]\n",
        "predictions_pd[\"True Category\"] = predictions_pd[\"fare_category_index\"].apply(lambda x: fare_categories[int(x)])\n",
        "predictions_pd[\"Predicted Category\"] = predictions_pd[\"prediction\"].apply(lambda x: fare_categories[int(x)])"
      ],
      "metadata": {
        "id": "c6EQ6mZGVyVm"
      },
      "execution_count": null,
      "outputs": []
    },
    {
      "cell_type": "code",
      "source": [
        "from sklearn.metrics import confusion_matrix\n",
        "import plotly.figure_factory as ff\n",
        "\n",
        "# Generate confusion matrix\n",
        "conf_matrix = confusion_matrix(predictions_pd[\"True Category\"], predictions_pd[\"Predicted Category\"], labels=fare_categories)\n",
        "\n",
        "# Create a Plotly heatmap for the confusion matrix\n",
        "fig = ff.create_annotated_heatmap(\n",
        "    z=conf_matrix,\n",
        "    x=fare_categories,\n",
        "    y=fare_categories,\n",
        "    colorscale=\"Viridis\",\n",
        "    annotation_text=conf_matrix.astype(str),\n",
        ")\n",
        "\n",
        "# Add labels and titles\n",
        "fig.update_layout(\n",
        "    title=\"Confusion Matrix for Fare Category Predictions\",\n",
        "    xaxis=dict(title=\"Predicted Category\"),\n",
        "    yaxis=dict(title=\"True Category\"),\n",
        ")\n",
        "\n",
        "fig.show()"
      ],
      "metadata": {
        "colab": {
          "base_uri": "https://localhost:8080/",
          "height": 542
        },
        "id": "JF7aXHF2VzKB",
        "outputId": "2764aa59-c9b2-4f9d-9ab9-da3c52025a24"
      },
      "execution_count": null,
      "outputs": [
        {
          "output_type": "display_data",
          "data": {
            "text/html": [
              "<html>\n",
              "<head><meta charset=\"utf-8\" /></head>\n",
              "<body>\n",
              "    <div>            <script src=\"https://cdnjs.cloudflare.com/ajax/libs/mathjax/2.7.5/MathJax.js?config=TeX-AMS-MML_SVG\"></script><script type=\"text/javascript\">if (window.MathJax && window.MathJax.Hub && window.MathJax.Hub.Config) {window.MathJax.Hub.Config({SVG: {font: \"STIX-Web\"}});}</script>                <script type=\"text/javascript\">window.PlotlyConfig = {MathJaxConfig: 'local'};</script>\n",
              "        <script charset=\"utf-8\" src=\"https://cdn.plot.ly/plotly-2.35.2.min.js\"></script>                <div id=\"14d3ee08-43ed-43fe-858d-0467bff3a0a0\" class=\"plotly-graph-div\" style=\"height:525px; width:100%;\"></div>            <script type=\"text/javascript\">                                    window.PLOTLYENV=window.PLOTLYENV || {};                                    if (document.getElementById(\"14d3ee08-43ed-43fe-858d-0467bff3a0a0\")) {                    Plotly.newPlot(                        \"14d3ee08-43ed-43fe-858d-0467bff3a0a0\",                        [{\"colorscale\":[[0.0,\"#440154\"],[0.1111111111111111,\"#482878\"],[0.2222222222222222,\"#3e4989\"],[0.3333333333333333,\"#31688e\"],[0.4444444444444444,\"#26828e\"],[0.5555555555555556,\"#1f9e89\"],[0.6666666666666666,\"#35b779\"],[0.7777777777777778,\"#6ece58\"],[0.8888888888888888,\"#b5de2b\"],[1.0,\"#fde725\"]],\"reversescale\":false,\"showscale\":false,\"x\":[\"low\",\"medium\",\"high\"],\"y\":[\"low\",\"medium\",\"high\"],\"z\":[[686092,128039,162],[147422,580973,57370],[1063,63115,655709]],\"type\":\"heatmap\"}],                        {\"annotations\":[{\"font\":{\"color\":\"#000000\"},\"showarrow\":false,\"text\":\"686092\",\"x\":\"low\",\"xref\":\"x\",\"y\":\"low\",\"yref\":\"y\"},{\"font\":{\"color\":\"#FFFFFF\"},\"showarrow\":false,\"text\":\"128039\",\"x\":\"medium\",\"xref\":\"x\",\"y\":\"low\",\"yref\":\"y\"},{\"font\":{\"color\":\"#FFFFFF\"},\"showarrow\":false,\"text\":\"162\",\"x\":\"high\",\"xref\":\"x\",\"y\":\"low\",\"yref\":\"y\"},{\"font\":{\"color\":\"#FFFFFF\"},\"showarrow\":false,\"text\":\"147422\",\"x\":\"low\",\"xref\":\"x\",\"y\":\"medium\",\"yref\":\"y\"},{\"font\":{\"color\":\"#000000\"},\"showarrow\":false,\"text\":\"580973\",\"x\":\"medium\",\"xref\":\"x\",\"y\":\"medium\",\"yref\":\"y\"},{\"font\":{\"color\":\"#FFFFFF\"},\"showarrow\":false,\"text\":\"57370\",\"x\":\"high\",\"xref\":\"x\",\"y\":\"medium\",\"yref\":\"y\"},{\"font\":{\"color\":\"#FFFFFF\"},\"showarrow\":false,\"text\":\"1063\",\"x\":\"low\",\"xref\":\"x\",\"y\":\"high\",\"yref\":\"y\"},{\"font\":{\"color\":\"#FFFFFF\"},\"showarrow\":false,\"text\":\"63115\",\"x\":\"medium\",\"xref\":\"x\",\"y\":\"high\",\"yref\":\"y\"},{\"font\":{\"color\":\"#000000\"},\"showarrow\":false,\"text\":\"655709\",\"x\":\"high\",\"xref\":\"x\",\"y\":\"high\",\"yref\":\"y\"}],\"xaxis\":{\"dtick\":1,\"gridcolor\":\"rgb(0, 0, 0)\",\"side\":\"top\",\"ticks\":\"\",\"title\":{\"text\":\"Predicted Category\"}},\"yaxis\":{\"dtick\":1,\"ticks\":\"\",\"ticksuffix\":\"  \",\"title\":{\"text\":\"True Category\"}},\"template\":{\"data\":{\"histogram2dcontour\":[{\"type\":\"histogram2dcontour\",\"colorbar\":{\"outlinewidth\":0,\"ticks\":\"\"},\"colorscale\":[[0.0,\"#0d0887\"],[0.1111111111111111,\"#46039f\"],[0.2222222222222222,\"#7201a8\"],[0.3333333333333333,\"#9c179e\"],[0.4444444444444444,\"#bd3786\"],[0.5555555555555556,\"#d8576b\"],[0.6666666666666666,\"#ed7953\"],[0.7777777777777778,\"#fb9f3a\"],[0.8888888888888888,\"#fdca26\"],[1.0,\"#f0f921\"]]}],\"choropleth\":[{\"type\":\"choropleth\",\"colorbar\":{\"outlinewidth\":0,\"ticks\":\"\"}}],\"histogram2d\":[{\"type\":\"histogram2d\",\"colorbar\":{\"outlinewidth\":0,\"ticks\":\"\"},\"colorscale\":[[0.0,\"#0d0887\"],[0.1111111111111111,\"#46039f\"],[0.2222222222222222,\"#7201a8\"],[0.3333333333333333,\"#9c179e\"],[0.4444444444444444,\"#bd3786\"],[0.5555555555555556,\"#d8576b\"],[0.6666666666666666,\"#ed7953\"],[0.7777777777777778,\"#fb9f3a\"],[0.8888888888888888,\"#fdca26\"],[1.0,\"#f0f921\"]]}],\"heatmap\":[{\"type\":\"heatmap\",\"colorbar\":{\"outlinewidth\":0,\"ticks\":\"\"},\"colorscale\":[[0.0,\"#0d0887\"],[0.1111111111111111,\"#46039f\"],[0.2222222222222222,\"#7201a8\"],[0.3333333333333333,\"#9c179e\"],[0.4444444444444444,\"#bd3786\"],[0.5555555555555556,\"#d8576b\"],[0.6666666666666666,\"#ed7953\"],[0.7777777777777778,\"#fb9f3a\"],[0.8888888888888888,\"#fdca26\"],[1.0,\"#f0f921\"]]}],\"heatmapgl\":[{\"type\":\"heatmapgl\",\"colorbar\":{\"outlinewidth\":0,\"ticks\":\"\"},\"colorscale\":[[0.0,\"#0d0887\"],[0.1111111111111111,\"#46039f\"],[0.2222222222222222,\"#7201a8\"],[0.3333333333333333,\"#9c179e\"],[0.4444444444444444,\"#bd3786\"],[0.5555555555555556,\"#d8576b\"],[0.6666666666666666,\"#ed7953\"],[0.7777777777777778,\"#fb9f3a\"],[0.8888888888888888,\"#fdca26\"],[1.0,\"#f0f921\"]]}],\"contourcarpet\":[{\"type\":\"contourcarpet\",\"colorbar\":{\"outlinewidth\":0,\"ticks\":\"\"}}],\"contour\":[{\"type\":\"contour\",\"colorbar\":{\"outlinewidth\":0,\"ticks\":\"\"},\"colorscale\":[[0.0,\"#0d0887\"],[0.1111111111111111,\"#46039f\"],[0.2222222222222222,\"#7201a8\"],[0.3333333333333333,\"#9c179e\"],[0.4444444444444444,\"#bd3786\"],[0.5555555555555556,\"#d8576b\"],[0.6666666666666666,\"#ed7953\"],[0.7777777777777778,\"#fb9f3a\"],[0.8888888888888888,\"#fdca26\"],[1.0,\"#f0f921\"]]}],\"surface\":[{\"type\":\"surface\",\"colorbar\":{\"outlinewidth\":0,\"ticks\":\"\"},\"colorscale\":[[0.0,\"#0d0887\"],[0.1111111111111111,\"#46039f\"],[0.2222222222222222,\"#7201a8\"],[0.3333333333333333,\"#9c179e\"],[0.4444444444444444,\"#bd3786\"],[0.5555555555555556,\"#d8576b\"],[0.6666666666666666,\"#ed7953\"],[0.7777777777777778,\"#fb9f3a\"],[0.8888888888888888,\"#fdca26\"],[1.0,\"#f0f921\"]]}],\"mesh3d\":[{\"type\":\"mesh3d\",\"colorbar\":{\"outlinewidth\":0,\"ticks\":\"\"}}],\"scatter\":[{\"fillpattern\":{\"fillmode\":\"overlay\",\"size\":10,\"solidity\":0.2},\"type\":\"scatter\"}],\"parcoords\":[{\"type\":\"parcoords\",\"line\":{\"colorbar\":{\"outlinewidth\":0,\"ticks\":\"\"}}}],\"scatterpolargl\":[{\"type\":\"scatterpolargl\",\"marker\":{\"colorbar\":{\"outlinewidth\":0,\"ticks\":\"\"}}}],\"bar\":[{\"error_x\":{\"color\":\"#2a3f5f\"},\"error_y\":{\"color\":\"#2a3f5f\"},\"marker\":{\"line\":{\"color\":\"#E5ECF6\",\"width\":0.5},\"pattern\":{\"fillmode\":\"overlay\",\"size\":10,\"solidity\":0.2}},\"type\":\"bar\"}],\"scattergeo\":[{\"type\":\"scattergeo\",\"marker\":{\"colorbar\":{\"outlinewidth\":0,\"ticks\":\"\"}}}],\"scatterpolar\":[{\"type\":\"scatterpolar\",\"marker\":{\"colorbar\":{\"outlinewidth\":0,\"ticks\":\"\"}}}],\"histogram\":[{\"marker\":{\"pattern\":{\"fillmode\":\"overlay\",\"size\":10,\"solidity\":0.2}},\"type\":\"histogram\"}],\"scattergl\":[{\"type\":\"scattergl\",\"marker\":{\"colorbar\":{\"outlinewidth\":0,\"ticks\":\"\"}}}],\"scatter3d\":[{\"type\":\"scatter3d\",\"line\":{\"colorbar\":{\"outlinewidth\":0,\"ticks\":\"\"}},\"marker\":{\"colorbar\":{\"outlinewidth\":0,\"ticks\":\"\"}}}],\"scattermapbox\":[{\"type\":\"scattermapbox\",\"marker\":{\"colorbar\":{\"outlinewidth\":0,\"ticks\":\"\"}}}],\"scatterternary\":[{\"type\":\"scatterternary\",\"marker\":{\"colorbar\":{\"outlinewidth\":0,\"ticks\":\"\"}}}],\"scattercarpet\":[{\"type\":\"scattercarpet\",\"marker\":{\"colorbar\":{\"outlinewidth\":0,\"ticks\":\"\"}}}],\"carpet\":[{\"aaxis\":{\"endlinecolor\":\"#2a3f5f\",\"gridcolor\":\"white\",\"linecolor\":\"white\",\"minorgridcolor\":\"white\",\"startlinecolor\":\"#2a3f5f\"},\"baxis\":{\"endlinecolor\":\"#2a3f5f\",\"gridcolor\":\"white\",\"linecolor\":\"white\",\"minorgridcolor\":\"white\",\"startlinecolor\":\"#2a3f5f\"},\"type\":\"carpet\"}],\"table\":[{\"cells\":{\"fill\":{\"color\":\"#EBF0F8\"},\"line\":{\"color\":\"white\"}},\"header\":{\"fill\":{\"color\":\"#C8D4E3\"},\"line\":{\"color\":\"white\"}},\"type\":\"table\"}],\"barpolar\":[{\"marker\":{\"line\":{\"color\":\"#E5ECF6\",\"width\":0.5},\"pattern\":{\"fillmode\":\"overlay\",\"size\":10,\"solidity\":0.2}},\"type\":\"barpolar\"}],\"pie\":[{\"automargin\":true,\"type\":\"pie\"}]},\"layout\":{\"autotypenumbers\":\"strict\",\"colorway\":[\"#636efa\",\"#EF553B\",\"#00cc96\",\"#ab63fa\",\"#FFA15A\",\"#19d3f3\",\"#FF6692\",\"#B6E880\",\"#FF97FF\",\"#FECB52\"],\"font\":{\"color\":\"#2a3f5f\"},\"hovermode\":\"closest\",\"hoverlabel\":{\"align\":\"left\"},\"paper_bgcolor\":\"white\",\"plot_bgcolor\":\"#E5ECF6\",\"polar\":{\"bgcolor\":\"#E5ECF6\",\"angularaxis\":{\"gridcolor\":\"white\",\"linecolor\":\"white\",\"ticks\":\"\"},\"radialaxis\":{\"gridcolor\":\"white\",\"linecolor\":\"white\",\"ticks\":\"\"}},\"ternary\":{\"bgcolor\":\"#E5ECF6\",\"aaxis\":{\"gridcolor\":\"white\",\"linecolor\":\"white\",\"ticks\":\"\"},\"baxis\":{\"gridcolor\":\"white\",\"linecolor\":\"white\",\"ticks\":\"\"},\"caxis\":{\"gridcolor\":\"white\",\"linecolor\":\"white\",\"ticks\":\"\"}},\"coloraxis\":{\"colorbar\":{\"outlinewidth\":0,\"ticks\":\"\"}},\"colorscale\":{\"sequential\":[[0.0,\"#0d0887\"],[0.1111111111111111,\"#46039f\"],[0.2222222222222222,\"#7201a8\"],[0.3333333333333333,\"#9c179e\"],[0.4444444444444444,\"#bd3786\"],[0.5555555555555556,\"#d8576b\"],[0.6666666666666666,\"#ed7953\"],[0.7777777777777778,\"#fb9f3a\"],[0.8888888888888888,\"#fdca26\"],[1.0,\"#f0f921\"]],\"sequentialminus\":[[0.0,\"#0d0887\"],[0.1111111111111111,\"#46039f\"],[0.2222222222222222,\"#7201a8\"],[0.3333333333333333,\"#9c179e\"],[0.4444444444444444,\"#bd3786\"],[0.5555555555555556,\"#d8576b\"],[0.6666666666666666,\"#ed7953\"],[0.7777777777777778,\"#fb9f3a\"],[0.8888888888888888,\"#fdca26\"],[1.0,\"#f0f921\"]],\"diverging\":[[0,\"#8e0152\"],[0.1,\"#c51b7d\"],[0.2,\"#de77ae\"],[0.3,\"#f1b6da\"],[0.4,\"#fde0ef\"],[0.5,\"#f7f7f7\"],[0.6,\"#e6f5d0\"],[0.7,\"#b8e186\"],[0.8,\"#7fbc41\"],[0.9,\"#4d9221\"],[1,\"#276419\"]]},\"xaxis\":{\"gridcolor\":\"white\",\"linecolor\":\"white\",\"ticks\":\"\",\"title\":{\"standoff\":15},\"zerolinecolor\":\"white\",\"automargin\":true,\"zerolinewidth\":2},\"yaxis\":{\"gridcolor\":\"white\",\"linecolor\":\"white\",\"ticks\":\"\",\"title\":{\"standoff\":15},\"zerolinecolor\":\"white\",\"automargin\":true,\"zerolinewidth\":2},\"scene\":{\"xaxis\":{\"backgroundcolor\":\"#E5ECF6\",\"gridcolor\":\"white\",\"linecolor\":\"white\",\"showbackground\":true,\"ticks\":\"\",\"zerolinecolor\":\"white\",\"gridwidth\":2},\"yaxis\":{\"backgroundcolor\":\"#E5ECF6\",\"gridcolor\":\"white\",\"linecolor\":\"white\",\"showbackground\":true,\"ticks\":\"\",\"zerolinecolor\":\"white\",\"gridwidth\":2},\"zaxis\":{\"backgroundcolor\":\"#E5ECF6\",\"gridcolor\":\"white\",\"linecolor\":\"white\",\"showbackground\":true,\"ticks\":\"\",\"zerolinecolor\":\"white\",\"gridwidth\":2}},\"shapedefaults\":{\"line\":{\"color\":\"#2a3f5f\"}},\"annotationdefaults\":{\"arrowcolor\":\"#2a3f5f\",\"arrowhead\":0,\"arrowwidth\":1},\"geo\":{\"bgcolor\":\"white\",\"landcolor\":\"#E5ECF6\",\"subunitcolor\":\"white\",\"showland\":true,\"showlakes\":true,\"lakecolor\":\"white\"},\"title\":{\"x\":0.05},\"mapbox\":{\"style\":\"light\"}}},\"title\":{\"text\":\"Confusion Matrix for Fare Category Predictions\"}},                        {\"responsive\": true}                    ).then(function(){\n",
              "                            \n",
              "var gd = document.getElementById('14d3ee08-43ed-43fe-858d-0467bff3a0a0');\n",
              "var x = new MutationObserver(function (mutations, observer) {{\n",
              "        var display = window.getComputedStyle(gd).display;\n",
              "        if (!display || display === 'none') {{\n",
              "            console.log([gd, 'removed!']);\n",
              "            Plotly.purge(gd);\n",
              "            observer.disconnect();\n",
              "        }}\n",
              "}});\n",
              "\n",
              "// Listen for the removal of the full notebook cells\n",
              "var notebookContainer = gd.closest('#notebook-container');\n",
              "if (notebookContainer) {{\n",
              "    x.observe(notebookContainer, {childList: true});\n",
              "}}\n",
              "\n",
              "// Listen for the clearing of the current output cell\n",
              "var outputEl = gd.closest('.output');\n",
              "if (outputEl) {{\n",
              "    x.observe(outputEl, {childList: true});\n",
              "}}\n",
              "\n",
              "                        })                };                            </script>        </div>\n",
              "</body>\n",
              "</html>"
            ]
          },
          "metadata": {}
        }
      ]
    },
    {
      "cell_type": "markdown",
      "source": [
        "### Analysis of Confusion Matrix for Fare Category Predictions\n",
        "\n",
        "The confusion matrix provides a breakdown of the model’s performance in predicting fare categories (low, medium, high). Each row represents the *actual fare category*, while each column represents the *predicted fare category*. The values in each cell indicate the number of instances for each true-predicted category pairing.\n",
        "\n",
        "#### Key Insights:\n",
        "1. **Actual Low Fare**:\n",
        "   - **Correct Predictions**: 686,092 trips were accurately identified as low fare.\n",
        "   - **Misclassifications**:\n",
        "     - 128,039 trips were incorrectly classified as medium fare.\n",
        "     - Only 162 trips were misclassified as high fare.\n",
        "\n",
        "2. **Actual Medium Fare**:\n",
        "   - **Correct Predictions**: 580,973 trips were correctly identified as medium fare.\n",
        "   - **Misclassifications**:\n",
        "     - 147,422 trips were incorrectly classified as low fare.\n",
        "     - 57,370 trips were misclassified as high fare.\n",
        "\n",
        "3. **Actual High Fare**:\n",
        "   - **Correct Predictions**: 655,709 trips were accurately classified as high fare.\n",
        "   - **Misclassifications**:\n",
        "     - 63,115 trips were incorrectly classified as medium fare.\n",
        "     - Only 1,063 trips were misclassified as low fare.\n",
        "\n",
        "#### Model Performance Summary:\n",
        "- The model performs *exceptionally well in identifying high fare trips*, with very few instances of high fares being misclassified as low.\n",
        "- Most misclassifications occur between neighboring fare categories (e.g., low misclassified as medium or medium as high), indicating that the model has some difficulty distinguishing between adjacent fare levels.\n"
      ],
      "metadata": {
        "id": "xdoDM-1LYnrZ"
      }
    },
    {
      "cell_type": "markdown",
      "source": [
        "# Q8: Identify and predict traffic congestion hotspots based on trip patterns and times"
      ],
      "metadata": {
        "id": "rHUQp5kencA7"
      }
    },
    {
      "cell_type": "code",
      "source": [
        "columns_to_drop = ['payment_type_0', 'payment_type_5', 'payment_type_3', 'payment_type_4']\n",
        "df = df.drop(*columns_to_drop)\n",
        "df.show()"
      ],
      "metadata": {
        "id": "hJj5Q9EwYOwU",
        "colab": {
          "base_uri": "https://localhost:8080/"
        },
        "outputId": "b0bb974d-9370-460d-f707-f57242c89948"
      },
      "execution_count": null,
      "outputs": [
        {
          "output_type": "stream",
          "name": "stdout",
          "text": [
            "+------------+------------+--------+--------------------+---------------------+---------------+-------------+----------+------------+------------+--------------------+----------+-----------+-------------+--------------+---------------+--------------+--------------+\n",
            "|DOLocationID|PULocationID|VendorID|tpep_pickup_datetime|tpep_dropoff_datetime|passenger_count|trip_distance|tip_amount|tolls_amount|total_amount|congestion_surcharge|total_fare|pickup_hour|trip_duration|Pickup_Borough|Dropoff_Borough|payment_type_1|payment_type_2|\n",
            "+------------+------------+--------+--------------------+---------------------+---------------+-------------+----------+------------+------------+--------------------+----------+-----------+-------------+--------------+---------------+--------------+--------------+\n",
            "|         239|         238|       1| 2020-01-01 00:28:15|  2020-01-01 00:33:03|            1.0|          1.2|      1.47|         0.0|       11.27|                 2.5|       9.8|          0|          4.8|     Manhattan|      Manhattan|             1|             0|\n",
            "|         238|         239|       1| 2020-01-01 00:35:39|  2020-01-01 00:43:04|            1.0|          1.2|       1.5|         0.0|        12.3|                 2.5|      10.8|          0|         7.42|     Manhattan|      Manhattan|             1|             0|\n",
            "|          79|         246|       1| 2020-01-01 00:55:11|  2020-01-01 01:12:03|            2.0|          2.4|      1.75|         0.0|       17.55|                 2.5|      15.8|          0|        16.87|     Manhattan|      Manhattan|             1|             0|\n",
            "|         144|         161|       1| 2020-01-01 00:56:27|  2020-01-01 01:21:44|            1.0|          3.3|      4.15|         0.0|       24.95|                 2.5|      20.8|          0|        25.28|     Manhattan|      Manhattan|             1|             0|\n",
            "|         239|          43|       2| 2020-01-01 00:21:54|  2020-01-01 00:27:31|            1.0|         1.07|      1.96|         0.0|       11.76|                 2.5|       7.3|          0|         5.62|     Manhattan|      Manhattan|             1|             0|\n",
            "|          25|         143|       2| 2020-01-01 00:38:01|  2020-01-01 01:15:21|            1.0|         7.76|      4.84|         0.0|       37.14|                 2.5|      29.8|          0|        37.33|     Manhattan|       Brooklyn|             1|             0|\n",
            "|         234|         211|       1| 2020-01-01 00:15:35|  2020-01-01 00:27:06|            3.0|          1.6|       0.0|         0.0|        12.8|                 2.5|      12.8|          0|        11.52|     Manhattan|      Manhattan|             0|             1|\n",
            "|         142|         246|       1| 2020-01-01 00:56:38|  2020-01-01 01:13:34|            1.0|          1.7|       0.0|         0.0|        15.3|                 2.5|      15.3|          0|        16.93|     Manhattan|      Manhattan|             0|             1|\n",
            "|         216|         138|       2| 2020-01-01 00:08:21|  2020-01-01 00:25:29|            1.0|         8.45|       0.0|         0.0|        25.8|                 0.0|      25.8|          0|        17.13|        Queens|         Queens|             0|             1|\n",
            "|         161|         170|       1| 2020-01-01 00:28:53|  2020-01-01 00:41:59|            1.0|          1.5|      2.65|         0.0|       15.95|                 2.5|      13.3|          0|         13.1|     Manhattan|      Manhattan|             1|             0|\n",
            "|         262|         161|       1| 2020-01-01 00:49:00|  2020-01-01 01:17:42|            1.0|          2.9|      4.55|         0.0|       27.35|                 2.5|      22.8|          0|         28.7|     Manhattan|      Manhattan|             1|             0|\n",
            "|         162|         236|       1| 2020-01-01 00:23:54|  2020-01-01 00:38:46|            1.0|          1.9|      2.85|         0.0|       17.15|                 2.5|      14.3|          0|        14.87|     Manhattan|      Manhattan|             1|             0|\n",
            "|         261|          50|       1| 2020-01-01 00:56:12|  2020-01-01 01:19:57|            1.0|          4.2|      4.35|         0.0|       26.15|                 2.5|      21.8|          0|        23.75|     Manhattan|      Manhattan|             1|             0|\n",
            "|         236|         142|       1| 2020-01-01 00:28:02|  2020-01-01 00:35:56|            2.0|          1.5|       2.8|         0.0|        14.1|                 2.5|      11.3|          0|          7.9|     Manhattan|      Manhattan|             1|             0|\n",
            "|         112|         246|       2| 2020-01-01 00:13:53|  2020-01-01 00:40:35|            1.0|         5.73|       0.0|        6.12|       30.92|                 2.5|     28.42|          0|         26.7|     Manhattan|       Brooklyn|             0|             1|\n",
            "|         236|          24|       2| 2020-01-01 00:19:13|  2020-01-01 00:28:54|            1.0|         2.12|       0.0|         0.0|        12.8|                 2.5|      10.3|          0|         9.68|     Manhattan|      Manhattan|             1|             0|\n",
            "|         238|         234|       1| 2020-01-01 00:29:04|  2020-01-01 01:03:27|            2.0|          5.7|      5.85|         0.0|       35.15|                 2.5|      29.3|          0|        34.38|     Manhattan|      Manhattan|             1|             0|\n",
            "|          79|         232|       1| 2020-01-01 00:03:02|  2020-01-01 00:09:22|            1.0|          1.2|       0.0|         0.0|        10.3|                 2.5|      10.3|          0|         6.33|     Manhattan|      Manhattan|             0|             1|\n",
            "|         233|          79|       1| 2020-01-01 00:22:24|  2020-01-01 00:33:24|            1.0|          1.3|       1.7|         0.0|        14.0|                 2.5|      12.3|          0|         11.0|     Manhattan|      Manhattan|             1|             0|\n",
            "|          49|         148|       1| 2020-01-01 00:28:44|  2020-01-01 00:43:40|            2.0|          3.9|       3.7|         0.0|        22.0|                 2.5|      18.3|          0|        14.93|     Manhattan|       Brooklyn|             1|             0|\n",
            "+------------+------------+--------+--------------------+---------------------+---------------+-------------+----------+------------+------------+--------------------+----------+-----------+-------------+--------------+---------------+--------------+--------------+\n",
            "only showing top 20 rows\n",
            "\n"
          ]
        }
      ]
    },
    {
      "cell_type": "code",
      "source": [
        "# Drop rows with null values in any column\n",
        "df = df.dropna()\n",
        "\n",
        "# Count the remaining rows\n",
        "remaining_rows = df.count()\n",
        "\n",
        "print(f\"Rows after dropping null values: {remaining_rows}\")\n",
        "\n",
        "# Show a few rows of the cleaned DataFrame\n",
        "df.show(5)"
      ],
      "metadata": {
        "id": "UxLjmpUltK1E",
        "colab": {
          "base_uri": "https://localhost:8080/"
        },
        "outputId": "f82acdfb-acac-43e3-bd65-e408f5d988f1"
      },
      "execution_count": null,
      "outputs": [
        {
          "output_type": "stream",
          "name": "stdout",
          "text": [
            "Rows after dropping null values: 11577407\n",
            "+------------+------------+--------+--------------------+---------------------+---------------+-------------+----------+------------+------------+--------------------+----------+-----------+-------------+--------------+---------------+--------------+--------------+\n",
            "|DOLocationID|PULocationID|VendorID|tpep_pickup_datetime|tpep_dropoff_datetime|passenger_count|trip_distance|tip_amount|tolls_amount|total_amount|congestion_surcharge|total_fare|pickup_hour|trip_duration|Pickup_Borough|Dropoff_Borough|payment_type_1|payment_type_2|\n",
            "+------------+------------+--------+--------------------+---------------------+---------------+-------------+----------+------------+------------+--------------------+----------+-----------+-------------+--------------+---------------+--------------+--------------+\n",
            "|         239|         238|       1| 2020-01-01 00:28:15|  2020-01-01 00:33:03|            1.0|          1.2|      1.47|         0.0|       11.27|                 2.5|       9.8|          0|          4.8|     Manhattan|      Manhattan|             1|             0|\n",
            "|         238|         239|       1| 2020-01-01 00:35:39|  2020-01-01 00:43:04|            1.0|          1.2|       1.5|         0.0|        12.3|                 2.5|      10.8|          0|         7.42|     Manhattan|      Manhattan|             1|             0|\n",
            "|          79|         246|       1| 2020-01-01 00:55:11|  2020-01-01 01:12:03|            2.0|          2.4|      1.75|         0.0|       17.55|                 2.5|      15.8|          0|        16.87|     Manhattan|      Manhattan|             1|             0|\n",
            "|         144|         161|       1| 2020-01-01 00:56:27|  2020-01-01 01:21:44|            1.0|          3.3|      4.15|         0.0|       24.95|                 2.5|      20.8|          0|        25.28|     Manhattan|      Manhattan|             1|             0|\n",
            "|         239|          43|       2| 2020-01-01 00:21:54|  2020-01-01 00:27:31|            1.0|         1.07|      1.96|         0.0|       11.76|                 2.5|       7.3|          0|         5.62|     Manhattan|      Manhattan|             1|             0|\n",
            "+------------+------------+--------+--------------------+---------------------+---------------+-------------+----------+------------+------------+--------------------+----------+-----------+-------------+--------------+---------------+--------------+--------------+\n",
            "only showing top 5 rows\n",
            "\n"
          ]
        }
      ]
    },
    {
      "cell_type": "code",
      "source": [
        "from pyspark.sql.functions import when, col\n",
        "from pyspark.ml.feature import VectorAssembler\n",
        "from pyspark.ml.classification import RandomForestClassifier\n",
        "from pyspark.ml.evaluation import BinaryClassificationEvaluator\n",
        "\n",
        "# Assuming 'df' is your existing DataFrame\n",
        "\n",
        "# Index the DataFrame\n",
        "indexed_df = df.repartition(\"PULocationID\", \"DOLocationID\", \"pickup_hour\")\n",
        "\n",
        "# Cache the indexed DataFrame for better performance\n",
        "indexed_df.cache()\n",
        "\n",
        "# Create binary label for congestion\n",
        "indexed_df = indexed_df.withColumn(\"congestion_label\", when(col(\"congestion_surcharge\") == 2.5, 1).otherwise(0))\n",
        "\n",
        "# Prepare features for the model\n",
        "feature_cols = [\"PULocationID\", \"DOLocationID\", \"trip_distance\", \"total_fare\", \"pickup_hour\", \"trip_duration\", \"passenger_count\"]\n",
        "assembler = VectorAssembler(inputCols=feature_cols, outputCol=\"features\")\n",
        "data = assembler.transform(indexed_df)\n",
        "\n",
        "# Split the data\n",
        "train_data, test_data = data.randomSplit([0.7, 0.3], seed=42)\n",
        "\n",
        "# Train a Random Forest model\n",
        "rf = RandomForestClassifier(labelCol=\"congestion_label\", featuresCol=\"features\", numTrees=10)\n",
        "model = rf.fit(train_data)\n",
        "\n",
        "# Make predictions\n",
        "predictions = model.transform(test_data)\n",
        "\n",
        "# Evaluate the model\n",
        "evaluator = BinaryClassificationEvaluator(labelCol=\"congestion_label\", rawPredictionCol=\"rawPrediction\", metricName=\"areaUnderROC\")\n",
        "auc = evaluator.evaluate(predictions)\n",
        "\n",
        "print(f\"Area Under ROC: {auc}\")\n",
        "\n",
        "# Identify top congestion hotspots\n",
        "hotspots = indexed_df.groupBy(\"PULocationID\", \"pickup_hour\") \\\n",
        "    .agg({\"congestion_label\": \"avg\"}) \\\n",
        "    .withColumnRenamed(\"avg(congestion_label)\", \"congestion_probability\") \\\n",
        "    .orderBy(\"congestion_probability\", ascending=False)\n",
        "\n",
        "print(\"Top Congestion Hotspots:\")\n",
        "hotspots.show(10)\n",
        "\n",
        "# Feature importance\n",
        "feature_importance = model.featureImportances\n",
        "for feature, importance in zip(feature_cols, feature_importance):\n",
        "    print(f\"{feature}: {importance}\")\n",
        "\n",
        "# Uncache the DataFrame when you're done\n",
        "indexed_df.unpersist()"
      ],
      "metadata": {
        "id": "MxzR0VaFvQz1",
        "colab": {
          "base_uri": "https://localhost:8080/"
        },
        "outputId": "a575d87d-c27d-4cbf-b567-36edd224d6d0"
      },
      "execution_count": null,
      "outputs": [
        {
          "output_type": "stream",
          "name": "stdout",
          "text": [
            "Area Under ROC: 0.841050527899253\n",
            "Top Congestion Hotspots:\n",
            "+------------+-----------+----------------------+\n",
            "|PULocationID|pickup_hour|congestion_probability|\n",
            "+------------+-----------+----------------------+\n",
            "|          12|         19|                   1.0|\n",
            "|          87|          2|                   1.0|\n",
            "|          12|         17|                   1.0|\n",
            "|          57|         15|                   1.0|\n",
            "|          12|         11|                   1.0|\n",
            "|           8|          2|                   1.0|\n",
            "|         209|          1|                   1.0|\n",
            "|          12|          6|                   1.0|\n",
            "|          13|          2|                   1.0|\n",
            "|          88|          1|                   1.0|\n",
            "+------------+-----------+----------------------+\n",
            "only showing top 10 rows\n",
            "\n",
            "PULocationID: 0.413404953899781\n",
            "DOLocationID: 0.15783163230530023\n",
            "trip_distance: 0.26823477073898994\n",
            "total_fare: 0.10696065717249328\n",
            "pickup_hour: 0.0011775068119797693\n",
            "trip_duration: 0.052390479071455796\n",
            "passenger_count: 0.0\n"
          ]
        },
        {
          "output_type": "execute_result",
          "data": {
            "text/plain": [
              "DataFrame[DOLocationID: bigint, PULocationID: bigint, VendorID: bigint, tpep_pickup_datetime: timestamp, tpep_dropoff_datetime: timestamp, passenger_count: double, trip_distance: double, tip_amount: double, tolls_amount: double, total_amount: double, congestion_surcharge: double, total_fare: double, pickup_hour: int, trip_duration: double, Pickup_Borough: string, Dropoff_Borough: string, payment_type_1: int, payment_type_2: int, congestion_label: int]"
            ]
          },
          "metadata": {},
          "execution_count": 11
        }
      ]
    },
    {
      "cell_type": "code",
      "source": [
        "from pyspark.sql.functions import col, count, desc\n",
        "\n",
        "# Group by PULocationID and Pickup_Borough, count the occurrences\n",
        "hotspots = df.groupBy(\"PULocationID\", \"Pickup_Borough\") \\\n",
        "    .agg(count(\"*\").alias(\"trip_count\")) \\\n",
        "    .orderBy(desc(\"trip_count\"))\n",
        "\n",
        "# Get the top 20 unique hotspots\n",
        "top_20_hotspots = hotspots.dropDuplicates([\"PULocationID\"]).limit(20)\n",
        "\n",
        "print(\"Top 20 Unique PULocationID Hotspots:\")\n",
        "top_20_hotspots.show(20, truncate=False)"
      ],
      "metadata": {
        "id": "jAvJ6QrgByno",
        "colab": {
          "base_uri": "https://localhost:8080/"
        },
        "outputId": "70e6e67c-9839-415e-e823-ffa46e898121"
      },
      "execution_count": null,
      "outputs": [
        {
          "output_type": "stream",
          "name": "stdout",
          "text": [
            "Top 20 Unique PULocationID Hotspots:\n",
            "+------------+--------------+----------+\n",
            "|PULocationID|Pickup_Borough|trip_count|\n",
            "+------------+--------------+----------+\n",
            "|1           |EWR           |22        |\n",
            "|2           |Queens        |11        |\n",
            "|3           |Bronx         |143       |\n",
            "|4           |Manhattan     |19260     |\n",
            "|5           |Staten Island |31        |\n",
            "|6           |Staten Island |17        |\n",
            "|7           |Queens        |14508     |\n",
            "|8           |Queens        |169       |\n",
            "|9           |Queens        |27        |\n",
            "|10          |Queens        |3396      |\n",
            "|11          |Brooklyn      |59        |\n",
            "|12          |Manhattan     |3717      |\n",
            "|13          |Manhattan     |103931    |\n",
            "|14          |Brooklyn      |504       |\n",
            "|15          |Queens        |62        |\n",
            "|16          |Queens        |104       |\n",
            "|17          |Brooklyn      |1319      |\n",
            "|18          |Bronx         |236       |\n",
            "|19          |Queens        |51        |\n",
            "|20          |Bronx         |111       |\n",
            "+------------+--------------+----------+\n",
            "\n"
          ]
        }
      ]
    },
    {
      "cell_type": "markdown",
      "source": [
        "### Explanation of Top 20 Unique PULocationID Hotspots\n",
        "\n",
        "The table represents the **Top 20 Unique PULocationID Hotspots** based on the number of trips (`trip_count`) for each `PULocationID` and their corresponding `Pickup_Borough`. Here's a breakdown of the table:\n",
        "\n",
        "- **PULocationID**: This refers to the unique identifier for the pickup location in the dataset.\n",
        "- **Pickup_Borough**: The borough in New York City where the pickup occurred (e.g., Manhattan, Queens, Bronx, etc.).\n",
        "- **trip_count**: The number of trips originating from that specific `PULocationID`.\n",
        "\n",
        "#### Key Insights:\n",
        "\n",
        "1. **Manhattan Dominates**:\n",
        "   - The highest trip counts are from Manhattan, with `PULocationID 13` having **104,078 trips**, and `PULocationID 4` having **19,271 trips**. This is expected as Manhattan is a central hub for both business and tourism, leading to heavy taxi traffic.\n",
        "   \n",
        "2. **Queens and Staten Island**:\n",
        "   - Several locations in Queens also show significant trip counts, such as `PULocationID 7` with **14,518 trips** and `PULocationID 10` with **3,410 trips**.\n",
        "   - Staten Island appears twice in the list with moderate trip counts (`PULocationID 5` with **31 trips** and `PULocationID 6` with **17 trips**).\n",
        "\n",
        "3. **EWR (Newark Airport)**:\n",
        "   - Interestingly, `PULocationID 1`, which corresponds to Newark Airport (EWR), only has **32 trips**, indicating that it is not as frequently used as other locations in NYC.\n",
        "\n",
        "4. **Bronx and Brooklyn Presence**:\n",
        "   - The Bronx also has a few hotspots, such as `PULocationID 3` with **144 trips**, and Brooklyn shows up with moderate trip counts (`PULocationID 11` has **59 trips**, while `PULocationID 14` has **504 trips**).\n",
        "\n",
        "### Traffic Congestion Hotspot Prediction\n",
        "To predict traffic congestion hotspots based on this data:\n",
        "\n",
        "- We can observe that areas with higher trip counts (e.g., Manhattan) are likely to experience more congestion due to the high volume of traffic.\n",
        "- Locations like Queens and Brooklyn may also experience congestion during peak hours, especially around popular pickup points."
      ],
      "metadata": {
        "id": "nEJnjH3KHW5-"
      }
    },
    {
      "cell_type": "code",
      "source": [
        "import plotly.graph_objs as go\n",
        "from plotly.subplots import make_subplots\n",
        "from pyspark.sql.functions import col, count, avg, hour\n",
        "\n",
        "# Assuming 'df' is your PySpark DataFrame\n",
        "\n",
        "# 1. Bar chart of top 20 PULocationID hotspots\n",
        "top_20_hotspots = df.groupBy(\"PULocationID\", \"Pickup_Borough\") \\\n",
        "    .agg(count(\"*\").alias(\"trip_count\")) \\\n",
        "    .orderBy(col(\"trip_count\").desc()) \\\n",
        "    .limit(20)\n",
        "\n",
        "# Collect data to the driver (be cautious with large datasets)\n",
        "hotspot_data = top_20_hotspots.collect()\n",
        "\n",
        "fig1 = go.Figure(data=[\n",
        "    go.Bar(\n",
        "        x=[str(row['PULocationID']) for row in hotspot_data],\n",
        "        y=[row['trip_count'] for row in hotspot_data],\n",
        "        text=[row['Pickup_Borough'] for row in hotspot_data],\n",
        "        hoverinfo='text+y',\n",
        "        textposition='auto'\n",
        "    )\n",
        "])\n",
        "\n",
        "fig1.update_layout(\n",
        "    title='Top 20 PULocationID Hotspots',\n",
        "    xaxis_title='PULocationID',\n",
        "    yaxis_title='Trip Count'\n",
        ")\n",
        "\n",
        "fig1.show()"
      ],
      "metadata": {
        "id": "We3LJttWIInO",
        "colab": {
          "base_uri": "https://localhost:8080/",
          "height": 542
        },
        "outputId": "c94f28a3-d862-44de-82e8-0d2330a650b3"
      },
      "execution_count": null,
      "outputs": [
        {
          "output_type": "display_data",
          "data": {
            "text/html": [
              "<html>\n",
              "<head><meta charset=\"utf-8\" /></head>\n",
              "<body>\n",
              "    <div>            <script src=\"https://cdnjs.cloudflare.com/ajax/libs/mathjax/2.7.5/MathJax.js?config=TeX-AMS-MML_SVG\"></script><script type=\"text/javascript\">if (window.MathJax && window.MathJax.Hub && window.MathJax.Hub.Config) {window.MathJax.Hub.Config({SVG: {font: \"STIX-Web\"}});}</script>                <script type=\"text/javascript\">window.PlotlyConfig = {MathJaxConfig: 'local'};</script>\n",
              "        <script charset=\"utf-8\" src=\"https://cdn.plot.ly/plotly-2.35.2.min.js\"></script>                <div id=\"fc871911-3a50-4bbc-9d55-1a70a290c909\" class=\"plotly-graph-div\" style=\"height:525px; width:100%;\"></div>            <script type=\"text/javascript\">                                    window.PLOTLYENV=window.PLOTLYENV || {};                                    if (document.getElementById(\"fc871911-3a50-4bbc-9d55-1a70a290c909\")) {                    Plotly.newPlot(                        \"fc871911-3a50-4bbc-9d55-1a70a290c909\",                        [{\"hoverinfo\":\"text+y\",\"text\":[\"Manhattan\",\"Manhattan\",\"Manhattan\",\"Manhattan\",\"Manhattan\",\"Queens\",\"Manhattan\",\"Manhattan\",\"Manhattan\",\"Manhattan\",\"Manhattan\",\"Manhattan\",\"Manhattan\",\"Manhattan\",\"Queens\",\"Manhattan\",\"Manhattan\",\"Manhattan\",\"Manhattan\",\"Manhattan\"],\"textposition\":\"auto\",\"x\":[\"161\",\"236\",\"237\",\"186\",\"162\",\"132\",\"230\",\"142\",\"48\",\"170\",\"234\",\"163\",\"239\",\"79\",\"138\",\"68\",\"141\",\"107\",\"238\",\"140\"],\"y\":[484182,447100,446012,434965,423504,423130,385677,357896,340101,338866,335653,315441,305717,293505,290773,277935,264886,260880,257908,241897],\"type\":\"bar\"}],                        {\"template\":{\"data\":{\"histogram2dcontour\":[{\"type\":\"histogram2dcontour\",\"colorbar\":{\"outlinewidth\":0,\"ticks\":\"\"},\"colorscale\":[[0.0,\"#0d0887\"],[0.1111111111111111,\"#46039f\"],[0.2222222222222222,\"#7201a8\"],[0.3333333333333333,\"#9c179e\"],[0.4444444444444444,\"#bd3786\"],[0.5555555555555556,\"#d8576b\"],[0.6666666666666666,\"#ed7953\"],[0.7777777777777778,\"#fb9f3a\"],[0.8888888888888888,\"#fdca26\"],[1.0,\"#f0f921\"]]}],\"choropleth\":[{\"type\":\"choropleth\",\"colorbar\":{\"outlinewidth\":0,\"ticks\":\"\"}}],\"histogram2d\":[{\"type\":\"histogram2d\",\"colorbar\":{\"outlinewidth\":0,\"ticks\":\"\"},\"colorscale\":[[0.0,\"#0d0887\"],[0.1111111111111111,\"#46039f\"],[0.2222222222222222,\"#7201a8\"],[0.3333333333333333,\"#9c179e\"],[0.4444444444444444,\"#bd3786\"],[0.5555555555555556,\"#d8576b\"],[0.6666666666666666,\"#ed7953\"],[0.7777777777777778,\"#fb9f3a\"],[0.8888888888888888,\"#fdca26\"],[1.0,\"#f0f921\"]]}],\"heatmap\":[{\"type\":\"heatmap\",\"colorbar\":{\"outlinewidth\":0,\"ticks\":\"\"},\"colorscale\":[[0.0,\"#0d0887\"],[0.1111111111111111,\"#46039f\"],[0.2222222222222222,\"#7201a8\"],[0.3333333333333333,\"#9c179e\"],[0.4444444444444444,\"#bd3786\"],[0.5555555555555556,\"#d8576b\"],[0.6666666666666666,\"#ed7953\"],[0.7777777777777778,\"#fb9f3a\"],[0.8888888888888888,\"#fdca26\"],[1.0,\"#f0f921\"]]}],\"heatmapgl\":[{\"type\":\"heatmapgl\",\"colorbar\":{\"outlinewidth\":0,\"ticks\":\"\"},\"colorscale\":[[0.0,\"#0d0887\"],[0.1111111111111111,\"#46039f\"],[0.2222222222222222,\"#7201a8\"],[0.3333333333333333,\"#9c179e\"],[0.4444444444444444,\"#bd3786\"],[0.5555555555555556,\"#d8576b\"],[0.6666666666666666,\"#ed7953\"],[0.7777777777777778,\"#fb9f3a\"],[0.8888888888888888,\"#fdca26\"],[1.0,\"#f0f921\"]]}],\"contourcarpet\":[{\"type\":\"contourcarpet\",\"colorbar\":{\"outlinewidth\":0,\"ticks\":\"\"}}],\"contour\":[{\"type\":\"contour\",\"colorbar\":{\"outlinewidth\":0,\"ticks\":\"\"},\"colorscale\":[[0.0,\"#0d0887\"],[0.1111111111111111,\"#46039f\"],[0.2222222222222222,\"#7201a8\"],[0.3333333333333333,\"#9c179e\"],[0.4444444444444444,\"#bd3786\"],[0.5555555555555556,\"#d8576b\"],[0.6666666666666666,\"#ed7953\"],[0.7777777777777778,\"#fb9f3a\"],[0.8888888888888888,\"#fdca26\"],[1.0,\"#f0f921\"]]}],\"surface\":[{\"type\":\"surface\",\"colorbar\":{\"outlinewidth\":0,\"ticks\":\"\"},\"colorscale\":[[0.0,\"#0d0887\"],[0.1111111111111111,\"#46039f\"],[0.2222222222222222,\"#7201a8\"],[0.3333333333333333,\"#9c179e\"],[0.4444444444444444,\"#bd3786\"],[0.5555555555555556,\"#d8576b\"],[0.6666666666666666,\"#ed7953\"],[0.7777777777777778,\"#fb9f3a\"],[0.8888888888888888,\"#fdca26\"],[1.0,\"#f0f921\"]]}],\"mesh3d\":[{\"type\":\"mesh3d\",\"colorbar\":{\"outlinewidth\":0,\"ticks\":\"\"}}],\"scatter\":[{\"fillpattern\":{\"fillmode\":\"overlay\",\"size\":10,\"solidity\":0.2},\"type\":\"scatter\"}],\"parcoords\":[{\"type\":\"parcoords\",\"line\":{\"colorbar\":{\"outlinewidth\":0,\"ticks\":\"\"}}}],\"scatterpolargl\":[{\"type\":\"scatterpolargl\",\"marker\":{\"colorbar\":{\"outlinewidth\":0,\"ticks\":\"\"}}}],\"bar\":[{\"error_x\":{\"color\":\"#2a3f5f\"},\"error_y\":{\"color\":\"#2a3f5f\"},\"marker\":{\"line\":{\"color\":\"#E5ECF6\",\"width\":0.5},\"pattern\":{\"fillmode\":\"overlay\",\"size\":10,\"solidity\":0.2}},\"type\":\"bar\"}],\"scattergeo\":[{\"type\":\"scattergeo\",\"marker\":{\"colorbar\":{\"outlinewidth\":0,\"ticks\":\"\"}}}],\"scatterpolar\":[{\"type\":\"scatterpolar\",\"marker\":{\"colorbar\":{\"outlinewidth\":0,\"ticks\":\"\"}}}],\"histogram\":[{\"marker\":{\"pattern\":{\"fillmode\":\"overlay\",\"size\":10,\"solidity\":0.2}},\"type\":\"histogram\"}],\"scattergl\":[{\"type\":\"scattergl\",\"marker\":{\"colorbar\":{\"outlinewidth\":0,\"ticks\":\"\"}}}],\"scatter3d\":[{\"type\":\"scatter3d\",\"line\":{\"colorbar\":{\"outlinewidth\":0,\"ticks\":\"\"}},\"marker\":{\"colorbar\":{\"outlinewidth\":0,\"ticks\":\"\"}}}],\"scattermapbox\":[{\"type\":\"scattermapbox\",\"marker\":{\"colorbar\":{\"outlinewidth\":0,\"ticks\":\"\"}}}],\"scatterternary\":[{\"type\":\"scatterternary\",\"marker\":{\"colorbar\":{\"outlinewidth\":0,\"ticks\":\"\"}}}],\"scattercarpet\":[{\"type\":\"scattercarpet\",\"marker\":{\"colorbar\":{\"outlinewidth\":0,\"ticks\":\"\"}}}],\"carpet\":[{\"aaxis\":{\"endlinecolor\":\"#2a3f5f\",\"gridcolor\":\"white\",\"linecolor\":\"white\",\"minorgridcolor\":\"white\",\"startlinecolor\":\"#2a3f5f\"},\"baxis\":{\"endlinecolor\":\"#2a3f5f\",\"gridcolor\":\"white\",\"linecolor\":\"white\",\"minorgridcolor\":\"white\",\"startlinecolor\":\"#2a3f5f\"},\"type\":\"carpet\"}],\"table\":[{\"cells\":{\"fill\":{\"color\":\"#EBF0F8\"},\"line\":{\"color\":\"white\"}},\"header\":{\"fill\":{\"color\":\"#C8D4E3\"},\"line\":{\"color\":\"white\"}},\"type\":\"table\"}],\"barpolar\":[{\"marker\":{\"line\":{\"color\":\"#E5ECF6\",\"width\":0.5},\"pattern\":{\"fillmode\":\"overlay\",\"size\":10,\"solidity\":0.2}},\"type\":\"barpolar\"}],\"pie\":[{\"automargin\":true,\"type\":\"pie\"}]},\"layout\":{\"autotypenumbers\":\"strict\",\"colorway\":[\"#636efa\",\"#EF553B\",\"#00cc96\",\"#ab63fa\",\"#FFA15A\",\"#19d3f3\",\"#FF6692\",\"#B6E880\",\"#FF97FF\",\"#FECB52\"],\"font\":{\"color\":\"#2a3f5f\"},\"hovermode\":\"closest\",\"hoverlabel\":{\"align\":\"left\"},\"paper_bgcolor\":\"white\",\"plot_bgcolor\":\"#E5ECF6\",\"polar\":{\"bgcolor\":\"#E5ECF6\",\"angularaxis\":{\"gridcolor\":\"white\",\"linecolor\":\"white\",\"ticks\":\"\"},\"radialaxis\":{\"gridcolor\":\"white\",\"linecolor\":\"white\",\"ticks\":\"\"}},\"ternary\":{\"bgcolor\":\"#E5ECF6\",\"aaxis\":{\"gridcolor\":\"white\",\"linecolor\":\"white\",\"ticks\":\"\"},\"baxis\":{\"gridcolor\":\"white\",\"linecolor\":\"white\",\"ticks\":\"\"},\"caxis\":{\"gridcolor\":\"white\",\"linecolor\":\"white\",\"ticks\":\"\"}},\"coloraxis\":{\"colorbar\":{\"outlinewidth\":0,\"ticks\":\"\"}},\"colorscale\":{\"sequential\":[[0.0,\"#0d0887\"],[0.1111111111111111,\"#46039f\"],[0.2222222222222222,\"#7201a8\"],[0.3333333333333333,\"#9c179e\"],[0.4444444444444444,\"#bd3786\"],[0.5555555555555556,\"#d8576b\"],[0.6666666666666666,\"#ed7953\"],[0.7777777777777778,\"#fb9f3a\"],[0.8888888888888888,\"#fdca26\"],[1.0,\"#f0f921\"]],\"sequentialminus\":[[0.0,\"#0d0887\"],[0.1111111111111111,\"#46039f\"],[0.2222222222222222,\"#7201a8\"],[0.3333333333333333,\"#9c179e\"],[0.4444444444444444,\"#bd3786\"],[0.5555555555555556,\"#d8576b\"],[0.6666666666666666,\"#ed7953\"],[0.7777777777777778,\"#fb9f3a\"],[0.8888888888888888,\"#fdca26\"],[1.0,\"#f0f921\"]],\"diverging\":[[0,\"#8e0152\"],[0.1,\"#c51b7d\"],[0.2,\"#de77ae\"],[0.3,\"#f1b6da\"],[0.4,\"#fde0ef\"],[0.5,\"#f7f7f7\"],[0.6,\"#e6f5d0\"],[0.7,\"#b8e186\"],[0.8,\"#7fbc41\"],[0.9,\"#4d9221\"],[1,\"#276419\"]]},\"xaxis\":{\"gridcolor\":\"white\",\"linecolor\":\"white\",\"ticks\":\"\",\"title\":{\"standoff\":15},\"zerolinecolor\":\"white\",\"automargin\":true,\"zerolinewidth\":2},\"yaxis\":{\"gridcolor\":\"white\",\"linecolor\":\"white\",\"ticks\":\"\",\"title\":{\"standoff\":15},\"zerolinecolor\":\"white\",\"automargin\":true,\"zerolinewidth\":2},\"scene\":{\"xaxis\":{\"backgroundcolor\":\"#E5ECF6\",\"gridcolor\":\"white\",\"linecolor\":\"white\",\"showbackground\":true,\"ticks\":\"\",\"zerolinecolor\":\"white\",\"gridwidth\":2},\"yaxis\":{\"backgroundcolor\":\"#E5ECF6\",\"gridcolor\":\"white\",\"linecolor\":\"white\",\"showbackground\":true,\"ticks\":\"\",\"zerolinecolor\":\"white\",\"gridwidth\":2},\"zaxis\":{\"backgroundcolor\":\"#E5ECF6\",\"gridcolor\":\"white\",\"linecolor\":\"white\",\"showbackground\":true,\"ticks\":\"\",\"zerolinecolor\":\"white\",\"gridwidth\":2}},\"shapedefaults\":{\"line\":{\"color\":\"#2a3f5f\"}},\"annotationdefaults\":{\"arrowcolor\":\"#2a3f5f\",\"arrowhead\":0,\"arrowwidth\":1},\"geo\":{\"bgcolor\":\"white\",\"landcolor\":\"#E5ECF6\",\"subunitcolor\":\"white\",\"showland\":true,\"showlakes\":true,\"lakecolor\":\"white\"},\"title\":{\"x\":0.05},\"mapbox\":{\"style\":\"light\"}}},\"title\":{\"text\":\"Top 20 PULocationID Hotspots\"},\"xaxis\":{\"title\":{\"text\":\"PULocationID\"}},\"yaxis\":{\"title\":{\"text\":\"Trip Count\"}}},                        {\"responsive\": true}                    ).then(function(){\n",
              "                            \n",
              "var gd = document.getElementById('fc871911-3a50-4bbc-9d55-1a70a290c909');\n",
              "var x = new MutationObserver(function (mutations, observer) {{\n",
              "        var display = window.getComputedStyle(gd).display;\n",
              "        if (!display || display === 'none') {{\n",
              "            console.log([gd, 'removed!']);\n",
              "            Plotly.purge(gd);\n",
              "            observer.disconnect();\n",
              "        }}\n",
              "}});\n",
              "\n",
              "// Listen for the removal of the full notebook cells\n",
              "var notebookContainer = gd.closest('#notebook-container');\n",
              "if (notebookContainer) {{\n",
              "    x.observe(notebookContainer, {childList: true});\n",
              "}}\n",
              "\n",
              "// Listen for the clearing of the current output cell\n",
              "var outputEl = gd.closest('.output');\n",
              "if (outputEl) {{\n",
              "    x.observe(outputEl, {childList: true});\n",
              "}}\n",
              "\n",
              "                        })                };                            </script>        </div>\n",
              "</body>\n",
              "</html>"
            ]
          },
          "metadata": {}
        }
      ]
    },
    {
      "cell_type": "markdown",
      "source": [
        "\n",
        "### Analysis of Top 20 PULocationID Hotspots\n",
        "\n",
        "The bar chart displays the top 20 pickup locations (PULocationID) by trip count, with each bar representing a unique location ID and the number of trips originating from that location.\n",
        "\n",
        "#### Key Observations:\n",
        "1. **Dominance of Manhattan**:\n",
        "   - Manhattan is the origin for the majority of the top pickup locations, with most of the high-traffic PULocationIDs located within Manhattan. This indicates that Manhattan has the highest demand for taxi pickups, likely due to its dense population and significant commercial activity.\n",
        "\n",
        "2. **Queens as a Secondary Hotspot**:\n",
        "   - Among the top 20 locations, Queens has two prominent PULocationIDs, suggesting a considerable but lower level of taxi demand compared to Manhattan.\n",
        "\n",
        "3. **High Trip Counts**:\n",
        "   - The highest pickup location (PULocationID 161 in Manhattan) has close to 500,000 trips, with other high-ranking locations in Manhattan also showing strong demand.\n",
        "\n",
        "#### Implications:\n",
        "- **Manhattan Demand**: The concentration of high-trip-count locations in Manhattan reflects the borough’s role as a central hub for business, tourism, and residential areas, driving the need for frequent taxi pickups.\n",
        "- **Potential for Resource Allocation**: Taxi companies may focus resources and vehicles in Manhattan and parts of Queens during peak hours to optimize availability and meet demand.\n",
        "\n",
        "This analysis highlights that Manhattan is the primary hotspot for taxi services, with secondary demand in Queens.\n"
      ],
      "metadata": {
        "id": "IKLjemdDn6Io"
      }
    },
    {
      "cell_type": "code",
      "source": [
        "import plotly.graph_objs as go\n",
        "from plotly.subplots import make_subplots\n",
        "from pyspark.sql.functions import col, count, hour, dayofweek\n",
        "\n",
        "# Assuming 'df' is your PySpark DataFrame\n",
        "\n",
        "# 1. Heatmap of trip counts by hour and day of week\n",
        "hourly_pattern = df.withColumn(\"hour\", hour(\"tpep_pickup_datetime\")) \\\n",
        "    .withColumn(\"day_of_week\", dayofweek(\"tpep_pickup_datetime\")) \\\n",
        "    .groupBy(\"hour\", \"day_of_week\") \\\n",
        "    .agg(count(\"*\").alias(\"trip_count\")) \\\n",
        "    .orderBy(\"day_of_week\", \"hour\")\n",
        "\n",
        "hourly_data = hourly_pattern.collect()\n",
        "\n",
        "heatmap_data = go.Heatmap(\n",
        "    x=[row['hour'] for row in hourly_data],\n",
        "    y=[row['day_of_week'] for row in hourly_data],\n",
        "    z=[row['trip_count'] for row in hourly_data],\n",
        "    colorscale='Viridis'\n",
        ")\n",
        "\n",
        "# 2. Line chart of average trip duration by hour\n",
        "avg_duration = df.withColumn(\"hour\", hour(\"tpep_pickup_datetime\")) \\\n",
        "    .groupBy(\"hour\") \\\n",
        "    .agg(avg(\"trip_duration\").alias(\"avg_duration\")) \\\n",
        "    .orderBy(\"hour\")\n",
        "\n",
        "duration_data = avg_duration.collect()\n",
        "\n",
        "duration_line = go.Scatter(\n",
        "    x=[row['hour'] for row in duration_data],\n",
        "    y=[row['avg_duration'] for row in duration_data],\n",
        "    mode='lines+markers'\n",
        ")\n",
        "\n",
        "# Create subplots\n",
        "fig = make_subplots(rows=2, cols=1,\n",
        "                    subplot_titles=('Trip Count Heatmap by Hour and Day of Week',\n",
        "                                    'Average Trip Duration by Hour'),\n",
        "                    vertical_spacing=0.1)\n",
        "\n",
        "fig.add_trace(heatmap_data, row=1, col=1)\n",
        "fig.add_trace(duration_line, row=2, col=1)\n",
        "\n",
        "# Update layout\n",
        "fig.update_layout(height=800, title_text='Traffic Congestion Analysis')\n",
        "fig.update_xaxes(title_text='Hour of Day', row=2, col=1)\n",
        "fig.update_yaxes(title_text='Day of Week (1=Sunday, 7=Saturday)', row=1, col=1)\n",
        "fig.update_yaxes(title_text='Average Trip Duration (minutes)', row=2, col=1)\n",
        "\n",
        "fig.show()"
      ],
      "metadata": {
        "id": "HtfVf7EXNM62",
        "colab": {
          "base_uri": "https://localhost:8080/",
          "height": 817
        },
        "outputId": "fc5291e4-ce8d-4c9a-9710-0926e766fa3e"
      },
      "execution_count": null,
      "outputs": [
        {
          "output_type": "display_data",
          "data": {
            "text/html": [
              "<html>\n",
              "<head><meta charset=\"utf-8\" /></head>\n",
              "<body>\n",
              "    <div>            <script src=\"https://cdnjs.cloudflare.com/ajax/libs/mathjax/2.7.5/MathJax.js?config=TeX-AMS-MML_SVG\"></script><script type=\"text/javascript\">if (window.MathJax && window.MathJax.Hub && window.MathJax.Hub.Config) {window.MathJax.Hub.Config({SVG: {font: \"STIX-Web\"}});}</script>                <script type=\"text/javascript\">window.PlotlyConfig = {MathJaxConfig: 'local'};</script>\n",
              "        <script charset=\"utf-8\" src=\"https://cdn.plot.ly/plotly-2.35.2.min.js\"></script>                <div id=\"1f8ea113-480e-4883-bf9d-c9fb14c04bcc\" class=\"plotly-graph-div\" style=\"height:800px; width:100%;\"></div>            <script type=\"text/javascript\">                                    window.PLOTLYENV=window.PLOTLYENV || {};                                    if (document.getElementById(\"1f8ea113-480e-4883-bf9d-c9fb14c04bcc\")) {                    Plotly.newPlot(                        \"1f8ea113-480e-4883-bf9d-c9fb14c04bcc\",                        [{\"colorscale\":[[0.0,\"#440154\"],[0.1111111111111111,\"#482878\"],[0.2222222222222222,\"#3e4989\"],[0.3333333333333333,\"#31688e\"],[0.4444444444444444,\"#26828e\"],[0.5555555555555556,\"#1f9e89\"],[0.6666666666666666,\"#35b779\"],[0.7777777777777778,\"#6ece58\"],[0.8888888888888888,\"#b5de2b\"],[1.0,\"#fde725\"]],\"x\":[0,1,2,3,4,5,6,7,8,9,10,11,12,13,14,15,16,17,18,19,20,21,22,23,0,1,2,3,4,5,6,7,8,9,10,11,12,13,14,15,16,17,18,19,20,21,22,23,0,1,2,3,4,5,6,7,8,9,10,11,12,13,14,15,16,17,18,19,20,21,22,23,0,1,2,3,4,5,6,7,8,9,10,11,12,13,14,15,16,17,18,19,20,21,22,23,0,1,2,3,4,5,6,7,8,9,10,11,12,13,14,15,16,17,18,19,20,21,22,23,0,1,2,3,4,5,6,7,8,9,10,11,12,13,14,15,16,17,18,19,20,21,22,23,0,1,2,3,4,5,6,7,8,9,10,11,12,13,14,15,16,17,18,19,20,21,22,23],\"y\":[1,1,1,1,1,1,1,1,1,1,1,1,1,1,1,1,1,1,1,1,1,1,1,1,2,2,2,2,2,2,2,2,2,2,2,2,2,2,2,2,2,2,2,2,2,2,2,2,3,3,3,3,3,3,3,3,3,3,3,3,3,3,3,3,3,3,3,3,3,3,3,3,4,4,4,4,4,4,4,4,4,4,4,4,4,4,4,4,4,4,4,4,4,4,4,4,5,5,5,5,5,5,5,5,5,5,5,5,5,5,5,5,5,5,5,5,5,5,5,5,6,6,6,6,6,6,6,6,6,6,6,6,6,6,6,6,6,6,6,6,6,6,6,6,7,7,7,7,7,7,7,7,7,7,7,7,7,7,7,7,7,7,7,7,7,7,7,7],\"z\":[81183,68197,48797,40037,23851,11085,14738,22265,32772,46424,62989,71076,79359,80853,84163,85240,86304,88842,85918,69337,63712,59544,54473,38135,23830,13336,8842,6463,7611,15328,38987,69810,82130,75454,71607,71165,76010,78665,84546,89068,84756,97584,107228,92137,84834,79500,62393,39042,23969,12209,7165,5088,6165,14622,40377,77673,92087,85104,78751,77262,81653,82655,90619,93745,84375,102420,115264,102557,99842,100944,81695,50935,38464,26071,19112,13138,11443,16770,41623,80714,95578,87489,81422,83066,87498,89855,96478,98954,93257,109970,124556,113921,110864,113398,95858,60646,34618,18038,10733,7368,7967,16346,42588,83938,99896,92189,87081,86068,90343,93103,100117,100916,95487,115373,131755,121224,115291,119811,109682,74387,45938,27607,16471,11071,10378,16645,41257,79189,94831,88401,81326,84847,89140,92344,100320,100269,95660,115701,130071,122940,99292,98232,102719,94390,74975,58085,45407,30787,19146,11167,17775,26879,41173,56666,69291,78517,87154,89844,89415,92210,92610,95905,101127,99590,79792,83306,93511,92776],\"type\":\"heatmap\",\"xaxis\":\"x\",\"yaxis\":\"y\"},{\"mode\":\"lines+markers\",\"x\":[0,1,2,3,4,5,6,7,8,9,10,11,12,13,14,15,16,17,18,19,20,21,22,23],\"y\":[14.051067134811445,13.250087142071104,12.739216173567565,12.955679584386429,13.697972990145761,13.69788452674007,12.442167014261962,13.535336301388455,15.499901498141995,15.943545748099954,15.60374795057714,15.488071923782472,15.51305182887088,15.83303194861328,16.496414355587614,16.64508808271311,16.5753370311282,16.36571489194605,15.9172271298963,14.978732073725498,14.675978883981179,14.416309453442864,14.48172135038845,14.288982014652149],\"type\":\"scatter\",\"xaxis\":\"x2\",\"yaxis\":\"y2\"}],                        {\"template\":{\"data\":{\"histogram2dcontour\":[{\"type\":\"histogram2dcontour\",\"colorbar\":{\"outlinewidth\":0,\"ticks\":\"\"},\"colorscale\":[[0.0,\"#0d0887\"],[0.1111111111111111,\"#46039f\"],[0.2222222222222222,\"#7201a8\"],[0.3333333333333333,\"#9c179e\"],[0.4444444444444444,\"#bd3786\"],[0.5555555555555556,\"#d8576b\"],[0.6666666666666666,\"#ed7953\"],[0.7777777777777778,\"#fb9f3a\"],[0.8888888888888888,\"#fdca26\"],[1.0,\"#f0f921\"]]}],\"choropleth\":[{\"type\":\"choropleth\",\"colorbar\":{\"outlinewidth\":0,\"ticks\":\"\"}}],\"histogram2d\":[{\"type\":\"histogram2d\",\"colorbar\":{\"outlinewidth\":0,\"ticks\":\"\"},\"colorscale\":[[0.0,\"#0d0887\"],[0.1111111111111111,\"#46039f\"],[0.2222222222222222,\"#7201a8\"],[0.3333333333333333,\"#9c179e\"],[0.4444444444444444,\"#bd3786\"],[0.5555555555555556,\"#d8576b\"],[0.6666666666666666,\"#ed7953\"],[0.7777777777777778,\"#fb9f3a\"],[0.8888888888888888,\"#fdca26\"],[1.0,\"#f0f921\"]]}],\"heatmap\":[{\"type\":\"heatmap\",\"colorbar\":{\"outlinewidth\":0,\"ticks\":\"\"},\"colorscale\":[[0.0,\"#0d0887\"],[0.1111111111111111,\"#46039f\"],[0.2222222222222222,\"#7201a8\"],[0.3333333333333333,\"#9c179e\"],[0.4444444444444444,\"#bd3786\"],[0.5555555555555556,\"#d8576b\"],[0.6666666666666666,\"#ed7953\"],[0.7777777777777778,\"#fb9f3a\"],[0.8888888888888888,\"#fdca26\"],[1.0,\"#f0f921\"]]}],\"heatmapgl\":[{\"type\":\"heatmapgl\",\"colorbar\":{\"outlinewidth\":0,\"ticks\":\"\"},\"colorscale\":[[0.0,\"#0d0887\"],[0.1111111111111111,\"#46039f\"],[0.2222222222222222,\"#7201a8\"],[0.3333333333333333,\"#9c179e\"],[0.4444444444444444,\"#bd3786\"],[0.5555555555555556,\"#d8576b\"],[0.6666666666666666,\"#ed7953\"],[0.7777777777777778,\"#fb9f3a\"],[0.8888888888888888,\"#fdca26\"],[1.0,\"#f0f921\"]]}],\"contourcarpet\":[{\"type\":\"contourcarpet\",\"colorbar\":{\"outlinewidth\":0,\"ticks\":\"\"}}],\"contour\":[{\"type\":\"contour\",\"colorbar\":{\"outlinewidth\":0,\"ticks\":\"\"},\"colorscale\":[[0.0,\"#0d0887\"],[0.1111111111111111,\"#46039f\"],[0.2222222222222222,\"#7201a8\"],[0.3333333333333333,\"#9c179e\"],[0.4444444444444444,\"#bd3786\"],[0.5555555555555556,\"#d8576b\"],[0.6666666666666666,\"#ed7953\"],[0.7777777777777778,\"#fb9f3a\"],[0.8888888888888888,\"#fdca26\"],[1.0,\"#f0f921\"]]}],\"surface\":[{\"type\":\"surface\",\"colorbar\":{\"outlinewidth\":0,\"ticks\":\"\"},\"colorscale\":[[0.0,\"#0d0887\"],[0.1111111111111111,\"#46039f\"],[0.2222222222222222,\"#7201a8\"],[0.3333333333333333,\"#9c179e\"],[0.4444444444444444,\"#bd3786\"],[0.5555555555555556,\"#d8576b\"],[0.6666666666666666,\"#ed7953\"],[0.7777777777777778,\"#fb9f3a\"],[0.8888888888888888,\"#fdca26\"],[1.0,\"#f0f921\"]]}],\"mesh3d\":[{\"type\":\"mesh3d\",\"colorbar\":{\"outlinewidth\":0,\"ticks\":\"\"}}],\"scatter\":[{\"fillpattern\":{\"fillmode\":\"overlay\",\"size\":10,\"solidity\":0.2},\"type\":\"scatter\"}],\"parcoords\":[{\"type\":\"parcoords\",\"line\":{\"colorbar\":{\"outlinewidth\":0,\"ticks\":\"\"}}}],\"scatterpolargl\":[{\"type\":\"scatterpolargl\",\"marker\":{\"colorbar\":{\"outlinewidth\":0,\"ticks\":\"\"}}}],\"bar\":[{\"error_x\":{\"color\":\"#2a3f5f\"},\"error_y\":{\"color\":\"#2a3f5f\"},\"marker\":{\"line\":{\"color\":\"#E5ECF6\",\"width\":0.5},\"pattern\":{\"fillmode\":\"overlay\",\"size\":10,\"solidity\":0.2}},\"type\":\"bar\"}],\"scattergeo\":[{\"type\":\"scattergeo\",\"marker\":{\"colorbar\":{\"outlinewidth\":0,\"ticks\":\"\"}}}],\"scatterpolar\":[{\"type\":\"scatterpolar\",\"marker\":{\"colorbar\":{\"outlinewidth\":0,\"ticks\":\"\"}}}],\"histogram\":[{\"marker\":{\"pattern\":{\"fillmode\":\"overlay\",\"size\":10,\"solidity\":0.2}},\"type\":\"histogram\"}],\"scattergl\":[{\"type\":\"scattergl\",\"marker\":{\"colorbar\":{\"outlinewidth\":0,\"ticks\":\"\"}}}],\"scatter3d\":[{\"type\":\"scatter3d\",\"line\":{\"colorbar\":{\"outlinewidth\":0,\"ticks\":\"\"}},\"marker\":{\"colorbar\":{\"outlinewidth\":0,\"ticks\":\"\"}}}],\"scattermapbox\":[{\"type\":\"scattermapbox\",\"marker\":{\"colorbar\":{\"outlinewidth\":0,\"ticks\":\"\"}}}],\"scatterternary\":[{\"type\":\"scatterternary\",\"marker\":{\"colorbar\":{\"outlinewidth\":0,\"ticks\":\"\"}}}],\"scattercarpet\":[{\"type\":\"scattercarpet\",\"marker\":{\"colorbar\":{\"outlinewidth\":0,\"ticks\":\"\"}}}],\"carpet\":[{\"aaxis\":{\"endlinecolor\":\"#2a3f5f\",\"gridcolor\":\"white\",\"linecolor\":\"white\",\"minorgridcolor\":\"white\",\"startlinecolor\":\"#2a3f5f\"},\"baxis\":{\"endlinecolor\":\"#2a3f5f\",\"gridcolor\":\"white\",\"linecolor\":\"white\",\"minorgridcolor\":\"white\",\"startlinecolor\":\"#2a3f5f\"},\"type\":\"carpet\"}],\"table\":[{\"cells\":{\"fill\":{\"color\":\"#EBF0F8\"},\"line\":{\"color\":\"white\"}},\"header\":{\"fill\":{\"color\":\"#C8D4E3\"},\"line\":{\"color\":\"white\"}},\"type\":\"table\"}],\"barpolar\":[{\"marker\":{\"line\":{\"color\":\"#E5ECF6\",\"width\":0.5},\"pattern\":{\"fillmode\":\"overlay\",\"size\":10,\"solidity\":0.2}},\"type\":\"barpolar\"}],\"pie\":[{\"automargin\":true,\"type\":\"pie\"}]},\"layout\":{\"autotypenumbers\":\"strict\",\"colorway\":[\"#636efa\",\"#EF553B\",\"#00cc96\",\"#ab63fa\",\"#FFA15A\",\"#19d3f3\",\"#FF6692\",\"#B6E880\",\"#FF97FF\",\"#FECB52\"],\"font\":{\"color\":\"#2a3f5f\"},\"hovermode\":\"closest\",\"hoverlabel\":{\"align\":\"left\"},\"paper_bgcolor\":\"white\",\"plot_bgcolor\":\"#E5ECF6\",\"polar\":{\"bgcolor\":\"#E5ECF6\",\"angularaxis\":{\"gridcolor\":\"white\",\"linecolor\":\"white\",\"ticks\":\"\"},\"radialaxis\":{\"gridcolor\":\"white\",\"linecolor\":\"white\",\"ticks\":\"\"}},\"ternary\":{\"bgcolor\":\"#E5ECF6\",\"aaxis\":{\"gridcolor\":\"white\",\"linecolor\":\"white\",\"ticks\":\"\"},\"baxis\":{\"gridcolor\":\"white\",\"linecolor\":\"white\",\"ticks\":\"\"},\"caxis\":{\"gridcolor\":\"white\",\"linecolor\":\"white\",\"ticks\":\"\"}},\"coloraxis\":{\"colorbar\":{\"outlinewidth\":0,\"ticks\":\"\"}},\"colorscale\":{\"sequential\":[[0.0,\"#0d0887\"],[0.1111111111111111,\"#46039f\"],[0.2222222222222222,\"#7201a8\"],[0.3333333333333333,\"#9c179e\"],[0.4444444444444444,\"#bd3786\"],[0.5555555555555556,\"#d8576b\"],[0.6666666666666666,\"#ed7953\"],[0.7777777777777778,\"#fb9f3a\"],[0.8888888888888888,\"#fdca26\"],[1.0,\"#f0f921\"]],\"sequentialminus\":[[0.0,\"#0d0887\"],[0.1111111111111111,\"#46039f\"],[0.2222222222222222,\"#7201a8\"],[0.3333333333333333,\"#9c179e\"],[0.4444444444444444,\"#bd3786\"],[0.5555555555555556,\"#d8576b\"],[0.6666666666666666,\"#ed7953\"],[0.7777777777777778,\"#fb9f3a\"],[0.8888888888888888,\"#fdca26\"],[1.0,\"#f0f921\"]],\"diverging\":[[0,\"#8e0152\"],[0.1,\"#c51b7d\"],[0.2,\"#de77ae\"],[0.3,\"#f1b6da\"],[0.4,\"#fde0ef\"],[0.5,\"#f7f7f7\"],[0.6,\"#e6f5d0\"],[0.7,\"#b8e186\"],[0.8,\"#7fbc41\"],[0.9,\"#4d9221\"],[1,\"#276419\"]]},\"xaxis\":{\"gridcolor\":\"white\",\"linecolor\":\"white\",\"ticks\":\"\",\"title\":{\"standoff\":15},\"zerolinecolor\":\"white\",\"automargin\":true,\"zerolinewidth\":2},\"yaxis\":{\"gridcolor\":\"white\",\"linecolor\":\"white\",\"ticks\":\"\",\"title\":{\"standoff\":15},\"zerolinecolor\":\"white\",\"automargin\":true,\"zerolinewidth\":2},\"scene\":{\"xaxis\":{\"backgroundcolor\":\"#E5ECF6\",\"gridcolor\":\"white\",\"linecolor\":\"white\",\"showbackground\":true,\"ticks\":\"\",\"zerolinecolor\":\"white\",\"gridwidth\":2},\"yaxis\":{\"backgroundcolor\":\"#E5ECF6\",\"gridcolor\":\"white\",\"linecolor\":\"white\",\"showbackground\":true,\"ticks\":\"\",\"zerolinecolor\":\"white\",\"gridwidth\":2},\"zaxis\":{\"backgroundcolor\":\"#E5ECF6\",\"gridcolor\":\"white\",\"linecolor\":\"white\",\"showbackground\":true,\"ticks\":\"\",\"zerolinecolor\":\"white\",\"gridwidth\":2}},\"shapedefaults\":{\"line\":{\"color\":\"#2a3f5f\"}},\"annotationdefaults\":{\"arrowcolor\":\"#2a3f5f\",\"arrowhead\":0,\"arrowwidth\":1},\"geo\":{\"bgcolor\":\"white\",\"landcolor\":\"#E5ECF6\",\"subunitcolor\":\"white\",\"showland\":true,\"showlakes\":true,\"lakecolor\":\"white\"},\"title\":{\"x\":0.05},\"mapbox\":{\"style\":\"light\"}}},\"xaxis\":{\"anchor\":\"y\",\"domain\":[0.0,1.0]},\"yaxis\":{\"anchor\":\"x\",\"domain\":[0.55,1.0],\"title\":{\"text\":\"Day of Week (1=Sunday, 7=Saturday)\"}},\"xaxis2\":{\"anchor\":\"y2\",\"domain\":[0.0,1.0],\"title\":{\"text\":\"Hour of Day\"}},\"yaxis2\":{\"anchor\":\"x2\",\"domain\":[0.0,0.45],\"title\":{\"text\":\"Average Trip Duration (minutes)\"}},\"annotations\":[{\"font\":{\"size\":16},\"showarrow\":false,\"text\":\"Trip Count Heatmap by Hour and Day of Week\",\"x\":0.5,\"xanchor\":\"center\",\"xref\":\"paper\",\"y\":1.0,\"yanchor\":\"bottom\",\"yref\":\"paper\"},{\"font\":{\"size\":16},\"showarrow\":false,\"text\":\"Average Trip Duration by Hour\",\"x\":0.5,\"xanchor\":\"center\",\"xref\":\"paper\",\"y\":0.45,\"yanchor\":\"bottom\",\"yref\":\"paper\"}],\"title\":{\"text\":\"Traffic Congestion Analysis\"},\"height\":800},                        {\"responsive\": true}                    ).then(function(){\n",
              "                            \n",
              "var gd = document.getElementById('1f8ea113-480e-4883-bf9d-c9fb14c04bcc');\n",
              "var x = new MutationObserver(function (mutations, observer) {{\n",
              "        var display = window.getComputedStyle(gd).display;\n",
              "        if (!display || display === 'none') {{\n",
              "            console.log([gd, 'removed!']);\n",
              "            Plotly.purge(gd);\n",
              "            observer.disconnect();\n",
              "        }}\n",
              "}});\n",
              "\n",
              "// Listen for the removal of the full notebook cells\n",
              "var notebookContainer = gd.closest('#notebook-container');\n",
              "if (notebookContainer) {{\n",
              "    x.observe(notebookContainer, {childList: true});\n",
              "}}\n",
              "\n",
              "// Listen for the clearing of the current output cell\n",
              "var outputEl = gd.closest('.output');\n",
              "if (outputEl) {{\n",
              "    x.observe(outputEl, {childList: true});\n",
              "}}\n",
              "\n",
              "                        })                };                            </script>        </div>\n",
              "</body>\n",
              "</html>"
            ]
          },
          "metadata": {}
        }
      ]
    },
    {
      "cell_type": "markdown",
      "source": [
        "### Traffic Congestion Analysis\n",
        "\n",
        "The visualization includes two plots that analyze traffic patterns based on trip count and average trip duration by time of day and day of the week.\n",
        "\n",
        "#### 1. Trip Count Heatmap by Hour and Day of Week\n",
        "- **Description**: The heatmap shows the distribution of taxi trip counts across different hours of the day (x-axis) and days of the week (y-axis, with 1 = Sunday and 7 = Saturday).\n",
        "- **Key Observations**:\n",
        "  - **Peak Hours**: Trip counts are highest between 10 AM and 8 PM across all days, with the most intense activity visible in the late afternoon.\n",
        "  - **Weekday Patterns**: There is consistent high demand on weekdays, likely due to work-related travel and regular commuting.\n",
        "  - **Weekend Activity**: While weekends have slightly lower demand overall, there is still significant activity in the late morning and afternoon.\n",
        "\n",
        "#### 2. Average Trip Duration by Hour\n",
        "- **Description**: The line plot displays the average trip duration (in minutes) across each hour of the day.\n",
        "- **Key Observations**:\n",
        "  - **Morning Dip**: Average trip durations are lowest around 5-6 AM, likely due to reduced congestion in the early morning hours.\n",
        "  - **Midday and Evening Peaks**: Trip durations rise significantly starting around 7 AM, peaking between 10 AM and 3 PM, which suggests increased congestion during these hours.\n",
        "  - **Afternoon Decline**: Trip durations gradually decrease after 3 PM, leveling off in the late evening.\n",
        "\n",
        "#### Insights and Implications:\n",
        "- **Congestion During Peak Travel Hours**: Both the high trip counts and longer average trip durations during midday and early evening indicate that these hours are the most congested, likely due to high demand and traffic volume.\n",
        "- **Optimal Travel Times**: Early morning hours (before 7 AM) have lower average trip durations, suggesting less congestion, making these hours optimal for faster travel.\n",
        "- **Potential for Traffic Management**: Understanding peak congestion hours could help in managing traffic flow and optimizing resource allocation during high-demand times.\n",
        "\n",
        "Overall, this analysis highlights patterns of high demand and congestion, particularly during midday and early evening hours, which could be valuable for planning purposes.\n"
      ],
      "metadata": {
        "id": "SKv0UtPhIyMu"
      }
    },
    {
      "cell_type": "markdown",
      "source": [
        "\n",
        "### How These Graphs Address Traffic Congestion Hotspots\n",
        "\n",
        "The above graphs provide valuable insights into traffic congestion patterns by illustrating the relationship between trip counts and average trip durations across different times of the day and days of the week. The **Trip Count Heatmap** highlights peak hours and days with the highest trip volumes, revealing when and where traffic demand is at its peak. Concurrently, the **Average Trip Duration by Hour** plot shows when trips take the longest, likely due to congestion. By combining high trip counts with extended trip durations, we can identify potential traffic congestion hotspots, particularly during late mornings to early evenings on weekdays. This data-driven approach allows us to predict congestion-prone times, helping in traffic management and resource allocation."
      ],
      "metadata": {
        "id": "68CuPUCLox3w"
      }
    },
    {
      "cell_type": "code",
      "source": [],
      "metadata": {
        "id": "9tpANxTyo1BC"
      },
      "execution_count": null,
      "outputs": []
    }
  ]
}